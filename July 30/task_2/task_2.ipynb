{
  "nbformat": 4,
  "nbformat_minor": 0,
  "metadata": {
    "colab": {
      "provenance": []
    },
    "kernelspec": {
      "name": "python3",
      "display_name": "Python 3"
    },
    "language_info": {
      "name": "python"
    }
  },
  "cells": [
    {
      "cell_type": "code",
      "execution_count": 1,
      "metadata": {
        "colab": {
          "base_uri": "https://localhost:8080/",
          "height": 219
        },
        "id": "F26qMDX37_Lg",
        "outputId": "da4dc338-3d70-432a-f4e6-844bb1044189"
      },
      "outputs": [
        {
          "output_type": "execute_result",
          "data": {
            "text/plain": [
              "<pyspark.sql.session.SparkSession at 0x7a519dd40950>"
            ],
            "text/html": [
              "\n",
              "            <div>\n",
              "                <p><b>SparkSession - in-memory</b></p>\n",
              "                \n",
              "        <div>\n",
              "            <p><b>SparkContext</b></p>\n",
              "\n",
              "            <p><a href=\"http://a06b0264ad93:4040\">Spark UI</a></p>\n",
              "\n",
              "            <dl>\n",
              "              <dt>Version</dt>\n",
              "                <dd><code>v3.5.1</code></dd>\n",
              "              <dt>Master</dt>\n",
              "                <dd><code>local[*]</code></dd>\n",
              "              <dt>AppName</dt>\n",
              "                <dd><code>ProductSalesAnalysis</code></dd>\n",
              "            </dl>\n",
              "        </div>\n",
              "        \n",
              "            </div>\n",
              "        "
            ]
          },
          "metadata": {},
          "execution_count": 1
        }
      ],
      "source": [
        "from pyspark.sql import SparkSession\n",
        "\n",
        "spark = SparkSession.builder\\\n",
        "  .appName(\"ProductSalesAnalysis\")\\\n",
        "  .getOrCreate()\n",
        "\n",
        "spark"
      ]
    },
    {
      "cell_type": "markdown",
      "source": [
        "LOAD SALES DATA FROM CSV"
      ],
      "metadata": {
        "id": "vMVutFRELDE1"
      }
    },
    {
      "cell_type": "code",
      "source": [
        "sales_data = \"\"\"OrderID,Product,Category,Quantity,UnitPrice,Region\n",
        "1001,Mobile,Electronics,2,15000,North\n",
        "1002,Laptop,Electronics,1,55000,South\n",
        "1003,T-Shirt,Apparel,3,500,East\n",
        "1004,Jeans,Apparel,2,1200,North\n",
        "1005,TV,Electronics,1,40000,West\n",
        "1006,Shoes,Footwear,4,2000,South\n",
        "1007,Watch,Accessories,2,3000,East\n",
        "1008,Headphones,Electronics,3,2500,North\"\"\"\n",
        "\n",
        "with open(\"Sales.csv\",\"w\") as file:\n",
        "  file.write(sales_data)"
      ],
      "metadata": {
        "id": "UN6Nr6hFLI-J"
      },
      "execution_count": 2,
      "outputs": []
    },
    {
      "cell_type": "markdown",
      "source": [
        "TOP 5"
      ],
      "metadata": {
        "id": "KAsiUq0oMfII"
      }
    },
    {
      "cell_type": "code",
      "source": [
        "df = spark.read.csv(\"Sales.csv\",header=True,inferSchema=True)\n",
        "df.show(5)"
      ],
      "metadata": {
        "colab": {
          "base_uri": "https://localhost:8080/"
        },
        "id": "AxGHLt10Lhhw",
        "outputId": "b3e7db90-f356-44fe-8674-9f9356120023"
      },
      "execution_count": 6,
      "outputs": [
        {
          "output_type": "stream",
          "name": "stdout",
          "text": [
            "+-------+-------+-----------+--------+---------+------+\n",
            "|OrderID|Product|   Category|Quantity|UnitPrice|Region|\n",
            "+-------+-------+-----------+--------+---------+------+\n",
            "|   1001| Mobile|Electronics|       2|    15000| North|\n",
            "|   1002| Laptop|Electronics|       1|    55000| South|\n",
            "|   1003|T-Shirt|    Apparel|       3|      500|  East|\n",
            "|   1004|  Jeans|    Apparel|       2|     1200| North|\n",
            "|   1005|     TV|Electronics|       1|    40000|  West|\n",
            "+-------+-------+-----------+--------+---------+------+\n",
            "only showing top 5 rows\n",
            "\n"
          ]
        }
      ]
    },
    {
      "cell_type": "markdown",
      "source": [
        "NEW COLUMN TOTAL PRICE"
      ],
      "metadata": {
        "id": "96oVCCU6MhkJ"
      }
    },
    {
      "cell_type": "code",
      "source": [
        "from pyspark.sql.functions import col\n",
        "df = df.withColumn('Total Price',col('Quantity') * col('UnitPrice'))\n",
        "df.show()"
      ],
      "metadata": {
        "colab": {
          "base_uri": "https://localhost:8080/"
        },
        "id": "mqThZEItMO84",
        "outputId": "548e6563-8592-4e1a-f267-f3fee939d50f"
      },
      "execution_count": 8,
      "outputs": [
        {
          "output_type": "stream",
          "name": "stdout",
          "text": [
            "+-------+----------+-----------+--------+---------+------+-----------+\n",
            "|OrderID|   Product|   Category|Quantity|UnitPrice|Region|Total Price|\n",
            "+-------+----------+-----------+--------+---------+------+-----------+\n",
            "|   1001|    Mobile|Electronics|       2|    15000| North|      30000|\n",
            "|   1002|    Laptop|Electronics|       1|    55000| South|      55000|\n",
            "|   1003|   T-Shirt|    Apparel|       3|      500|  East|       1500|\n",
            "|   1004|     Jeans|    Apparel|       2|     1200| North|       2400|\n",
            "|   1005|        TV|Electronics|       1|    40000|  West|      40000|\n",
            "|   1006|     Shoes|   Footwear|       4|     2000| South|       8000|\n",
            "|   1007|     Watch|Accessories|       2|     3000|  East|       6000|\n",
            "|   1008|Headphones|Electronics|       3|     2500| North|       7500|\n",
            "+-------+----------+-----------+--------+---------+------+-----------+\n",
            "\n"
          ]
        }
      ]
    },
    {
      "cell_type": "markdown",
      "source": [
        "TOTAL REVENUE"
      ],
      "metadata": {
        "id": "LFdJIAEGNbib"
      }
    },
    {
      "cell_type": "code",
      "source": [
        "from pyspark.sql.functions import sum\n",
        "df.groupBy('Region').agg(sum('Total Price').alias('Total Revenue')).show()"
      ],
      "metadata": {
        "colab": {
          "base_uri": "https://localhost:8080/"
        },
        "id": "NXWAowCSNdTx",
        "outputId": "df65fe7f-9cf5-4f26-c6d6-6f2e4e3e52d2"
      },
      "execution_count": 12,
      "outputs": [
        {
          "output_type": "stream",
          "name": "stdout",
          "text": [
            "+------+-------------+\n",
            "|Region|Total Revenue|\n",
            "+------+-------------+\n",
            "| South|        63000|\n",
            "|  East|         7500|\n",
            "|  West|        40000|\n",
            "| North|        39900|\n",
            "+------+-------------+\n",
            "\n"
          ]
        }
      ]
    },
    {
      "cell_type": "markdown",
      "source": [
        "CATEGORY WISE REVENUE"
      ],
      "metadata": {
        "id": "x_gec_d4QAOq"
      }
    },
    {
      "cell_type": "code",
      "source": [
        "df.groupBy('Category').agg(sum('Total Price').alias('Total Revenue')).orderBy(col('Total Revenue').desc()).show()"
      ],
      "metadata": {
        "colab": {
          "base_uri": "https://localhost:8080/"
        },
        "id": "hrk1IKrIQE5i",
        "outputId": "5016bb8c-d515-4a2b-94bb-2a4af34822b0"
      },
      "execution_count": 14,
      "outputs": [
        {
          "output_type": "stream",
          "name": "stdout",
          "text": [
            "+-----------+-------------+\n",
            "|   Category|Total Revenue|\n",
            "+-----------+-------------+\n",
            "|Electronics|       132500|\n",
            "|   Footwear|         8000|\n",
            "|Accessories|         6000|\n",
            "|    Apparel|         3900|\n",
            "+-----------+-------------+\n",
            "\n"
          ]
        }
      ]
    },
    {
      "cell_type": "markdown",
      "source": [
        "REGION WITH HIGHEST ORDER"
      ],
      "metadata": {
        "id": "ngYyH_LPQ4sK"
      }
    },
    {
      "cell_type": "code",
      "source": [
        "from pyspark.sql.functions import count\n",
        "df.groupBy('Region').agg(count('OrderID').alias('Total Orders')).orderBy(col('Total Orders').desc()).show(1)"
      ],
      "metadata": {
        "colab": {
          "base_uri": "https://localhost:8080/"
        },
        "id": "dDeu846pQ8tu",
        "outputId": "5717476a-0718-4f58-9045-3b2f13a4ab9e"
      },
      "execution_count": 17,
      "outputs": [
        {
          "output_type": "stream",
          "name": "stdout",
          "text": [
            "+------+------------+\n",
            "|Region|Total Orders|\n",
            "+------+------------+\n",
            "| North|           3|\n",
            "+------+------------+\n",
            "only showing top 1 row\n",
            "\n"
          ]
        }
      ]
    },
    {
      "cell_type": "markdown",
      "source": [
        "AVERAGE UNIT PRICE PER CATEGORY"
      ],
      "metadata": {
        "id": "vuaT2xJfShKd"
      }
    },
    {
      "cell_type": "code",
      "source": [
        "#from pyspark.sql.functions import mean\n",
        "df.groupBy('Category').agg(mean('UnitPrice').alias('Average')).show()"
      ],
      "metadata": {
        "colab": {
          "base_uri": "https://localhost:8080/"
        },
        "id": "APAUEYA1Sk_V",
        "outputId": "fce35cd6-868e-43e5-9aef-515b46f0b213"
      },
      "execution_count": 20,
      "outputs": [
        {
          "output_type": "stream",
          "name": "stdout",
          "text": [
            "+-----------+-------+\n",
            "|   Category|Average|\n",
            "+-----------+-------+\n",
            "|    Apparel|  850.0|\n",
            "|Electronics|28125.0|\n",
            "|   Footwear| 2000.0|\n",
            "|Accessories| 3000.0|\n",
            "+-----------+-------+\n",
            "\n"
          ]
        }
      ]
    },
    {
      "cell_type": "markdown",
      "source": [
        "ORDERS MORE THAN TOTPAL OF 30000"
      ],
      "metadata": {
        "id": "r5o6WKjATJzq"
      }
    },
    {
      "cell_type": "code",
      "source": [
        "df.filter(col('UnitPrice')>30000).show()"
      ],
      "metadata": {
        "colab": {
          "base_uri": "https://localhost:8080/"
        },
        "id": "JqznuLTUTY0G",
        "outputId": "afa4724f-28cd-4e9b-d7a4-f7e27d419744"
      },
      "execution_count": 22,
      "outputs": [
        {
          "output_type": "stream",
          "name": "stdout",
          "text": [
            "+-------+-------+-----------+--------+---------+------+-----------+\n",
            "|OrderID|Product|   Category|Quantity|UnitPrice|Region|Total Price|\n",
            "+-------+-------+-----------+--------+---------+------+-----------+\n",
            "|   1002| Laptop|Electronics|       1|    55000| South|      55000|\n",
            "|   1005|     TV|Electronics|       1|    40000|  West|      40000|\n",
            "+-------+-------+-----------+--------+---------+------+-----------+\n",
            "\n"
          ]
        }
      ]
    },
    {
      "cell_type": "markdown",
      "source": [
        "NEW COLUMN"
      ],
      "metadata": {
        "id": "-FBmSr_aTqBS"
      }
    },
    {
      "cell_type": "code",
      "source": [
        "from pyspark.sql.functions  import when\n",
        "df = df.withColumn('HighValueOrder',when(col('Total Price')>20000,'Yes').otherwise('No'))\n",
        "df.show()"
      ],
      "metadata": {
        "colab": {
          "base_uri": "https://localhost:8080/"
        },
        "id": "M-OtGBpdTsJq",
        "outputId": "0aa5e1d0-6026-4fdf-ee6f-41a6e9af7e3e"
      },
      "execution_count": 24,
      "outputs": [
        {
          "output_type": "stream",
          "name": "stdout",
          "text": [
            "+-------+----------+-----------+--------+---------+------+-----------+--------------+\n",
            "|OrderID|   Product|   Category|Quantity|UnitPrice|Region|Total Price|HighValueOrder|\n",
            "+-------+----------+-----------+--------+---------+------+-----------+--------------+\n",
            "|   1001|    Mobile|Electronics|       2|    15000| North|      30000|           Yes|\n",
            "|   1002|    Laptop|Electronics|       1|    55000| South|      55000|           Yes|\n",
            "|   1003|   T-Shirt|    Apparel|       3|      500|  East|       1500|            No|\n",
            "|   1004|     Jeans|    Apparel|       2|     1200| North|       2400|            No|\n",
            "|   1005|        TV|Electronics|       1|    40000|  West|      40000|           Yes|\n",
            "|   1006|     Shoes|   Footwear|       4|     2000| South|       8000|            No|\n",
            "|   1007|     Watch|Accessories|       2|     3000|  East|       6000|            No|\n",
            "|   1008|Headphones|Electronics|       3|     2500| North|       7500|            No|\n",
            "+-------+----------+-----------+--------+---------+------+-----------+--------------+\n",
            "\n"
          ]
        }
      ]
    },
    {
      "cell_type": "markdown",
      "source": [
        "HIGH VALUE ORDERS IN NORTH"
      ],
      "metadata": {
        "id": "6JLL9nFOUZ93"
      }
    },
    {
      "cell_type": "code",
      "source": [
        "df.filter((col('HighValueOrder')=='Yes') & (col('Region')=='North')).show()"
      ],
      "metadata": {
        "colab": {
          "base_uri": "https://localhost:8080/"
        },
        "id": "Ia_RLMkKUt5f",
        "outputId": "369bb805-04ea-4c6a-b54c-3830fe5d607d"
      },
      "execution_count": 26,
      "outputs": [
        {
          "output_type": "stream",
          "name": "stdout",
          "text": [
            "+-------+-------+-----------+--------+---------+------+-----------+--------------+\n",
            "|OrderID|Product|   Category|Quantity|UnitPrice|Region|Total Price|HighValueOrder|\n",
            "+-------+-------+-----------+--------+---------+------+-----------+--------------+\n",
            "|   1001| Mobile|Electronics|       2|    15000| North|      30000|           Yes|\n",
            "+-------+-------+-----------+--------+---------+------+-----------+--------------+\n",
            "\n"
          ]
        }
      ]
    },
    {
      "cell_type": "markdown",
      "source": [
        "HIGH VALUE ORDERS PER REGION"
      ],
      "metadata": {
        "id": "WhpBHEROVUaz"
      }
    },
    {
      "cell_type": "code",
      "source": [
        "df.filter(col('HighValueOrder')=='Yes').groupBy('Region').agg(count('OrderID').alias('Orders')).show()"
      ],
      "metadata": {
        "colab": {
          "base_uri": "https://localhost:8080/"
        },
        "id": "0Q7RpRkAVXb8",
        "outputId": "6ece16bb-8ecb-4a4f-c229-52aa77c9876f"
      },
      "execution_count": 32,
      "outputs": [
        {
          "output_type": "stream",
          "name": "stdout",
          "text": [
            "+------+------+\n",
            "|Region|Orders|\n",
            "+------+------+\n",
            "| South|     1|\n",
            "|  West|     1|\n",
            "| North|     1|\n",
            "+------+------+\n",
            "\n"
          ]
        }
      ]
    },
    {
      "cell_type": "markdown",
      "source": [
        "SAVING"
      ],
      "metadata": {
        "id": "CivYtcxNWx3V"
      }
    },
    {
      "cell_type": "code",
      "source": [
        "df.show()"
      ],
      "metadata": {
        "colab": {
          "base_uri": "https://localhost:8080/"
        },
        "id": "fG6T_mEWZBtE",
        "outputId": "b5a9f8b3-a6b4-4574-d236-0117e9248d93"
      },
      "execution_count": 39,
      "outputs": [
        {
          "output_type": "stream",
          "name": "stdout",
          "text": [
            "+-------+----------+-----------+--------+---------+------+-----------+--------------+\n",
            "|OrderID|   Product|   Category|Quantity|UnitPrice|Region|Total Price|HighValueOrder|\n",
            "+-------+----------+-----------+--------+---------+------+-----------+--------------+\n",
            "|   1001|    Mobile|Electronics|       2|    15000| North|      30000|           Yes|\n",
            "|   1002|    Laptop|Electronics|       1|    55000| South|      55000|           Yes|\n",
            "|   1003|   T-Shirt|    Apparel|       3|      500|  East|       1500|            No|\n",
            "|   1004|     Jeans|    Apparel|       2|     1200| North|       2400|            No|\n",
            "|   1005|        TV|Electronics|       1|    40000|  West|      40000|           Yes|\n",
            "|   1006|     Shoes|   Footwear|       4|     2000| South|       8000|            No|\n",
            "|   1007|     Watch|Accessories|       2|     3000|  East|       6000|            No|\n",
            "|   1008|Headphones|Electronics|       3|     2500| North|       7500|            No|\n",
            "+-------+----------+-----------+--------+---------+------+-----------+--------------+\n",
            "\n"
          ]
        }
      ]
    },
    {
      "cell_type": "code",
      "source": [
        "high_value_orders = df.filter(df[\"HighValueOrder\"] == \"Yes\")"
      ],
      "metadata": {
        "id": "HQfLFAqkafZ7"
      },
      "execution_count": 40,
      "outputs": []
    },
    {
      "cell_type": "code",
      "source": [
        "high_value_orders.coalesce(1).write.mode(\"overwrite\").option(\"header\", True).csv(\"high_value_orders\")"
      ],
      "metadata": {
        "id": "SfJBV63Ual69"
      },
      "execution_count": 41,
      "outputs": []
    },
    {
      "cell_type": "code",
      "source": [
        "import shutil\n",
        "import glob\n",
        "\n",
        "output_file = glob.glob(\"high_value_orders/part-*.csv\")[0]\n",
        "\n",
        "shutil.copy(output_file, \"high_value_orders.csv\")"
      ],
      "metadata": {
        "colab": {
          "base_uri": "https://localhost:8080/",
          "height": 36
        },
        "id": "IhvRYTdta8Yd",
        "outputId": "5b4bedd3-faea-450d-8143-646f810070da"
      },
      "execution_count": 42,
      "outputs": [
        {
          "output_type": "execute_result",
          "data": {
            "text/plain": [
              "'high_value_orders.csv'"
            ],
            "application/vnd.google.colaboratory.intrinsic+json": {
              "type": "string"
            }
          },
          "metadata": {},
          "execution_count": 42
        }
      ]
    },
    {
      "cell_type": "code",
      "source": [
        "from google.colab import files\n",
        "files.download(\"high_value_orders.csv\")"
      ],
      "metadata": {
        "colab": {
          "base_uri": "https://localhost:8080/",
          "height": 17
        },
        "id": "Fj8YuZ_mbCTZ",
        "outputId": "adc537bc-9d25-46c9-bee8-fac32c614184"
      },
      "execution_count": 43,
      "outputs": [
        {
          "output_type": "display_data",
          "data": {
            "text/plain": [
              "<IPython.core.display.Javascript object>"
            ],
            "application/javascript": [
              "\n",
              "    async function download(id, filename, size) {\n",
              "      if (!google.colab.kernel.accessAllowed) {\n",
              "        return;\n",
              "      }\n",
              "      const div = document.createElement('div');\n",
              "      const label = document.createElement('label');\n",
              "      label.textContent = `Downloading \"${filename}\": `;\n",
              "      div.appendChild(label);\n",
              "      const progress = document.createElement('progress');\n",
              "      progress.max = size;\n",
              "      div.appendChild(progress);\n",
              "      document.body.appendChild(div);\n",
              "\n",
              "      const buffers = [];\n",
              "      let downloaded = 0;\n",
              "\n",
              "      const channel = await google.colab.kernel.comms.open(id);\n",
              "      // Send a message to notify the kernel that we're ready.\n",
              "      channel.send({})\n",
              "\n",
              "      for await (const message of channel.messages) {\n",
              "        // Send a message to notify the kernel that we're ready.\n",
              "        channel.send({})\n",
              "        if (message.buffers) {\n",
              "          for (const buffer of message.buffers) {\n",
              "            buffers.push(buffer);\n",
              "            downloaded += buffer.byteLength;\n",
              "            progress.value = downloaded;\n",
              "          }\n",
              "        }\n",
              "      }\n",
              "      const blob = new Blob(buffers, {type: 'application/binary'});\n",
              "      const a = document.createElement('a');\n",
              "      a.href = window.URL.createObjectURL(blob);\n",
              "      a.download = filename;\n",
              "      div.appendChild(a);\n",
              "      a.click();\n",
              "      div.remove();\n",
              "    }\n",
              "  "
            ]
          },
          "metadata": {}
        },
        {
          "output_type": "display_data",
          "data": {
            "text/plain": [
              "<IPython.core.display.Javascript object>"
            ],
            "application/javascript": [
              "download(\"download_c7d82a83-e09e-4d67-b4f6-ae320549ae81\", \"high_value_orders.csv\", 217)"
            ]
          },
          "metadata": {}
        }
      ]
    }
  ]
}