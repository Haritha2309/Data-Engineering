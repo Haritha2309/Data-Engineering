{
  "nbformat": 4,
  "nbformat_minor": 0,
  "metadata": {
    "colab": {
      "provenance": []
    },
    "kernelspec": {
      "name": "python3",
      "display_name": "Python 3"
    },
    "language_info": {
      "name": "python"
    }
  },
  "cells": [
    {
      "cell_type": "markdown",
      "source": [
        "SAVING DATA"
      ],
      "metadata": {
        "id": "jtarV-_Z8HYP"
      }
    },
    {
      "cell_type": "code",
      "execution_count": 5,
      "metadata": {
        "colab": {
          "base_uri": "https://localhost:8080/"
        },
        "id": "YGfITmGf79y8",
        "outputId": "09edd502-3a12-4645-ea53-c4953bb69755"
      },
      "outputs": [
        {
          "output_type": "stream",
          "name": "stdout",
          "text": [
            "    Name   Age   Department   Salary\n",
            "0  Aarav  28.0        Sales  50000.0\n",
            "1  Sneha   NaN  Engineering  80000.0\n",
            "2  Kabir  25.0           HR      NaN\n",
            "3  Anaya  29.0          NaN  60000.0\n",
            "4  Rohan  35.0  Engineering  85000.0\n"
          ]
        }
      ],
      "source": [
        "import pandas as pd\n",
        "\n",
        "# Sample data with missing values\n",
        "csv_data = \"\"\"Name,Age,Department,Salary\n",
        "Aarav,28,Sales,50000\n",
        "Sneha,,Engineering,80000\n",
        "Kabir,25,HR,\n",
        "Anaya,29,,60000\n",
        "Rohan,35,Engineering,85000\n",
        "\"\"\"\n",
        "\n",
        "with open(\"data.csv\",\"w\") as f:\n",
        "  f.write(csv_data)\n",
        "\n",
        "df = pd.read_csv('data.csv')\n",
        "print(df)"
      ]
    },
    {
      "cell_type": "markdown",
      "source": [
        "FINDING NULL VALUES"
      ],
      "metadata": {
        "id": "UogH35TJH_zC"
      }
    },
    {
      "cell_type": "code",
      "source": [
        "print(df.isnull())"
      ],
      "metadata": {
        "colab": {
          "base_uri": "https://localhost:8080/"
        },
        "id": "D_gRjQA3IDk9",
        "outputId": "72b19534-63dd-4ed2-f6a8-0196ef188a54"
      },
      "execution_count": 6,
      "outputs": [
        {
          "output_type": "stream",
          "name": "stdout",
          "text": [
            "    Name    Age  Department  Salary\n",
            "0  False  False       False   False\n",
            "1  False   True       False   False\n",
            "2  False  False       False    True\n",
            "3  False  False        True   False\n",
            "4  False  False       False   False\n"
          ]
        }
      ]
    },
    {
      "cell_type": "markdown",
      "source": [
        "COUNTING NULL VALUES"
      ],
      "metadata": {
        "id": "I_NzHg1EIizi"
      }
    },
    {
      "cell_type": "code",
      "source": [
        "print(df.isnull().sum())"
      ],
      "metadata": {
        "colab": {
          "base_uri": "https://localhost:8080/"
        },
        "id": "OsQw1dXNIk5p",
        "outputId": "9e0f59bc-fd3b-4224-922a-72b2944b3e8d"
      },
      "execution_count": 7,
      "outputs": [
        {
          "output_type": "stream",
          "name": "stdout",
          "text": [
            "Name          0\n",
            "Age           1\n",
            "Department    1\n",
            "Salary        1\n",
            "dtype: int64\n"
          ]
        }
      ]
    },
    {
      "cell_type": "markdown",
      "source": [
        "FILLING AGE WITH AVERAGE"
      ],
      "metadata": {
        "id": "ZIJrUvYNIqKP"
      }
    },
    {
      "cell_type": "code",
      "source": [
        "df['Age'] = df['Age'].fillna(df['Age'].mean())\n",
        "print(df)"
      ],
      "metadata": {
        "colab": {
          "base_uri": "https://localhost:8080/"
        },
        "id": "sXLByaOqItir",
        "outputId": "a98f1205-fae7-461b-99c9-d4507fdf12a0"
      },
      "execution_count": 10,
      "outputs": [
        {
          "output_type": "stream",
          "name": "stdout",
          "text": [
            "    Name    Age   Department   Salary\n",
            "0  Aarav  28.00        Sales  50000.0\n",
            "1  Sneha  29.25  Engineering  80000.0\n",
            "2  Kabir  25.00           HR      NaN\n",
            "3  Anaya  29.00          NaN  60000.0\n",
            "4  Rohan  35.00  Engineering  85000.0\n"
          ]
        }
      ]
    },
    {
      "cell_type": "markdown",
      "source": [
        "FILLING DEPARTMENT AS GENERAL"
      ],
      "metadata": {
        "id": "7Z6wvRmoJbu9"
      }
    },
    {
      "cell_type": "code",
      "source": [
        "df['Department'] = df['Department'].fillna('General')\n",
        "print(df)"
      ],
      "metadata": {
        "colab": {
          "base_uri": "https://localhost:8080/"
        },
        "id": "ssG6RCrcJhtV",
        "outputId": "71589434-7836-4eaa-ecf6-f323607ab1db"
      },
      "execution_count": 11,
      "outputs": [
        {
          "output_type": "stream",
          "name": "stdout",
          "text": [
            "    Name    Age   Department   Salary\n",
            "0  Aarav  28.00        Sales  50000.0\n",
            "1  Sneha  29.25  Engineering  80000.0\n",
            "2  Kabir  25.00           HR      NaN\n",
            "3  Anaya  29.00      General  60000.0\n",
            "4  Rohan  35.00  Engineering  85000.0\n"
          ]
        }
      ]
    },
    {
      "cell_type": "markdown",
      "source": [
        "FILLING SALARY WITH AVERAGE"
      ],
      "metadata": {
        "id": "7EmbfVkMJvmD"
      }
    },
    {
      "cell_type": "code",
      "source": [
        "df['Salary'] = df['Salary'].fillna(df['Salary'].mean())\n",
        "print(df)"
      ],
      "metadata": {
        "colab": {
          "base_uri": "https://localhost:8080/"
        },
        "id": "FFQd-oV8Jygw",
        "outputId": "24cd2016-5785-4c3d-fa13-7fedf4c81301"
      },
      "execution_count": 13,
      "outputs": [
        {
          "output_type": "stream",
          "name": "stdout",
          "text": [
            "    Name    Age   Department   Salary\n",
            "0  Aarav  28.00        Sales  50000.0\n",
            "1  Sneha  29.25  Engineering  80000.0\n",
            "2  Kabir  25.00           HR  68750.0\n",
            "3  Anaya  29.00      General  60000.0\n",
            "4  Rohan  35.00  Engineering  85000.0\n"
          ]
        }
      ]
    },
    {
      "cell_type": "markdown",
      "source": [
        "MERGE"
      ],
      "metadata": {
        "id": "RfdxNCtouR9x"
      }
    },
    {
      "cell_type": "code",
      "source": [
        "import pandas as pd\n",
        "\n",
        "# Create employees CSV\n",
        "emp_data = \"\"\"EmpID,Name,Department\n",
        "101,Amit,Sales\n",
        "102,Anita,Engineering\n",
        "103,Kabir,HR\n",
        "104,Sneha,Marketing\n",
        "105,Ravi,Engineering\n",
        "\"\"\"\n",
        "with open('employees.csv', 'w') as f:\n",
        "    f.write(emp_data)\n",
        "\n",
        "# Create departments CSV\n",
        "dept_data = \"\"\"Department,Location\n",
        "Sales,Mumbai\n",
        "Engineering,Bangalore\n",
        "HR,Delhi\n",
        "Marketing,Chennai\n",
        "\"\"\"\n",
        "with open('departments.csv', 'w') as f:\n",
        "    f.write(dept_data)\n",
        "\n",
        "# Read both\n",
        "df_emp = pd.read_csv('employees.csv')\n",
        "df_dept = pd.read_csv('departments.csv')\n",
        "\n",
        "print(df_emp)\n",
        "print(df_dept)\n"
      ],
      "metadata": {
        "colab": {
          "base_uri": "https://localhost:8080/"
        },
        "id": "EznuNyvuuTTq",
        "outputId": "1e8e4334-1401-4c05-928a-214424c7e274"
      },
      "execution_count": 15,
      "outputs": [
        {
          "output_type": "stream",
          "name": "stdout",
          "text": [
            "   EmpID   Name   Department\n",
            "0    101   Amit        Sales\n",
            "1    102  Anita  Engineering\n",
            "2    103  Kabir           HR\n",
            "3    104  Sneha    Marketing\n",
            "4    105   Ravi  Engineering\n",
            "    Department   Location\n",
            "0        Sales     Mumbai\n",
            "1  Engineering  Bangalore\n",
            "2           HR      Delhi\n",
            "3    Marketing    Chennai\n"
          ]
        }
      ]
    },
    {
      "cell_type": "code",
      "source": [
        "merged_df = pd.merge(df_emp,df_dept,on='Department',how='inner')\n",
        "print(merged_df)"
      ],
      "metadata": {
        "colab": {
          "base_uri": "https://localhost:8080/"
        },
        "id": "FHHBGObmuWwb",
        "outputId": "4f05b065-7a5f-4d2c-f9f4-c82db223b4e0"
      },
      "execution_count": 18,
      "outputs": [
        {
          "output_type": "stream",
          "name": "stdout",
          "text": [
            "   EmpID   Name   Department   Location\n",
            "0    101   Amit        Sales     Mumbai\n",
            "1    102  Anita  Engineering  Bangalore\n",
            "2    103  Kabir           HR      Delhi\n",
            "3    104  Sneha    Marketing    Chennai\n",
            "4    105   Ravi  Engineering  Bangalore\n"
          ]
        }
      ]
    },
    {
      "cell_type": "code",
      "source": [
        "!ls\n"
      ],
      "metadata": {
        "colab": {
          "base_uri": "https://localhost:8080/"
        },
        "id": "zd-W_Ina3biH",
        "outputId": "4d86b513-4ced-4aa6-9b59-2e8168975148"
      },
      "execution_count": 19,
      "outputs": [
        {
          "output_type": "stream",
          "name": "stdout",
          "text": [
            "data.csv  departments.csv  employees.csv  sample_data\n"
          ]
        }
      ]
    },
    {
      "cell_type": "code",
      "source": [
        "from pyspark.sql import SparkSession\n",
        "\n",
        "spark = SparkSession.builder\\\n",
        "  .appName(\"PySparkBasics\")\\\n",
        "  .getOrCreate()\n",
        "\n",
        "spark"
      ],
      "metadata": {
        "colab": {
          "base_uri": "https://localhost:8080/",
          "height": 219
        },
        "id": "BI_sXxG-7ngK",
        "outputId": "2de0ebe7-ac64-4153-97e0-98652144d1ed"
      },
      "execution_count": 20,
      "outputs": [
        {
          "output_type": "execute_result",
          "data": {
            "text/plain": [
              "<pyspark.sql.session.SparkSession at 0x7804108fa150>"
            ],
            "text/html": [
              "\n",
              "            <div>\n",
              "                <p><b>SparkSession - in-memory</b></p>\n",
              "                \n",
              "        <div>\n",
              "            <p><b>SparkContext</b></p>\n",
              "\n",
              "            <p><a href=\"http://424860a6ba30:4040\">Spark UI</a></p>\n",
              "\n",
              "            <dl>\n",
              "              <dt>Version</dt>\n",
              "                <dd><code>v3.5.1</code></dd>\n",
              "              <dt>Master</dt>\n",
              "                <dd><code>local[*]</code></dd>\n",
              "              <dt>AppName</dt>\n",
              "                <dd><code>PySparkBasics</code></dd>\n",
              "            </dl>\n",
              "        </div>\n",
              "        \n",
              "            </div>\n",
              "        "
            ]
          },
          "metadata": {},
          "execution_count": 20
        }
      ]
    },
    {
      "cell_type": "code",
      "source": [
        "data = [('amit',25),('ravi',30),('priya',33)]\n",
        "col = ['name','age']\n",
        "\n",
        "df = spark.createDataFrame(data,col)\n",
        "df.show()"
      ],
      "metadata": {
        "colab": {
          "base_uri": "https://localhost:8080/"
        },
        "id": "kthSH01e7sg4",
        "outputId": "25d38a35-ae3b-44d6-c9b5-048210757e80"
      },
      "execution_count": 21,
      "outputs": [
        {
          "output_type": "stream",
          "name": "stdout",
          "text": [
            "+-----+---+\n",
            "| name|age|\n",
            "+-----+---+\n",
            "| amit| 25|\n",
            "| ravi| 30|\n",
            "|priya| 33|\n",
            "+-----+---+\n",
            "\n"
          ]
        }
      ]
    },
    {
      "cell_type": "code",
      "source": [
        "import pandas as pd\n",
        "\n",
        "# Sample data with missing values\n",
        "csv_data = \"\"\"Name,Age,Department,Salary\n",
        "Aarav,28,Sales,50000\n",
        "Sneha,,Engineering,80000\n",
        "Kabir,25,HR,\n",
        "Anaya,29,,60000\n",
        "Rohan,35,Engineering,85000\n",
        "\"\"\"\n",
        "\n",
        "with open(\"data.csv\",\"w\") as f:\n",
        "  f.write(csv_data)\n",
        "df = spark.read.csv('data.csv',header = True,inferSchema=True)\n",
        "df.show()\n",
        "df.printSchema()"
      ],
      "metadata": {
        "id": "Z54-ilrC7yVX",
        "outputId": "d8d2ce31-a928-4fd8-ef35-ec8982327d01",
        "colab": {
          "base_uri": "https://localhost:8080/"
        }
      },
      "execution_count": 22,
      "outputs": [
        {
          "output_type": "stream",
          "name": "stdout",
          "text": [
            "+-----+----+-----------+------+\n",
            "| Name| Age| Department|Salary|\n",
            "+-----+----+-----------+------+\n",
            "|Aarav|  28|      Sales| 50000|\n",
            "|Sneha|NULL|Engineering| 80000|\n",
            "|Kabir|  25|         HR|  NULL|\n",
            "|Anaya|  29|       NULL| 60000|\n",
            "|Rohan|  35|Engineering| 85000|\n",
            "+-----+----+-----------+------+\n",
            "\n",
            "root\n",
            " |-- Name: string (nullable = true)\n",
            " |-- Age: integer (nullable = true)\n",
            " |-- Department: string (nullable = true)\n",
            " |-- Salary: integer (nullable = true)\n",
            "\n"
          ]
        }
      ]
    }
  ]
}