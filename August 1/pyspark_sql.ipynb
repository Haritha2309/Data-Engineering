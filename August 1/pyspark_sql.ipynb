{
  "nbformat": 4,
  "nbformat_minor": 0,
  "metadata": {
    "colab": {
      "provenance": []
    },
    "kernelspec": {
      "name": "python3",
      "display_name": "Python 3"
    },
    "language_info": {
      "name": "python"
    }
  },
  "cells": [
    {
      "cell_type": "code",
      "execution_count": 2,
      "metadata": {
        "id": "S1P1nlyGuS4L"
      },
      "outputs": [],
      "source": [
        "from pyspark.sql import SparkSession"
      ]
    },
    {
      "cell_type": "code",
      "source": [
        "spark = SparkSession.builder.appName('sqlexample').getOrCreate()"
      ],
      "metadata": {
        "id": "TFpwQS-v3E2_"
      },
      "execution_count": 3,
      "outputs": []
    },
    {
      "cell_type": "code",
      "source": [
        "from pyspark.sql import Row"
      ],
      "metadata": {
        "id": "WCAyaQWq3Nvh"
      },
      "execution_count": 4,
      "outputs": []
    },
    {
      "cell_type": "code",
      "source": [
        "data = [\n",
        "    Row(EmpID=101, Name=\"Ravi\", Department=\"Sales\", Salary=50000),\n",
        "    Row(EmpID=102, Name=\"Sneha\", Department=\"Engineering\", Salary=80000),\n",
        "    Row(EmpID=103, Name=\"Kabir\", Department=\"HR\", Salary=45000),\n",
        "    Row(EmpID=104, Name=\"Anita\", Department=\"Engineering\", Salary=85000),\n",
        "    Row(EmpID=105, Name=\"Amit\", Department=\"Sales\", Salary=55000),\n",
        "]"
      ],
      "metadata": {
        "id": "zlpeTAqy3Vpq"
      },
      "execution_count": 5,
      "outputs": []
    },
    {
      "cell_type": "code",
      "source": [
        "df = spark.createDataFrame(data)\n",
        "df.show()"
      ],
      "metadata": {
        "colab": {
          "base_uri": "https://localhost:8080/"
        },
        "id": "YZ9NoLAu3ZWu",
        "outputId": "dd13a6d5-5f3e-4406-bf8d-4fbcf0af30e1"
      },
      "execution_count": 6,
      "outputs": [
        {
          "output_type": "stream",
          "name": "stdout",
          "text": [
            "+-----+-----+-----------+------+\n",
            "|EmpID| Name| Department|Salary|\n",
            "+-----+-----+-----------+------+\n",
            "|  101| Ravi|      Sales| 50000|\n",
            "|  102|Sneha|Engineering| 80000|\n",
            "|  103|Kabir|         HR| 45000|\n",
            "|  104|Anita|Engineering| 85000|\n",
            "|  105| Amit|      Sales| 55000|\n",
            "+-----+-----+-----------+------+\n",
            "\n"
          ]
        }
      ]
    },
    {
      "cell_type": "code",
      "source": [
        "df.createOrReplaceTempView('employees')"
      ],
      "metadata": {
        "id": "4e40Z4bi3prF"
      },
      "execution_count": 9,
      "outputs": []
    },
    {
      "cell_type": "code",
      "source": [
        "spark.sql(\"select * from employees\").show()"
      ],
      "metadata": {
        "colab": {
          "base_uri": "https://localhost:8080/"
        },
        "id": "wm5qDOpi4cfW",
        "outputId": "e391a7ac-2c80-4db7-9b18-41c23cb45138"
      },
      "execution_count": 10,
      "outputs": [
        {
          "output_type": "stream",
          "name": "stdout",
          "text": [
            "+-----+-----+-----------+------+\n",
            "|EmpID| Name| Department|Salary|\n",
            "+-----+-----+-----------+------+\n",
            "|  101| Ravi|      Sales| 50000|\n",
            "|  102|Sneha|Engineering| 80000|\n",
            "|  103|Kabir|         HR| 45000|\n",
            "|  104|Anita|Engineering| 85000|\n",
            "|  105| Amit|      Sales| 55000|\n",
            "+-----+-----+-----------+------+\n",
            "\n"
          ]
        }
      ]
    },
    {
      "cell_type": "code",
      "source": [
        "spark.sql('select Name,Salary from employees where Salary > 60000').show()"
      ],
      "metadata": {
        "colab": {
          "base_uri": "https://localhost:8080/"
        },
        "id": "Tuf4QAGu4hl_",
        "outputId": "c5583515-bc93-4934-9d8a-78eba1f2f8f7"
      },
      "execution_count": 12,
      "outputs": [
        {
          "output_type": "stream",
          "name": "stdout",
          "text": [
            "+-----+------+\n",
            "| Name|Salary|\n",
            "+-----+------+\n",
            "|Sneha| 80000|\n",
            "|Anita| 85000|\n",
            "+-----+------+\n",
            "\n"
          ]
        }
      ]
    },
    {
      "cell_type": "code",
      "source": [
        "spark.sql('select Department,avg(Salary) as avg from employees group by Department').show()"
      ],
      "metadata": {
        "colab": {
          "base_uri": "https://localhost:8080/"
        },
        "id": "YP0uRT5Q4rBe",
        "outputId": "d3f923ca-5e1b-4820-c1c9-7259636080ca"
      },
      "execution_count": 13,
      "outputs": [
        {
          "output_type": "stream",
          "name": "stdout",
          "text": [
            "+-----------+-------+\n",
            "| Department|    avg|\n",
            "+-----------+-------+\n",
            "|      Sales|52500.0|\n",
            "|Engineering|82500.0|\n",
            "|         HR|45000.0|\n",
            "+-----------+-------+\n",
            "\n"
          ]
        }
      ]
    },
    {
      "cell_type": "code",
      "source": [
        "spark.sql('select * from employees order by salary desc').show()"
      ],
      "metadata": {
        "colab": {
          "base_uri": "https://localhost:8080/"
        },
        "id": "xzdAznYk45_I",
        "outputId": "a012cf48-cdef-4bd7-f687-4fbade8594b8"
      },
      "execution_count": 14,
      "outputs": [
        {
          "output_type": "stream",
          "name": "stdout",
          "text": [
            "+-----+-----+-----------+------+\n",
            "|EmpID| Name| Department|Salary|\n",
            "+-----+-----+-----------+------+\n",
            "|  104|Anita|Engineering| 85000|\n",
            "|  102|Sneha|Engineering| 80000|\n",
            "|  105| Amit|      Sales| 55000|\n",
            "|  101| Ravi|      Sales| 50000|\n",
            "|  103|Kabir|         HR| 45000|\n",
            "+-----+-----+-----------+------+\n",
            "\n"
          ]
        }
      ]
    },
    {
      "cell_type": "code",
      "source": [
        "df.createGlobalTempView('employees_global')"
      ],
      "metadata": {
        "id": "4FZ1237-5euI"
      },
      "execution_count": 15,
      "outputs": []
    },
    {
      "cell_type": "code",
      "source": [
        "spark.sql('select * from global_temp.employees_global').show()"
      ],
      "metadata": {
        "colab": {
          "base_uri": "https://localhost:8080/"
        },
        "id": "0P4IbUA55uFt",
        "outputId": "1606a637-3e58-4233-9117-d25cddbdc1a3"
      },
      "execution_count": 17,
      "outputs": [
        {
          "output_type": "stream",
          "name": "stdout",
          "text": [
            "+-----+-----+-----------+------+\n",
            "|EmpID| Name| Department|Salary|\n",
            "+-----+-----+-----------+------+\n",
            "|  101| Ravi|      Sales| 50000|\n",
            "|  102|Sneha|Engineering| 80000|\n",
            "|  103|Kabir|         HR| 45000|\n",
            "|  104|Anita|Engineering| 85000|\n",
            "|  105| Amit|      Sales| 55000|\n",
            "+-----+-----+-----------+------+\n",
            "\n"
          ]
        }
      ]
    },
    {
      "cell_type": "code",
      "source": [
        "new_spark = SparkSession.builder.appName('new').getOrCreate()"
      ],
      "metadata": {
        "id": "1u_UCQRk6PEX"
      },
      "execution_count": 18,
      "outputs": []
    },
    {
      "cell_type": "code",
      "source": [
        "new_spark.sql('select * from global_temp.employees_global').show()"
      ],
      "metadata": {
        "colab": {
          "base_uri": "https://localhost:8080/"
        },
        "id": "pcq330yM6X7y",
        "outputId": "67b79a5c-9ae8-4e52-bf11-eeb5dbcb8b8e"
      },
      "execution_count": 19,
      "outputs": [
        {
          "output_type": "stream",
          "name": "stdout",
          "text": [
            "+-----+-----+-----------+------+\n",
            "|EmpID| Name| Department|Salary|\n",
            "+-----+-----+-----------+------+\n",
            "|  101| Ravi|      Sales| 50000|\n",
            "|  102|Sneha|Engineering| 80000|\n",
            "|  103|Kabir|         HR| 45000|\n",
            "|  104|Anita|Engineering| 85000|\n",
            "|  105| Amit|      Sales| 55000|\n",
            "+-----+-----+-----------+------+\n",
            "\n"
          ]
        }
      ]
    }
  ]
}