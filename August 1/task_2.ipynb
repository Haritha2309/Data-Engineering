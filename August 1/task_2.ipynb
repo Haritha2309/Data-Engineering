{
  "nbformat": 4,
  "nbformat_minor": 0,
  "metadata": {
    "colab": {
      "provenance": []
    },
    "kernelspec": {
      "name": "python3",
      "display_name": "Python 3"
    },
    "language_info": {
      "name": "python"
    }
  },
  "cells": [
    {
      "cell_type": "code",
      "source": [
        "from pyspark.sql import SparkSession"
      ],
      "metadata": {
        "id": "QuBBSz4YZmJr"
      },
      "execution_count": 2,
      "outputs": []
    },
    {
      "cell_type": "code",
      "source": [
        "spark = SparkSession.builder.appName('ECOMORDERS').getOrCreate()"
      ],
      "metadata": {
        "id": "Hgmb7ENmZtpM"
      },
      "execution_count": 3,
      "outputs": []
    },
    {
      "cell_type": "code",
      "source": [
        "from pyspark.sql import Row\n",
        "data = [\n",
        "    Row(order_id=101, customer_name='RAVI', product='Laptop', category='Electronics', quantity=2, unitprice=65000, orderdate='2024-01-03'),\n",
        "    Row(order_id=102, customer_name='SNAHE', product='Smartphone', category='Electronics', quantity=1, unitprice=40000, orderdate='2024-01-04'),\n",
        "    Row(order_id=103, customer_name='KARTHI', product='Tablet', category='Electronics', quantity=3, unitprice=25000, orderdate='2024-01-05'),\n",
        "    Row(order_id=104, customer_name='SHIVA', product='Jacket', category='Clothing', quantity=1, unitprice=1500, orderdate='2024-01-06'),\n",
        "    Row(order_id=105, customer_name='HARI', product='T-shirt', category='Clothing', quantity=5, unitprice=400, orderdate='2024-01-07'),\n",
        "    Row(order_id=106, customer_name='PRIYA', product='Jeans', category='Clothing', quantity=2, unitprice=1200, orderdate='2024-01-08'),\n",
        "    Row(order_id=107, customer_name='DEV', product='Chair', category='Furniture', quantity=4, unitprice=1100, orderdate='2024-01-09'),\n",
        "    Row(order_id=108, customer_name='ROHIT', product='Desk', category='Furniture', quantity=1, unitprice=5000, orderdate='2024-01-10'),\n",
        "    Row(order_id=109, customer_name='MISHRA', product='Bookshelf', category='Furniture', quantity=1, unitprice=4500, orderdate='2024-01-11'),\n",
        "    Row(order_id=110, customer_name='SHARMA', product='Novel', category='Books', quantity=2, unitprice=300, orderdate='2023-01-12'),\n",
        "    Row(order_id=111, customer_name='ANIL', product='Textbook', category='Books', quantity=3, unitprice=800, orderdate='2023-01-13'),\n",
        "    Row(order_id=112, customer_name='KHUMBLE', product='Comics', category='Books', quantity=4, unitprice=150, orderdate='2024-01-14'),\n",
        "]"
      ],
      "metadata": {
        "id": "X38oYbM4aAtm"
      },
      "execution_count": 5,
      "outputs": []
    },
    {
      "cell_type": "code",
      "source": [
        "df = spark.createDataFrame(data)\n",
        "df.show()"
      ],
      "metadata": {
        "colab": {
          "base_uri": "https://localhost:8080/"
        },
        "id": "QDDceKvBbnOG",
        "outputId": "5eb630c5-3e8a-4514-f2ea-d4798e4822cc"
      },
      "execution_count": 6,
      "outputs": [
        {
          "output_type": "stream",
          "name": "stdout",
          "text": [
            "+--------+-------------+----------+-----------+--------+---------+----------+\n",
            "|order_id|customer_name|   product|   category|quantity|unitprice| orderdate|\n",
            "+--------+-------------+----------+-----------+--------+---------+----------+\n",
            "|     101|         RAVI|    Laptop|Electronics|       2|    65000|2024-01-03|\n",
            "|     102|        SNAHE|Smartphone|Electronics|       1|    40000|2024-01-04|\n",
            "|     103|       KARTHI|    Tablet|Electronics|       3|    25000|2024-01-05|\n",
            "|     104|        SHIVA|    Jacket|   Clothing|       1|     1500|2024-01-06|\n",
            "|     105|         HARI|   T-shirt|   Clothing|       5|      400|2024-01-07|\n",
            "|     106|        PRIYA|     Jeans|   Clothing|       2|     1200|2024-01-08|\n",
            "|     107|          DEV|     Chair|  Furniture|       4|     1100|2024-01-09|\n",
            "|     108|        ROHIT|      Desk|  Furniture|       1|     5000|2024-01-10|\n",
            "|     109|       MISHRA| Bookshelf|  Furniture|       1|     4500|2024-01-11|\n",
            "|     110|       SHARMA|     Novel|      Books|       2|      300|2023-01-12|\n",
            "|     111|         ANIL|  Textbook|      Books|       3|      800|2023-01-13|\n",
            "|     112|      KHUMBLE|    Comics|      Books|       4|      150|2024-01-14|\n",
            "+--------+-------------+----------+-----------+--------+---------+----------+\n",
            "\n"
          ]
        }
      ]
    },
    {
      "cell_type": "code",
      "source": [
        "df.createOrReplaceTempView('orders_local')\n",
        "df.createOrReplaceGlobalTempView('orders_global')"
      ],
      "metadata": {
        "id": "rcSysG8nb1rH"
      },
      "execution_count": 7,
      "outputs": []
    },
    {
      "cell_type": "markdown",
      "source": [
        "#PART A"
      ],
      "metadata": {
        "id": "5kJGfVjzcGz3"
      }
    },
    {
      "cell_type": "markdown",
      "source": [
        "List all orders placed for \"Electronics\" with a Quantity of 2 or more."
      ],
      "metadata": {
        "id": "qO3e5pqkcIlQ"
      }
    },
    {
      "cell_type": "code",
      "source": [
        "spark.sql(\"select * from orders_local where category = 'Electronics' and quantity >2\").show()"
      ],
      "metadata": {
        "colab": {
          "base_uri": "https://localhost:8080/"
        },
        "id": "sAE4Qb5hcNXX",
        "outputId": "97802e6f-9d31-41be-fbd5-098dcc489a2e"
      },
      "execution_count": 8,
      "outputs": [
        {
          "output_type": "stream",
          "name": "stdout",
          "text": [
            "+--------+-------------+-------+-----------+--------+---------+----------+\n",
            "|order_id|customer_name|product|   category|quantity|unitprice| orderdate|\n",
            "+--------+-------------+-------+-----------+--------+---------+----------+\n",
            "|     103|       KARTHI| Tablet|Electronics|       3|    25000|2024-01-05|\n",
            "+--------+-------------+-------+-----------+--------+---------+----------+\n",
            "\n"
          ]
        }
      ]
    },
    {
      "cell_type": "markdown",
      "source": [
        "Calculate TotalAmount (Quantity × UnitPrice) for each order."
      ],
      "metadata": {
        "id": "ppuWoH7ncecE"
      }
    },
    {
      "cell_type": "code",
      "source": [
        "spark.sql('select *,(quantity * unitprice)as totalAmount from orders_local ').show()"
      ],
      "metadata": {
        "colab": {
          "base_uri": "https://localhost:8080/"
        },
        "id": "15gM50ijcg2g",
        "outputId": "82ab8a08-a74d-4b99-a6a5-217562033d9f"
      },
      "execution_count": 9,
      "outputs": [
        {
          "output_type": "stream",
          "name": "stdout",
          "text": [
            "+--------+-------------+----------+-----------+--------+---------+----------+-----------+\n",
            "|order_id|customer_name|   product|   category|quantity|unitprice| orderdate|totalAmount|\n",
            "+--------+-------------+----------+-----------+--------+---------+----------+-----------+\n",
            "|     101|         RAVI|    Laptop|Electronics|       2|    65000|2024-01-03|     130000|\n",
            "|     102|        SNAHE|Smartphone|Electronics|       1|    40000|2024-01-04|      40000|\n",
            "|     103|       KARTHI|    Tablet|Electronics|       3|    25000|2024-01-05|      75000|\n",
            "|     104|        SHIVA|    Jacket|   Clothing|       1|     1500|2024-01-06|       1500|\n",
            "|     105|         HARI|   T-shirt|   Clothing|       5|      400|2024-01-07|       2000|\n",
            "|     106|        PRIYA|     Jeans|   Clothing|       2|     1200|2024-01-08|       2400|\n",
            "|     107|          DEV|     Chair|  Furniture|       4|     1100|2024-01-09|       4400|\n",
            "|     108|        ROHIT|      Desk|  Furniture|       1|     5000|2024-01-10|       5000|\n",
            "|     109|       MISHRA| Bookshelf|  Furniture|       1|     4500|2024-01-11|       4500|\n",
            "|     110|       SHARMA|     Novel|      Books|       2|      300|2023-01-12|        600|\n",
            "|     111|         ANIL|  Textbook|      Books|       3|      800|2023-01-13|       2400|\n",
            "|     112|      KHUMBLE|    Comics|      Books|       4|      150|2024-01-14|        600|\n",
            "+--------+-------------+----------+-----------+--------+---------+----------+-----------+\n",
            "\n"
          ]
        }
      ]
    },
    {
      "cell_type": "markdown",
      "source": [
        "Show the total number of orders per Category"
      ],
      "metadata": {
        "id": "uQ_qSfy3c6-q"
      }
    },
    {
      "cell_type": "code",
      "source": [
        "spark.sql('select category,count(order_id)as total from orders_local group by category').show()"
      ],
      "metadata": {
        "colab": {
          "base_uri": "https://localhost:8080/"
        },
        "id": "I7nCFfpuc8_3",
        "outputId": "c5c93606-4298-4ad4-94fc-4db6fa576afc"
      },
      "execution_count": 10,
      "outputs": [
        {
          "output_type": "stream",
          "name": "stdout",
          "text": [
            "+-----------+-----+\n",
            "|   category|total|\n",
            "+-----------+-----+\n",
            "|Electronics|    3|\n",
            "|   Clothing|    3|\n",
            "|      Books|    3|\n",
            "|  Furniture|    3|\n",
            "+-----------+-----+\n",
            "\n"
          ]
        }
      ]
    },
    {
      "cell_type": "markdown",
      "source": [
        "List orders placed in \"January 2023\" only."
      ],
      "metadata": {
        "id": "xXgCcDvKdU01"
      }
    },
    {
      "cell_type": "code",
      "source": [
        "spark.sql(\"select * from orders_local where orderdate between'2023-01-01'and '2023-01-31'\").show()"
      ],
      "metadata": {
        "colab": {
          "base_uri": "https://localhost:8080/"
        },
        "id": "5LYtXCPzdXpu",
        "outputId": "cab1ceec-7b58-4ce6-982a-524d033dafbe"
      },
      "execution_count": 11,
      "outputs": [
        {
          "output_type": "stream",
          "name": "stdout",
          "text": [
            "+--------+-------------+--------+--------+--------+---------+----------+\n",
            "|order_id|customer_name| product|category|quantity|unitprice| orderdate|\n",
            "+--------+-------------+--------+--------+--------+---------+----------+\n",
            "|     110|       SHARMA|   Novel|   Books|       2|      300|2023-01-12|\n",
            "|     111|         ANIL|Textbook|   Books|       3|      800|2023-01-13|\n",
            "+--------+-------------+--------+--------+--------+---------+----------+\n",
            "\n"
          ]
        }
      ]
    },
    {
      "cell_type": "markdown",
      "source": [
        "Show the average UnitPrice per category."
      ],
      "metadata": {
        "id": "emnvyHnRdstC"
      }
    },
    {
      "cell_type": "code",
      "source": [
        "spark.sql('select category,avg(unitprice) from orders_local group by category').show()"
      ],
      "metadata": {
        "colab": {
          "base_uri": "https://localhost:8080/"
        },
        "id": "FLswh6DngX87",
        "outputId": "a8c978f4-cd1d-4f28-ad6b-d87d2711697d"
      },
      "execution_count": 12,
      "outputs": [
        {
          "output_type": "stream",
          "name": "stdout",
          "text": [
            "+-----------+------------------+\n",
            "|   category|    avg(unitprice)|\n",
            "+-----------+------------------+\n",
            "|Electronics|43333.333333333336|\n",
            "|   Clothing|1033.3333333333333|\n",
            "|      Books| 416.6666666666667|\n",
            "|  Furniture|3533.3333333333335|\n",
            "+-----------+------------------+\n",
            "\n"
          ]
        }
      ]
    },
    {
      "cell_type": "markdown",
      "source": [
        "Find the order with the highest total amount."
      ],
      "metadata": {
        "id": "1alufpuZgmmA"
      }
    },
    {
      "cell_type": "code",
      "source": [
        "spark.sql('select * , (quantity * unitprice) as totalAmount from orders_local order by totalAmount desc limit 1').show()"
      ],
      "metadata": {
        "colab": {
          "base_uri": "https://localhost:8080/"
        },
        "id": "sRBNajfXhHAh",
        "outputId": "aaecb286-1968-4680-c9b3-4d4271ee4bba"
      },
      "execution_count": 16,
      "outputs": [
        {
          "output_type": "stream",
          "name": "stdout",
          "text": [
            "+--------+-------------+-------+-----------+--------+---------+----------+-----------+\n",
            "|order_id|customer_name|product|   category|quantity|unitprice| orderdate|totalAmount|\n",
            "+--------+-------------+-------+-----------+--------+---------+----------+-----------+\n",
            "|     101|         RAVI| Laptop|Electronics|       2|    65000|2024-01-03|     130000|\n",
            "+--------+-------------+-------+-----------+--------+---------+----------+-----------+\n",
            "\n"
          ]
        }
      ]
    },
    {
      "cell_type": "markdown",
      "source": [
        "Drop the local view and try querying it again."
      ],
      "metadata": {
        "id": "Xsrv9mZ9hc_r"
      }
    },
    {
      "cell_type": "code",
      "source": [
        "spark.catalog.dropTempView('orders_local')"
      ],
      "metadata": {
        "colab": {
          "base_uri": "https://localhost:8080/"
        },
        "id": "Zmaw2Ee7hfM1",
        "outputId": "16b48b68-cc5e-4508-bcd1-39065136b258"
      },
      "execution_count": 17,
      "outputs": [
        {
          "output_type": "execute_result",
          "data": {
            "text/plain": [
              "True"
            ]
          },
          "metadata": {},
          "execution_count": 17
        }
      ]
    },
    {
      "cell_type": "code",
      "source": [
        "spark.sql('select * from orders_local').show()"
      ],
      "metadata": {
        "colab": {
          "base_uri": "https://localhost:8080/",
          "height": 443
        },
        "id": "RAvoQnpahyR9",
        "outputId": "45a71682-22c6-4a27-d54f-6edc5b23cf57"
      },
      "execution_count": 18,
      "outputs": [
        {
          "output_type": "error",
          "ename": "AnalysisException",
          "evalue": "[TABLE_OR_VIEW_NOT_FOUND] The table or view `orders_local` cannot be found. Verify the spelling and correctness of the schema and catalog.\nIf you did not qualify the name with a schema, verify the current_schema() output, or qualify the name with the correct schema and catalog.\nTo tolerate the error on drop use DROP VIEW IF EXISTS or DROP TABLE IF EXISTS.; line 1 pos 14;\n'Project [*]\n+- 'UnresolvedRelation [orders_local], [], false\n",
          "traceback": [
            "\u001b[0;31m---------------------------------------------------------------------------\u001b[0m",
            "\u001b[0;31mAnalysisException\u001b[0m                         Traceback (most recent call last)",
            "\u001b[0;32m/tmp/ipython-input-4225391928.py\u001b[0m in \u001b[0;36m<cell line: 0>\u001b[0;34m()\u001b[0m\n\u001b[0;32m----> 1\u001b[0;31m \u001b[0mspark\u001b[0m\u001b[0;34m.\u001b[0m\u001b[0msql\u001b[0m\u001b[0;34m(\u001b[0m\u001b[0;34m'select * from orders_local'\u001b[0m\u001b[0;34m)\u001b[0m\u001b[0;34m.\u001b[0m\u001b[0mshow\u001b[0m\u001b[0;34m(\u001b[0m\u001b[0;34m)\u001b[0m\u001b[0;34m\u001b[0m\u001b[0;34m\u001b[0m\u001b[0m\n\u001b[0m",
            "\u001b[0;32m/usr/local/lib/python3.11/dist-packages/pyspark/sql/session.py\u001b[0m in \u001b[0;36msql\u001b[0;34m(self, sqlQuery, args, **kwargs)\u001b[0m\n\u001b[1;32m   1629\u001b[0m                     \u001b[0;34m[\u001b[0m\u001b[0m_to_java_column\u001b[0m\u001b[0;34m(\u001b[0m\u001b[0mlit\u001b[0m\u001b[0;34m(\u001b[0m\u001b[0mv\u001b[0m\u001b[0;34m)\u001b[0m\u001b[0;34m)\u001b[0m \u001b[0;32mfor\u001b[0m \u001b[0mv\u001b[0m \u001b[0;32min\u001b[0m \u001b[0;34m(\u001b[0m\u001b[0margs\u001b[0m \u001b[0;32mor\u001b[0m \u001b[0;34m[\u001b[0m\u001b[0;34m]\u001b[0m\u001b[0;34m)\u001b[0m\u001b[0;34m]\u001b[0m\u001b[0;34m\u001b[0m\u001b[0;34m\u001b[0m\u001b[0m\n\u001b[1;32m   1630\u001b[0m                 )\n\u001b[0;32m-> 1631\u001b[0;31m             \u001b[0;32mreturn\u001b[0m \u001b[0mDataFrame\u001b[0m\u001b[0;34m(\u001b[0m\u001b[0mself\u001b[0m\u001b[0;34m.\u001b[0m\u001b[0m_jsparkSession\u001b[0m\u001b[0;34m.\u001b[0m\u001b[0msql\u001b[0m\u001b[0;34m(\u001b[0m\u001b[0msqlQuery\u001b[0m\u001b[0;34m,\u001b[0m \u001b[0mlitArgs\u001b[0m\u001b[0;34m)\u001b[0m\u001b[0;34m,\u001b[0m \u001b[0mself\u001b[0m\u001b[0;34m)\u001b[0m\u001b[0;34m\u001b[0m\u001b[0;34m\u001b[0m\u001b[0m\n\u001b[0m\u001b[1;32m   1632\u001b[0m         \u001b[0;32mfinally\u001b[0m\u001b[0;34m:\u001b[0m\u001b[0;34m\u001b[0m\u001b[0;34m\u001b[0m\u001b[0m\n\u001b[1;32m   1633\u001b[0m             \u001b[0;32mif\u001b[0m \u001b[0mlen\u001b[0m\u001b[0;34m(\u001b[0m\u001b[0mkwargs\u001b[0m\u001b[0;34m)\u001b[0m \u001b[0;34m>\u001b[0m \u001b[0;36m0\u001b[0m\u001b[0;34m:\u001b[0m\u001b[0;34m\u001b[0m\u001b[0;34m\u001b[0m\u001b[0m\n",
            "\u001b[0;32m/usr/local/lib/python3.11/dist-packages/py4j/java_gateway.py\u001b[0m in \u001b[0;36m__call__\u001b[0;34m(self, *args)\u001b[0m\n\u001b[1;32m   1320\u001b[0m \u001b[0;34m\u001b[0m\u001b[0m\n\u001b[1;32m   1321\u001b[0m         \u001b[0manswer\u001b[0m \u001b[0;34m=\u001b[0m \u001b[0mself\u001b[0m\u001b[0;34m.\u001b[0m\u001b[0mgateway_client\u001b[0m\u001b[0;34m.\u001b[0m\u001b[0msend_command\u001b[0m\u001b[0;34m(\u001b[0m\u001b[0mcommand\u001b[0m\u001b[0;34m)\u001b[0m\u001b[0;34m\u001b[0m\u001b[0;34m\u001b[0m\u001b[0m\n\u001b[0;32m-> 1322\u001b[0;31m         return_value = get_return_value(\n\u001b[0m\u001b[1;32m   1323\u001b[0m             answer, self.gateway_client, self.target_id, self.name)\n\u001b[1;32m   1324\u001b[0m \u001b[0;34m\u001b[0m\u001b[0m\n",
            "\u001b[0;32m/usr/local/lib/python3.11/dist-packages/pyspark/errors/exceptions/captured.py\u001b[0m in \u001b[0;36mdeco\u001b[0;34m(*a, **kw)\u001b[0m\n\u001b[1;32m    183\u001b[0m                 \u001b[0;31m# Hide where the exception came from that shows a non-Pythonic\u001b[0m\u001b[0;34m\u001b[0m\u001b[0;34m\u001b[0m\u001b[0m\n\u001b[1;32m    184\u001b[0m                 \u001b[0;31m# JVM exception message.\u001b[0m\u001b[0;34m\u001b[0m\u001b[0;34m\u001b[0m\u001b[0m\n\u001b[0;32m--> 185\u001b[0;31m                 \u001b[0;32mraise\u001b[0m \u001b[0mconverted\u001b[0m \u001b[0;32mfrom\u001b[0m \u001b[0;32mNone\u001b[0m\u001b[0;34m\u001b[0m\u001b[0;34m\u001b[0m\u001b[0m\n\u001b[0m\u001b[1;32m    186\u001b[0m             \u001b[0;32melse\u001b[0m\u001b[0;34m:\u001b[0m\u001b[0;34m\u001b[0m\u001b[0;34m\u001b[0m\u001b[0m\n\u001b[1;32m    187\u001b[0m                 \u001b[0;32mraise\u001b[0m\u001b[0;34m\u001b[0m\u001b[0;34m\u001b[0m\u001b[0m\n",
            "\u001b[0;31mAnalysisException\u001b[0m: [TABLE_OR_VIEW_NOT_FOUND] The table or view `orders_local` cannot be found. Verify the spelling and correctness of the schema and catalog.\nIf you did not qualify the name with a schema, verify the current_schema() output, or qualify the name with the correct schema and catalog.\nTo tolerate the error on drop use DROP VIEW IF EXISTS or DROP TABLE IF EXISTS.; line 1 pos 14;\n'Project [*]\n+- 'UnresolvedRelation [orders_local], [], false\n"
          ]
        }
      ]
    },
    {
      "cell_type": "markdown",
      "source": [
        "#PART B"
      ],
      "metadata": {
        "id": "RIBkJo99h4Iw"
      }
    },
    {
      "cell_type": "markdown",
      "source": [
        "Display all \"Furniture\" orders with TotalAmount above\n",
        "10,000."
      ],
      "metadata": {
        "id": "d5iqLNYlh54R"
      }
    },
    {
      "cell_type": "code",
      "source": [
        "spark.sql(\"select *,(quantity * unitprice) as toalamount from global_temp.orders_global where category = 'furniture' and (quantity * unitprice) >1000\").show()"
      ],
      "metadata": {
        "colab": {
          "base_uri": "https://localhost:8080/"
        },
        "id": "miYJ4xndh-pG",
        "outputId": "1c8d1e6c-defc-4288-e800-ed2b941332f1"
      },
      "execution_count": 21,
      "outputs": [
        {
          "output_type": "stream",
          "name": "stdout",
          "text": [
            "+--------+-------------+-------+--------+--------+---------+---------+----------+\n",
            "|order_id|customer_name|product|category|quantity|unitprice|orderdate|toalamount|\n",
            "+--------+-------------+-------+--------+--------+---------+---------+----------+\n",
            "+--------+-------------+-------+--------+--------+---------+---------+----------+\n",
            "\n"
          ]
        }
      ]
    },
    {
      "cell_type": "markdown",
      "source": [
        "Create a column called DiscountFlag"
      ],
      "metadata": {
        "id": "xWZ9FYcunl8d"
      }
    },
    {
      "cell_type": "code",
      "source": [
        "spark.sql(\"select * , case when quantity >3 then 'yes' else 'no' end as discountflag from global_temp.orders_global   \").show()"
      ],
      "metadata": {
        "colab": {
          "base_uri": "https://localhost:8080/"
        },
        "id": "_-N4-QcQnog6",
        "outputId": "8c5bff29-85f4-44e2-c236-6b0d77c35ed8"
      },
      "execution_count": 24,
      "outputs": [
        {
          "output_type": "stream",
          "name": "stdout",
          "text": [
            "+--------+-------------+----------+-----------+--------+---------+----------+------------+\n",
            "|order_id|customer_name|   product|   category|quantity|unitprice| orderdate|discountflag|\n",
            "+--------+-------------+----------+-----------+--------+---------+----------+------------+\n",
            "|     101|         RAVI|    Laptop|Electronics|       2|    65000|2024-01-03|          no|\n",
            "|     102|        SNAHE|Smartphone|Electronics|       1|    40000|2024-01-04|          no|\n",
            "|     103|       KARTHI|    Tablet|Electronics|       3|    25000|2024-01-05|          no|\n",
            "|     104|        SHIVA|    Jacket|   Clothing|       1|     1500|2024-01-06|          no|\n",
            "|     105|         HARI|   T-shirt|   Clothing|       5|      400|2024-01-07|         yes|\n",
            "|     106|        PRIYA|     Jeans|   Clothing|       2|     1200|2024-01-08|          no|\n",
            "|     107|          DEV|     Chair|  Furniture|       4|     1100|2024-01-09|         yes|\n",
            "|     108|        ROHIT|      Desk|  Furniture|       1|     5000|2024-01-10|          no|\n",
            "|     109|       MISHRA| Bookshelf|  Furniture|       1|     4500|2024-01-11|          no|\n",
            "|     110|       SHARMA|     Novel|      Books|       2|      300|2023-01-12|          no|\n",
            "|     111|         ANIL|  Textbook|      Books|       3|      800|2023-01-13|          no|\n",
            "|     112|      KHUMBLE|    Comics|      Books|       4|      150|2024-01-14|         yes|\n",
            "+--------+-------------+----------+-----------+--------+---------+----------+------------+\n",
            "\n"
          ]
        }
      ]
    },
    {
      "cell_type": "markdown",
      "source": [
        "List customers who ordered more than 1 product type (Hint: use GROUP BY and\n",
        "HAVING)."
      ],
      "metadata": {
        "id": "-lZ02feRoqOH"
      }
    },
    {
      "cell_type": "code",
      "source": [
        "spark.sql(\"select customer_name,count(distinct product) as countt from global_temp.orders_global group by customer_name having count(distinct product) >1\").show()"
      ],
      "metadata": {
        "colab": {
          "base_uri": "https://localhost:8080/"
        },
        "id": "eV7V_Qt9otus",
        "outputId": "713af1e8-d848-4eae-ee4b-9a3f81ac9ccc"
      },
      "execution_count": 28,
      "outputs": [
        {
          "output_type": "stream",
          "name": "stdout",
          "text": [
            "+-------------+------+\n",
            "|customer_name|countt|\n",
            "+-------------+------+\n",
            "+-------------+------+\n",
            "\n"
          ]
        }
      ]
    },
    {
      "cell_type": "markdown",
      "source": [
        "Count number of orders per month across the dataset."
      ],
      "metadata": {
        "id": "ZFKR5vaNpZyg"
      }
    },
    {
      "cell_type": "code",
      "source": [
        "spark.sql(\"\"\" select YEAR(TO_DATE(orderdate, 'yyyy-MM-dd')) AS yearr, month(to_date(orderdate,'yyyy-MM-dd')) as monthh,count(*) as orders\n",
        " from global_temp.orders_global\n",
        " group by month(to_date(orderdate,'yyyy-MM-dd')) ,YEAR(TO_DATE(orderdate, 'yyyy-MM-dd'))\n",
        " order by monthh,yearr\"\"\").show()"
      ],
      "metadata": {
        "colab": {
          "base_uri": "https://localhost:8080/"
        },
        "id": "pBs6IlvyqM-V",
        "outputId": "b92c4021-e3dc-4ed3-a118-0292a4469430"
      },
      "execution_count": 37,
      "outputs": [
        {
          "output_type": "stream",
          "name": "stdout",
          "text": [
            "+-----+------+------+\n",
            "|yearr|monthh|orders|\n",
            "+-----+------+------+\n",
            "| 2023|     1|     2|\n",
            "| 2024|     1|    10|\n",
            "+-----+------+------+\n",
            "\n"
          ]
        }
      ]
    },
    {
      "cell_type": "markdown",
      "source": [
        "Rank all products by total quantity sold across all orders using a window\n",
        "function."
      ],
      "metadata": {
        "id": "N574WL-7xzvH"
      }
    },
    {
      "cell_type": "code",
      "source": [
        "from pyspark.sql.window import Window\n",
        "from pyspark.sql.functions import rank\n",
        "product_total = spark.sql(\"\"\"\n",
        "    SELECT product, SUM(quantity) AS total_qty\n",
        "    FROM global_temp.orders_global\n",
        "    GROUP BY product\n",
        "\"\"\")\n",
        "window = Window.orderBy(product_total[\"total_qty\"].desc())\n",
        "ranked = product_total.withColumn(\"rank\", rank().over(window))\n",
        "ranked.show()"
      ],
      "metadata": {
        "colab": {
          "base_uri": "https://localhost:8080/"
        },
        "id": "oNPjP6RPx4Fv",
        "outputId": "6065a796-1efb-4f3e-c57a-de1102d81867"
      },
      "execution_count": 39,
      "outputs": [
        {
          "output_type": "stream",
          "name": "stdout",
          "text": [
            "+----------+---------+----+\n",
            "|   product|total_qty|rank|\n",
            "+----------+---------+----+\n",
            "|   T-shirt|        5|   1|\n",
            "|     Chair|        4|   2|\n",
            "|    Comics|        4|   2|\n",
            "|    Tablet|        3|   4|\n",
            "|  Textbook|        3|   4|\n",
            "|    Laptop|        2|   6|\n",
            "|     Jeans|        2|   6|\n",
            "|     Novel|        2|   6|\n",
            "|    Jacket|        1|   9|\n",
            "|Smartphone|        1|   9|\n",
            "|      Desk|        1|   9|\n",
            "| Bookshelf|        1|   9|\n",
            "+----------+---------+----+\n",
            "\n"
          ]
        }
      ]
    },
    {
      "cell_type": "markdown",
      "source": [
        "Run a query using a new SparkSession and the global view."
      ],
      "metadata": {
        "id": "1e5BObraz92S"
      }
    },
    {
      "cell_type": "code",
      "source": [
        "new_spark = SparkSession.builder.appName(\"newsparksession\").getOrCreate()\n",
        "new_spark.sql(\"select * from global_temp.orders_global\").show()"
      ],
      "metadata": {
        "colab": {
          "base_uri": "https://localhost:8080/"
        },
        "id": "vSFjrbmOz-d_",
        "outputId": "816b0eeb-6458-42af-d4d1-79db737d60a2"
      },
      "execution_count": 45,
      "outputs": [
        {
          "output_type": "stream",
          "name": "stdout",
          "text": [
            "+--------+-------------+----------+-----------+--------+---------+----------+\n",
            "|order_id|customer_name|   product|   category|quantity|unitprice| orderdate|\n",
            "+--------+-------------+----------+-----------+--------+---------+----------+\n",
            "|     101|         RAVI|    Laptop|Electronics|       2|    65000|2024-01-03|\n",
            "|     102|        SNAHE|Smartphone|Electronics|       1|    40000|2024-01-04|\n",
            "|     103|       KARTHI|    Tablet|Electronics|       3|    25000|2024-01-05|\n",
            "|     104|        SHIVA|    Jacket|   Clothing|       1|     1500|2024-01-06|\n",
            "|     105|         HARI|   T-shirt|   Clothing|       5|      400|2024-01-07|\n",
            "|     106|        PRIYA|     Jeans|   Clothing|       2|     1200|2024-01-08|\n",
            "|     107|          DEV|     Chair|  Furniture|       4|     1100|2024-01-09|\n",
            "|     108|        ROHIT|      Desk|  Furniture|       1|     5000|2024-01-10|\n",
            "|     109|       MISHRA| Bookshelf|  Furniture|       1|     4500|2024-01-11|\n",
            "|     110|       SHARMA|     Novel|      Books|       2|      300|2023-01-12|\n",
            "|     111|         ANIL|  Textbook|      Books|       3|      800|2023-01-13|\n",
            "|     112|      KHUMBLE|    Comics|      Books|       4|      150|2024-01-14|\n",
            "+--------+-------------+----------+-----------+--------+---------+----------+\n",
            "\n"
          ]
        }
      ]
    },
    {
      "cell_type": "markdown",
      "source": [
        "#BONUS"
      ],
      "metadata": {
        "id": "D9gWn2h_06XH"
      }
    },
    {
      "cell_type": "markdown",
      "source": [
        "Save a filtered subset (only \"Books\" category) as a new global temp view."
      ],
      "metadata": {
        "id": "wpArKWmp08U2"
      }
    },
    {
      "cell_type": "code",
      "source": [
        "spark.sql(\"select * from global_temp.orders_global where category = 'Books'\").createOrReplaceGlobalTempView('books')"
      ],
      "metadata": {
        "id": "8HgmOies0_Hm"
      },
      "execution_count": 50,
      "outputs": []
    },
    {
      "cell_type": "code",
      "source": [
        "spark.sql(\"select * from global_temp.books\").show()"
      ],
      "metadata": {
        "colab": {
          "base_uri": "https://localhost:8080/"
        },
        "id": "IYMgxpH61dxW",
        "outputId": "cd76ee3e-de63-4dbd-d8b5-178901982788"
      },
      "execution_count": 51,
      "outputs": [
        {
          "output_type": "stream",
          "name": "stdout",
          "text": [
            "+--------+-------------+--------+--------+--------+---------+----------+\n",
            "|order_id|customer_name| product|category|quantity|unitprice| orderdate|\n",
            "+--------+-------------+--------+--------+--------+---------+----------+\n",
            "|     110|       SHARMA|   Novel|   Books|       2|      300|2023-01-12|\n",
            "|     111|         ANIL|Textbook|   Books|       3|      800|2023-01-13|\n",
            "|     112|      KHUMBLE|  Comics|   Books|       4|      150|2024-01-14|\n",
            "+--------+-------------+--------+--------+--------+---------+----------+\n",
            "\n"
          ]
        }
      ]
    },
    {
      "cell_type": "markdown",
      "source": [
        "Find the most purchased product per category."
      ],
      "metadata": {
        "id": "8JRnesAM101k"
      }
    },
    {
      "cell_type": "code",
      "source": [
        "aggr = spark.sql(\"\"\"\n",
        "select category,product,sum(quantity) as qnty\n",
        "from global_temp.orders_global\n",
        "group by category, product\"\"\")\n",
        "\n",
        "windoww = Window.partitionBy('Category').orderBy(aggr['qnty'])\n",
        "\n",
        "rankk = aggr.withColumn('rank',rank().over(windoww))\n",
        "rankk.filter('rank = 1').show()"
      ],
      "metadata": {
        "colab": {
          "base_uri": "https://localhost:8080/"
        },
        "id": "u3u__-qM13se",
        "outputId": "6910fddc-c0f4-4502-c5b5-47cf23343b62"
      },
      "execution_count": 56,
      "outputs": [
        {
          "output_type": "stream",
          "name": "stdout",
          "text": [
            "+-----------+----------+----+----+\n",
            "|   category|   product|qnty|rank|\n",
            "+-----------+----------+----+----+\n",
            "|      Books|     Novel|   2|   1|\n",
            "|   Clothing|    Jacket|   1|   1|\n",
            "|Electronics|Smartphone|   1|   1|\n",
            "|  Furniture| Bookshelf|   1|   1|\n",
            "|  Furniture|      Desk|   1|   1|\n",
            "+-----------+----------+----+----+\n",
            "\n"
          ]
        }
      ]
    },
    {
      "cell_type": "markdown",
      "source": [
        "Create a view that excludes all \"Clothing\" orders and call it\n",
        "\"filtered_orders\" ."
      ],
      "metadata": {
        "id": "9QclNdAJ3wis"
      }
    },
    {
      "cell_type": "code",
      "source": [
        "spark.sql(\"\"\"\n",
        "            select * from global_temp.orders_global\n",
        "            where Category not in (select category from global_temp.orders_global where Category = 'Clothing')\"\"\").createOrReplaceTempView('filtered_orders')"
      ],
      "metadata": {
        "id": "k2wCeAXN3ylK"
      },
      "execution_count": 57,
      "outputs": []
    },
    {
      "cell_type": "code",
      "source": [
        "spark.sql(\"select * from filtered_orders\").show()"
      ],
      "metadata": {
        "colab": {
          "base_uri": "https://localhost:8080/"
        },
        "id": "_qvkANme4Q3S",
        "outputId": "5debe956-7a3f-43d1-ddf1-f153c97efaeb"
      },
      "execution_count": 58,
      "outputs": [
        {
          "output_type": "stream",
          "name": "stdout",
          "text": [
            "+--------+-------------+----------+-----------+--------+---------+----------+\n",
            "|order_id|customer_name|   product|   category|quantity|unitprice| orderdate|\n",
            "+--------+-------------+----------+-----------+--------+---------+----------+\n",
            "|     101|         RAVI|    Laptop|Electronics|       2|    65000|2024-01-03|\n",
            "|     102|        SNAHE|Smartphone|Electronics|       1|    40000|2024-01-04|\n",
            "|     103|       KARTHI|    Tablet|Electronics|       3|    25000|2024-01-05|\n",
            "|     107|          DEV|     Chair|  Furniture|       4|     1100|2024-01-09|\n",
            "|     108|        ROHIT|      Desk|  Furniture|       1|     5000|2024-01-10|\n",
            "|     109|       MISHRA| Bookshelf|  Furniture|       1|     4500|2024-01-11|\n",
            "|     110|       SHARMA|     Novel|      Books|       2|      300|2023-01-12|\n",
            "|     111|         ANIL|  Textbook|      Books|       3|      800|2023-01-13|\n",
            "|     112|      KHUMBLE|    Comics|      Books|       4|      150|2024-01-14|\n",
            "+--------+-------------+----------+-----------+--------+---------+----------+\n",
            "\n"
          ]
        }
      ]
    }
  ]
}