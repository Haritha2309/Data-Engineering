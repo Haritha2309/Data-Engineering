{
  "nbformat": 4,
  "nbformat_minor": 0,
  "metadata": {
    "colab": {
      "provenance": []
    },
    "kernelspec": {
      "name": "python3",
      "display_name": "Python 3"
    },
    "language_info": {
      "name": "python"
    }
  },
  "cells": [
    {
      "cell_type": "code",
      "execution_count": 1,
      "metadata": {
        "colab": {
          "base_uri": "https://localhost:8080/"
        },
        "id": "R4yzbcpbpMbY",
        "outputId": "1648b2b5-38bd-4d53-9ddd-46bbf35c1887"
      },
      "outputs": [
        {
          "output_type": "stream",
          "name": "stdout",
          "text": [
            "Spark and Delta Lake are ready!\n"
          ]
        }
      ],
      "source": [
        "!pip install delta-spark==3.2.0 -q\n",
        "import pyspark\n",
        "from delta import *\n",
        "from pyspark.sql.functions import *\n",
        "\n",
        "# Create a SparkSession with Delta Lake extensions\n",
        "# The '.config(...)' lines are crucial for enabling Delta Lake's features\n",
        "builder = pyspark.sql.SparkSession.builder.appName(\"DeltaTutorial\") \\\n",
        "    .config(\"spark.sql.extensions\", \"io.delta.sql.DeltaSparkSessionExtension\") \\\n",
        "    .config(\"spark.sql.catalog.spark_catalog\", \"org.apache.spark.sql.delta.catalog.DeltaCatalog\")\n",
        "\n",
        "# Get or create the SparkSession\n",
        "spark = configure_spark_with_delta_pip(builder).getOrCreate()\n",
        "\n",
        "print(\"Spark and Delta Lake are ready!\")"
      ]
    },
    {
      "cell_type": "code",
      "source": [
        "data = {(\"amit\",28),(\"priya\",32),(\"rahul\",25)}\n",
        "df = spark.createDataFrame(data,[\"name\",\"age\"])\n",
        "df.write.format(\"delta\").saveAsTable(\"managed_people\")\n",
        "\n",
        "spark.sql(\"select * from managed_people\").show()\n",
        "\n",
        "location = spark.sql(\"describe detail managed_people\").collect()[0]['location']\n",
        "print(\"managed table location: \", location)"
      ],
      "metadata": {
        "colab": {
          "base_uri": "https://localhost:8080/"
        },
        "id": "B9K3bboCpYtH",
        "outputId": "5a968e8c-d3c5-4b5b-cdcc-2a93a618015d"
      },
      "execution_count": 2,
      "outputs": [
        {
          "output_type": "stream",
          "name": "stdout",
          "text": [
            "+-----+---+\n",
            "| name|age|\n",
            "+-----+---+\n",
            "|priya| 32|\n",
            "| amit| 28|\n",
            "|rahul| 25|\n",
            "+-----+---+\n",
            "\n",
            "managed table location:  file:/content/spark-warehouse/managed_people\n"
          ]
        }
      ]
    },
    {
      "cell_type": "code",
      "source": [
        "from google.colab import drive\n",
        "drive.mount('/content/drive')"
      ],
      "metadata": {
        "colab": {
          "base_uri": "https://localhost:8080/"
        },
        "id": "hR1eGjEPrMu7",
        "outputId": "05bb6ac4-8479-4466-fdf8-e36de9c63653"
      },
      "execution_count": 3,
      "outputs": [
        {
          "output_type": "stream",
          "name": "stdout",
          "text": [
            "Mounted at /content/drive\n"
          ]
        }
      ]
    },
    {
      "cell_type": "code",
      "source": [
        "file_path = '/content/drive/My Drive/data engineering/students.csv'\n",
        "df_csv = spark.read.option(\"header\",True).option(\"inferSchema\",True).csv(file_path)\n",
        "df_csv.show()"
      ],
      "metadata": {
        "colab": {
          "base_uri": "https://localhost:8080/"
        },
        "id": "aqfeCRYHsXO2",
        "outputId": "74712082-8231-47c8-94d9-712d1a79f846"
      },
      "execution_count": 4,
      "outputs": [
        {
          "output_type": "stream",
          "name": "stdout",
          "text": [
            "+-----+----+-------+-------+\n",
            "| Name|Math|Science|English|\n",
            "+-----+----+-------+-------+\n",
            "| Amit|  78|     85|     74|\n",
            "|Priya|  92|     89|     96|\n",
            "|Kiran|  65|     70|     60|\n",
            "|Anita|  88|     95|     90|\n",
            "| Ravi|  55|     60|     58|\n",
            "+-----+----+-------+-------+\n",
            "\n"
          ]
        }
      ]
    },
    {
      "cell_type": "code",
      "source": [
        "df_csv.write.format(\"delta\").saveAsTable(\"students_table\")\n",
        "\n",
        "spark.sql(\"select * from students_table\").show()"
      ],
      "metadata": {
        "colab": {
          "base_uri": "https://localhost:8080/"
        },
        "id": "z_0XFJYNspZC",
        "outputId": "ed01a787-fc6a-48e1-c417-d6a86ef114fe"
      },
      "execution_count": 5,
      "outputs": [
        {
          "output_type": "stream",
          "name": "stdout",
          "text": [
            "+-----+----+-------+-------+\n",
            "| Name|Math|Science|English|\n",
            "+-----+----+-------+-------+\n",
            "| Amit|  78|     85|     74|\n",
            "|Priya|  92|     89|     96|\n",
            "|Kiran|  65|     70|     60|\n",
            "|Anita|  88|     95|     90|\n",
            "| Ravi|  55|     60|     58|\n",
            "+-----+----+-------+-------+\n",
            "\n"
          ]
        }
      ]
    },
    {
      "cell_type": "code",
      "source": [
        "location = spark.sql(\"describe detail students_table\").collect()[0]['location']\n",
        "print(\"managed table location: \", location)"
      ],
      "metadata": {
        "colab": {
          "base_uri": "https://localhost:8080/"
        },
        "id": "-J71Upx6tLRs",
        "outputId": "83a3d5f4-affa-4076-95eb-a73c3104c6c5"
      },
      "execution_count": 6,
      "outputs": [
        {
          "output_type": "stream",
          "name": "stdout",
          "text": [
            "managed table location:  file:/content/spark-warehouse/students_table\n"
          ]
        }
      ]
    },
    {
      "cell_type": "code",
      "source": [
        "spark.sql(\"\"\" DROP TABLE  students_table\"\"\")"
      ],
      "metadata": {
        "colab": {
          "base_uri": "https://localhost:8080/"
        },
        "id": "XnWH64lvtZai",
        "outputId": "abea2d9c-091c-4ab0-cced-ff0379a0c433"
      },
      "execution_count": 7,
      "outputs": [
        {
          "output_type": "execute_result",
          "data": {
            "text/plain": [
              "DataFrame[]"
            ]
          },
          "metadata": {},
          "execution_count": 7
        }
      ]
    },
    {
      "cell_type": "code",
      "source": [
        "!ls \"/content/drive/My Drive/data engineering/students.csv\""
      ],
      "metadata": {
        "colab": {
          "base_uri": "https://localhost:8080/"
        },
        "id": "I7YUOuZVt0uI",
        "outputId": "29b80eb9-51a2-4f98-c722-a8bd66fdfee1"
      },
      "execution_count": 10,
      "outputs": [
        {
          "output_type": "stream",
          "name": "stdout",
          "text": [
            "'/content/drive/My Drive/data engineering/students.csv'\n"
          ]
        }
      ]
    },
    {
      "cell_type": "markdown",
      "source": [
        "THIS SHOWS THAT EVEN AFTER DROPPING TABLE. I STILL HAVE THE FILE IN GOOGLE DRIVE.!-- UNMANAGED TABLE"
      ],
      "metadata": {
        "id": "-AtRVdyZuQSt"
      }
    }
  ]
}