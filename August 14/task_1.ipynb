{
  "nbformat": 4,
  "nbformat_minor": 0,
  "metadata": {
    "colab": {
      "provenance": []
    },
    "kernelspec": {
      "name": "python3",
      "display_name": "Python 3"
    },
    "language_info": {
      "name": "python"
    }
  },
  "cells": [
    {
      "cell_type": "code",
      "execution_count": 1,
      "metadata": {
        "colab": {
          "base_uri": "https://localhost:8080/"
        },
        "id": "iU2DQZBO0QWE",
        "outputId": "c741d0de-20fb-4cf5-d4f3-eda5821fb51d"
      },
      "outputs": [
        {
          "output_type": "stream",
          "name": "stdout",
          "text": [
            "Spark and Delta Lake are ready!\n"
          ]
        }
      ],
      "source": [
        "!pip install delta-spark==3.2.0 -q\n",
        "import pyspark\n",
        "from delta import *\n",
        "from pyspark.sql.functions import *\n",
        "\n",
        "# Create a SparkSession with Delta Lake extensions\n",
        "# The '.config(...)' lines are crucial for enabling Delta Lake's features\n",
        "builder = pyspark.sql.SparkSession.builder.appName(\"DeltaTutorial\") \\\n",
        "    .config(\"spark.sql.extensions\", \"io.delta.sql.DeltaSparkSessionExtension\") \\\n",
        "    .config(\"spark.sql.catalog.spark_catalog\", \"org.apache.spark.sql.delta.catalog.DeltaCatalog\")\n",
        "\n",
        "# Get or create the SparkSession\n",
        "spark = configure_spark_with_delta_pip(builder).getOrCreate()\n",
        "\n",
        "print(\"Spark and Delta Lake are ready!\")"
      ]
    },
    {
      "cell_type": "code",
      "source": [
        "data = [\n",
        "(1, \"John\", \"Electronics\", 2, 300),\n",
        "(2, \"Sara\", \"Clothing\", 1, 50),\n",
        "(3, \"Mike\", \"Electronics\", 4, 600),\n",
        "(4, \"Nina\", \"Clothing\", 3, 150),\n",
        "]\n",
        "columns = [\"order_id\", \"customer_name\", \"category\", \"quantity\", \"amount\"]\n",
        "df = spark.createDataFrame(data, columns)\n",
        "# Save as Delta table\n",
        "df.write.format(\"delta\").mode(\"overwrite\").save(\"/tmp/orders_delta\")"
      ],
      "metadata": {
        "id": "yEnpzSLF5_T4"
      },
      "execution_count": 13,
      "outputs": []
    },
    {
      "cell_type": "markdown",
      "source": [
        "Managed vs Unmanaged Tables"
      ],
      "metadata": {
        "id": "xL1gU3ty7Hiz"
      }
    },
    {
      "cell_type": "code",
      "source": [
        "spark.sql(\"CREATE TABLE orders_managed USING DELTA LOCATION '/tmp/orders_delta'\")\n",
        "spark.sql(\"CREATE TABLE orders_unmanaged USING DELTA LOCATION '/tmp/orders_delta'\")"
      ],
      "metadata": {
        "colab": {
          "base_uri": "https://localhost:8080/"
        },
        "id": "Fey8eDcb7Ief",
        "outputId": "a0e5a644-97fe-41c4-96e6-094a4b1e5dea"
      },
      "execution_count": 16,
      "outputs": [
        {
          "output_type": "execute_result",
          "data": {
            "text/plain": [
              "DataFrame[]"
            ]
          },
          "metadata": {},
          "execution_count": 16
        }
      ]
    },
    {
      "cell_type": "code",
      "source": [
        "spark.sql(\"SHOW TABLES\").show()"
      ],
      "metadata": {
        "colab": {
          "base_uri": "https://localhost:8080/"
        },
        "id": "COfD1AaW7QAw",
        "outputId": "4eaac1ef-6899-4d81-89fe-0fe8a0056e98"
      },
      "execution_count": 17,
      "outputs": [
        {
          "output_type": "stream",
          "name": "stdout",
          "text": [
            "+---------+----------------+-----------+\n",
            "|namespace|       tableName|isTemporary|\n",
            "+---------+----------------+-----------+\n",
            "|  default|  orders_managed|      false|\n",
            "|  default|orders_unmanaged|      false|\n",
            "+---------+----------------+-----------+\n",
            "\n"
          ]
        }
      ]
    },
    {
      "cell_type": "markdown",
      "source": [
        "CRUD Operations"
      ],
      "metadata": {
        "id": "Mzl8LZzo8OP_"
      }
    },
    {
      "cell_type": "code",
      "source": [
        "# read\n",
        "orders_df = spark.read.format(\"delta\").load('/tmp/orders_delta')\n",
        "orders_df.show()"
      ],
      "metadata": {
        "colab": {
          "base_uri": "https://localhost:8080/"
        },
        "id": "oLvLhJXh7Rx9",
        "outputId": "2a8d390b-8488-41b9-a4ed-25d75e990656"
      },
      "execution_count": 18,
      "outputs": [
        {
          "output_type": "stream",
          "name": "stdout",
          "text": [
            "+--------+-------------+-----------+--------+------+\n",
            "|order_id|customer_name|   category|quantity|amount|\n",
            "+--------+-------------+-----------+--------+------+\n",
            "|       3|         Mike|Electronics|       4|   600|\n",
            "|       4|         Nina|   Clothing|       3|   150|\n",
            "|       1|         John|Electronics|       2|   300|\n",
            "|       2|         Sara|   Clothing|       1|    50|\n",
            "+--------+-------------+-----------+--------+------+\n",
            "\n"
          ]
        }
      ]
    },
    {
      "cell_type": "code",
      "source": [
        "# update\n",
        "spark.sql(\"\"\"\n",
        "UPDATE delta.`/tmp/orders_delta`\n",
        "SET amount = amount + 20\n",
        "WHERE category = 'Clothing'\n",
        "\"\"\")\n",
        "spark.read.format(\"delta\").load(\"/tmp/orders_delta\").show()"
      ],
      "metadata": {
        "colab": {
          "base_uri": "https://localhost:8080/"
        },
        "id": "7G6op__p84yr",
        "outputId": "36f40975-4939-464c-8fe2-43da31605650"
      },
      "execution_count": 19,
      "outputs": [
        {
          "output_type": "stream",
          "name": "stdout",
          "text": [
            "+--------+-------------+-----------+--------+------+\n",
            "|order_id|customer_name|   category|quantity|amount|\n",
            "+--------+-------------+-----------+--------+------+\n",
            "|       3|         Mike|Electronics|       4|   600|\n",
            "|       4|         Nina|   Clothing|       3|   170|\n",
            "|       1|         John|Electronics|       2|   300|\n",
            "|       2|         Sara|   Clothing|       1|    70|\n",
            "+--------+-------------+-----------+--------+------+\n",
            "\n"
          ]
        }
      ]
    },
    {
      "cell_type": "code",
      "source": [
        "# delete\n",
        "spark.sql(\"\"\"\n",
        "delete from delta.`/tmp/orders_delta`\n",
        "where quantity < 2\"\"\")\n",
        "spark.read.format(\"delta\").load(\"/tmp/orders_delta\").show()"
      ],
      "metadata": {
        "colab": {
          "base_uri": "https://localhost:8080/"
        },
        "id": "f8Rfcq-Z9WSV",
        "outputId": "690b49cc-1675-481e-8b50-dda9def7b5da"
      },
      "execution_count": 24,
      "outputs": [
        {
          "output_type": "stream",
          "name": "stdout",
          "text": [
            "+--------+-------------+-----------+--------+------+\n",
            "|order_id|customer_name|   category|quantity|amount|\n",
            "+--------+-------------+-----------+--------+------+\n",
            "|       1|         John|Electronics|       2|   300|\n",
            "|       3|         Mike|Electronics|       4|   600|\n",
            "|       4|         Nina|   Clothing|       3|   170|\n",
            "+--------+-------------+-----------+--------+------+\n",
            "\n"
          ]
        }
      ]
    },
    {
      "cell_type": "code",
      "source": [
        "from delta.tables import DeltaTable\n",
        "\n",
        "delta_table = DeltaTable.forPath(spark, \"/tmp/orders_delta\")\n",
        "\n",
        "new_data = [\n",
        "    (2, \"Sara\", \"Clothing\", 1, 120),\n",
        "    (5, \"Alex\", \"Electronics\", 1, 200)\n",
        "]\n",
        "new_df = spark.createDataFrame(new_data, columns)\n",
        "\n",
        "delta_table.alias(\"t\").merge(\n",
        "    new_df.alias(\"s\"),\n",
        "    \"t.order_id = s.order_id\"\n",
        ").whenMatchedUpdateAll() \\\n",
        " .whenNotMatchedInsertAll() \\\n",
        " .execute()\n",
        "\n",
        "spark.read.format(\"delta\").load(\"/tmp/orders_delta\").show()"
      ],
      "metadata": {
        "colab": {
          "base_uri": "https://localhost:8080/"
        },
        "id": "wXhXtqFP-9dq",
        "outputId": "c3ce07d3-5a61-4e7d-f9e1-7df03e5597cc"
      },
      "execution_count": 26,
      "outputs": [
        {
          "output_type": "stream",
          "name": "stdout",
          "text": [
            "+--------+-------------+-----------+--------+------+\n",
            "|order_id|customer_name|   category|quantity|amount|\n",
            "+--------+-------------+-----------+--------+------+\n",
            "|       2|         Sara|   Clothing|       1|   120|\n",
            "|       5|         Alex|Electronics|       1|   200|\n",
            "|       1|         John|Electronics|       2|   300|\n",
            "|       3|         Mike|Electronics|       4|   600|\n",
            "|       4|         Nina|   Clothing|       3|   170|\n",
            "+--------+-------------+-----------+--------+------+\n",
            "\n"
          ]
        }
      ]
    },
    {
      "cell_type": "markdown",
      "source": [
        "History & Time Travel"
      ],
      "metadata": {
        "id": "A5AYvLARDcK8"
      }
    },
    {
      "cell_type": "code",
      "source": [
        "# History\n",
        "spark.sql(\"describe history delta.`/tmp/orders_delta`\").show()\n",
        "\n",
        "# version 0\n",
        "version0 = spark.read.format(\"delta\").option(\"versionAsOf\",0).load(\"/tmp/orders_delta\")\n",
        "version0.show()\n",
        "\n",
        "# latest\n",
        "latest =spark.read.format(\"delta\").load(\"/tmp/orders_delta\")\n",
        "latest.show()"
      ],
      "metadata": {
        "colab": {
          "base_uri": "https://localhost:8080/"
        },
        "id": "gPpPC0nF_IYY",
        "outputId": "b08d1e41-955d-4543-a0bb-9600a8f82f33"
      },
      "execution_count": 27,
      "outputs": [
        {
          "output_type": "stream",
          "name": "stdout",
          "text": [
            "+-------+--------------------+------+--------+---------+--------------------+----+--------+---------+-----------+--------------+-------------+--------------------+------------+--------------------+\n",
            "|version|           timestamp|userId|userName|operation| operationParameters| job|notebook|clusterId|readVersion|isolationLevel|isBlindAppend|    operationMetrics|userMetadata|          engineInfo|\n",
            "+-------+--------------------+------+--------+---------+--------------------+----+--------+---------+-----------+--------------+-------------+--------------------+------------+--------------------+\n",
            "|      7|2025-08-14 05:29:...|  NULL|    NULL|    MERGE|{predicate -> [\"(...|NULL|    NULL|     NULL|          6|  Serializable|        false|{numTargetRowsCop...|        NULL|Apache-Spark/3.5....|\n",
            "|      6|2025-08-14 05:28:...|  NULL|    NULL|    MERGE|{predicate -> [\"(...|NULL|    NULL|     NULL|          5|  Serializable|        false|{numTargetRowsCop...|        NULL|Apache-Spark/3.5....|\n",
            "|      5|2025-08-14 05:09:...|  NULL|    NULL|   DELETE|{predicate -> [\"(...|NULL|    NULL|     NULL|          4|  Serializable|        false|{numRemovedFiles ...|        NULL|Apache-Spark/3.5....|\n",
            "|      4|2025-08-14 05:08:...|  NULL|    NULL|   UPDATE|{predicate -> [\"(...|NULL|    NULL|     NULL|          3|  Serializable|        false|{numRemovedFiles ...|        NULL|Apache-Spark/3.5....|\n",
            "|      3|2025-08-14 05:07:...|  NULL|    NULL|    WRITE|{mode -> Overwrit...|NULL|    NULL|     NULL|          2|  Serializable|        false|{numFiles -> 2, n...|        NULL|Apache-Spark/3.5....|\n",
            "|      2|2025-08-14 05:06:...|  NULL|    NULL|   UPDATE|{predicate -> [\"(...|NULL|    NULL|     NULL|          1|  Serializable|        false|{numRemovedFiles ...|        NULL|Apache-Spark/3.5....|\n",
            "|      1|2025-08-14 05:05:...|  NULL|    NULL|   UPDATE|{predicate -> [\"(...|NULL|    NULL|     NULL|          0|  Serializable|        false|{numRemovedFiles ...|        NULL|Apache-Spark/3.5....|\n",
            "|      0|2025-08-14 04:48:...|  NULL|    NULL|    WRITE|{mode -> Overwrit...|NULL|    NULL|     NULL|       NULL|  Serializable|        false|{numFiles -> 2, n...|        NULL|Apache-Spark/3.5....|\n",
            "+-------+--------------------+------+--------+---------+--------------------+----+--------+---------+-----------+--------------+-------------+--------------------+------------+--------------------+\n",
            "\n",
            "+--------+-------------+-----------+--------+------+\n",
            "|order_id|customer_name|   category|quantity|amount|\n",
            "+--------+-------------+-----------+--------+------+\n",
            "|       3|         Mike|Electronics|       4|   600|\n",
            "|       4|         Nina|   Clothing|       3|   150|\n",
            "|       1|         John|Electronics|       2|   300|\n",
            "|       2|         Sara|   Clothing|       1|    50|\n",
            "+--------+-------------+-----------+--------+------+\n",
            "\n",
            "+--------+-------------+-----------+--------+------+\n",
            "|order_id|customer_name|   category|quantity|amount|\n",
            "+--------+-------------+-----------+--------+------+\n",
            "|       2|         Sara|   Clothing|       1|   120|\n",
            "|       5|         Alex|Electronics|       1|   200|\n",
            "|       1|         John|Electronics|       2|   300|\n",
            "|       3|         Mike|Electronics|       4|   600|\n",
            "|       4|         Nina|   Clothing|       3|   170|\n",
            "+--------+-------------+-----------+--------+------+\n",
            "\n"
          ]
        }
      ]
    },
    {
      "cell_type": "markdown",
      "source": [
        "Incremental Load Pattern"
      ],
      "metadata": {
        "id": "PjzILOSDEUtn"
      }
    },
    {
      "cell_type": "code",
      "source": [
        "# mini batch\n",
        "new = [\n",
        "    (6,\"Tom\",\"Clothing\",2,80),\n",
        "    (7,\"Emma\",\"Electronics\",3,450)\n",
        "    ]\n",
        "batch = spark.createDataFrame(new,columns)\n",
        "\n",
        "# append\n",
        "batch.write.format(\"delta\").mode(\"append\").save('/tmp/orders_delta')\n",
        "\n",
        "# final result\n",
        "spark.read.format(\"delta\").load('/tmp/orders_delta').show()"
      ],
      "metadata": {
        "colab": {
          "base_uri": "https://localhost:8080/"
        },
        "id": "UgUe8N_gEHB4",
        "outputId": "7064f856-3b57-4be9-ee24-4969cb965976"
      },
      "execution_count": 29,
      "outputs": [
        {
          "output_type": "stream",
          "name": "stdout",
          "text": [
            "+--------+-------------+-----------+--------+------+\n",
            "|order_id|customer_name|   category|quantity|amount|\n",
            "+--------+-------------+-----------+--------+------+\n",
            "|       2|         Sara|   Clothing|       1|   120|\n",
            "|       5|         Alex|Electronics|       1|   200|\n",
            "|       7|         Emma|Electronics|       3|   450|\n",
            "|       1|         John|Electronics|       2|   300|\n",
            "|       3|         Mike|Electronics|       4|   600|\n",
            "|       4|         Nina|   Clothing|       3|   170|\n",
            "|       6|          Tom|   Clothing|       2|    80|\n",
            "+--------+-------------+-----------+--------+------+\n",
            "\n"
          ]
        }
      ]
    },
    {
      "cell_type": "markdown",
      "source": [
        "Simple Streaming Read"
      ],
      "metadata": {
        "id": "TgedS0HfI6a5"
      }
    },
    {
      "cell_type": "code",
      "source": [
        "stream_df = (\n",
        "    spark.readStream.format(\"delta\")\n",
        "    .load(\"/tmp/orders_delta\")\n",
        ")\n",
        "\n",
        "query = (\n",
        "    stream_df.writeStream\n",
        "    .outputMode(\"append\")\n",
        "    .format(\"console\")\n",
        "    .trigger(processingTime=\"5 seconds\")\n",
        "    .start()\n",
        ")"
      ],
      "metadata": {
        "id": "asK4gdSQEhkY"
      },
      "execution_count": 30,
      "outputs": []
    },
    {
      "cell_type": "markdown",
      "source": [
        "Visualization"
      ],
      "metadata": {
        "id": "O95_o8DkJI_p"
      }
    },
    {
      "cell_type": "code",
      "source": [
        "import pandas as pd\n",
        "import matplotlib.pyplot as plt\n",
        "from pyspark.sql.functions import sum\n",
        "\n",
        "cat_df = (\n",
        "    spark.read.format(\"delta\").load(\"/tmp/orders_delta\")\n",
        "    .groupBy(\"category\")\n",
        "    .agg(sum(\"amount\").alias(\"total_amount\"))\n",
        "    .toPandas()\n",
        ")\n",
        "plt.figure(figsize=(5,3))\n",
        "plt.barh(cat_df[\"category\"], cat_df[\"total_amount\"], color=['pink', 'lightblue'])\n",
        "plt.xlabel(\"Category\")\n",
        "plt.ylabel(\"Total Amount\")\n",
        "plt.title(\"Category vs Total Amount\")\n",
        "plt.show()\n"
      ],
      "metadata": {
        "colab": {
          "base_uri": "https://localhost:8080/",
          "height": 333
        },
        "id": "wuRRo6vNJJm1",
        "outputId": "43854f48-1af4-4f9b-e8df-02446fe88ab2"
      },
      "execution_count": 34,
      "outputs": [
        {
          "output_type": "display_data",
          "data": {
            "text/plain": [
              "<Figure size 500x300 with 1 Axes>"
            ],
            "image/png": "[encoded data removed]"
          },
          "metadata": {}
        }
      ]
    }
  ]
}