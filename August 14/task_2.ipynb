{
  "nbformat": 4,
  "nbformat_minor": 0,
  "metadata": {
    "colab": {
      "provenance": []
    },
    "kernelspec": {
      "name": "python3",
      "display_name": "Python 3"
    },
    "language_info": {
      "name": "python"
    }
  },
  "cells": [
    {
      "cell_type": "code",
      "execution_count": 61,
      "metadata": {
        "colab": {
          "base_uri": "https://localhost:8080/"
        },
        "id": "ZcFTLUMjROs_",
        "outputId": "a6364849-029f-4a89-bb8e-fcbf551bffb9"
      },
      "outputs": [
        {
          "output_type": "stream",
          "name": "stdout",
          "text": [
            "Spark and Delta Lake are ready!\n"
          ]
        }
      ],
      "source": [
        "!pip install delta-spark==3.2.0 -q\n",
        "import pyspark\n",
        "from delta import *\n",
        "from pyspark.sql.functions import *\n",
        "\n",
        "# Create a SparkSession with Delta Lake extensions\n",
        "# The '.config(...)' lines are crucial for enabling Delta Lake's features\n",
        "builder = pyspark.sql.SparkSession.builder.appName(\"DeltaTutorial\") \\\n",
        "    .config(\"spark.sql.extensions\", \"io.delta.sql.DeltaSparkSessionExtension\") \\\n",
        "    .config(\"spark.sql.catalog.spark_catalog\", \"org.apache.spark.sql.delta.catalog.DeltaCatalog\")\n",
        "\n",
        "# Get or create the SparkSession\n",
        "spark = configure_spark_with_delta_pip(builder).getOrCreate()\n",
        "\n",
        "print(\"Spark and Delta Lake are ready!\")"
      ]
    },
    {
      "cell_type": "code",
      "source": [
        "from pyspark.sql import SparkSession\n",
        "from delta import configure_spark_with_delta_pip\n",
        "from pyspark.sql import functions as F, types as T\n",
        "import datetime\n",
        "\n",
        "trip_schema = T.StructType([\n",
        "    T.StructField(\"trip_id\", T.IntegerType()),\n",
        "    T.StructField(\"rider_id\", T.StringType()),\n",
        "    T.StructField(\"driver_id\", T.StringType()),\n",
        "    T.StructField(\"city\", T.StringType()),\n",
        "    T.StructField(\"distance_km\", T.DoubleType()),\n",
        "    T.StructField(\"fare\", T.DoubleType()),\n",
        "    T.StructField(\"tip\", T.DoubleType()),\n",
        "    T.StructField(\"ts\", T.TimestampType())\n",
        "])\n",
        "\n",
        "driver_schema = T.StructType([\n",
        "    T.StructField(\"driver_id\", T.StringType()),\n",
        "    T.StructField(\"driver_name\", T.StringType()),\n",
        "    T.StructField(\"rating\", T.DoubleType()),\n",
        "    T.StructField(\"vehicle\", T.StringType())\n",
        "])\n",
        "\n",
        "trips_rows = [\n",
        "    (1001, \"R001\", \"D010\", \"Bengaluru\", 12.4, 320.0, 20.0, datetime.datetime(2025, 8, 8, 8, 5)),\n",
        "    (1002, \"R002\", \"D011\", \"Hyderabad\", 6.2, 150.0, 10.0, datetime.datetime(2025, 8, 8, 8, 15)),\n",
        "    (1003, \"R003\", \"D012\", \"Pune\", 3.5, 90.0, 0.0, datetime.datetime(2025, 8, 8, 8, 20)),\n",
        "    (1004, \"R001\", \"D010\", \"Bengaluru\", 18.9, 480.0, 25.0, datetime.datetime(2025, 8, 8, 8, 45)),\n",
        "    (1005, \"R004\", \"D013\", \"Chennai\", 10.0, 260.0, 15.0, datetime.datetime(2025, 8, 8, 9, 5)),\n",
        "    (1006, \"R005\", \"D012\", \"Pune\", 2.2, 70.0, 0.0, datetime.datetime(2025, 8, 8, 9, 10)),\n",
        "]\n",
        "\n",
        "drivers_rows = [\n",
        "    (\"D010\", \"Anil\", 4.8, \"WagonR\"),\n",
        "    (\"D011\", \"Sana\", 4.6, \"i20\"),\n",
        "    (\"D012\", \"Rakesh\", 4.4, \"Swift\"),\n",
        "    (\"D013\", \"Meera\", 4.9, \"Ciaz\"),\n",
        "]\n",
        "\n",
        "trips_df = spark.createDataFrame(trips_rows, schema=trip_schema)\n",
        "drivers_df = spark.createDataFrame(drivers_rows, schema=driver_schema)\n",
        "\n",
        "BASE = \"/tmp/delta/ride_hailing\"\n",
        "TRIPS_PATH = f\"{BASE}/trips\"\n",
        "DRIVERS_PATH = f\"{BASE}/drivers\"\n",
        "\n",
        "trips_df.write.format(\"delta\").mode(\"overwrite\").save(TRIPS_PATH)\n",
        "drivers_df.write.format(\"delta\").mode(\"overwrite\").save(DRIVERS_PATH)\n",
        "\n",
        "print(\"Seeded data paths:\")\n",
        "print(\"Trips ->\", TRIPS_PATH)\n",
        "print(\"Drivers ->\", DRIVERS_PATH)\n"
      ],
      "metadata": {
        "colab": {
          "base_uri": "https://localhost:8080/"
        },
        "id": "gHsTUGA9RoZ4",
        "outputId": "0b90a780-8295-4a0b-84d6-8abb8510d657"
      },
      "execution_count": 62,
      "outputs": [
        {
          "output_type": "stream",
          "name": "stdout",
          "text": [
            "Seeded data paths:\n",
            "Trips -> /tmp/delta/ride_hailing/trips\n",
            "Drivers -> /tmp/delta/ride_hailing/drivers\n"
          ]
        }
      ]
    },
    {
      "cell_type": "markdown",
      "source": [
        "Managed vs Unmanaged Tables"
      ],
      "metadata": {
        "id": "nVqT-ljRTeFZ"
      }
    },
    {
      "cell_type": "code",
      "source": [
        "# managed table\n",
        "spark.sql(f\"\"\"\n",
        "CREATE TABLE IF NOT EXISTS trips_managed\n",
        "USING DELTA\n",
        "AS SELECT * FROM delta.`{TRIPS_PATH}`\n",
        "\"\"\")\n",
        "\n",
        "# unmanaged table\n",
        "spark.sql(f\"\"\"\n",
        "CREATE TABLE IF NOT EXISTS drivers_ext\n",
        "USING DELTA\n",
        "LOCATION '{DRIVERS_PATH}'\n",
        "\"\"\")\n",
        "\n",
        "# Verify locations\n",
        "print(\"Managed table location:\")\n",
        "spark.sql(\"DESCRIBE DETAIL trips_managed\").show(truncate=False)\n",
        "\n",
        "print(\"Unmanaged  table location:\")\n",
        "spark.sql(\"DESCRIBE DETAIL drivers_ext\").show(truncate=False)\n"
      ],
      "metadata": {
        "colab": {
          "base_uri": "https://localhost:8080/"
        },
        "id": "woA5nNMSThfW",
        "outputId": "e475bf91-c805-4e43-f52a-d99f9d07f95d"
      },
      "execution_count": 63,
      "outputs": [
        {
          "output_type": "stream",
          "name": "stdout",
          "text": [
            "Managed table location:\n",
            "+------+------------------------------------+-----------------------------------+-----------+-------------------------------------------+-----------------------+-----------------------+----------------+-----------------+--------+-----------+----------+----------------+----------------+------------------------+\n",
            "|format|id                                  |name                               |description|location                                   |createdAt              |lastModified           |partitionColumns|clusteringColumns|numFiles|sizeInBytes|properties|minReaderVersion|minWriterVersion|tableFeatures           |\n",
            "+------+------------------------------------+-----------------------------------+-----------+-------------------------------------------+-----------------------+-----------------------+----------------+-----------------+--------+-----------+----------+----------------+----------------+------------------------+\n",
            "|delta |9b05974f-e6d2-4e56-96a3-2aa8192b5780|spark_catalog.default.trips_managed|NULL       |file:/content/spark-warehouse/trips_managed|2025-08-14 10:26:49.496|2025-08-14 10:26:59.536|[]              |[]               |2       |4536       |{}        |1               |2               |[appendOnly, invariants]|\n",
            "+------+------------------------------------+-----------------------------------+-----------+-------------------------------------------+-----------------------+-----------------------+----------------+-----------------+--------+-----------+----------+----------------+----------------+------------------------+\n",
            "\n",
            "Unmanaged  table location:\n",
            "+------+------------------------------------+---------------------------------+-----------+------------------------------------+-----------------------+-----------------------+----------------+-----------------+--------+-----------+----------+----------------+----------------+------------------------+\n",
            "|format|id                                  |name                             |description|location                            |createdAt              |lastModified           |partitionColumns|clusteringColumns|numFiles|sizeInBytes|properties|minReaderVersion|minWriterVersion|tableFeatures           |\n",
            "+------+------------------------------------+---------------------------------+-----------+------------------------------------+-----------------------+-----------------------+----------------+-----------------+--------+-----------+----------+----------------+----------------+------------------------+\n",
            "|delta |d7ee4a3a-ff06-481e-830f-b0bab133c70a|spark_catalog.default.drivers_ext|NULL       |file:/tmp/delta/ride_hailing/drivers|2025-08-14 06:37:57.102|2025-08-14 10:26:45.189|[]              |[]               |2       |2481       |{}        |1               |2               |[appendOnly, invariants]|\n",
            "+------+------------------------------------+---------------------------------+-----------+------------------------------------+-----------------------+-----------------------+----------------+-----------------+--------+-----------+----------+----------------+----------------+------------------------+\n",
            "\n"
          ]
        }
      ]
    },
    {
      "cell_type": "markdown",
      "source": [
        "Read & Explore"
      ],
      "metadata": {
        "id": "l2XV-eU1UMQ9"
      }
    },
    {
      "cell_type": "code",
      "source": [
        "from pyspark.sql.functions import col, expr\n",
        "\n",
        "# Read both tables\n",
        "trips_df = spark.sql(\"SELECT * FROM trips_managed\")\n",
        "drivers_df = spark.sql(\"SELECT * FROM drivers_ext\")\n",
        "\n",
        "# Print schemas\n",
        "print(\"Trips schema:\")\n",
        "trips_df.printSchema()\n",
        "\n",
        "print(\"Drivers schema:\")\n",
        "drivers_df.printSchema()\n",
        "\n",
        "# Show 10 rows from each\n",
        "print(\"Trips table sample:\")\n",
        "trips_df.show(10, truncate=False)\n",
        "\n",
        "print(\"Drivers table sample:\")\n",
        "drivers_df.show(10, truncate=False)\n",
        "\n",
        "# Compute derived column: total_amount = fare + tip\n",
        "trips_with_amt = trips_df.withColumn(\"total_amount\", col(\"fare\") + col(\"tip\"))\n",
        "\n",
        "# Show top 5 trips by total_amount\n",
        "print(\"Top 5 trips by total amount:\")\n",
        "trips_with_amt.orderBy(col(\"total_amount\").desc()).show(5, truncate=False)\n"
      ],
      "metadata": {
        "colab": {
          "base_uri": "https://localhost:8080/"
        },
        "id": "rVzmNgpEUN8c",
        "outputId": "122426e9-54e2-4169-dea8-be1ebc02322a"
      },
      "execution_count": 64,
      "outputs": [
        {
          "output_type": "stream",
          "name": "stdout",
          "text": [
            "Trips schema:\n",
            "root\n",
            " |-- trip_id: integer (nullable = true)\n",
            " |-- rider_id: string (nullable = true)\n",
            " |-- driver_id: string (nullable = true)\n",
            " |-- city: string (nullable = true)\n",
            " |-- distance_km: double (nullable = true)\n",
            " |-- fare: double (nullable = true)\n",
            " |-- tip: double (nullable = true)\n",
            " |-- ts: timestamp (nullable = true)\n",
            "\n",
            "Drivers schema:\n",
            "root\n",
            " |-- driver_id: string (nullable = true)\n",
            " |-- driver_name: string (nullable = true)\n",
            " |-- rating: double (nullable = true)\n",
            " |-- vehicle: string (nullable = true)\n",
            "\n",
            "Trips table sample:\n",
            "+-------+--------+---------+---------+-----------+-----+----+-------------------+\n",
            "|trip_id|rider_id|driver_id|city     |distance_km|fare |tip |ts                 |\n",
            "+-------+--------+---------+---------+-----------+-----+----+-------------------+\n",
            "|1001   |R001    |D010     |Bengaluru|12.4       |320.0|20.0|2025-08-08 08:05:00|\n",
            "|1002   |R002    |D011     |Hyderabad|6.2        |150.0|10.0|2025-08-08 08:15:00|\n",
            "|1003   |R003    |D012     |Pune     |3.5        |90.0 |0.0 |2025-08-08 08:20:00|\n",
            "|1004   |R001    |D010     |Bengaluru|18.9       |480.0|25.0|2025-08-08 08:45:00|\n",
            "|1005   |R004    |D013     |Chennai  |10.0       |260.0|15.0|2025-08-08 09:05:00|\n",
            "|1006   |R005    |D012     |Pune     |2.2        |70.0 |0.0 |2025-08-08 09:10:00|\n",
            "+-------+--------+---------+---------+-----------+-----+----+-------------------+\n",
            "\n",
            "Drivers table sample:\n",
            "+---------+-----------+------+-------+\n",
            "|driver_id|driver_name|rating|vehicle|\n",
            "+---------+-----------+------+-------+\n",
            "|D012     |Rakesh     |4.4   |Swift  |\n",
            "|D013     |Meera      |4.9   |Ciaz   |\n",
            "|D010     |Anil       |4.8   |WagonR |\n",
            "|D011     |Sana       |4.6   |i20    |\n",
            "+---------+-----------+------+-------+\n",
            "\n",
            "Top 5 trips by total amount:\n",
            "+-------+--------+---------+---------+-----------+-----+----+-------------------+------------+\n",
            "|trip_id|rider_id|driver_id|city     |distance_km|fare |tip |ts                 |total_amount|\n",
            "+-------+--------+---------+---------+-----------+-----+----+-------------------+------------+\n",
            "|1004   |R001    |D010     |Bengaluru|18.9       |480.0|25.0|2025-08-08 08:45:00|505.0       |\n",
            "|1001   |R001    |D010     |Bengaluru|12.4       |320.0|20.0|2025-08-08 08:05:00|340.0       |\n",
            "|1005   |R004    |D013     |Chennai  |10.0       |260.0|15.0|2025-08-08 09:05:00|275.0       |\n",
            "|1002   |R002    |D011     |Hyderabad|6.2        |150.0|10.0|2025-08-08 08:15:00|160.0       |\n",
            "|1003   |R003    |D012     |Pune     |3.5        |90.0 |0.0 |2025-08-08 08:20:00|90.0        |\n",
            "+-------+--------+---------+---------+-----------+-----+----+-------------------+------------+\n",
            "only showing top 5 rows\n",
            "\n"
          ]
        }
      ]
    },
    {
      "cell_type": "markdown",
      "source": [
        "Update (Business Rule)"
      ],
      "metadata": {
        "id": "RUocK-CUVCXf"
      }
    },
    {
      "cell_type": "code",
      "source": [
        "# before update\n",
        "print(\"BEFORE UPDATE\")\n",
        "spark.sql(\"\"\"\n",
        "select city, tip,distance_km\n",
        "from trips_managed\n",
        "where city = 'Bengaluru' \"\"\").show()\n",
        "\n",
        "# update\n",
        "spark.sql(\"\"\"\n",
        "update trips_managed\n",
        "set tip = tip + 5\n",
        "where city = 'Bengaluru' and distance_km >15\"\"\")\n",
        "\n",
        "# after update\n",
        "print(\"AFTER UPDATE\")\n",
        "spark.sql(\"\"\"\n",
        "select city, tip,distance_km\n",
        "from trips_managed\n",
        "where city = 'Bengaluru' \"\"\").show()"
      ],
      "metadata": {
        "colab": {
          "base_uri": "https://localhost:8080/"
        },
        "id": "eQPqxDpKVDCW",
        "outputId": "8d6c1d51-6825-49ed-d804-696c9c107a31"
      },
      "execution_count": 65,
      "outputs": [
        {
          "output_type": "stream",
          "name": "stdout",
          "text": [
            "BEFORE UPDATE\n",
            "+---------+----+-----------+\n",
            "|     city| tip|distance_km|\n",
            "+---------+----+-----------+\n",
            "|Bengaluru|20.0|       12.4|\n",
            "|Bengaluru|25.0|       18.9|\n",
            "+---------+----+-----------+\n",
            "\n",
            "AFTER UPDATE\n",
            "+---------+----+-----------+\n",
            "|     city| tip|distance_km|\n",
            "+---------+----+-----------+\n",
            "|Bengaluru|20.0|       12.4|\n",
            "|Bengaluru|30.0|       18.9|\n",
            "+---------+----+-----------+\n",
            "\n"
          ]
        }
      ]
    },
    {
      "cell_type": "markdown",
      "source": [
        "Delete (Data Quality)"
      ],
      "metadata": {
        "id": "3DslHOzqXxpb"
      }
    },
    {
      "cell_type": "code",
      "source": [
        "spark.sql(\"\"\"\n",
        "delete from trips_managed\n",
        "where fare <=0 or distance_km <=0 \"\"\")\n",
        "\n",
        "print(\"AFTER DELETION\")\n",
        "spark.sql(\"\"\"\n",
        "select count(*) as total_rows\n",
        "from trips_managed\"\"\").show()"
      ],
      "metadata": {
        "colab": {
          "base_uri": "https://localhost:8080/"
        },
        "id": "PuqD9EymX0Rs",
        "outputId": "ca112895-7293-4ab5-cc24-f6aeaf8ecf17"
      },
      "execution_count": 66,
      "outputs": [
        {
          "output_type": "stream",
          "name": "stdout",
          "text": [
            "AFTER DELETION\n",
            "+----------+\n",
            "|total_rows|\n",
            "+----------+\n",
            "|         6|\n",
            "+----------+\n",
            "\n"
          ]
        }
      ]
    },
    {
      "cell_type": "markdown",
      "source": [
        "Merge (Upsert New Batch)"
      ],
      "metadata": {
        "id": "28oM90yWfj9s"
      }
    },
    {
      "cell_type": "code",
      "source": [
        "\n",
        "from delta.tables import DeltaTable\n",
        "new_data = [\n",
        "    (1004, \"R001\", \"D010\", \"Bengaluru\", 18.9, 500.0, 35.0, datetime.datetime(2025, 8, 8, 8, 45)),\n",
        "    (1007, \"R006\", \"D011\", \"Hyderabad\", 7.5, 200.0, 12.0, datetime.datetime(2025, 8, 8, 10, 0))\n",
        "]\n",
        "\n",
        "new_batch_df = spark.createDataFrame(new_data, schema=trip_schema)\n",
        "\n",
        "trips_delta = DeltaTable.forName(spark, \"trips_managed\")\n",
        "\n",
        "(\n",
        "    trips_delta.alias(\"t\")\n",
        "    .merge(\n",
        "        new_batch_df.alias(\"n\"),\n",
        "        \"t.trip_id = n.trip_id\"\n",
        "    )\n",
        "    .whenMatchedUpdateAll()\n",
        "    .whenNotMatchedInsertAll()\n",
        "    .execute()\n",
        ")\n",
        "\n",
        "print(\"VERIFICATION\")\n",
        "spark.sql(\"\"\"\n",
        "    SELECT *\n",
        "    FROM trips_managed\n",
        "    WHERE trip_id IN (1004, 1007)\n",
        "\"\"\").show(truncate=False)\n",
        "\n"
      ],
      "metadata": {
        "colab": {
          "base_uri": "https://localhost:8080/"
        },
        "id": "n_CffXx2inmJ",
        "outputId": "ea0950d3-20d4-4a3f-c89c-78669ed3905c"
      },
      "execution_count": 67,
      "outputs": [
        {
          "output_type": "stream",
          "name": "stdout",
          "text": [
            "VERIFICATION\n",
            "+-------+--------+---------+---------+-----------+-----+----+-------------------+\n",
            "|trip_id|rider_id|driver_id|city     |distance_km|fare |tip |ts                 |\n",
            "+-------+--------+---------+---------+-----------+-----+----+-------------------+\n",
            "|1004   |R001    |D010     |Bengaluru|18.9       |500.0|35.0|2025-08-08 08:45:00|\n",
            "|1007   |R006    |D011     |Hyderabad|7.5        |200.0|12.0|2025-08-08 10:00:00|\n",
            "+-------+--------+---------+---------+-----------+-----+----+-------------------+\n",
            "\n"
          ]
        }
      ]
    },
    {
      "cell_type": "markdown",
      "source": [
        "Gold View (Join & KPIs)"
      ],
      "metadata": {
        "id": "-w3yB6ugjWE_"
      }
    },
    {
      "cell_type": "code",
      "source": [
        "# join\n",
        "gold_df = spark.sql(\"\"\"\n",
        "    SELECT\n",
        "        t.trip_id,\n",
        "        t.city,\n",
        "        d.driver_name,\n",
        "        d.rating,\n",
        "        t.distance_km,\n",
        "        (t.fare + t.tip) AS total_amount,\n",
        "        t.ts\n",
        "    FROM trips_managed t\n",
        "    JOIN drivers_ext d\n",
        "    ON t.driver_id = d.driver_id\n",
        "\"\"\")\n",
        "\n",
        "# gold view\n",
        "gold_df.createOrReplaceTempView(\"gold_view\")\n",
        "\n",
        "spark.sql(\"\"\"\n",
        "select * from gold_view\"\"\").show()"
      ],
      "metadata": {
        "colab": {
          "base_uri": "https://localhost:8080/"
        },
        "id": "TxMq6dgbjYx6",
        "outputId": "3757d0b6-da8c-4ae6-977b-ca5687444425"
      },
      "execution_count": 68,
      "outputs": [
        {
          "output_type": "stream",
          "name": "stdout",
          "text": [
            "+-------+---------+-----------+------+-----------+------------+-------------------+\n",
            "|trip_id|     city|driver_name|rating|distance_km|total_amount|                 ts|\n",
            "+-------+---------+-----------+------+-----------+------------+-------------------+\n",
            "|   1004|Bengaluru|       Anil|   4.8|       18.9|       535.0|2025-08-08 08:45:00|\n",
            "|   1005|  Chennai|      Meera|   4.9|       10.0|       275.0|2025-08-08 09:05:00|\n",
            "|   1006|     Pune|     Rakesh|   4.4|        2.2|        70.0|2025-08-08 09:10:00|\n",
            "|   1007|Hyderabad|       Sana|   4.6|        7.5|       212.0|2025-08-08 10:00:00|\n",
            "|   1001|Bengaluru|       Anil|   4.8|       12.4|       340.0|2025-08-08 08:05:00|\n",
            "|   1002|Hyderabad|       Sana|   4.6|        6.2|       160.0|2025-08-08 08:15:00|\n",
            "|   1003|     Pune|     Rakesh|   4.4|        3.5|        90.0|2025-08-08 08:20:00|\n",
            "+-------+---------+-----------+------+-----------+------------+-------------------+\n",
            "\n"
          ]
        }
      ]
    },
    {
      "cell_type": "code",
      "source": [
        "# city wise revenue and avg driver rating\n",
        "\n",
        "print(\"CITY WISE REVENUE AND AVG DRIVER RATING \")\n",
        "spark.sql(\"\"\"\n",
        "    select driver_name,city,sum(total_amount) AS total_revenue,avg(rating) as avg_driver_rating\n",
        "    from gold_view\n",
        "    group by city,driver_name\n",
        "    order by total_revenue desc\n",
        "\"\"\").show()\n"
      ],
      "metadata": {
        "colab": {
          "base_uri": "https://localhost:8080/"
        },
        "id": "jH5k8TFyo837",
        "outputId": "ae372ff2-bd08-4b98-ff2f-1eeb8acc79cb"
      },
      "execution_count": 69,
      "outputs": [
        {
          "output_type": "stream",
          "name": "stdout",
          "text": [
            "CITY WISE REVENUE AND AVG DRIVER RATING \n",
            "+-----------+---------+-------------+-----------------+\n",
            "|driver_name|     city|total_revenue|avg_driver_rating|\n",
            "+-----------+---------+-------------+-----------------+\n",
            "|       Anil|Bengaluru|        875.0|              4.8|\n",
            "|       Sana|Hyderabad|        372.0|              4.6|\n",
            "|      Meera|  Chennai|        275.0|              4.9|\n",
            "|     Rakesh|     Pune|        160.0|              4.4|\n",
            "+-----------+---------+-------------+-----------------+\n",
            "\n"
          ]
        }
      ]
    },
    {
      "cell_type": "code",
      "source": [
        "# driver wise total trips\n",
        "\n",
        "print(\"DRIVER WISE TOTAL TRIPS\")\n",
        "spark.sql(\"\"\"\n",
        "          select driver_name, count(*) as total_trips\n",
        "          from gold_view\n",
        "          group by driver_name\n",
        "          order by total_trips desc\"\"\").show()\n",
        "\n",
        "# top 3\n",
        "\n",
        "print(\"TOP 3 DRIVERS BY REVENUE\")\n",
        "spark.sql(\"\"\"\n",
        "          select driver_name, sum(total_amount) as total_revenue\n",
        "          from gold_view\n",
        "          group by driver_name\n",
        "          order by total_revenue desc\n",
        "          limit 3 \"\"\").show()"
      ],
      "metadata": {
        "colab": {
          "base_uri": "https://localhost:8080/"
        },
        "id": "ArKHVrVlrXJP",
        "outputId": "75c65d50-ff19-4c30-abae-d6e6bcf61e23"
      },
      "execution_count": 70,
      "outputs": [
        {
          "output_type": "stream",
          "name": "stdout",
          "text": [
            "DRIVER WISE TOTAL TRIPS\n",
            "+-----------+-----------+\n",
            "|driver_name|total_trips|\n",
            "+-----------+-----------+\n",
            "|     Rakesh|          2|\n",
            "|       Sana|          2|\n",
            "|       Anil|          2|\n",
            "|      Meera|          1|\n",
            "+-----------+-----------+\n",
            "\n",
            "TOP 3 DRIVERS BY REVENUE\n",
            "+-----------+-------------+\n",
            "|driver_name|total_revenue|\n",
            "+-----------+-------------+\n",
            "|       Anil|        875.0|\n",
            "|       Sana|        372.0|\n",
            "|      Meera|        275.0|\n",
            "+-----------+-------------+\n",
            "\n"
          ]
        }
      ]
    },
    {
      "cell_type": "markdown",
      "source": [
        "Time Travel & History"
      ],
      "metadata": {
        "id": "Hpf54hOHzzCO"
      }
    },
    {
      "cell_type": "code",
      "source": [
        "# history\n",
        "spark.sql(f\"describe history delta.`{TRIPS_PATH}`\").show(truncate = False)\n",
        "\n",
        "# version 0\n",
        "version0 = spark.read.format(\"delta\").option(\"versionAsOf\",0).load(TRIPS_PATH)\n",
        "version0.show()\n",
        "\n",
        "# latest\n",
        "latest =spark.read.format(\"delta\").load(TRIPS_PATH)\n",
        "latest.show()\n",
        "\n",
        "print(\"Counts -> v0:\", version0.count(), \", latest:\", latest.count())\n",
        "print(\"A few rows from version 0:\")\n",
        "version0.orderBy(\"trip_id\").show(5, truncate=False)\n",
        "print(\"A few rows from latest:\")\n",
        "latest.orderBy(\"trip_id\").show(5, truncate=False)"
      ],
      "metadata": {
        "colab": {
          "base_uri": "https://localhost:8080/"
        },
        "id": "5DfpkuKJz19j",
        "outputId": "898e8f7a-c63e-45a6-a70c-41d1c5d15b37"
      },
      "execution_count": 71,
      "outputs": [
        {
          "output_type": "stream",
          "name": "stdout",
          "text": [
            "+-------+-----------------------+------+--------+--------------+--------------------------------------+----+--------+---------+-----------+--------------+-------------+-----------------------------------------------------------+------------+-----------------------------------+\n",
            "|version|timestamp              |userId|userName|operation     |operationParameters                   |job |notebook|clusterId|readVersion|isolationLevel|isBlindAppend|operationMetrics                                           |userMetadata|engineInfo                         |\n",
            "+-------+-----------------------+------+--------+--------------+--------------------------------------+----+--------+---------+-----------+--------------+-------------+-----------------------------------------------------------+------------+-----------------------------------+\n",
            "|4      |2025-08-14 10:26:38.502|NULL  |NULL    |WRITE         |{mode -> Overwrite, partitionBy -> []}|NULL|NULL    |NULL     |3          |Serializable  |false        |{numFiles -> 2, numOutputRows -> 6, numOutputBytes -> 4536}|NULL        |Apache-Spark/3.5.1 Delta-Lake/3.2.0|\n",
            "|3      |2025-08-14 10:12:17.041|NULL  |NULL    |ADD CONSTRAINT|{name -> valid_tip, expr -> tip >= 0} |NULL|NULL    |NULL     |2          |Serializable  |false        |{}                                                         |NULL        |Apache-Spark/3.5.1 Delta-Lake/3.2.0|\n",
            "|2      |2025-08-14 09:30:10.775|NULL  |NULL    |WRITE         |{mode -> Append, partitionBy -> []}   |NULL|NULL    |NULL     |1          |Serializable  |true         |{numFiles -> 2, numOutputRows -> 1, numOutputBytes -> 3135}|NULL        |Apache-Spark/3.5.1 Delta-Lake/3.2.0|\n",
            "|1      |2025-08-14 09:28:19.197|NULL  |NULL    |WRITE         |{mode -> Append, partitionBy -> []}   |NULL|NULL    |NULL     |0          |Serializable  |true         |{numFiles -> 2, numOutputRows -> 2, numOutputBytes -> 4491}|NULL        |Apache-Spark/3.5.1 Delta-Lake/3.2.0|\n",
            "|0      |2025-08-14 06:37:55.419|NULL  |NULL    |WRITE         |{mode -> Overwrite, partitionBy -> []}|NULL|NULL    |NULL     |NULL       |Serializable  |false        |{numFiles -> 2, numOutputRows -> 6, numOutputBytes -> 4536}|NULL        |Apache-Spark/3.5.1 Delta-Lake/3.2.0|\n",
            "+-------+-----------------------+------+--------+--------------+--------------------------------------+----+--------+---------+-----------+--------------+-------------+-----------------------------------------------------------+------------+-----------------------------------+\n",
            "\n",
            "+-------+--------+---------+---------+-----------+-----+----+-------------------+\n",
            "|trip_id|rider_id|driver_id|     city|distance_km| fare| tip|                 ts|\n",
            "+-------+--------+---------+---------+-----------+-----+----+-------------------+\n",
            "|   1004|    R001|     D010|Bengaluru|       18.9|480.0|25.0|2025-08-08 08:45:00|\n",
            "|   1005|    R004|     D013|  Chennai|       10.0|260.0|15.0|2025-08-08 09:05:00|\n",
            "|   1006|    R005|     D012|     Pune|        2.2| 70.0| 0.0|2025-08-08 09:10:00|\n",
            "|   1001|    R001|     D010|Bengaluru|       12.4|320.0|20.0|2025-08-08 08:05:00|\n",
            "|   1002|    R002|     D011|Hyderabad|        6.2|150.0|10.0|2025-08-08 08:15:00|\n",
            "|   1003|    R003|     D012|     Pune|        3.5| 90.0| 0.0|2025-08-08 08:20:00|\n",
            "+-------+--------+---------+---------+-----------+-----+----+-------------------+\n",
            "\n",
            "+-------+--------+---------+---------+-----------+-----+----+-------------------+\n",
            "|trip_id|rider_id|driver_id|     city|distance_km| fare| tip|                 ts|\n",
            "+-------+--------+---------+---------+-----------+-----+----+-------------------+\n",
            "|   1004|    R001|     D010|Bengaluru|       18.9|480.0|25.0|2025-08-08 08:45:00|\n",
            "|   1005|    R004|     D013|  Chennai|       10.0|260.0|15.0|2025-08-08 09:05:00|\n",
            "|   1006|    R005|     D012|     Pune|        2.2| 70.0| 0.0|2025-08-08 09:10:00|\n",
            "|   1001|    R001|     D010|Bengaluru|       12.4|320.0|20.0|2025-08-08 08:05:00|\n",
            "|   1002|    R002|     D011|Hyderabad|        6.2|150.0|10.0|2025-08-08 08:15:00|\n",
            "|   1003|    R003|     D012|     Pune|        3.5| 90.0| 0.0|2025-08-08 08:20:00|\n",
            "+-------+--------+---------+---------+-----------+-----+----+-------------------+\n",
            "\n",
            "Counts -> v0: 6 , latest: 6\n",
            "A few rows from version 0:\n",
            "+-------+--------+---------+---------+-----------+-----+----+-------------------+\n",
            "|trip_id|rider_id|driver_id|city     |distance_km|fare |tip |ts                 |\n",
            "+-------+--------+---------+---------+-----------+-----+----+-------------------+\n",
            "|1001   |R001    |D010     |Bengaluru|12.4       |320.0|20.0|2025-08-08 08:05:00|\n",
            "|1002   |R002    |D011     |Hyderabad|6.2        |150.0|10.0|2025-08-08 08:15:00|\n",
            "|1003   |R003    |D012     |Pune     |3.5        |90.0 |0.0 |2025-08-08 08:20:00|\n",
            "|1004   |R001    |D010     |Bengaluru|18.9       |480.0|25.0|2025-08-08 08:45:00|\n",
            "|1005   |R004    |D013     |Chennai  |10.0       |260.0|15.0|2025-08-08 09:05:00|\n",
            "+-------+--------+---------+---------+-----------+-----+----+-------------------+\n",
            "only showing top 5 rows\n",
            "\n",
            "A few rows from latest:\n",
            "+-------+--------+---------+---------+-----------+-----+----+-------------------+\n",
            "|trip_id|rider_id|driver_id|city     |distance_km|fare |tip |ts                 |\n",
            "+-------+--------+---------+---------+-----------+-----+----+-------------------+\n",
            "|1001   |R001    |D010     |Bengaluru|12.4       |320.0|20.0|2025-08-08 08:05:00|\n",
            "|1002   |R002    |D011     |Hyderabad|6.2        |150.0|10.0|2025-08-08 08:15:00|\n",
            "|1003   |R003    |D012     |Pune     |3.5        |90.0 |0.0 |2025-08-08 08:20:00|\n",
            "|1004   |R001    |D010     |Bengaluru|18.9       |480.0|25.0|2025-08-08 08:45:00|\n",
            "|1005   |R004    |D013     |Chennai  |10.0       |260.0|15.0|2025-08-08 09:05:00|\n",
            "+-------+--------+---------+---------+-----------+-----+----+-------------------+\n",
            "only showing top 5 rows\n",
            "\n"
          ]
        }
      ]
    },
    {
      "cell_type": "markdown",
      "source": [
        "Partitioned Rewrite"
      ],
      "metadata": {
        "id": "wGPFB4Ap3CTg"
      }
    },
    {
      "cell_type": "code",
      "source": [
        "PART_TRIPS_PATH = f\"{BASE}/trips_by_city\"\n",
        "spark.read.format(\"delta\").load(TRIPS_PATH).write.format(\"delta\").mode(\"overwrite\").partitionBy(\"city\").save(PART_TRIPS_PATH)\n",
        "\n",
        "print(\"PARTITIONED PATH: \",PART_TRIPS_PATH)\n",
        "print(\"\\n LIST OF FILES PRESENT\")\n",
        "import os\n",
        "for root, dirs, files in os.walk(PART_TRIPS_PATH):\n",
        "  print(root, \"->\", files[:5])\n",
        "\n",
        "print(\"\\nSIMPLE FILTER -- CITY :BANGALURU\")\n",
        "spark.read.format(\"delta\").load(PART_TRIPS_PATH).filter(F.col(\"city\") == \"Bengaluru\").show(truncate=False)"
      ],
      "metadata": {
        "colab": {
          "base_uri": "https://localhost:8080/"
        },
        "id": "FC4IryF83FTf",
        "outputId": "c20460d1-1551-432c-d744-dd04e27e37ff"
      },
      "execution_count": 72,
      "outputs": [
        {
          "output_type": "stream",
          "name": "stdout",
          "text": [
            "PARTITIONED PATH:  /tmp/delta/ride_hailing/trips_by_city\n",
            "\n",
            " LIST OF FILES PRESENT\n",
            "/tmp/delta/ride_hailing/trips_by_city -> []\n",
            "/tmp/delta/ride_hailing/trips_by_city/_delta_log -> ['00000000000000000001.json', '.00000000000000000000.json.crc', '00000000000000000003.json', '.00000000000000000002.json.crc', '.00000000000000000003.json.crc']\n",
            "/tmp/delta/ride_hailing/trips_by_city/_delta_log/_commits -> []\n",
            "/tmp/delta/ride_hailing/trips_by_city/city=Chennai -> ['.part-00000-8e34b065-ba61-46e0-b06b-73575791c1ac.c000.snappy.parquet.crc', 'part-00000-68b8d5f6-8a63-4292-9bd6-1376a6a635cc.c000.snappy.parquet', '.part-00000-68b8d5f6-8a63-4292-9bd6-1376a6a635cc.c000.snappy.parquet.crc', 'part-00000-20295c53-770c-454e-badb-c081b1c4e50a.c000.snappy.parquet', 'part-00000-8e34b065-ba61-46e0-b06b-73575791c1ac.c000.snappy.parquet']\n",
            "/tmp/delta/ride_hailing/trips_by_city/city=Hyderabad -> ['.part-00001-455d7e2d-962a-46aa-9869-017eb35f7e96.c000.snappy.parquet.crc', 'part-00001-9b879529-9467-4f5d-becb-d118a5ca8953.c000.snappy.parquet', 'part-00001-455d7e2d-962a-46aa-9869-017eb35f7e96.c000.snappy.parquet', '.part-00001-9b879529-9467-4f5d-becb-d118a5ca8953.c000.snappy.parquet.crc', 'part-00001-87661102-ab2a-4a9f-9271-4098d44e9c25.c000.snappy.parquet']\n",
            "/tmp/delta/ride_hailing/trips_by_city/city=Bengaluru -> ['.part-00001-e3a61579-793f-4070-a167-d43d4ca1b509.c000.snappy.parquet.crc', 'part-00000-41e3b778-066a-4875-8346-61eaa9c59129.c000.snappy.parquet', '.part-00000-039c0fe0-9caa-49fa-b132-b8e0bd4a402f.c000.snappy.parquet.crc', 'part-00000-e559406d-ad94-498c-baf2-142d6b2260a4.c000.snappy.parquet', '.part-00001-d1bf4003-7a0c-43d4-87d8-bf550d687b5d.c000.snappy.parquet.crc']\n",
            "/tmp/delta/ride_hailing/trips_by_city/city=Pune -> ['.part-00000-7c3541a0-5796-44b7-b51c-bf559c179e6b.c000.snappy.parquet.crc', 'part-00000-35af6580-4222-4de5-8885-232b308c9326.c000.snappy.parquet', 'part-00000-7c3541a0-5796-44b7-b51c-bf559c179e6b.c000.snappy.parquet', '.part-00001-891d0ef4-fb41-437d-b241-5c58143c9856.c000.snappy.parquet.crc', '.part-00000-613a17fa-4711-401e-8126-e7b14ae20e00.c000.snappy.parquet.crc']\n",
            "\n",
            "SIMPLE FILTER -- CITY :BANGALURU\n",
            "+-------+--------+---------+---------+-----------+-----+----+-------------------+\n",
            "|trip_id|rider_id|driver_id|city     |distance_km|fare |tip |ts                 |\n",
            "+-------+--------+---------+---------+-----------+-----+----+-------------------+\n",
            "|1001   |R001    |D010     |Bengaluru|12.4       |320.0|20.0|2025-08-08 08:05:00|\n",
            "|1004   |R001    |D010     |Bengaluru|18.9       |480.0|25.0|2025-08-08 08:45:00|\n",
            "+-------+--------+---------+---------+-----------+-----+----+-------------------+\n",
            "\n"
          ]
        }
      ]
    },
    {
      "cell_type": "markdown",
      "source": [
        "Incremental Load Simulation"
      ],
      "metadata": {
        "id": "j-CSaqZK5K6s"
      }
    },
    {
      "cell_type": "code",
      "source": [
        "# new data\n",
        "inc_rows = [\n",
        "    (1008, \"R007\", \"D011\", \"Mumbai\", 11.1, 300.0, 20.0, datetime.datetime(2025, 8, 8, 9, 30)),\n",
        "    (1009, \"R008\", \"D012\", \"Mumbai\", 5.7, 140.0,  8.0, datetime.datetime(2025, 8, 8, 9, 40)),\n",
        "]\n",
        "\n",
        "# append\n",
        "inc_df = spark.createDataFrame(inc_rows,schema=trip_schema)\n",
        "inc_df.write.format(\"delta\").mode(\"append\").save(TRIPS_PATH)\n",
        "\n",
        "# re run\n",
        "current_trips = spark.read.format(\"delta\").load(TRIPS_PATH).withColumn(\"total_amount\", F.col(\"fare\") + F.col(\"tip\"))\n",
        "city_rev = current_trips.groupBy(\"city\").agg(F.sum(\"total_amount\").alias(\"total_revenue\")).orderBy(F.desc(\"total_revenue\"))\n",
        "city_rev.show(truncate=False)"
      ],
      "metadata": {
        "colab": {
          "base_uri": "https://localhost:8080/"
        },
        "id": "oHRuKomu5M8a",
        "outputId": "445acf07-f2a1-442b-9419-82bb175315a5"
      },
      "execution_count": 73,
      "outputs": [
        {
          "output_type": "stream",
          "name": "stdout",
          "text": [
            "+---------+-------------+\n",
            "|city     |total_revenue|\n",
            "+---------+-------------+\n",
            "|Bengaluru|845.0        |\n",
            "|Mumbai   |468.0        |\n",
            "|Chennai  |275.0        |\n",
            "|Pune     |160.0        |\n",
            "|Hyderabad|160.0        |\n",
            "+---------+-------------+\n",
            "\n"
          ]
        }
      ]
    },
    {
      "cell_type": "code",
      "source": [
        "current_trips = spark.read.format(\"delta\").load(TRIPS_PATH)\n",
        "drivers_df = spark.read.format(\"delta\").load(DRIVERS_PATH)\n",
        "\n",
        "gold_df = (current_trips.alias(\"t\")\n",
        "           .join(drivers_df.alias(\"d\"), on=\"driver_id\", how=\"left\")\n",
        "           .withColumn(\"total_amount\", F.col(\"fare\") + F.col(\"tip\"))\n",
        "           .select(\"trip_id\", \"city\", \"driver_name\", \"rating\", \"distance_km\", \"total_amount\", \"ts\"))\n",
        "\n",
        "gold_df.createOrReplaceTempView(\"gold_view\")\n"
      ],
      "metadata": {
        "id": "gwWh8xjAB7i5"
      },
      "execution_count": 74,
      "outputs": []
    },
    {
      "cell_type": "markdown",
      "source": [
        "Simple Streaming"
      ],
      "metadata": {
        "id": "KzSyUvRh6Rl0"
      }
    },
    {
      "cell_type": "code",
      "source": [
        "stream_df = (spark.readStream\n",
        "             .format(\"delta\")\n",
        "             .load(TRIPS_PATH)\n",
        "             .withColumn(\"total_amount\", F.col(\"fare\") + F.col(\"tip\")))\n",
        "\n",
        "query = (stream_df\n",
        "         .writeStream\n",
        "         .format(\"console\")\n",
        "         .outputMode(\"append\")\n",
        "         .option(\"truncate\", \"false\")\n",
        "         .trigger(processingTime=\"5 seconds\")\n",
        "         .start())"
      ],
      "metadata": {
        "id": "RF6GY4iF6Szt"
      },
      "execution_count": 75,
      "outputs": []
    },
    {
      "cell_type": "code",
      "source": [
        "more_mumbai = [\n",
        "    (1010, \"R009\", \"D010\", \"Mumbai\", 9.0, 220.0, 10.0, datetime.datetime(2025, 8, 8, 10, 0)),\n",
        "]\n",
        "spark.createDataFrame(more_mumbai, schema=trip_schema) \\\n",
        "     .write.format(\"delta\").mode(\"append\").save(TRIPS_PATH)"
      ],
      "metadata": {
        "id": "flZLNDdm6g1i"
      },
      "execution_count": 76,
      "outputs": []
    },
    {
      "cell_type": "code",
      "source": [
        "query.stop()"
      ],
      "metadata": {
        "id": "CETpjbua6oOR"
      },
      "execution_count": 77,
      "outputs": []
    },
    {
      "cell_type": "markdown",
      "source": [
        "Visualization"
      ],
      "metadata": {
        "id": "dshQcS796pbg"
      }
    },
    {
      "cell_type": "code",
      "source": [
        "import matplotlib.pyplot as plt\n",
        "\n",
        "gold_df = spark.table(\"gold_view\")\n",
        "city_rev_pd = (gold_df.groupBy(\"city\")\n",
        "               .agg(F.sum(\"total_amount\").alias(\"total_revenue\"))\n",
        "               .orderBy(F.desc(\"total_revenue\"))\n",
        "              ).toPandas()\n",
        "\n",
        "# BAR CHART\n",
        "plt.figure(figsize=(5,3))\n",
        "plt.bar(city_rev_pd[\"city\"], city_rev_pd[\"total_revenue\"],color = ['pink','lightblue','indigo','red','grey'])\n",
        "plt.title(\"Total Revenue by City\")\n",
        "plt.xlabel(\"City\")\n",
        "plt.ylabel(\"Total Revenue\")\n",
        "plt.xticks(rotation=45)\n",
        "plt.show()"
      ],
      "metadata": {
        "colab": {
          "base_uri": "https://localhost:8080/",
          "height": 383
        },
        "id": "fbTtrlRX6sqI",
        "outputId": "b077bdc0-3234-4028-9d03-ca800bc565fc"
      },
      "execution_count": 78,
      "outputs": [
        {
          "output_type": "display_data",
          "data": {
            "text/plain": [
              "<Figure size 500x300 with 1 Axes>"
            ],
            "image/png": "[encoded data removed]"
          },
          "metadata": {}
        }
      ]
    },
    {
      "cell_type": "code",
      "source": [
        "# LINE CHART\n",
        "hourly = (gold_df\n",
        "          .withColumn(\"hour\", F.date_trunc(\"hour\", F.col(\"ts\")))\n",
        "          .groupBy(\"hour\")\n",
        "          .agg(F.sum(\"total_amount\").alias(\"hourly_revenue\"))\n",
        "          .orderBy(\"hour\"))\n",
        "hourly_pd = hourly.toPandas()\n",
        "\n",
        "plt.figure()\n",
        "plt.plot(hourly_pd[\"hour\"], hourly_pd[\"hourly_revenue\"],marker = '*',color = 'red',markeredgecolor = 'black',markerfacecolor = 'black')\n",
        "plt.title(\"Revenue by Hour\")\n",
        "plt.xlabel(\"Hour\")\n",
        "plt.ylabel(\"Revenue\")\n",
        "plt.xticks(rotation=30)\n",
        "plt.show()"
      ],
      "metadata": {
        "colab": {
          "base_uri": "https://localhost:8080/",
          "height": 501
        },
        "id": "4Ay-JlncCOPz",
        "outputId": "d0d3313e-6fec-4358-9efb-bf383f47f2a0"
      },
      "execution_count": 79,
      "outputs": [
        {
          "output_type": "display_data",
          "data": {
            "text/plain": [
              "<Figure size 640x480 with 1 Axes>"
            ],
            "image/png": "[encoded data removed]"
          },
          "metadata": {}
        }
      ]
    },
    {
      "cell_type": "markdown",
      "source": [
        "Managed vs Unmanaged Cleanup"
      ],
      "metadata": {
        "id": "UtyVhBeVCmSo"
      }
    },
    {
      "cell_type": "code",
      "source": [
        "spark.sql(\"DROP TABLE IF EXISTS trips_managed\")\n",
        "spark.sql(\"DROP TABLE IF EXISTS drivers_ext\")"
      ],
      "metadata": {
        "colab": {
          "base_uri": "https://localhost:8080/"
        },
        "id": "fxDR_Ky_Cos7",
        "outputId": "bb9e63b2-e23e-48f0-ea64-f82dd0a44f25"
      },
      "execution_count": 80,
      "outputs": [
        {
          "output_type": "execute_result",
          "data": {
            "text/plain": [
              "DataFrame[]"
            ]
          },
          "metadata": {},
          "execution_count": 80
        }
      ]
    },
    {
      "cell_type": "code",
      "source": [
        "# verification\n",
        "print(\"Files under DRIVERS_PATH should still exist:\")\n",
        "import os\n",
        "for root, dirs, files in os.walk(DRIVERS_PATH):\n",
        "  print(root, \"->\", files[:5])\n",
        "  break\n",
        ""
      ],
      "metadata": {
        "colab": {
          "base_uri": "https://localhost:8080/"
        },
        "id": "24oshwYfDsai",
        "outputId": "a55a062f-a5d8-483f-cec4-538600791371"
      },
      "execution_count": 81,
      "outputs": [
        {
          "output_type": "stream",
          "name": "stdout",
          "text": [
            "Files under DRIVERS_PATH should still exist:\n",
            "/tmp/delta/ride_hailing/drivers -> ['part-00000-39edef30-a33f-4f70-a83c-242469e6112d-c000.snappy.parquet', '.part-00001-6eb377c7-3ef8-44fb-a632-061cd6f4ab7c-c000.snappy.parquet.crc', '.part-00001-962daac0-2b6b-4ef4-bda5-2bdf3b994c51-c000.snappy.parquet.crc', '.part-00000-39edef30-a33f-4f70-a83c-242469e6112d-c000.snappy.parquet.crc', 'part-00001-962daac0-2b6b-4ef4-bda5-2bdf3b994c51-c000.snappy.parquet']\n"
          ]
        }
      ]
    },
    {
      "cell_type": "markdown",
      "source": [
        "Constraint/Quality Check"
      ],
      "metadata": {
        "id": "Am3bNP11D9ry"
      }
    },
    {
      "cell_type": "code",
      "source": [
        "# bad data\n",
        "bad = [(1011, \"R010\", \"D011\", \"Pune\", 4.0, 100.0, -5.0, datetime.datetime(2025, 8, 8, 10, 10))]\n",
        "bad_df = spark.createDataFrame(bad, schema=trip_schema)\n",
        "\n",
        "\n",
        "try:\n",
        "    bad_df.write.format(\"delta\").mode(\"append\").save(TRIPS_PATH)\n",
        "    print(\"Unexpected: bad write succeeded\")\n",
        "except Exception as e:\n",
        "    print(\"As expected, bad write blocked by CHECK constraint.\")"
      ],
      "metadata": {
        "colab": {
          "base_uri": "https://localhost:8080/"
        },
        "id": "J-n3Is9pEAeE",
        "outputId": "8c4389d4-d2b6-4253-f799-02ecb059169b"
      },
      "execution_count": 82,
      "outputs": [
        {
          "output_type": "stream",
          "name": "stdout",
          "text": [
            "As expected, bad write blocked by CHECK constraint.\n"
          ]
        }
      ]
    },
    {
      "cell_type": "markdown",
      "source": [
        "Convert Parquet → Delta"
      ],
      "metadata": {
        "id": "q3LMXwUjE0k_"
      }
    },
    {
      "cell_type": "code",
      "source": [
        "from delta.tables import DeltaTable\n",
        "\n",
        "PARQ_PATH = f\"{BASE}/parquet_subset\"\n",
        "DELTA_FROM_PARQ = f\"{BASE}/delta_from_parquet\"\n",
        "\n",
        "subset = spark.read.format(\"delta\").load(TRIPS_PATH).filter(F.col(\"city\") == \"Chennai\")\n",
        "subset.write.mode(\"overwrite\").parquet(PARQ_PATH)\n",
        "\n",
        "DeltaTable.convertToDelta(spark, f\"parquet.`{PARQ_PATH}`\")\n",
        "\n",
        "print(\"CHENNAI \")\n",
        "spark.read.format(\"delta\").load(PARQ_PATH).show(truncate=False)\n",
        "\n",
        "target_dt = DeltaTable.forPath(spark, PARQ_PATH)\n",
        "merge_rows2 = [\n",
        "    (2001, \"R200\", \"D013\", \"Chennai\", 6.0, 150.0, 10.0, datetime.datetime(2025, 8, 8, 11, 0))\n",
        "]\n",
        "merge_df2 = spark.createDataFrame(merge_rows2, schema=trip_schema)\n",
        "\n",
        "(target_dt.alias(\"t\")\n",
        " .merge(merge_df2.alias(\"s\"), \"t.trip_id = s.trip_id\")\n",
        " .whenMatchedUpdateAll()\n",
        " .whenNotMatchedInsertAll()\n",
        " .execute()\n",
        ")\n",
        "print(\"MERGE\")\n",
        "spark.sql(f\"DESCRIBE HISTORY delta.`{PARQ_PATH}`\").show(truncate=False)\n",
        "print(\"TIME TRAVEL\")\n",
        "spark.read.format(\"delta\").option(\"versionAsOf\", 0).load(PARQ_PATH).show(truncate=False)"
      ],
      "metadata": {
        "colab": {
          "base_uri": "https://localhost:8080/"
        },
        "id": "ABNhxNBPEwGl",
        "outputId": "c9d0826e-086c-4eac-dcb2-1cbc6710477a"
      },
      "execution_count": 83,
      "outputs": [
        {
          "output_type": "stream",
          "name": "stdout",
          "text": [
            "CHENNAI \n",
            "+-------+--------+---------+-------+-----------+-----+----+-------------------+\n",
            "|trip_id|rider_id|driver_id|city   |distance_km|fare |tip |ts                 |\n",
            "+-------+--------+---------+-------+-----------+-----+----+-------------------+\n",
            "|1005   |R004    |D013     |Chennai|10.0       |260.0|15.0|2025-08-08 09:05:00|\n",
            "+-------+--------+---------+-------+-----------+-----+----+-------------------+\n",
            "\n",
            "MERGE\n",
            "+-------+-----------------------+------+--------+---------+-----------------------------------------------------------------------------------------------------------------------------------------------------------------------------------------+----+--------+---------+-----------+--------------+-------------+----------------------------------------------------------------------------------------------------------------------------------------------------------------------------------------------------------------------------------------------------------------------------------------------------------------------------------------------------------------------------------------------------------------------------------------------------------------------------------------------------------------------------------------------------------------------------------------------------------------------------------------------------+------------+-----------------------------------+\n",
            "|version|timestamp              |userId|userName|operation|operationParameters                                                                                                                                                                      |job |notebook|clusterId|readVersion|isolationLevel|isBlindAppend|operationMetrics                                                                                                                                                                                                                                                                                                                                                                                                                                                                                                                                                                                                                                    |userMetadata|engineInfo                         |\n",
            "+-------+-----------------------+------+--------+---------+-----------------------------------------------------------------------------------------------------------------------------------------------------------------------------------------+----+--------+---------+-----------+--------------+-------------+----------------------------------------------------------------------------------------------------------------------------------------------------------------------------------------------------------------------------------------------------------------------------------------------------------------------------------------------------------------------------------------------------------------------------------------------------------------------------------------------------------------------------------------------------------------------------------------------------------------------------------------------------+------------+-----------------------------------+\n",
            "|1      |2025-08-14 10:31:09.768|NULL  |NULL    |MERGE    |{predicate -> [\"(trip_id#50129 = trip_id#50145)\"], matchedPredicates -> [{\"actionType\":\"update\"}], notMatchedPredicates -> [{\"actionType\":\"insert\"}], notMatchedBySourcePredicates -> []}|NULL|NULL    |NULL     |0          |Serializable  |false        |{numTargetRowsCopied -> 0, numTargetRowsDeleted -> 0, numTargetFilesAdded -> 1, numTargetBytesAdded -> 2253, numTargetBytesRemoved -> 0, numTargetDeletionVectorsAdded -> 0, numTargetRowsMatchedUpdated -> 0, executionTimeMs -> 2487, numTargetRowsInserted -> 1, numTargetRowsMatchedDeleted -> 0, numTargetDeletionVectorsUpdated -> 0, scanTimeMs -> 1578, numTargetRowsUpdated -> 0, numOutputRows -> 1, numTargetDeletionVectorsRemoved -> 0, numTargetRowsNotMatchedBySourceUpdated -> 0, numTargetChangeFilesAdded -> 0, numSourceRows -> 1, numTargetFilesRemoved -> 0, numTargetRowsNotMatchedBySourceDeleted -> 0, rewriteTimeMs -> 467}|NULL        |Apache-Spark/3.5.1 Delta-Lake/3.2.0|\n",
            "|0      |2025-08-14 10:30:53.871|NULL  |NULL    |CONVERT  |{numFiles -> 1, partitionedBy -> [], collectStats -> true, sourceFormat -> parquet}                                                                                                      |NULL|NULL    |NULL     |-1         |Serializable  |false        |{numConvertedFiles -> 1}                                                                                                                                                                                                                                                                                                                                                                                                                                                                                                                                                                                                                            |NULL        |Apache-Spark/3.5.1 Delta-Lake/3.2.0|\n",
            "+-------+-----------------------+------+--------+---------+-----------------------------------------------------------------------------------------------------------------------------------------------------------------------------------------+----+--------+---------+-----------+--------------+-------------+----------------------------------------------------------------------------------------------------------------------------------------------------------------------------------------------------------------------------------------------------------------------------------------------------------------------------------------------------------------------------------------------------------------------------------------------------------------------------------------------------------------------------------------------------------------------------------------------------------------------------------------------------+------------+-----------------------------------+\n",
            "\n",
            "TIME TRAVEL\n",
            "+-------+--------+---------+-------+-----------+-----+----+-------------------+\n",
            "|trip_id|rider_id|driver_id|city   |distance_km|fare |tip |ts                 |\n",
            "+-------+--------+---------+-------+-----------+-----+----+-------------------+\n",
            "|1005   |R004    |D013     |Chennai|10.0       |260.0|15.0|2025-08-08 09:05:00|\n",
            "+-------+--------+---------+-------+-----------+-----+----+-------------------+\n",
            "\n"
          ]
        }
      ]
    },
    {
      "cell_type": "markdown",
      "source": [
        "Bonus KPI Dashboard"
      ],
      "metadata": {
        "id": "WucFmYGcFwkx"
      }
    },
    {
      "cell_type": "code",
      "source": [
        "# Total revenue\n",
        "total_revenue = spark.table(\"gold_trips\").agg(F.sum(\"total_amount\").alias(\"total_revenue\")).collect()[0][\"total_revenue\"]\n",
        "print(\"TOTAL REVENUE:\", total_revenue)\n",
        "\n",
        "# Trips per city\n",
        "print(\"\\nTRIPS PER CITY\\n\")\n",
        "tpc = (spark.table(\"gold_trips\")\n",
        "       .groupBy(\"city\")\n",
        "       .agg(F.count(\"*\").alias(\"trips\"))\n",
        "       .orderBy(F.desc(\"trips\"))).toPandas()\n",
        "\n",
        "plt.figure(figsize=(5,3))\n",
        "plt.bar(tpc[\"city\"], tpc[\"trips\"],color = ['pink','lightblue','indigo','red','grey'])\n",
        "plt.title(\"Trips per City\")\n",
        "plt.xlabel(\"City\")\n",
        "plt.ylabel(\"Trips\")\n",
        "plt.xticks(rotation=30)\n",
        "plt.show()\n",
        "\n",
        "# Top drivers by revenue\n",
        "print(\"\\nDRIVERS BY REVENUE\\n\")\n",
        "tdr = (spark.table(\"gold_trips\")\n",
        "       .groupBy(\"driver_name\")\n",
        "       .agg(F.sum(\"total_amount\").alias(\"revenue\"))\n",
        "       .orderBy(F.desc(\"revenue\"))).toPandas()\n",
        "\n",
        "plt.figure(figsize=(5,3))\n",
        "plt.bar(tdr[\"driver_name\"], tdr[\"revenue\"],color = ['red','yellow','orange','black'])\n",
        "plt.title(\"Top Drivers by Revenue\")\n",
        "plt.xlabel(\"Driver\")\n",
        "plt.ylabel(\"Revenue\")\n",
        "plt.xticks(rotation=30)\n",
        "plt.show()\n",
        "\n",
        "# Revenue by hour\n",
        "print(\"\\nREVENUE BY HOUR\\n\")\n",
        "rev_hr = (spark.table(\"gold_trips\")\n",
        "          .withColumn(\"hour\", F.date_trunc(\"hour\", F.col(\"ts\")))\n",
        "          .groupBy(\"hour\").agg(F.sum(\"total_amount\").alias(\"revenue\"))\n",
        "          .orderBy(\"hour\")).toPandas()\n",
        "\n",
        "plt.figure(figsize=(5,3))\n",
        "plt.plot(rev_hr[\"hour\"], rev_hr[\"revenue\"],marker = '*',markerfacecolor = 'red',markeredgecolor = 'red',color = 'black')\n",
        "plt.title(\"Revenue by Hour\")\n",
        "plt.xlabel(\"Hour\")\n",
        "plt.ylabel(\"Revenue\")\n",
        "plt.xticks(rotation=30)\n",
        "plt.show()\n"
      ],
      "metadata": {
        "colab": {
          "base_uri": "https://localhost:8080/",
          "height": 1000
        },
        "id": "o1JHuKnaF7yl",
        "outputId": "9eb6a9b8-ca5f-487e-c8de-5c3dc7c22077"
      },
      "execution_count": 85,
      "outputs": [
        {
          "output_type": "stream",
          "name": "stdout",
          "text": [
            "TOTAL REVENUE: 2138.0\n",
            "\n",
            "TRIPS PER CITY\n",
            "\n"
          ]
        },
        {
          "output_type": "display_data",
          "data": {
            "text/plain": [
              "<Figure size 500x300 with 1 Axes>"
            ],
            "image/png": "[encoded data removed]"
          },
          "metadata": {}
        },
        {
          "output_type": "stream",
          "name": "stdout",
          "text": [
            "\n",
            "DRIVERS BY REVENUE\n",
            "\n"
          ]
        },
        {
          "output_type": "display_data",
          "data": {
            "text/plain": [
              "<Figure size 500x300 with 1 Axes>"
            ],
            "image/png": "[encoded data removed]"
          },
          "metadata": {}
        },
        {
          "output_type": "stream",
          "name": "stdout",
          "text": [
            "\n",
            "REVENUE BY HOUR\n",
            "\n"
          ]
        },
        {
          "output_type": "display_data",
          "data": {
            "text/plain": [
              "<Figure size 500x300 with 1 Axes>"
            ],
            "image/png": "[encoded data removed]"
          },
          "metadata": {}
        }
      ]
    }
  ]
}