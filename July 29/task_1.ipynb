{
  "nbformat": 4,
  "nbformat_minor": 0,
  "metadata": {
    "colab": {
      "provenance": []
    },
    "kernelspec": {
      "name": "python3",
      "display_name": "Python 3"
    },
    "language_info": {
      "name": "python"
    }
  },
  "cells": [
    {
      "cell_type": "code",
      "execution_count": 1,
      "metadata": {
        "colab": {
          "base_uri": "https://localhost:8080/"
        },
        "id": "ssQ9XyTMzDyl",
        "outputId": "d8a8c440-049f-44ad-f383-f57606575e3e"
      },
      "outputs": [
        {
          "output_type": "stream",
          "name": "stdout",
          "text": [
            "Mounted at /content/drive\n"
          ]
        }
      ],
      "source": [
        "from google.colab import drive\n",
        "drive.mount('/content/drive')"
      ]
    },
    {
      "cell_type": "code",
      "source": [
        "import pandas as pd\n",
        "path = '/content/drive/My Drive/data engineering/students.csv'\n",
        "df = pd.read_csv(path)\n",
        "print(df)"
      ],
      "metadata": {
        "colab": {
          "base_uri": "https://localhost:8080/"
        },
        "id": "vLhFCCtb4uMu",
        "outputId": "7d00718c-aed6-46d9-f90b-0c6cf80d8573"
      },
      "execution_count": 2,
      "outputs": [
        {
          "output_type": "stream",
          "name": "stdout",
          "text": [
            "    Name  Math  Science  English\n",
            "0   Amit    78       85       74\n",
            "1  Priya    92       89       96\n",
            "2  Kiran    65       70       60\n",
            "3  Anita    88       95       90\n",
            "4   Ravi    55       60       58\n"
          ]
        }
      ]
    },
    {
      "cell_type": "markdown",
      "source": [
        "FIRST 3 ROWS"
      ],
      "metadata": {
        "id": "uxZPh4YR5WE2"
      }
    },
    {
      "cell_type": "code",
      "source": [
        "print(df.head(3))"
      ],
      "metadata": {
        "colab": {
          "base_uri": "https://localhost:8080/"
        },
        "id": "o2c_TeMP5YTi",
        "outputId": "b20d9799-d15e-446a-8f95-8e777be85c03"
      },
      "execution_count": 3,
      "outputs": [
        {
          "output_type": "stream",
          "name": "stdout",
          "text": [
            "    Name  Math  Science  English\n",
            "0   Amit    78       85       74\n",
            "1  Priya    92       89       96\n",
            "2  Kiran    65       70       60\n"
          ]
        }
      ]
    },
    {
      "cell_type": "markdown",
      "source": [
        "AVERAGE SCORES"
      ],
      "metadata": {
        "id": "JpGTl9625wi5"
      }
    },
    {
      "cell_type": "code",
      "source": [
        "df['Average'] = df[['Math','Science','English']].mean(axis =1)\n",
        "print(df)"
      ],
      "metadata": {
        "colab": {
          "base_uri": "https://localhost:8080/"
        },
        "id": "ut3Vvyys56oz",
        "outputId": "f4e73059-79f8-4b35-8b91-f8fce720549d"
      },
      "execution_count": 6,
      "outputs": [
        {
          "output_type": "stream",
          "name": "stdout",
          "text": [
            "    Name  Math  Science  English    Average\n",
            "0   Amit    78       85       74  79.000000\n",
            "1  Priya    92       89       96  92.333333\n",
            "2  Kiran    65       70       60  65.000000\n",
            "3  Anita    88       95       90  91.000000\n",
            "4   Ravi    55       60       58  57.666667\n"
          ]
        }
      ]
    },
    {
      "cell_type": "code",
      "source": [
        "print(\"STUDENT WITH HIGHEST AVERAGE: \")\n",
        "print(df[df['Average']==df['Average'].max()])"
      ],
      "metadata": {
        "colab": {
          "base_uri": "https://localhost:8080/"
        },
        "id": "KUPX50Cg7asG",
        "outputId": "5ec6bd05-a349-4d62-e0e4-b80e78dacd5f"
      },
      "execution_count": 7,
      "outputs": [
        {
          "output_type": "stream",
          "name": "stdout",
          "text": [
            "STUDENT WITH HIGHEST AVERAGE: \n",
            "    Name  Math  Science  English    Average\n",
            "1  Priya    92       89       96  92.333333\n"
          ]
        }
      ]
    },
    {
      "cell_type": "markdown",
      "source": [
        "FILTER STUDENTS:"
      ],
      "metadata": {
        "id": "2W_ivQZ-8D72"
      }
    },
    {
      "cell_type": "code",
      "source": [
        "print(\"STUDENTS GREATER THAN 80 IN SCIENCE\")\n",
        "print(df[df['Science']>80])"
      ],
      "metadata": {
        "colab": {
          "base_uri": "https://localhost:8080/"
        },
        "id": "_9-HpggT8GQX",
        "outputId": "24a6bb32-102f-4f7b-c9f2-95693ee6ae04"
      },
      "execution_count": 8,
      "outputs": [
        {
          "output_type": "stream",
          "name": "stdout",
          "text": [
            "STUDENTS GREATER THAN 80 IN SCIENCE\n",
            "    Name  Math  Science  English    Average\n",
            "0   Amit    78       85       74  79.000000\n",
            "1  Priya    92       89       96  92.333333\n",
            "3  Anita    88       95       90  91.000000\n"
          ]
        }
      ]
    },
    {
      "cell_type": "code",
      "source": [
        "print(\"STUDENTS WITH AVERAGE BELOW 70\")\n",
        "print(df[df['Average']<70])"
      ],
      "metadata": {
        "colab": {
          "base_uri": "https://localhost:8080/"
        },
        "id": "H-xDIX8c8bBS",
        "outputId": "d291ffae-6c14-4598-dbf8-a8cdc5ea4f58"
      },
      "execution_count": 9,
      "outputs": [
        {
          "output_type": "stream",
          "name": "stdout",
          "text": [
            "STUDENTS WITH AVERAGE BELOW 70\n",
            "    Name  Math  Science  English    Average\n",
            "2  Kiran    65       70       60  65.000000\n",
            "4   Ravi    55       60       58  57.666667\n"
          ]
        }
      ]
    },
    {
      "cell_type": "markdown",
      "source": [
        "SORTING:"
      ],
      "metadata": {
        "id": "r8RGCPmg8rCz"
      }
    },
    {
      "cell_type": "code",
      "source": [
        "SORTING THE TOP 3 STUDENTS IN ENGLISH:"
      ],
      "metadata": {
        "id": "POTXDIma8sYJ"
      },
      "execution_count": null,
      "outputs": []
    },
    {
      "cell_type": "code",
      "source": [
        "print(\"TOP 3 STUDENTS IN ENGLISH\")\n",
        "sorted= df.sort_values(by='English',ascending=False).head(3)\n",
        "print(sorted)"
      ],
      "metadata": {
        "colab": {
          "base_uri": "https://localhost:8080/"
        },
        "id": "8q3Vr2qg80KD",
        "outputId": "0d2bbd53-e5fd-481c-aa14-d42106714b66"
      },
      "execution_count": 15,
      "outputs": [
        {
          "output_type": "stream",
          "name": "stdout",
          "text": [
            "TOP 3 STUDENTS IN ENGLISH\n",
            "    Name  Math  Science  English    Average\n",
            "1  Priya    92       89       96  92.333333\n",
            "3  Anita    88       95       90  91.000000\n",
            "0   Amit    78       85       74  79.000000\n"
          ]
        }
      ]
    },
    {
      "cell_type": "markdown",
      "source": [
        "BAR CHART:"
      ],
      "metadata": {
        "id": "LPjP0gSP-Wh7"
      }
    },
    {
      "cell_type": "code",
      "source": [
        "import matplotlib.pyplot as plt\n",
        "\n",
        "plt.figure(figsize=(5,3))\n",
        "plt.bar(df['Name'],df['Average'],color='black')\n",
        "plt.title('AVERAGE SCORE ANALYSIS')\n",
        "plt.xlabel('Name')\n",
        "plt.ylabel('Average')\n",
        "plt.xticks(rotation = 45)\n",
        "plt.grid(axis = 'y')\n",
        "plt.tight_layout()\n",
        "plt.show()"
      ],
      "metadata": {
        "colab": {
          "base_uri": "https://localhost:8080/",
          "height": 307
        },
        "id": "tlbc2_2R-YeU",
        "outputId": "47112d4a-4e85-48a0-bb7a-4526ef7605fb"
      },
      "execution_count": 26,
      "outputs": [
        {
          "output_type": "display_data",
          "data": {
            "text/plain": [
              "<Figure size 500x300 with 1 Axes>"
            ],
            "image/png": "[encoded data removed]"
          },
          "metadata": {}
        }
      ]
    },
    {
      "cell_type": "markdown",
      "source": [
        "LINE CHART:"
      ],
      "metadata": {
        "id": "cvlF-ZBKAu18"
      }
    },
    {
      "cell_type": "code",
      "source": [
        "import matplotlib.pyplot as plt\n",
        "df.set_index('Name')[['Math', 'Science', 'English']].plot(\n",
        "    kind='line',\n",
        "    marker='*',\n",
        "    figsize=(5, 3),\n",
        "    color = ['red','orange','black'],\n",
        "    linestyle = ':')\n",
        "plt.title('STUDENT SCORES')\n",
        "plt.xlabel('NAME')\n",
        "plt.ylabel('SCORES')\n",
        "plt.grid(True)\n",
        "plt.show()\n"
      ],
      "metadata": {
        "colab": {
          "base_uri": "https://localhost:8080/",
          "height": 333
        },
        "id": "XT4NLNovAwxI",
        "outputId": "d84b92ff-5c9e-421d-cbde-9c44272e0984"
      },
      "execution_count": 50,
      "outputs": [
        {
          "output_type": "display_data",
          "data": {
            "text/plain": [
              "<Figure size 500x300 with 1 Axes>"
            ],
            "image/png": "[encoded data removed]"
          },
          "metadata": {}
        }
      ]
    },
    {
      "cell_type": "markdown",
      "source": [
        "SUBJECT WITH HIGHEST TOTAL SCORE ACROSS ALL STUDENTS:"
      ],
      "metadata": {
        "id": "1iD46ICiCV6x"
      }
    },
    {
      "cell_type": "code",
      "source": [
        "subject_totals = df[['Math', 'Science', 'English']].sum()\n",
        "top_subject = subject_totals.idxmax()\n",
        "\n",
        "print(f\"SUBJECT WITH HIGHEST TOTAL SCORE ACROSS STUDENTS: {top_subject}\")\n"
      ],
      "metadata": {
        "colab": {
          "base_uri": "https://localhost:8080/"
        },
        "id": "s6sjPrhECdBh",
        "outputId": "fb4aa7e9-ef8e-40e7-d1bc-a9e832190495"
      },
      "execution_count": 34,
      "outputs": [
        {
          "output_type": "stream",
          "name": "stdout",
          "text": [
            "SUBJECT WITH HIGHEST TOTAL SCORE ACROSS STUDENTS: Science\n"
          ]
        }
      ]
    },
    {
      "cell_type": "markdown",
      "source": [
        "SAVING IT AS STUDENTS SUMMARY:"
      ],
      "metadata": {
        "id": "PibRVomSCt53"
      }
    },
    {
      "cell_type": "code",
      "source": [
        "df.to_csv('/content/drive/My Drive/data engineering/students_summary.csv', index=False)"
      ],
      "metadata": {
        "id": "Iz-YYx9PCwyG"
      },
      "execution_count": 32,
      "outputs": []
    }
  ]
}