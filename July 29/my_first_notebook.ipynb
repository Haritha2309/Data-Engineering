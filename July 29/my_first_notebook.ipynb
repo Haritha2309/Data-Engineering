{
  "nbformat": 4,
  "nbformat_minor": 0,
  "metadata": {
    "colab": {
      "provenance": []
    },
    "kernelspec": {
      "name": "python3",
      "display_name": "Python 3"
    },
    "language_info": {
      "name": "python"
    }
  },
  "cells": [
    {
      "cell_type": "markdown",
      "source": [
        "### MY FIRST NOTEBOOK\n",
        "This notebook prints greeting using a variable"
      ],
      "metadata": {
        "id": "5pz6krkx_QBl"
      }
    },
    {
      "cell_type": "code",
      "execution_count": 1,
      "metadata": {
        "colab": {
          "base_uri": "https://localhost:8080/"
        },
        "id": "dr3qFnRV9Pq6",
        "outputId": "98783357-d898-4176-b638-d2339205e141"
      },
      "outputs": [
        {
          "output_type": "stream",
          "name": "stdout",
          "text": [
            "Hello Haritha\n"
          ]
        }
      ],
      "source": [
        "name = 'Haritha'\n",
        "print(\"Hello\",name)"
      ]
    },
    {
      "cell_type": "markdown",
      "source": [
        "#### Working on it"
      ],
      "metadata": {
        "id": "3owFngZsAeeZ"
      }
    },
    {
      "cell_type": "markdown",
      "source": [
        "THE EXAMPLE TO FIND AREA OF RECTANGLE"
      ],
      "metadata": {
        "id": "oOikVuUrCwsk"
      }
    },
    {
      "cell_type": "code",
      "source": [
        "length = 20\n",
        "width = 10\n",
        "area = length * width\n",
        "print(f\"{area} is the area of the rectangle\")"
      ],
      "metadata": {
        "colab": {
          "base_uri": "https://localhost:8080/"
        },
        "id": "lBairNtxBcAg",
        "outputId": "d2a3c6a5-81a7-4394-ab22-22864a1993d4"
      },
      "execution_count": 4,
      "outputs": [
        {
          "output_type": "stream",
          "name": "stdout",
          "text": [
            "200 is the area of the rectangle\n"
          ]
        }
      ]
    },
    {
      "cell_type": "code",
      "source": [
        "import pandas as pd\n",
        "data = {\n",
        "    'Name': ['Raj', 'Priya', 'Amit'],\n",
        "    'Age': [25, 30, 22],\n",
        "    'City': ['Delhi', 'Mumbai', 'Bangalore']\n",
        "}\n",
        "df = pd.DataFrame(data)\n",
        "print(df)"
      ],
      "metadata": {
        "colab": {
          "base_uri": "https://localhost:8080/"
        },
        "id": "99RSREF8C8zK",
        "outputId": "74ba5c6e-8ab4-4481-b7b2-244db80edcda"
      },
      "execution_count": 5,
      "outputs": [
        {
          "output_type": "stream",
          "name": "stdout",
          "text": [
            "    Name  Age       City\n",
            "0    Raj   25      Delhi\n",
            "1  Priya   30     Mumbai\n",
            "2   Amit   22  Bangalore\n"
          ]
        }
      ]
    },
    {
      "cell_type": "markdown",
      "source": [
        "WORKING ON DATA FRAME :"
      ],
      "metadata": {
        "id": "lc18l0sbaah_"
      }
    },
    {
      "cell_type": "markdown",
      "source": [
        "EXTRACTING THE SHAPE(MATRIX):"
      ],
      "metadata": {
        "id": "qFcD8klUaltB"
      }
    },
    {
      "cell_type": "code",
      "source": [
        "print(df.shape)"
      ],
      "metadata": {
        "colab": {
          "base_uri": "https://localhost:8080/"
        },
        "id": "F1hrfYfSaeV2",
        "outputId": "dbe64d4a-6ea3-401d-80d6-c1cfad0df6a5"
      },
      "execution_count": 6,
      "outputs": [
        {
          "output_type": "stream",
          "name": "stdout",
          "text": [
            "(3, 3)\n"
          ]
        }
      ]
    },
    {
      "cell_type": "markdown",
      "source": [
        "TO FIND NO OF COLUMNS:"
      ],
      "metadata": {
        "id": "oiYYhgIlatYW"
      }
    },
    {
      "cell_type": "code",
      "source": [
        "print(df.columns)"
      ],
      "metadata": {
        "colab": {
          "base_uri": "https://localhost:8080/"
        },
        "id": "RktCrY15awAJ",
        "outputId": "4c9242de-0739-4641-c1a8-6f344e092783"
      },
      "execution_count": 7,
      "outputs": [
        {
          "output_type": "stream",
          "name": "stdout",
          "text": [
            "Index(['Name', 'Age', 'City'], dtype='object')\n"
          ]
        }
      ]
    },
    {
      "cell_type": "markdown",
      "source": [
        "DATA TYPES AND MEMORY USAGE"
      ],
      "metadata": {
        "id": "g_6ef31da1KE"
      }
    },
    {
      "cell_type": "code",
      "source": [
        "print(df.info())"
      ],
      "metadata": {
        "colab": {
          "base_uri": "https://localhost:8080/"
        },
        "id": "rGO9RiaCa44C",
        "outputId": "a56a2a0e-ba17-470b-f66a-0d64f8280b49"
      },
      "execution_count": 9,
      "outputs": [
        {
          "output_type": "stream",
          "name": "stdout",
          "text": [
            "<class 'pandas.core.frame.DataFrame'>\n",
            "RangeIndex: 3 entries, 0 to 2\n",
            "Data columns (total 3 columns):\n",
            " #   Column  Non-Null Count  Dtype \n",
            "---  ------  --------------  ----- \n",
            " 0   Name    3 non-null      object\n",
            " 1   Age     3 non-null      int64 \n",
            " 2   City    3 non-null      object\n",
            "dtypes: int64(1), object(2)\n",
            "memory usage: 204.0+ bytes\n",
            "None\n"
          ]
        }
      ]
    },
    {
      "cell_type": "markdown",
      "source": [
        "ALL IN 1 MATHS OPERATIONS OF NUMERIC COLUMN:"
      ],
      "metadata": {
        "id": "eBO4dzINbF80"
      }
    },
    {
      "cell_type": "code",
      "source": [
        "print(df.describe())"
      ],
      "metadata": {
        "colab": {
          "base_uri": "https://localhost:8080/"
        },
        "id": "Gd2FYehbbK-U",
        "outputId": "2540056e-dd53-409f-e65e-167d2edcf3a2"
      },
      "execution_count": 10,
      "outputs": [
        {
          "output_type": "stream",
          "name": "stdout",
          "text": [
            "             Age\n",
            "count   3.000000\n",
            "mean   25.666667\n",
            "std     4.041452\n",
            "min    22.000000\n",
            "25%    23.500000\n",
            "50%    25.000000\n",
            "75%    27.500000\n",
            "max    30.000000\n"
          ]
        }
      ]
    },
    {
      "cell_type": "markdown",
      "source": [
        "CREATING A CSV FILE AND WRITING ON IT:"
      ],
      "metadata": {
        "id": "YcqRJEEkfkLO"
      }
    },
    {
      "cell_type": "code",
      "source": [
        "csv_data = \"\"\"Name,Age,Department,Salary\n",
        "Aarav,28,Sales,50000\n",
        "Sneha,32,Engineering,80000\n",
        "Kabir,25,HR,45000\n",
        "Anaya,29,Marketing,60000\n",
        "Rohan,35,Engineering,85000\n",
        "\"\"\"\n",
        "with open(\"employees.csv\",\"w\") as file:\n",
        "  file.write(csv_data)"
      ],
      "metadata": {
        "id": "Z8gb4R7IfotZ"
      },
      "execution_count": 11,
      "outputs": []
    },
    {
      "cell_type": "markdown",
      "source": [
        "READING FROM THAT CSV:"
      ],
      "metadata": {
        "id": "rmu9slpif33A"
      }
    },
    {
      "cell_type": "code",
      "source": [
        "import pandas as pd\n",
        "df = pd.read_csv(\"employees.csv\")\n",
        "print(df)"
      ],
      "metadata": {
        "colab": {
          "base_uri": "https://localhost:8080/"
        },
        "id": "bo_r2-Hjf6oH",
        "outputId": "ef5d39b8-faef-42cf-e102-fa8b8d17c33c"
      },
      "execution_count": 12,
      "outputs": [
        {
          "output_type": "stream",
          "name": "stdout",
          "text": [
            "    Name  Age   Department  Salary\n",
            "0  Aarav   28        Sales   50000\n",
            "1  Sneha   32  Engineering   80000\n",
            "2  Kabir   25           HR   45000\n",
            "3  Anaya   29    Marketing   60000\n",
            "4  Rohan   35  Engineering   85000\n"
          ]
        }
      ]
    },
    {
      "cell_type": "markdown",
      "source": [
        "DATAS OF EMPLOYEES IN ENGINEERING DEPARTMENT"
      ],
      "metadata": {
        "id": "D88lPyMcioD4"
      }
    },
    {
      "cell_type": "code",
      "source": [
        "eng_emp = df[df['Department'] == 'Engineering']\n",
        "print(eng_emp)"
      ],
      "metadata": {
        "colab": {
          "base_uri": "https://localhost:8080/"
        },
        "id": "M8NXtfJKiZ8J",
        "outputId": "07f3b50b-3a00-499b-afce-3d24afeec1b4"
      },
      "execution_count": 13,
      "outputs": [
        {
          "output_type": "stream",
          "name": "stdout",
          "text": [
            "    Name  Age   Department  Salary\n",
            "1  Sneha   32  Engineering   80000\n",
            "4  Rohan   35  Engineering   85000\n"
          ]
        }
      ]
    },
    {
      "cell_type": "markdown",
      "source": [
        "PRINTING AVERAGE SALARY"
      ],
      "metadata": {
        "id": "9pi47JTKjX03"
      }
    },
    {
      "cell_type": "code",
      "source": [
        "avg_salary = df['Salary'].mean()\n",
        "print(f\"AVERAGE SALARY: {avg_salary}\")"
      ],
      "metadata": {
        "colab": {
          "base_uri": "https://localhost:8080/"
        },
        "id": "U28Q_NAHit05",
        "outputId": "5a420a00-649b-486a-c5d6-be6805ef522c"
      },
      "execution_count": 14,
      "outputs": [
        {
          "output_type": "stream",
          "name": "stdout",
          "text": [
            "AVERAGE SALARY: 64000.0\n"
          ]
        }
      ]
    },
    {
      "cell_type": "markdown",
      "source": [
        "DATA OF THE HIGHEST PAID EMPLOYEE"
      ],
      "metadata": {
        "id": "x13Dv7Emja33"
      }
    },
    {
      "cell_type": "code",
      "source": [
        "high_pay = df[df['Salary'] == df['Salary'].max()]\n",
        "print(\"HIGHEST PAID: \", high_pay)"
      ],
      "metadata": {
        "colab": {
          "base_uri": "https://localhost:8080/"
        },
        "id": "nokegKkUjBsv",
        "outputId": "9094be42-646c-44fa-fe0d-5f145cc8c4f7"
      },
      "execution_count": 15,
      "outputs": [
        {
          "output_type": "stream",
          "name": "stdout",
          "text": [
            "HIGHEST PAID:      Name  Age   Department  Salary\n",
            "4  Rohan   35  Engineering   85000\n"
          ]
        }
      ]
    },
    {
      "cell_type": "markdown",
      "source": [
        "GROUPING BY DEPARTMENT AND GET AVG SALARY"
      ],
      "metadata": {
        "id": "4zRLnoTokQ7N"
      }
    },
    {
      "cell_type": "code",
      "source": [
        "avg_salary_dept = df.groupby('Department')['Salary'].mean()\n",
        "print(\"AVERAGE SALARY PER DEPT:\\n \" ,avg_salary_dept)"
      ],
      "metadata": {
        "colab": {
          "base_uri": "https://localhost:8080/"
        },
        "id": "MNNGW_anlL71",
        "outputId": "da537a37-f935-41b4-9fbe-e72e7e5973f5"
      },
      "execution_count": 20,
      "outputs": [
        {
          "output_type": "stream",
          "name": "stdout",
          "text": [
            "AVERAGE SALARY PER DEPT:\n",
            "  Department\n",
            "Engineering    82500.0\n",
            "HR             45000.0\n",
            "Marketing      60000.0\n",
            "Sales          50000.0\n",
            "Name: Salary, dtype: float64\n"
          ]
        }
      ]
    },
    {
      "cell_type": "markdown",
      "source": [
        "SORTING BY AGE"
      ],
      "metadata": {
        "id": "U3GGjN6OmAyQ"
      }
    },
    {
      "cell_type": "code",
      "source": [
        "sort_age = df.sort_values(by='Age')\n",
        "print(\"SORTED BY AGE : \\n\",sort_age)"
      ],
      "metadata": {
        "colab": {
          "base_uri": "https://localhost:8080/"
        },
        "id": "6whEgvOrmDT4",
        "outputId": "43fbead1-1989-484e-f494-e5db69f95d43"
      },
      "execution_count": 21,
      "outputs": [
        {
          "output_type": "stream",
          "name": "stdout",
          "text": [
            "SORTED BY AGE : \n",
            "     Name  Age   Department  Salary\n",
            "2  Kabir   25           HR   45000\n",
            "0  Aarav   28        Sales   50000\n",
            "3  Anaya   29    Marketing   60000\n",
            "1  Sneha   32  Engineering   80000\n",
            "4  Rohan   35  Engineering   85000\n"
          ]
        }
      ]
    },
    {
      "cell_type": "markdown",
      "source": [
        "GRAPHING IT:"
      ],
      "metadata": {
        "id": "_UuumiXhmT4b"
      }
    },
    {
      "cell_type": "code",
      "source": [
        "import matplotlib.pyplot as plt\n",
        "\n",
        "plt.figure(figsize=(10,5))\n",
        "plt.bar(df['Name'],df['Salary'],color = 'skyblue')\n",
        "plt.title('Employee Salaries')\n",
        "plt.xlabel('Name')\n",
        "plt.ylabel('Salary')\n",
        "plt.xticks(rotation=45)\n",
        "plt.grid(True)\n",
        "plt.tight_layout()\n",
        "plt.show()"
      ],
      "metadata": {
        "colab": {
          "base_uri": "https://localhost:8080/",
          "height": 336
        },
        "id": "tVx-8zoDmVz2",
        "outputId": "edfa4da1-c7db-4798-836f-d48bfea1dc91"
      },
      "execution_count": 23,
      "outputs": [
        {
          "output_type": "display_data",
          "data": {
            "text/plain": [
              "<Figure size 1000x500 with 1 Axes>"
            ],
            "image/png": "[encoded data removed]"
          },
          "metadata": {}
        }
      ]
    }
  ]
}