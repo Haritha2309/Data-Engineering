{
  "nbformat": 4,
  "nbformat_minor": 0,
  "metadata": {
    "colab": {
      "provenance": []
    },
    "kernelspec": {
      "name": "python3",
      "display_name": "Python 3"
    },
    "language_info": {
      "name": "python"
    }
  },
  "cells": [
    {
      "cell_type": "code",
      "execution_count": 1,
      "metadata": {
        "id": "uCMZCZiZAUCM"
      },
      "outputs": [],
      "source": [
        "import pandas as pd\n",
        "enrollments_data = {\n",
        "    \"enrollment_id\": [\"E001\", \"E002\", \"E003\", \"E004\", \"E005\", \"E006\", \"E007\", \"E008\", \"E009\", \"E010\"],\n",
        "    \"student_id\": [\"S001\", \"S002\", \"S003\", \"S004\", \"S005\", \"S006\", \"S007\", \"S008\", \"S009\", \"S010\"],\n",
        "    \"course_id\": [\"C001\", \"C001\", \"C002\", \"C002\", \"C003\", \"C001\", \"C003\", \"C004\", \"C004\", \"C002\"],\n",
        "    \"enrollment_date\": [\"2025-06-01\", \"2025-06-03\", \"2025-06-05\", \"2025-06-07\", \"2025-06-10\", \"2025-06-12\", \"2025-06-15\", \"2025-06-17\", \"2025-06-20\", \"2025-06-22\"]\n",
        "}\n",
        "\n"
      ]
    },
    {
      "cell_type": "code",
      "source": [
        "pd.DataFrame(enrollments_data).to_csv('enrollment.csv',index = False)"
      ],
      "metadata": {
        "id": "qdgvsk6GDPdM"
      },
      "execution_count": 2,
      "outputs": []
    },
    {
      "cell_type": "code",
      "source": [
        "progress_data = {\n",
        "    \"enrollment_id\": [\"E001\", \"E002\", \"E003\", \"E004\", \"E005\", \"E006\", \"E007\", \"E008\", \"E009\", \"E010\"],\n",
        "    \"completion_percentage\": [95, 20, 88, 92, 30, 100, 10, 0, 96, 65],\n",
        "    \"last_active_date\": [\"2025-07-15\", \"2025-07-05\", \"2025-07-12\", \"2025-07-18\", \"2025-07-11\", \"2025-07-20\", \"2025-07-03\", \"2025-07-01\", \"2025-07-25\", \"2025-07-21\"]\n",
        "}\n",
        "pd.DataFrame(progress_data).to_csv(\"progress.csv\", index=False)\n"
      ],
      "metadata": {
        "id": "xE-tOgfmDYR7"
      },
      "execution_count": 4,
      "outputs": []
    },
    {
      "cell_type": "code",
      "source": [
        "courses_data = {\n",
        "    \"course_id\": [\"C001\", \"C002\", \"C003\", \"C004\", \"FSD\", \"EMBEDDED\"],\n",
        "    \"course_name\": [\"Python for Beginners\", \"Data Science Fundamentals\", \"Web Development Basics\",\n",
        "        \"Machine Learning 101\", \"Website Development\", \"Hardware + Software\"],\n",
        "    \"instructor\": [\"John Doe\", \"Jane Smith\", \"Alan Turing\", \"Grace Hopper\", \"HARI\", \"KARPAGAM\"],\n",
        "    \"description\": [\"Intro to Python with basics like loops and functions.\",\"Learn data analysis and basic statistics.\",\n",
        "        \"HTML, CSS, and JavaScript for websites.\",\"Overview of ML models and concepts.\",\"Frontend and backend development skills.\",\"Build embedded systems with C and sensors.\"]\n",
        "}\n",
        "pd.DataFrame(courses_data).to_csv(\"courses.csv\", index=False)\n"
      ],
      "metadata": {
        "id": "n9g8KMY2Dd-P"
      },
      "execution_count": 9,
      "outputs": []
    },
    {
      "cell_type": "code",
      "source": [
        "from google.colab import files\n",
        "files.download(\"enrollment.csv\")\n",
        "files.download(\"progress.csv\")\n",
        "files.download(\"courses.csv\")"
      ],
      "metadata": {
        "colab": {
          "base_uri": "https://localhost:8080/",
          "height": 17
        },
        "id": "e62uC4XEDuce",
        "outputId": "d635a24a-0252-4354-c890-4741b8ace295"
      },
      "execution_count": 10,
      "outputs": [
        {
          "output_type": "display_data",
          "data": {
            "text/plain": [
              "<IPython.core.display.Javascript object>"
            ],
            "application/javascript": [
              "\n",
              "    async function download(id, filename, size) {\n",
              "      if (!google.colab.kernel.accessAllowed) {\n",
              "        return;\n",
              "      }\n",
              "      const div = document.createElement('div');\n",
              "      const label = document.createElement('label');\n",
              "      label.textContent = `Downloading \"${filename}\": `;\n",
              "      div.appendChild(label);\n",
              "      const progress = document.createElement('progress');\n",
              "      progress.max = size;\n",
              "      div.appendChild(progress);\n",
              "      document.body.appendChild(div);\n",
              "\n",
              "      const buffers = [];\n",
              "      let downloaded = 0;\n",
              "\n",
              "      const channel = await google.colab.kernel.comms.open(id);\n",
              "      // Send a message to notify the kernel that we're ready.\n",
              "      channel.send({})\n",
              "\n",
              "      for await (const message of channel.messages) {\n",
              "        // Send a message to notify the kernel that we're ready.\n",
              "        channel.send({})\n",
              "        if (message.buffers) {\n",
              "          for (const buffer of message.buffers) {\n",
              "            buffers.push(buffer);\n",
              "            downloaded += buffer.byteLength;\n",
              "            progress.value = downloaded;\n",
              "          }\n",
              "        }\n",
              "      }\n",
              "      const blob = new Blob(buffers, {type: 'application/binary'});\n",
              "      const a = document.createElement('a');\n",
              "      a.href = window.URL.createObjectURL(blob);\n",
              "      a.download = filename;\n",
              "      div.appendChild(a);\n",
              "      a.click();\n",
              "      div.remove();\n",
              "    }\n",
              "  "
            ]
          },
          "metadata": {}
        },
        {
          "output_type": "display_data",
          "data": {
            "text/plain": [
              "<IPython.core.display.Javascript object>"
            ],
            "application/javascript": [
              "download(\"download_bb73bfcc-38ff-4dbf-972a-e18678b2a65f\", \"enrollment.csv\", 311)"
            ]
          },
          "metadata": {}
        },
        {
          "output_type": "display_data",
          "data": {
            "text/plain": [
              "<IPython.core.display.Javascript object>"
            ],
            "application/javascript": [
              "\n",
              "    async function download(id, filename, size) {\n",
              "      if (!google.colab.kernel.accessAllowed) {\n",
              "        return;\n",
              "      }\n",
              "      const div = document.createElement('div');\n",
              "      const label = document.createElement('label');\n",
              "      label.textContent = `Downloading \"${filename}\": `;\n",
              "      div.appendChild(label);\n",
              "      const progress = document.createElement('progress');\n",
              "      progress.max = size;\n",
              "      div.appendChild(progress);\n",
              "      document.body.appendChild(div);\n",
              "\n",
              "      const buffers = [];\n",
              "      let downloaded = 0;\n",
              "\n",
              "      const channel = await google.colab.kernel.comms.open(id);\n",
              "      // Send a message to notify the kernel that we're ready.\n",
              "      channel.send({})\n",
              "\n",
              "      for await (const message of channel.messages) {\n",
              "        // Send a message to notify the kernel that we're ready.\n",
              "        channel.send({})\n",
              "        if (message.buffers) {\n",
              "          for (const buffer of message.buffers) {\n",
              "            buffers.push(buffer);\n",
              "            downloaded += buffer.byteLength;\n",
              "            progress.value = downloaded;\n",
              "          }\n",
              "        }\n",
              "      }\n",
              "      const blob = new Blob(buffers, {type: 'application/binary'});\n",
              "      const a = document.createElement('a');\n",
              "      a.href = window.URL.createObjectURL(blob);\n",
              "      a.download = filename;\n",
              "      div.appendChild(a);\n",
              "      a.click();\n",
              "      div.remove();\n",
              "    }\n",
              "  "
            ]
          },
          "metadata": {}
        },
        {
          "output_type": "display_data",
          "data": {
            "text/plain": [
              "<IPython.core.display.Javascript object>"
            ],
            "application/javascript": [
              "download(\"download_bc2466ef-a2e7-41b3-ba05-cae9fcd91479\", \"progress.csv\", 243)"
            ]
          },
          "metadata": {}
        },
        {
          "output_type": "display_data",
          "data": {
            "text/plain": [
              "<IPython.core.display.Javascript object>"
            ],
            "application/javascript": [
              "\n",
              "    async function download(id, filename, size) {\n",
              "      if (!google.colab.kernel.accessAllowed) {\n",
              "        return;\n",
              "      }\n",
              "      const div = document.createElement('div');\n",
              "      const label = document.createElement('label');\n",
              "      label.textContent = `Downloading \"${filename}\": `;\n",
              "      div.appendChild(label);\n",
              "      const progress = document.createElement('progress');\n",
              "      progress.max = size;\n",
              "      div.appendChild(progress);\n",
              "      document.body.appendChild(div);\n",
              "\n",
              "      const buffers = [];\n",
              "      let downloaded = 0;\n",
              "\n",
              "      const channel = await google.colab.kernel.comms.open(id);\n",
              "      // Send a message to notify the kernel that we're ready.\n",
              "      channel.send({})\n",
              "\n",
              "      for await (const message of channel.messages) {\n",
              "        // Send a message to notify the kernel that we're ready.\n",
              "        channel.send({})\n",
              "        if (message.buffers) {\n",
              "          for (const buffer of message.buffers) {\n",
              "            buffers.push(buffer);\n",
              "            downloaded += buffer.byteLength;\n",
              "            progress.value = downloaded;\n",
              "          }\n",
              "        }\n",
              "      }\n",
              "      const blob = new Blob(buffers, {type: 'application/binary'});\n",
              "      const a = document.createElement('a');\n",
              "      a.href = window.URL.createObjectURL(blob);\n",
              "      a.download = filename;\n",
              "      div.appendChild(a);\n",
              "      a.click();\n",
              "      div.remove();\n",
              "    }\n",
              "  "
            ]
          },
          "metadata": {}
        },
        {
          "output_type": "display_data",
          "data": {
            "text/plain": [
              "<IPython.core.display.Javascript object>"
            ],
            "application/javascript": [
              "download(\"download_920b633a-4682-49a1-b165-e62b0d800e66\", \"courses.csv\", 526)"
            ]
          },
          "metadata": {}
        }
      ]
    },
    {
      "cell_type": "markdown",
      "source": [
        "Load large enrollment and progress data using PySpark"
      ],
      "metadata": {
        "id": "9LFLPqQ6LWmC"
      }
    },
    {
      "cell_type": "code",
      "source": [
        "from pyspark.sql import SparkSession\n",
        "\n",
        "spark = SparkSession.builder.appName('CourseAnalysis').getOrCreate()"
      ],
      "metadata": {
        "id": "VX7_8ofZGXzM"
      },
      "execution_count": 12,
      "outputs": []
    },
    {
      "cell_type": "code",
      "source": [
        "enrollemnt = spark.read.csv('enrollment.csv',header = True,inferSchema=True)\n",
        "progress = spark.read.csv('progress.csv',header = True,inferSchema=True)\n",
        "course = spark.read.csv('courses.csv',header = True,inferSchema=True)"
      ],
      "metadata": {
        "id": "rJDmh11YHuht"
      },
      "execution_count": 13,
      "outputs": []
    },
    {
      "cell_type": "code",
      "source": [
        "enrollemnt.show()\n",
        "progress.show()\n",
        "course.show(truncate= False)"
      ],
      "metadata": {
        "colab": {
          "base_uri": "https://localhost:8080/"
        },
        "id": "bl5xP3CgIDNl",
        "outputId": "10d0f405-cd9b-4866-aa31-b9993f3a4f34"
      },
      "execution_count": 15,
      "outputs": [
        {
          "output_type": "stream",
          "name": "stdout",
          "text": [
            "+-------------+----------+---------+---------------+\n",
            "|enrollment_id|student_id|course_id|enrollment_date|\n",
            "+-------------+----------+---------+---------------+\n",
            "|         E001|      S001|     C001|     2025-06-01|\n",
            "|         E002|      S002|     C001|     2025-06-03|\n",
            "|         E003|      S003|     C002|     2025-06-05|\n",
            "|         E004|      S004|     C002|     2025-06-07|\n",
            "|         E005|      S005|     C003|     2025-06-10|\n",
            "|         E006|      S006|     C001|     2025-06-12|\n",
            "|         E007|      S007|     C003|     2025-06-15|\n",
            "|         E008|      S008|     C004|     2025-06-17|\n",
            "|         E009|      S009|     C004|     2025-06-20|\n",
            "|         E010|      S010|     C002|     2025-06-22|\n",
            "+-------------+----------+---------+---------------+\n",
            "\n",
            "+-------------+---------------------+----------------+\n",
            "|enrollment_id|completion_percentage|last_active_date|\n",
            "+-------------+---------------------+----------------+\n",
            "|         E001|                   95|      2025-07-15|\n",
            "|         E002|                   20|      2025-07-05|\n",
            "|         E003|                   88|      2025-07-12|\n",
            "|         E004|                   92|      2025-07-18|\n",
            "|         E005|                   30|      2025-07-11|\n",
            "|         E006|                  100|      2025-07-20|\n",
            "|         E007|                   10|      2025-07-03|\n",
            "|         E008|                    0|      2025-07-01|\n",
            "|         E009|                   96|      2025-07-25|\n",
            "|         E010|                   65|      2025-07-21|\n",
            "+-------------+---------------------+----------------+\n",
            "\n",
            "+---------+-------------------------+------------+-----------------------------------------------------+\n",
            "|course_id|course_name              |instructor  |description                                          |\n",
            "+---------+-------------------------+------------+-----------------------------------------------------+\n",
            "|C001     |Python for Beginners     |John Doe    |Intro to Python with basics like loops and functions.|\n",
            "|C002     |Data Science Fundamentals|Jane Smith  |Learn data analysis and basic statistics.            |\n",
            "|C003     |Web Development Basics   |Alan Turing |HTML, CSS, and JavaScript for websites.              |\n",
            "|C004     |Machine Learning 101     |Grace Hopper|Overview of ML models and concepts.                  |\n",
            "|FSD      |Website Development      |HARI        |Frontend and backend development skills.             |\n",
            "|EMBEDDED |Hardware + Software      |KARPAGAM    |Build embedded systems with C and sensors.           |\n",
            "+---------+-------------------------+------------+-----------------------------------------------------+\n",
            "\n"
          ]
        }
      ]
    },
    {
      "cell_type": "markdown",
      "source": [
        "Join tables to get course-wise progress"
      ],
      "metadata": {
        "id": "DLuij_DZLR2v"
      }
    },
    {
      "cell_type": "code",
      "source": [
        "joined = enrollemnt.join(progress ,on='enrollment_id',how='inner' )\n"
      ],
      "metadata": {
        "id": "XUPLipx-JYKJ"
      },
      "execution_count": 16,
      "outputs": []
    },
    {
      "cell_type": "code",
      "source": [
        "from pyspark.sql.functions import when,col\n",
        "joined = joined.withColumn(\n",
        "    \"is_completed\", when(col(\"completion_percentage\") >= 100, 'Yes').otherwise('No')\n",
        ").withColumn(\n",
        "    \"is_dropped\", when(col(\"completion_percentage\") < 30, 'Yes').otherwise('No')\n",
        ")"
      ],
      "metadata": {
        "id": "qI-Ekt5cJ8iP"
      },
      "execution_count": 22,
      "outputs": []
    },
    {
      "cell_type": "code",
      "source": [
        "full = joined.join(course,on='course_id',how='left')\n",
        "full.show()"
      ],
      "metadata": {
        "colab": {
          "base_uri": "https://localhost:8080/"
        },
        "id": "Syw9lTiHKR_G",
        "outputId": "c9a270b6-b2e2-4246-bc37-45b85f645726"
      },
      "execution_count": 23,
      "outputs": [
        {
          "output_type": "stream",
          "name": "stdout",
          "text": [
            "+---------+-------------+----------+---------------+---------------------+----------------+------------+----------+--------------------+------------+--------------------+\n",
            "|course_id|enrollment_id|student_id|enrollment_date|completion_percentage|last_active_date|is_completed|is_dropped|         course_name|  instructor|         description|\n",
            "+---------+-------------+----------+---------------+---------------------+----------------+------------+----------+--------------------+------------+--------------------+\n",
            "|     C001|         E001|      S001|     2025-06-01|                   95|      2025-07-15|          No|        No|Python for Beginners|    John Doe|Intro to Python w...|\n",
            "|     C001|         E002|      S002|     2025-06-03|                   20|      2025-07-05|          No|       Yes|Python for Beginners|    John Doe|Intro to Python w...|\n",
            "|     C002|         E003|      S003|     2025-06-05|                   88|      2025-07-12|          No|        No|Data Science Fund...|  Jane Smith|Learn data analys...|\n",
            "|     C002|         E004|      S004|     2025-06-07|                   92|      2025-07-18|          No|        No|Data Science Fund...|  Jane Smith|Learn data analys...|\n",
            "|     C003|         E005|      S005|     2025-06-10|                   30|      2025-07-11|          No|        No|Web Development B...| Alan Turing|HTML, CSS, and Ja...|\n",
            "|     C001|         E006|      S006|     2025-06-12|                  100|      2025-07-20|         Yes|        No|Python for Beginners|    John Doe|Intro to Python w...|\n",
            "|     C003|         E007|      S007|     2025-06-15|                   10|      2025-07-03|          No|       Yes|Web Development B...| Alan Turing|HTML, CSS, and Ja...|\n",
            "|     C004|         E008|      S008|     2025-06-17|                    0|      2025-07-01|          No|       Yes|Machine Learning 101|Grace Hopper|Overview of ML mo...|\n",
            "|     C004|         E009|      S009|     2025-06-20|                   96|      2025-07-25|          No|        No|Machine Learning 101|Grace Hopper|Overview of ML mo...|\n",
            "|     C002|         E010|      S010|     2025-06-22|                   65|      2025-07-21|          No|        No|Data Science Fund...|  Jane Smith|Learn data analys...|\n",
            "+---------+-------------+----------+---------------+---------------------+----------------+------------+----------+--------------------+------------+--------------------+\n",
            "\n"
          ]
        }
      ]
    },
    {
      "cell_type": "markdown",
      "source": [
        "Group by course to count total enrolled and completed students"
      ],
      "metadata": {
        "id": "JnWVDYLeLOUG"
      }
    },
    {
      "cell_type": "code",
      "source": [
        "from pyspark.sql.functions import count\n",
        "summary = full.groupBy('course_name').agg(count('*').alias('total enrolled'),\n",
        "    count(when(col(\"is_completed\") == 'Yes', True)).alias(\"completed\"),\n",
        "    count(when(col(\"is_dropped\") == 'Yes', True)).alias(\"dropped\"))\n",
        "summary.show()"
      ],
      "metadata": {
        "colab": {
          "base_uri": "https://localhost:8080/"
        },
        "id": "6D_FR2jXLX-l",
        "outputId": "592bd842-fc03-47bf-c515-364403352f51"
      },
      "execution_count": 25,
      "outputs": [
        {
          "output_type": "stream",
          "name": "stdout",
          "text": [
            "+--------------------+--------------+---------+-------+\n",
            "|         course_name|total enrolled|completed|dropped|\n",
            "+--------------------+--------------+---------+-------+\n",
            "|Web Development B...|             2|        0|      1|\n",
            "|Data Science Fund...|             3|        0|      0|\n",
            "|Machine Learning 101|             2|        0|      1|\n",
            "|Python for Beginners|             3|        1|      1|\n",
            "+--------------------+--------------+---------+-------+\n",
            "\n"
          ]
        }
      ]
    },
    {
      "cell_type": "code",
      "source": [
        "summary.coalesce(1).write.mode(\"overwrite\").option(\"header\", \"true\").csv(\"course_summary\")"
      ],
      "metadata": {
        "id": "DMEzB5fbMcj3"
      },
      "execution_count": 26,
      "outputs": []
    },
    {
      "cell_type": "code",
      "source": [
        "import shutil\n",
        "import glob\n",
        "path = glob.glob('course_summary/part-*.csv')[0]\n",
        "shutil.copy(path,'course_summary.csv')\n"
      ],
      "metadata": {
        "colab": {
          "base_uri": "https://localhost:8080/",
          "height": 36
        },
        "id": "HsXu2H1KMwPW",
        "outputId": "dd03aa70-5de7-494b-d22d-9fea02f925ef"
      },
      "execution_count": 28,
      "outputs": [
        {
          "output_type": "execute_result",
          "data": {
            "text/plain": [
              "'course_summary.csv'"
            ],
            "application/vnd.google.colaboratory.intrinsic+json": {
              "type": "string"
            }
          },
          "metadata": {},
          "execution_count": 28
        }
      ]
    },
    {
      "cell_type": "code",
      "source": [
        "from google.colab import files\n",
        "files.download('course_summary.csv')"
      ],
      "metadata": {
        "colab": {
          "base_uri": "https://localhost:8080/",
          "height": 17
        },
        "id": "L4oGl4TjNaO3",
        "outputId": "a5329289-f36a-4175-8d89-e09021199bb3"
      },
      "execution_count": 29,
      "outputs": [
        {
          "output_type": "display_data",
          "data": {
            "text/plain": [
              "<IPython.core.display.Javascript object>"
            ],
            "application/javascript": [
              "\n",
              "    async function download(id, filename, size) {\n",
              "      if (!google.colab.kernel.accessAllowed) {\n",
              "        return;\n",
              "      }\n",
              "      const div = document.createElement('div');\n",
              "      const label = document.createElement('label');\n",
              "      label.textContent = `Downloading \"${filename}\": `;\n",
              "      div.appendChild(label);\n",
              "      const progress = document.createElement('progress');\n",
              "      progress.max = size;\n",
              "      div.appendChild(progress);\n",
              "      document.body.appendChild(div);\n",
              "\n",
              "      const buffers = [];\n",
              "      let downloaded = 0;\n",
              "\n",
              "      const channel = await google.colab.kernel.comms.open(id);\n",
              "      // Send a message to notify the kernel that we're ready.\n",
              "      channel.send({})\n",
              "\n",
              "      for await (const message of channel.messages) {\n",
              "        // Send a message to notify the kernel that we're ready.\n",
              "        channel.send({})\n",
              "        if (message.buffers) {\n",
              "          for (const buffer of message.buffers) {\n",
              "            buffers.push(buffer);\n",
              "            downloaded += buffer.byteLength;\n",
              "            progress.value = downloaded;\n",
              "          }\n",
              "        }\n",
              "      }\n",
              "      const blob = new Blob(buffers, {type: 'application/binary'});\n",
              "      const a = document.createElement('a');\n",
              "      a.href = window.URL.createObjectURL(blob);\n",
              "      a.download = filename;\n",
              "      div.appendChild(a);\n",
              "      a.click();\n",
              "      div.remove();\n",
              "    }\n",
              "  "
            ]
          },
          "metadata": {}
        },
        {
          "output_type": "display_data",
          "data": {
            "text/plain": [
              "<IPython.core.display.Javascript object>"
            ],
            "application/javascript": [
              "download(\"download_a00d433d-8da0-43e4-beed-e9d9c7364d7e\", \"course_summary.csv\", 160)"
            ]
          },
          "metadata": {}
        }
      ]
    }
  ]
}