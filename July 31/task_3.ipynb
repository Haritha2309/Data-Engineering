{
  "nbformat": 4,
  "nbformat_minor": 0,
  "metadata": {
    "colab": {
      "provenance": []
    },
    "kernelspec": {
      "name": "python3",
      "display_name": "Python 3"
    },
    "language_info": {
      "name": "python"
    }
  },
  "cells": [
    {
      "cell_type": "markdown",
      "source": [
        "#DATA STRUCTURES"
      ],
      "metadata": {
        "id": "pUZRU2kiSCRM"
      }
    },
    {
      "cell_type": "code",
      "execution_count": 15,
      "metadata": {
        "id": "61HBr92yRLZw"
      },
      "outputs": [],
      "source": [
        "students = [\n",
        "[\"Ravi\", [85, 72, 90]],\n",
        "[\"Sneha\", [95, 88, 92]],\n",
        "[\"Kabir\", [65, 70, 60]],\n",
        "[\"Anita\", [75, 80, 78]]\n",
        "]"
      ]
    },
    {
      "cell_type": "markdown",
      "source": [
        "Print Ravi’s second mark."
      ],
      "metadata": {
        "id": "wzsFVCYWSMe3"
      }
    },
    {
      "cell_type": "code",
      "source": [
        "print(\"RAVIS SECOND MARK: \",students[0][1][1])"
      ],
      "metadata": {
        "colab": {
          "base_uri": "https://localhost:8080/"
        },
        "id": "NbHjNXO8SPQZ",
        "outputId": "64b43a47-1d73-4af9-ac2c-105ef2ca90be"
      },
      "execution_count": 16,
      "outputs": [
        {
          "output_type": "stream",
          "name": "stdout",
          "text": [
            "RAVIS SECOND MARK:  72\n"
          ]
        }
      ]
    },
    {
      "cell_type": "markdown",
      "source": [
        "Calculate average mark for each student."
      ],
      "metadata": {
        "id": "mCA_Sxz_SfEI"
      }
    },
    {
      "cell_type": "code",
      "source": [
        "for name,mark in students:\n",
        "  avg = sum(mark)/len(mark)\n",
        "  print(f\"Name: {avg}\")"
      ],
      "metadata": {
        "colab": {
          "base_uri": "https://localhost:8080/"
        },
        "id": "Sw3obUEpSiW4",
        "outputId": "c034a1cf-274a-4755-bb5d-62424e7c2526"
      },
      "execution_count": 17,
      "outputs": [
        {
          "output_type": "stream",
          "name": "stdout",
          "text": [
            "Name: 82.33333333333333\n",
            "Name: 91.66666666666667\n",
            "Name: 65.0\n",
            "Name: 77.66666666666667\n"
          ]
        }
      ]
    },
    {
      "cell_type": "markdown",
      "source": [
        "Print the name of students who scored above 80 in all subjects."
      ],
      "metadata": {
        "id": "9eRyzmmVSyXW"
      }
    },
    {
      "cell_type": "code",
      "source": [
        "for name,marks in students:\n",
        "  if all(mark > 80 for mark in marks):\n",
        "    print(name)"
      ],
      "metadata": {
        "colab": {
          "base_uri": "https://localhost:8080/"
        },
        "id": "jCwOm1a2S6Qv",
        "outputId": "59aa707d-b4ac-4929-ccee-a1d508ca2693"
      },
      "execution_count": 18,
      "outputs": [
        {
          "output_type": "stream",
          "name": "stdout",
          "text": [
            "Sneha\n"
          ]
        }
      ]
    },
    {
      "cell_type": "markdown",
      "source": [
        "Create a new list of [name, average]"
      ],
      "metadata": {
        "id": "13kBGIBWThyx"
      }
    },
    {
      "cell_type": "code",
      "source": [
        "avg_list = [[name, sum(marks)/len(marks)] for name, marks in students]\n",
        "students.append(avg_list)\n",
        "print(students)"
      ],
      "metadata": {
        "colab": {
          "base_uri": "https://localhost:8080/"
        },
        "id": "4_pPOAX4TlFu",
        "outputId": "92ce01ff-681c-40fd-dae5-61b80d19be1a"
      },
      "execution_count": 21,
      "outputs": [
        {
          "output_type": "stream",
          "name": "stdout",
          "text": [
            "[['Ravi', [85, 72, 90]], ['Sneha', [95, 88, 92]], ['Kabir', [65, 70, 60]], ['Anita', [75, 80, 78]], [['Ravi', 82.33333333333333], ['Sneha', 91.66666666666667], ['Kabir', 65.0], ['Anita', 77.66666666666667]]]\n"
          ]
        }
      ]
    },
    {
      "cell_type": "markdown",
      "source": [
        "#DICTIONARY"
      ],
      "metadata": {
        "id": "9o6lkTJWVTqu"
      }
    },
    {
      "cell_type": "code",
      "source": [
        "data = {\n",
        "\"products\": [\"Mobile\", \"Laptop\", \"Tablet\", \"Camera\"],\n",
        "\"prices\": [12000, 55000, 18000, 25000],\n",
        "\"ratings\": [4.5, 4.7, 4.0, 4.2]\n",
        "}"
      ],
      "metadata": {
        "id": "FQdcyIBEVYib"
      },
      "execution_count": 22,
      "outputs": []
    },
    {
      "cell_type": "markdown",
      "source": [
        "Create a list of dictionaries for each product:"
      ],
      "metadata": {
        "id": "mGyISUDkVgzV"
      }
    },
    {
      "cell_type": "code",
      "source": [
        "product = [{'name':data['products'][i],'Price':data['prices'][i],'rating':data['ratings'][i]}\n",
        "           for i in range(len(data['products']))]\n",
        "\n",
        "print(product)"
      ],
      "metadata": {
        "colab": {
          "base_uri": "https://localhost:8080/"
        },
        "id": "AFlB29DsVjZ-",
        "outputId": "94f62ba1-d3c1-4cff-e1cb-7efe90a96af0"
      },
      "execution_count": 23,
      "outputs": [
        {
          "output_type": "stream",
          "name": "stdout",
          "text": [
            "[{'name': 'Mobile', 'Price': 12000, 'rating': 4.5}, {'name': 'Laptop', 'Price': 55000, 'rating': 4.7}, {'name': 'Tablet', 'Price': 18000, 'rating': 4.0}, {'name': 'Camera', 'Price': 25000, 'rating': 4.2}]\n"
          ]
        }
      ]
    },
    {
      "cell_type": "markdown",
      "source": [
        "Filter and print products with price >20,000 and rating >= 4.5"
      ],
      "metadata": {
        "id": "b4Vsc1TBWD72"
      }
    },
    {
      "cell_type": "code",
      "source": [
        "filtered = [p for p in product\n",
        "            if p['Price']>20000 and p['rating']>=4.5]\n",
        "print(filtered)"
      ],
      "metadata": {
        "colab": {
          "base_uri": "https://localhost:8080/"
        },
        "id": "h2eWHUskWH6_",
        "outputId": "eff78f57-1b61-4e4b-c2cd-5dfd9b541ae1"
      },
      "execution_count": 26,
      "outputs": [
        {
          "output_type": "stream",
          "name": "stdout",
          "text": [
            "[{'name': 'Laptop', 'Price': 55000, 'rating': 4.7}]\n"
          ]
        }
      ]
    },
    {
      "cell_type": "markdown",
      "source": [
        "Sort the product list by rating (descending)"
      ],
      "metadata": {
        "id": "vA-aFForWo33"
      }
    },
    {
      "cell_type": "code",
      "source": [
        "sorted = sorted(product,key = lambda x: x['rating'],reverse=True)\n",
        "print(sorted)"
      ],
      "metadata": {
        "colab": {
          "base_uri": "https://localhost:8080/"
        },
        "id": "z1xztO87WrW_",
        "outputId": "194f3a51-290d-460a-aef8-1717c2db547d"
      },
      "execution_count": 27,
      "outputs": [
        {
          "output_type": "stream",
          "name": "stdout",
          "text": [
            "[{'name': 'Laptop', 'Price': 55000, 'rating': 4.7}, {'name': 'Mobile', 'Price': 12000, 'rating': 4.5}, {'name': 'Camera', 'Price': 25000, 'rating': 4.2}, {'name': 'Tablet', 'Price': 18000, 'rating': 4.0}]\n"
          ]
        }
      ]
    },
    {
      "cell_type": "markdown",
      "source": [
        "#SET"
      ],
      "metadata": {
        "id": "Nsshc6_JW-iP"
      }
    },
    {
      "cell_type": "code",
      "source": [
        "text = \"ai is the future and ai will change everything in the ai world\""
      ],
      "metadata": {
        "id": "w4WywboWXBgP"
      },
      "execution_count": 37,
      "outputs": []
    },
    {
      "cell_type": "markdown",
      "source": [
        "Count frequency of each word using a dictionary"
      ],
      "metadata": {
        "id": "JHNXmndfXEa5"
      }
    },
    {
      "cell_type": "code",
      "source": [
        "words = text.split()\n",
        "freq ={}\n",
        "for word in words:\n",
        "  freq[word]=freq.get(word,0)+1\n",
        "print(freq)"
      ],
      "metadata": {
        "colab": {
          "base_uri": "https://localhost:8080/"
        },
        "id": "sEctdUJKXINQ",
        "outputId": "d0f26083-0363-4ca6-d132-90a432dd78f5"
      },
      "execution_count": 46,
      "outputs": [
        {
          "output_type": "stream",
          "name": "stdout",
          "text": [
            "{'ai': 3, 'is': 1, 'the': 2, 'future': 1, 'and': 1, 'will': 1, 'change': 1, 'everything': 1, 'in': 1, 'world': 1}\n"
          ]
        }
      ]
    },
    {
      "cell_type": "markdown",
      "source": [
        "Print only the words that appear more than once"
      ],
      "metadata": {
        "id": "XONfDHyCXlms"
      }
    },
    {
      "cell_type": "code",
      "source": [
        "repeated ={word:count for word,count in freq.items() if count>1}\n",
        "print(repeated)"
      ],
      "metadata": {
        "colab": {
          "base_uri": "https://localhost:8080/"
        },
        "id": "zLf0rC1uXoQw",
        "outputId": "735321cc-0e1b-43fd-a8f0-fb401618828b"
      },
      "execution_count": 47,
      "outputs": [
        {
          "output_type": "stream",
          "name": "stdout",
          "text": [
            "{'ai': 3, 'the': 2}\n"
          ]
        }
      ]
    },
    {
      "cell_type": "markdown",
      "source": [
        "Convert words into a set and print sorted unique words"
      ],
      "metadata": {
        "id": "FixQ3NnsYLgr"
      }
    },
    {
      "cell_type": "code",
      "source": [
        "unique = sorted(set(words))\n",
        "print(unique)"
      ],
      "metadata": {
        "colab": {
          "base_uri": "https://localhost:8080/"
        },
        "id": "n3gDsrnUZTga",
        "outputId": "cced38a8-2e02-46df-fbbb-e96a12788afe"
      },
      "execution_count": 58,
      "outputs": [
        {
          "output_type": "stream",
          "name": "stdout",
          "text": [
            "['ai', 'and', 'change', 'everything', 'future', 'in', 'is', 'the', 'will', 'world']\n"
          ]
        }
      ]
    },
    {
      "cell_type": "markdown",
      "source": [
        "Find common words between:\n",
        "set1 = set(text.split())\n",
        "set2 = {\"ai\", \"ml\", \"data\", \"future\"}"
      ],
      "metadata": {
        "id": "azMMRywtbk1_"
      }
    },
    {
      "cell_type": "code",
      "source": [
        "set1 = set(text.split())\n",
        "set2 = {\"ai\", \"ml\", \"data\", \"future\"}"
      ],
      "metadata": {
        "id": "nBGPIBWvbpk3"
      },
      "execution_count": 59,
      "outputs": []
    },
    {
      "cell_type": "code",
      "source": [
        "common_words = set1.intersection(set2)\n",
        "print(common_words)"
      ],
      "metadata": {
        "colab": {
          "base_uri": "https://localhost:8080/"
        },
        "id": "R3_bcHmcbzTw",
        "outputId": "42b499a7-9772-4e4e-c853-4a07c1a401c6"
      },
      "execution_count": 61,
      "outputs": [
        {
          "output_type": "stream",
          "name": "stdout",
          "text": [
            "{'future', 'ai'}\n"
          ]
        }
      ]
    },
    {
      "cell_type": "markdown",
      "source": [
        "#Dictionary Comprehension + Conditional Logic"
      ],
      "metadata": {
        "id": "QCjTg6KMb7cZ"
      }
    },
    {
      "cell_type": "code",
      "source": [
        "sales = {\n",
        "'Amit': 70000,\n",
        "'Sneha': 45000,\n",
        "'Ravi': 30000,\n",
        "'Anita': 90000,\n",
        "'Kabir': 20000\n",
        "}"
      ],
      "metadata": {
        "id": "RSxdkTDGb-3n"
      },
      "execution_count": 62,
      "outputs": []
    },
    {
      "cell_type": "markdown",
      "source": [
        "Create a new dictionary with 10% bonus added to each sale"
      ],
      "metadata": {
        "id": "OnhdaboVcCVS"
      }
    },
    {
      "cell_type": "code",
      "source": [
        "bonus = {name:amount+(amount*0.10)for name,amount in sales.items()}\n",
        "print(bonus)"
      ],
      "metadata": {
        "colab": {
          "base_uri": "https://localhost:8080/"
        },
        "id": "2eP5NHq7cEuK",
        "outputId": "0f76cfb0-7eea-4d8f-8e2b-066be43c070e"
      },
      "execution_count": 64,
      "outputs": [
        {
          "output_type": "stream",
          "name": "stdout",
          "text": [
            "{'Amit': 77000.0, 'Sneha': 49500.0, 'Ravi': 33000.0, 'Anita': 99000.0, 'Kabir': 22000.0}\n"
          ]
        }
      ]
    },
    {
      "cell_type": "markdown",
      "source": [
        "Filter and return only those with sales >\n",
        "50,000"
      ],
      "metadata": {
        "id": "iPhUhQCVca26"
      }
    },
    {
      "cell_type": "code",
      "source": [
        "filteres = {name:amount for name,amount in sales.items() if amount>50000}\n",
        "print(filteres)"
      ],
      "metadata": {
        "colab": {
          "base_uri": "https://localhost:8080/"
        },
        "id": "10W3yKRKcflF",
        "outputId": "f72e3d47-a9ac-4627-80f9-54f9b530d288"
      },
      "execution_count": 65,
      "outputs": [
        {
          "output_type": "stream",
          "name": "stdout",
          "text": [
            "{'Amit': 70000, 'Anita': 90000}\n"
          ]
        }
      ]
    },
    {
      "cell_type": "markdown",
      "source": [
        "Label each person as 'High' , 'Medium' , or 'Low'"
      ],
      "metadata": {
        "id": "_7W7e-DHctuh"
      }
    },
    {
      "cell_type": "code",
      "source": [
        "labels = {name:('High' if amount >=75000 else 'Medium' if amount>=40000 else 'Low') for name, amount in sales.items()}\n",
        "print(labels)"
      ],
      "metadata": {
        "colab": {
          "base_uri": "https://localhost:8080/"
        },
        "id": "Xuc_qRv6cyDc",
        "outputId": "6bcb3bec-cf14-4c4a-af86-82a185103ad4"
      },
      "execution_count": 66,
      "outputs": [
        {
          "output_type": "stream",
          "name": "stdout",
          "text": [
            "{'Amit': 'Medium', 'Sneha': 'Medium', 'Ravi': 'Low', 'Anita': 'High', 'Kabir': 'Low'}\n"
          ]
        }
      ]
    },
    {
      "cell_type": "markdown",
      "source": [
        "#Tuples, Sets, and Zipping"
      ],
      "metadata": {
        "id": "P13N7sdSdJh3"
      }
    },
    {
      "cell_type": "code",
      "source": [
        "names = (\"Ravi\", \"Sneha\", \"Kabir\")\n",
        "marks = (88, 92, 76)"
      ],
      "metadata": {
        "id": "I3v_itT4dM7h"
      },
      "execution_count": 67,
      "outputs": []
    },
    {
      "cell_type": "markdown",
      "source": [
        "Convert both tuples to a dictionary using zip()"
      ],
      "metadata": {
        "id": "uYihfCmydP3C"
      }
    },
    {
      "cell_type": "code",
      "source": [
        "result = dict(zip(names,marks))\n",
        "print(result)"
      ],
      "metadata": {
        "colab": {
          "base_uri": "https://localhost:8080/"
        },
        "id": "1wdU-OB9dTAY",
        "outputId": "c52eb219-d946-4b35-f8b7-1e64091a9f3e"
      },
      "execution_count": 68,
      "outputs": [
        {
          "output_type": "stream",
          "name": "stdout",
          "text": [
            "{'Ravi': 88, 'Sneha': 92, 'Kabir': 76}\n"
          ]
        }
      ]
    },
    {
      "cell_type": "markdown",
      "source": [
        "Find min and max marks"
      ],
      "metadata": {
        "id": "9iNb140fdj5C"
      }
    },
    {
      "cell_type": "code",
      "source": [
        "print('MINIMUM: ',min(marks))\n",
        "print('MAXIMUM: ',max(marks))"
      ],
      "metadata": {
        "colab": {
          "base_uri": "https://localhost:8080/"
        },
        "id": "iANPJRdzdmuG",
        "outputId": "8d26b06b-2684-41e9-ea26-93c241ff10d6"
      },
      "execution_count": 70,
      "outputs": [
        {
          "output_type": "stream",
          "name": "stdout",
          "text": [
            "MINIMUM:  76\n",
            "MAXIMUM:  92\n"
          ]
        }
      ]
    },
    {
      "cell_type": "markdown",
      "source": [
        "Create a set from marks and add a new value"
      ],
      "metadata": {
        "id": "FMARYpB6dz1s"
      }
    },
    {
      "cell_type": "code",
      "source": [
        "mark_set = set(marks)\n",
        "mark_set.add(100)\n",
        "print(mark_set)"
      ],
      "metadata": {
        "colab": {
          "base_uri": "https://localhost:8080/"
        },
        "id": "hJC9lVVRd3Y2",
        "outputId": "fbf2b63b-4bbd-4a6a-90a8-04fe10cca6f9"
      },
      "execution_count": 71,
      "outputs": [
        {
          "output_type": "stream",
          "name": "stdout",
          "text": [
            "{88, 100, 92, 76}\n"
          ]
        }
      ]
    },
    {
      "cell_type": "markdown",
      "source": [
        "Merge two sets and show only unique elements"
      ],
      "metadata": {
        "id": "pjiE6G4deA9V"
      }
    },
    {
      "cell_type": "code",
      "source": [
        "extra = {85,100,75}\n",
        "merged = mark_set.union(extra)\n",
        "print(merged)"
      ],
      "metadata": {
        "colab": {
          "base_uri": "https://localhost:8080/"
        },
        "id": "_9oSI6PHeE9u",
        "outputId": "06538cae-4f0e-4934-9de6-33034143d644"
      },
      "execution_count": 72,
      "outputs": [
        {
          "output_type": "stream",
          "name": "stdout",
          "text": [
            "{100, 85, 88, 75, 92, 76}\n"
          ]
        }
      ]
    },
    {
      "cell_type": "markdown",
      "source": [
        "#Bonus Challenge"
      ],
      "metadata": {
        "id": "c_rEh6pbe3W5"
      }
    },
    {
      "cell_type": "code",
      "source": [
        "employees = {\n",
        "\"E101\": {\"name\": \"Ravi\", \"dept\": \"Sales\", \"salary\": 50000},\n",
        "\"E102\": {\"name\": \"Sneha\", \"dept\": \"Engineering\", \"salary\": 80000},\n",
        "\"E103\": {\"name\": \"Kabir\", \"dept\": \"HR\", \"salary\": 45000}\n",
        "}"
      ],
      "metadata": {
        "id": "9YV9VJOIe73T"
      },
      "execution_count": 77,
      "outputs": []
    },
    {
      "cell_type": "markdown",
      "source": [
        "Add a new employee \"E104\""
      ],
      "metadata": {
        "id": "AR4qL0ZbfAnA"
      }
    },
    {
      "cell_type": "code",
      "source": [
        "employees['E104']={'name':'Hari','dept':'Engineering','salary':90000}\n",
        "print(employees)"
      ],
      "metadata": {
        "colab": {
          "base_uri": "https://localhost:8080/"
        },
        "id": "eNAyVr9cfDJa",
        "outputId": "c59ec834-6e33-4d83-d82c-ef221be155ee"
      },
      "execution_count": 78,
      "outputs": [
        {
          "output_type": "stream",
          "name": "stdout",
          "text": [
            "{'E101': {'name': 'Ravi', 'dept': 'Sales', 'salary': 50000}, 'E102': {'name': 'Sneha', 'dept': 'Engineering', 'salary': 80000}, 'E103': {'name': 'Kabir', 'dept': 'HR', 'salary': 45000}, 'E104': {'name': 'Hari', 'dept': 'Engineering', 'salary': 90000}}\n"
          ]
        }
      ]
    },
    {
      "cell_type": "markdown",
      "source": [
        "Increase salary by 10% for Engineering department only"
      ],
      "metadata": {
        "id": "TrqN25bVfWaU"
      }
    },
    {
      "cell_type": "code",
      "source": [
        "for emp in employees.values():\n",
        "  if emp['dept']=='Engineering':\n",
        "    emp['salary']=emp['salary']*1.10\n",
        "print(employees)"
      ],
      "metadata": {
        "colab": {
          "base_uri": "https://localhost:8080/"
        },
        "id": "Doo4j8Ief-pz",
        "outputId": "d27dc37d-7264-4a72-ef60-5ba459ffb449"
      },
      "execution_count": 79,
      "outputs": [
        {
          "output_type": "stream",
          "name": "stdout",
          "text": [
            "{'E101': {'name': 'Ravi', 'dept': 'Sales', 'salary': 50000}, 'E102': {'name': 'Sneha', 'dept': 'Engineering', 'salary': 88000.0}, 'E103': {'name': 'Kabir', 'dept': 'HR', 'salary': 45000}, 'E104': {'name': 'Hari', 'dept': 'Engineering', 'salary': 99000.00000000001}}\n"
          ]
        }
      ]
    },
    {
      "cell_type": "markdown",
      "source": [
        "Find the department with the highest average salary"
      ],
      "metadata": {
        "id": "Z8xKZiblgXfP"
      }
    },
    {
      "cell_type": "code",
      "source": [
        "from collections import defaultdict\n",
        "\n",
        "dept_salaries = defaultdict(list)\n",
        "\n",
        "for emp in employees.values():\n",
        "  dept_salaries[emp['dept']].append(emp['salary'])\n",
        "\n",
        "avg_salary = {dept:sum(salaries)/len(salaries)for dept,salaries in dept_salaries.items()}\n",
        "\n",
        "max_dept = max(avg_salary , key = avg_salary.get)\n",
        "\n",
        "print(max_dept)"
      ],
      "metadata": {
        "colab": {
          "base_uri": "https://localhost:8080/"
        },
        "id": "MZQqGwfvgakr",
        "outputId": "4799e4c6-3626-401a-998a-a74962bd353a"
      },
      "execution_count": 80,
      "outputs": [
        {
          "output_type": "stream",
          "name": "stdout",
          "text": [
            "Engineering\n"
          ]
        }
      ]
    }
  ]
}