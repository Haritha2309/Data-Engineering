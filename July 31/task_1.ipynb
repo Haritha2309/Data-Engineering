{
  "nbformat": 4,
  "nbformat_minor": 0,
  "metadata": {
    "colab": {
      "provenance": []
    },
    "kernelspec": {
      "name": "python3",
      "display_name": "Python 3"
    },
    "language_info": {
      "name": "python"
    }
  },
  "cells": [
    {
      "cell_type": "markdown",
      "source": [
        "SAVING FILE"
      ],
      "metadata": {
        "id": "bfg8SrT66ecP"
      }
    },
    {
      "cell_type": "code",
      "source": [
        "import pandas as pd\n",
        "data = \"\"\"\n",
        "OrderID,OrderDate,Customer,Segment,Region,Product,Category,SubCategory,Quantity,UnitPrice,Discount,Profit\n",
        "CA-1001,2023-01-15,Ravi,Consumer,South,Laptop,Technology,Computers,1,55000,0.10,5000\n",
        "CA-1002,2023-02-20,Priya,Corporate,North,Printer,Technology,Peripherals,2,12000,0.15,1800\n",
        "CA-1003,2023-01-25,Amit,Consumer,East,Notebook,Office Supplies,Paper,3,200,0.05,150\n",
        "CA-1004,2023-03-01,Anita,Home Office,West,Table,Furniture,Tables,1,18000,0.20,-1500\n",
        "CA-1005,2023-02-05,Divya,Consumer,South,Phone,Technology,Phones,2,20000,0.00,3000\n",
        "\"\"\"\n",
        "\n",
        "with open('superstore.csv','w') as file:\n",
        "  file.write(data)\n",
        "\n",
        "df = pd.read_csv('superstore.csv')\n",
        "print(df)"
      ],
      "metadata": {
        "colab": {
          "base_uri": "https://localhost:8080/"
        },
        "id": "EfyR3XcN7tH7",
        "outputId": "2f4fc0ac-479e-4b6e-9e00-ac9d07a68862"
      },
      "execution_count": 2,
      "outputs": [
        {
          "output_type": "stream",
          "name": "stdout",
          "text": [
            "   OrderID   OrderDate Customer      Segment Region   Product  \\\n",
            "0  CA-1001  2023-01-15     Ravi     Consumer  South    Laptop   \n",
            "1  CA-1002  2023-02-20    Priya    Corporate  North   Printer   \n",
            "2  CA-1003  2023-01-25     Amit     Consumer   East  Notebook   \n",
            "3  CA-1004  2023-03-01    Anita  Home Office   West     Table   \n",
            "4  CA-1005  2023-02-05    Divya     Consumer  South     Phone   \n",
            "\n",
            "          Category  SubCategory  Quantity  UnitPrice  Discount  Profit  \n",
            "0       Technology    Computers         1      55000      0.10    5000  \n",
            "1       Technology  Peripherals         2      12000      0.15    1800  \n",
            "2  Office Supplies        Paper         3        200      0.05     150  \n",
            "3        Furniture       Tables         1      18000      0.20   -1500  \n",
            "4       Technology       Phones         2      20000      0.00    3000  \n"
          ]
        }
      ]
    },
    {
      "cell_type": "markdown",
      "source": [
        "Print schema, head, shape, dtypes."
      ],
      "metadata": {
        "id": "rpVwaquIpPRw"
      }
    },
    {
      "cell_type": "code",
      "source": [
        "print(\"SCHEMA: \\n\",df.columns.to_list())\n",
        "print(\"HEAD: \\n\",df.head())\n",
        "print(\"SHAPE: \\n\",df.shape)\n",
        "print(\"DATATYPE: \\n\",df.dtypes)"
      ],
      "metadata": {
        "colab": {
          "base_uri": "https://localhost:8080/"
        },
        "id": "Qat2vOvQpWBh",
        "outputId": "70461202-6075-4013-fb1e-d73be92aa354"
      },
      "execution_count": 8,
      "outputs": [
        {
          "output_type": "stream",
          "name": "stdout",
          "text": [
            "SCHEMA: \n",
            " ['OrderID', 'OrderDate', 'Customer', 'Segment', 'Region', 'Product', 'Category', 'SubCategory', 'Quantity', 'UnitPrice', 'Discount', 'Profit']\n",
            "HEAD: \n",
            "    OrderID   OrderDate Customer      Segment Region   Product  \\\n",
            "0  CA-1001  2023-01-15     Ravi     Consumer  South    Laptop   \n",
            "1  CA-1002  2023-02-20    Priya    Corporate  North   Printer   \n",
            "2  CA-1003  2023-01-25     Amit     Consumer   East  Notebook   \n",
            "3  CA-1004  2023-03-01    Anita  Home Office   West     Table   \n",
            "4  CA-1005  2023-02-05    Divya     Consumer  South     Phone   \n",
            "\n",
            "          Category  SubCategory  Quantity  UnitPrice  Discount  Profit  \n",
            "0       Technology    Computers         1      55000      0.10    5000  \n",
            "1       Technology  Peripherals         2      12000      0.15    1800  \n",
            "2  Office Supplies        Paper         3        200      0.05     150  \n",
            "3        Furniture       Tables         1      18000      0.20   -1500  \n",
            "4       Technology       Phones         2      20000      0.00    3000  \n",
            "SHAPE: \n",
            " (5, 12)\n",
            "DATATYPE: \n",
            " OrderID         object\n",
            "OrderDate       object\n",
            "Customer        object\n",
            "Segment         object\n",
            "Region          object\n",
            "Product         object\n",
            "Category        object\n",
            "SubCategory     object\n",
            "Quantity         int64\n",
            "UnitPrice        int64\n",
            "Discount       float64\n",
            "Profit           int64\n",
            "dtype: object\n"
          ]
        }
      ]
    },
    {
      "cell_type": "markdown",
      "source": [
        "Select Customer , Product , Profit columns."
      ],
      "metadata": {
        "id": "KBS4XXLesuKp"
      }
    },
    {
      "cell_type": "code",
      "source": [
        "print(df[['Customer','Product','Profit']])"
      ],
      "metadata": {
        "colab": {
          "base_uri": "https://localhost:8080/"
        },
        "id": "508g7akLsxBX",
        "outputId": "aceeafb8-5be8-440f-db43-ab45fec64e4d"
      },
      "execution_count": 11,
      "outputs": [
        {
          "output_type": "stream",
          "name": "stdout",
          "text": [
            "  Customer   Product  Profit\n",
            "0     Ravi    Laptop    5000\n",
            "1    Priya   Printer    1800\n",
            "2     Amit  Notebook     150\n",
            "3    Anita     Table   -1500\n",
            "4    Divya     Phone    3000\n"
          ]
        }
      ]
    },
    {
      "cell_type": "markdown",
      "source": [
        "Filter orders where Profit > 2000 and Discount = 0"
      ],
      "metadata": {
        "id": "omV2uky0tME4"
      }
    },
    {
      "cell_type": "code",
      "source": [
        "print(df[(df['Profit']>2000)&(df['Discount']==0)])"
      ],
      "metadata": {
        "colab": {
          "base_uri": "https://localhost:8080/"
        },
        "id": "3ZjEF-6NtPX8",
        "outputId": "fdcef4b4-165c-42a0-8f60-5148d76aed42"
      },
      "execution_count": 13,
      "outputs": [
        {
          "output_type": "stream",
          "name": "stdout",
          "text": [
            "   OrderID   OrderDate Customer   Segment Region Product    Category  \\\n",
            "4  CA-1005  2023-02-05    Divya  Consumer  South   Phone  Technology   \n",
            "\n",
            "  SubCategory  Quantity  UnitPrice  Discount  Profit  \n",
            "4      Phones         2      20000       0.0    3000  \n"
          ]
        }
      ]
    },
    {
      "cell_type": "markdown",
      "source": [
        "Sort by Profit descending."
      ],
      "metadata": {
        "id": "Vi8xazrkuMCq"
      }
    },
    {
      "cell_type": "code",
      "source": [
        "print(df.sort_values(by='Profit',ascending=False))"
      ],
      "metadata": {
        "colab": {
          "base_uri": "https://localhost:8080/"
        },
        "id": "6VZ3PSBRuPLZ",
        "outputId": "e22d776f-061f-43c2-d3bb-7ecccea8ecbc"
      },
      "execution_count": 14,
      "outputs": [
        {
          "output_type": "stream",
          "name": "stdout",
          "text": [
            "   OrderID   OrderDate Customer      Segment Region   Product  \\\n",
            "0  CA-1001  2023-01-15     Ravi     Consumer  South    Laptop   \n",
            "4  CA-1005  2023-02-05    Divya     Consumer  South     Phone   \n",
            "1  CA-1002  2023-02-20    Priya    Corporate  North   Printer   \n",
            "2  CA-1003  2023-01-25     Amit     Consumer   East  Notebook   \n",
            "3  CA-1004  2023-03-01    Anita  Home Office   West     Table   \n",
            "\n",
            "          Category  SubCategory  Quantity  UnitPrice  Discount  Profit  \n",
            "0       Technology    Computers         1      55000      0.10    5000  \n",
            "4       Technology       Phones         2      20000      0.00    3000  \n",
            "1       Technology  Peripherals         2      12000      0.15    1800  \n",
            "2  Office Supplies        Paper         3        200      0.05     150  \n",
            "3        Furniture       Tables         1      18000      0.20   -1500  \n"
          ]
        }
      ]
    },
    {
      "cell_type": "markdown",
      "source": [
        "GroupBy Category → Total Profit, Avg Discount."
      ],
      "metadata": {
        "id": "nHY5eZlsun9a"
      }
    },
    {
      "cell_type": "code",
      "source": [
        "grouped = df.groupby('Category').agg(total_profit = ('Profit','sum'),avg_discount=('Discount','mean')).reset_index()\n",
        "print(grouped)"
      ],
      "metadata": {
        "colab": {
          "base_uri": "https://localhost:8080/"
        },
        "id": "lTB_xnYKuovM",
        "outputId": "f9f818bc-204b-4fb1-b243-ba72d7cb9e9f"
      },
      "execution_count": 15,
      "outputs": [
        {
          "output_type": "stream",
          "name": "stdout",
          "text": [
            "          Category  total_profit  avg_discount\n",
            "0        Furniture         -1500      0.200000\n",
            "1  Office Supplies           150      0.050000\n",
            "2       Technology          9800      0.083333\n"
          ]
        }
      ]
    },
    {
      "cell_type": "markdown",
      "source": [
        "Add a column TotalPrice = Quantity * UnitPrice ."
      ],
      "metadata": {
        "id": "FY6gGlKe1Bji"
      }
    },
    {
      "cell_type": "code",
      "source": [
        "df['Total Price'] = df['Quantity'] * df['UnitPrice']\n",
        "print(df)"
      ],
      "metadata": {
        "colab": {
          "base_uri": "https://localhost:8080/"
        },
        "id": "4MNk3VVH1EUx",
        "outputId": "942b592b-b949-43c6-f2e8-07af1e88931f"
      },
      "execution_count": 16,
      "outputs": [
        {
          "output_type": "stream",
          "name": "stdout",
          "text": [
            "   OrderID   OrderDate Customer      Segment Region   Product  \\\n",
            "0  CA-1001  2023-01-15     Ravi     Consumer  South    Laptop   \n",
            "1  CA-1002  2023-02-20    Priya    Corporate  North   Printer   \n",
            "2  CA-1003  2023-01-25     Amit     Consumer   East  Notebook   \n",
            "3  CA-1004  2023-03-01    Anita  Home Office   West     Table   \n",
            "4  CA-1005  2023-02-05    Divya     Consumer  South     Phone   \n",
            "\n",
            "          Category  SubCategory  Quantity  UnitPrice  Discount  Profit  \\\n",
            "0       Technology    Computers         1      55000      0.10    5000   \n",
            "1       Technology  Peripherals         2      12000      0.15    1800   \n",
            "2  Office Supplies        Paper         3        200      0.05     150   \n",
            "3        Furniture       Tables         1      18000      0.20   -1500   \n",
            "4       Technology       Phones         2      20000      0.00    3000   \n",
            "\n",
            "   Total Price  \n",
            "0        55000  \n",
            "1        24000  \n",
            "2          600  \n",
            "3        18000  \n",
            "4        40000  \n"
          ]
        }
      ]
    },
    {
      "cell_type": "markdown",
      "source": [
        "Drop the SubCategory column."
      ],
      "metadata": {
        "id": "VrYZP5W41SQR"
      }
    },
    {
      "cell_type": "code",
      "source": [
        "df = df.drop(columns='SubCategory')\n",
        "print(df)"
      ],
      "metadata": {
        "colab": {
          "base_uri": "https://localhost:8080/"
        },
        "id": "2E5k7Pto1VNC",
        "outputId": "741b3feb-fece-413e-a0ae-a1b5bb8fa6b0"
      },
      "execution_count": 17,
      "outputs": [
        {
          "output_type": "stream",
          "name": "stdout",
          "text": [
            "   OrderID   OrderDate Customer      Segment Region   Product  \\\n",
            "0  CA-1001  2023-01-15     Ravi     Consumer  South    Laptop   \n",
            "1  CA-1002  2023-02-20    Priya    Corporate  North   Printer   \n",
            "2  CA-1003  2023-01-25     Amit     Consumer   East  Notebook   \n",
            "3  CA-1004  2023-03-01    Anita  Home Office   West     Table   \n",
            "4  CA-1005  2023-02-05    Divya     Consumer  South     Phone   \n",
            "\n",
            "          Category  Quantity  UnitPrice  Discount  Profit  Total Price  \n",
            "0       Technology         1      55000      0.10    5000        55000  \n",
            "1       Technology         2      12000      0.15    1800        24000  \n",
            "2  Office Supplies         3        200      0.05     150          600  \n",
            "3        Furniture         1      18000      0.20   -1500        18000  \n",
            "4       Technology         2      20000      0.00    3000        40000  \n"
          ]
        }
      ]
    },
    {
      "cell_type": "markdown",
      "source": [
        "Fill nulls in Discount with 0.10."
      ],
      "metadata": {
        "id": "bojyYUMe1dpe"
      }
    },
    {
      "cell_type": "code",
      "source": [
        "import numpy as np\n",
        "\n",
        "df['Discount'] = df['Discount'].replace(0.10,np.nan)\n",
        "print(df)"
      ],
      "metadata": {
        "colab": {
          "base_uri": "https://localhost:8080/"
        },
        "id": "TE2FKKPj1gaa",
        "outputId": "9cfc5ba3-eb99-42b0-c6b0-c00244d2dbb4"
      },
      "execution_count": 19,
      "outputs": [
        {
          "output_type": "stream",
          "name": "stdout",
          "text": [
            "   OrderID   OrderDate Customer      Segment Region   Product  \\\n",
            "0  CA-1001  2023-01-15     Ravi     Consumer  South    Laptop   \n",
            "1  CA-1002  2023-02-20    Priya    Corporate  North   Printer   \n",
            "2  CA-1003  2023-01-25     Amit     Consumer   East  Notebook   \n",
            "3  CA-1004  2023-03-01    Anita  Home Office   West     Table   \n",
            "4  CA-1005  2023-02-05    Divya     Consumer  South     Phone   \n",
            "\n",
            "          Category  Quantity  UnitPrice  Discount  Profit  Total Price  \n",
            "0       Technology         1      55000       NaN    5000        55000  \n",
            "1       Technology         2      12000      0.15    1800        24000  \n",
            "2  Office Supplies         3        200      0.05     150          600  \n",
            "3        Furniture         1      18000      0.20   -1500        18000  \n",
            "4       Technology         2      20000      0.00    3000        40000  \n"
          ]
        }
      ]
    },
    {
      "cell_type": "markdown",
      "source": [
        "Apply a function to categorize orders:"
      ],
      "metadata": {
        "id": "EIRacl5b2FKo"
      }
    },
    {
      "cell_type": "code",
      "source": [
        "def categorise(row):\n",
        "  if row['Profit']>4000:\n",
        "    return 'High'\n",
        "  elif row['Profit']>0:\n",
        "    return 'Medium'\n",
        "  else:\n",
        "    return'Low'\n",
        "\n",
        "df['ProfitCategory'] = df.apply(categorise,axis =1)\n",
        "print(df['ProfitCategory'])"
      ],
      "metadata": {
        "colab": {
          "base_uri": "https://localhost:8080/"
        },
        "id": "kZgvrgFq2IiX",
        "outputId": "6b479858-10a3-4b7e-de41-66519cf3eecf"
      },
      "execution_count": 20,
      "outputs": [
        {
          "output_type": "stream",
          "name": "stdout",
          "text": [
            "0      High\n",
            "1    Medium\n",
            "2    Medium\n",
            "3       Low\n",
            "4    Medium\n",
            "Name: ProfitCategory, dtype: object\n"
          ]
        }
      ]
    },
    {
      "cell_type": "markdown",
      "source": [
        "#PYSPARK"
      ],
      "metadata": {
        "id": "BIv9xqFX4eLD"
      }
    },
    {
      "cell_type": "markdown",
      "source": [
        "Load the same CSV using PySpark."
      ],
      "metadata": {
        "id": "9vMVXfVO4gQ_"
      }
    },
    {
      "cell_type": "code",
      "source": [
        "from pyspark.sql import SparkSession\n",
        "spark = SparkSession.builder.appName('SuperStore').getOrCreate()"
      ],
      "metadata": {
        "id": "wu3lFn2h4jKH"
      },
      "execution_count": 21,
      "outputs": []
    },
    {
      "cell_type": "markdown",
      "source": [
        "Show schema and first 5 rows."
      ],
      "metadata": {
        "id": "ftnuOAqq5GQY"
      }
    },
    {
      "cell_type": "code",
      "source": [
        "df = spark.read.csv('superstore.csv',header=True,inferSchema=True)\n",
        "df.printSchema()\n",
        "df.show(5)"
      ],
      "metadata": {
        "colab": {
          "base_uri": "https://localhost:8080/"
        },
        "id": "nwjKbDzi4zfH",
        "outputId": "aaab5453-ed26-4a50-cc21-f81d05d9b3e2"
      },
      "execution_count": 23,
      "outputs": [
        {
          "output_type": "stream",
          "name": "stdout",
          "text": [
            "root\n",
            " |-- OrderID: string (nullable = true)\n",
            " |-- OrderDate: date (nullable = true)\n",
            " |-- Customer: string (nullable = true)\n",
            " |-- Segment: string (nullable = true)\n",
            " |-- Region: string (nullable = true)\n",
            " |-- Product: string (nullable = true)\n",
            " |-- Category: string (nullable = true)\n",
            " |-- SubCategory: string (nullable = true)\n",
            " |-- Quantity: integer (nullable = true)\n",
            " |-- UnitPrice: integer (nullable = true)\n",
            " |-- Discount: double (nullable = true)\n",
            " |-- Profit: integer (nullable = true)\n",
            "\n",
            "+-------+----------+--------+-----------+------+--------+---------------+-----------+--------+---------+--------+------+\n",
            "|OrderID| OrderDate|Customer|    Segment|Region| Product|       Category|SubCategory|Quantity|UnitPrice|Discount|Profit|\n",
            "+-------+----------+--------+-----------+------+--------+---------------+-----------+--------+---------+--------+------+\n",
            "|CA-1001|2023-01-15|    Ravi|   Consumer| South|  Laptop|     Technology|  Computers|       1|    55000|     0.1|  5000|\n",
            "|CA-1002|2023-02-20|   Priya|  Corporate| North| Printer|     Technology|Peripherals|       2|    12000|    0.15|  1800|\n",
            "|CA-1003|2023-01-25|    Amit|   Consumer|  East|Notebook|Office Supplies|      Paper|       3|      200|    0.05|   150|\n",
            "|CA-1004|2023-03-01|   Anita|Home Office|  West|   Table|      Furniture|     Tables|       1|    18000|     0.2| -1500|\n",
            "|CA-1005|2023-02-05|   Divya|   Consumer| South|   Phone|     Technology|     Phones|       2|    20000|     0.0|  3000|\n",
            "+-------+----------+--------+-----------+------+--------+---------------+-----------+--------+---------+--------+------+\n",
            "\n"
          ]
        }
      ]
    },
    {
      "cell_type": "markdown",
      "source": [
        "Select columns, Rename Customer → Client ."
      ],
      "metadata": {
        "id": "oeDDAog19ilf"
      }
    },
    {
      "cell_type": "code",
      "source": [
        "df = df.withColumnRenamed('Customer','Client')\n",
        "df.show()"
      ],
      "metadata": {
        "colab": {
          "base_uri": "https://localhost:8080/"
        },
        "id": "zXC6fgLd9jM0",
        "outputId": "68dda7e5-d48e-437e-9d8d-32c9d5ad8410"
      },
      "execution_count": 25,
      "outputs": [
        {
          "output_type": "stream",
          "name": "stdout",
          "text": [
            "+-------+----------+------+-----------+------+--------+---------------+-----------+--------+---------+--------+------+\n",
            "|OrderID| OrderDate|Client|    Segment|Region| Product|       Category|SubCategory|Quantity|UnitPrice|Discount|Profit|\n",
            "+-------+----------+------+-----------+------+--------+---------------+-----------+--------+---------+--------+------+\n",
            "|CA-1001|2023-01-15|  Ravi|   Consumer| South|  Laptop|     Technology|  Computers|       1|    55000|     0.1|  5000|\n",
            "|CA-1002|2023-02-20| Priya|  Corporate| North| Printer|     Technology|Peripherals|       2|    12000|    0.15|  1800|\n",
            "|CA-1003|2023-01-25|  Amit|   Consumer|  East|Notebook|Office Supplies|      Paper|       3|      200|    0.05|   150|\n",
            "|CA-1004|2023-03-01| Anita|Home Office|  West|   Table|      Furniture|     Tables|       1|    18000|     0.2| -1500|\n",
            "|CA-1005|2023-02-05| Divya|   Consumer| South|   Phone|     Technology|     Phones|       2|    20000|     0.0|  3000|\n",
            "+-------+----------+------+-----------+------+--------+---------------+-----------+--------+---------+--------+------+\n",
            "\n"
          ]
        }
      ]
    },
    {
      "cell_type": "markdown",
      "source": [
        "Filter Segment = 'Consumer' and Profit < 1000 ."
      ],
      "metadata": {
        "id": "v2R8XYEm-N1c"
      }
    },
    {
      "cell_type": "code",
      "source": [
        "df.filter((df['Segment']=='Consumer')&(df['Profit']<1000)).show()"
      ],
      "metadata": {
        "colab": {
          "base_uri": "https://localhost:8080/"
        },
        "id": "-Cipu6vJ-Oqt",
        "outputId": "33b71dda-89ec-4b69-e03c-fd5764659aea"
      },
      "execution_count": 26,
      "outputs": [
        {
          "output_type": "stream",
          "name": "stdout",
          "text": [
            "+-------+----------+------+--------+------+--------+---------------+-----------+--------+---------+--------+------+\n",
            "|OrderID| OrderDate|Client| Segment|Region| Product|       Category|SubCategory|Quantity|UnitPrice|Discount|Profit|\n",
            "+-------+----------+------+--------+------+--------+---------------+-----------+--------+---------+--------+------+\n",
            "|CA-1003|2023-01-25|  Amit|Consumer|  East|Notebook|Office Supplies|      Paper|       3|      200|    0.05|   150|\n",
            "+-------+----------+------+--------+------+--------+---------------+-----------+--------+---------+--------+------+\n",
            "\n"
          ]
        }
      ]
    },
    {
      "cell_type": "markdown",
      "source": [
        "GroupBy Region and show average profit."
      ],
      "metadata": {
        "id": "1cMqYLFg-kDH"
      }
    },
    {
      "cell_type": "code",
      "source": [
        "df.groupBy('Region').avg('Profit').show()"
      ],
      "metadata": {
        "colab": {
          "base_uri": "https://localhost:8080/"
        },
        "id": "b_8nSBT4-n0o",
        "outputId": "23cfd542-40ab-46ed-dc23-b7bee1ff4f07"
      },
      "execution_count": 27,
      "outputs": [
        {
          "output_type": "stream",
          "name": "stdout",
          "text": [
            "+------+-----------+\n",
            "|Region|avg(Profit)|\n",
            "+------+-----------+\n",
            "| South|     4000.0|\n",
            "|  East|      150.0|\n",
            "|  West|    -1500.0|\n",
            "| North|     1800.0|\n",
            "+------+-----------+\n",
            "\n"
          ]
        }
      ]
    },
    {
      "cell_type": "markdown",
      "source": [
        "Use withColumn to create TotalPrice = Quantity * UnitPrice"
      ],
      "metadata": {
        "id": "ZWi8mCxj-xlH"
      }
    },
    {
      "cell_type": "code",
      "source": [
        "df = df.withColumn('TotalPrice',df['Quantity']*df['UnitPrice'])\n",
        "df.show()"
      ],
      "metadata": {
        "colab": {
          "base_uri": "https://localhost:8080/"
        },
        "id": "JRKh9clZ-0fl",
        "outputId": "e2b8e216-e3c5-4525-9246-5bad3d9c5b03"
      },
      "execution_count": 29,
      "outputs": [
        {
          "output_type": "stream",
          "name": "stdout",
          "text": [
            "+-------+----------+------+-----------+------+--------+---------------+-----------+--------+---------+--------+------+----------+\n",
            "|OrderID| OrderDate|Client|    Segment|Region| Product|       Category|SubCategory|Quantity|UnitPrice|Discount|Profit|TotalPrice|\n",
            "+-------+----------+------+-----------+------+--------+---------------+-----------+--------+---------+--------+------+----------+\n",
            "|CA-1001|2023-01-15|  Ravi|   Consumer| South|  Laptop|     Technology|  Computers|       1|    55000|     0.1|  5000|     55000|\n",
            "|CA-1002|2023-02-20| Priya|  Corporate| North| Printer|     Technology|Peripherals|       2|    12000|    0.15|  1800|     24000|\n",
            "|CA-1003|2023-01-25|  Amit|   Consumer|  East|Notebook|Office Supplies|      Paper|       3|      200|    0.05|   150|       600|\n",
            "|CA-1004|2023-03-01| Anita|Home Office|  West|   Table|      Furniture|     Tables|       1|    18000|     0.2| -1500|     18000|\n",
            "|CA-1005|2023-02-05| Divya|   Consumer| South|   Phone|     Technology|     Phones|       2|    20000|     0.0|  3000|     40000|\n",
            "+-------+----------+------+-----------+------+--------+---------------+-----------+--------+---------+--------+------+----------+\n",
            "\n"
          ]
        }
      ]
    },
    {
      "cell_type": "markdown",
      "source": [
        "Use when().otherwise() to classify Profit as:\n",
        "'Profit' > 2000 → 'High'\n",
        "'Profit' <= 0 → 'Loss'\n",
        "else 'Medium'"
      ],
      "metadata": {
        "id": "AkJMZvFR_NYp"
      }
    },
    {
      "cell_type": "code",
      "source": [
        "from pyspark.sql.functions import when\n",
        "df = df.withColumn('ProfitAnlaysis',when(df['Profit']>2000,'High').when(df['Profit']<=0,'Loss').otherwise('Medium'))\n",
        "df.show()"
      ],
      "metadata": {
        "colab": {
          "base_uri": "https://localhost:8080/"
        },
        "id": "Z1DxBt1c_UTa",
        "outputId": "7a6515a9-c5a8-48bb-e596-6f8ff18a413e"
      },
      "execution_count": 30,
      "outputs": [
        {
          "output_type": "stream",
          "name": "stdout",
          "text": [
            "+-------+----------+------+-----------+------+--------+---------------+-----------+--------+---------+--------+------+----------+--------------+\n",
            "|OrderID| OrderDate|Client|    Segment|Region| Product|       Category|SubCategory|Quantity|UnitPrice|Discount|Profit|TotalPrice|ProfitAnlaysis|\n",
            "+-------+----------+------+-----------+------+--------+---------------+-----------+--------+---------+--------+------+----------+--------------+\n",
            "|CA-1001|2023-01-15|  Ravi|   Consumer| South|  Laptop|     Technology|  Computers|       1|    55000|     0.1|  5000|     55000|          High|\n",
            "|CA-1002|2023-02-20| Priya|  Corporate| North| Printer|     Technology|Peripherals|       2|    12000|    0.15|  1800|     24000|        Medium|\n",
            "|CA-1003|2023-01-25|  Amit|   Consumer|  East|Notebook|Office Supplies|      Paper|       3|      200|    0.05|   150|       600|        Medium|\n",
            "|CA-1004|2023-03-01| Anita|Home Office|  West|   Table|      Furniture|     Tables|       1|    18000|     0.2| -1500|     18000|          Loss|\n",
            "|CA-1005|2023-02-05| Divya|   Consumer| South|   Phone|     Technology|     Phones|       2|    20000|     0.0|  3000|     40000|          High|\n",
            "+-------+----------+------+-----------+------+--------+---------------+-----------+--------+---------+--------+------+----------+--------------+\n",
            "\n"
          ]
        }
      ]
    },
    {
      "cell_type": "markdown",
      "source": [
        "Use drop() to remove SubCategory ."
      ],
      "metadata": {
        "id": "GvLg41T5_-vU"
      }
    },
    {
      "cell_type": "code",
      "source": [
        "df = df.drop('SubCategory')\n",
        "df.show()"
      ],
      "metadata": {
        "colab": {
          "base_uri": "https://localhost:8080/"
        },
        "id": "pbuMk_TCABif",
        "outputId": "3575802d-173b-4440-e0eb-f3881feb851c"
      },
      "execution_count": 31,
      "outputs": [
        {
          "output_type": "stream",
          "name": "stdout",
          "text": [
            "+-------+----------+------+-----------+------+--------+---------------+--------+---------+--------+------+----------+--------------+\n",
            "|OrderID| OrderDate|Client|    Segment|Region| Product|       Category|Quantity|UnitPrice|Discount|Profit|TotalPrice|ProfitAnlaysis|\n",
            "+-------+----------+------+-----------+------+--------+---------------+--------+---------+--------+------+----------+--------------+\n",
            "|CA-1001|2023-01-15|  Ravi|   Consumer| South|  Laptop|     Technology|       1|    55000|     0.1|  5000|     55000|          High|\n",
            "|CA-1002|2023-02-20| Priya|  Corporate| North| Printer|     Technology|       2|    12000|    0.15|  1800|     24000|        Medium|\n",
            "|CA-1003|2023-01-25|  Amit|   Consumer|  East|Notebook|Office Supplies|       3|      200|    0.05|   150|       600|        Medium|\n",
            "|CA-1004|2023-03-01| Anita|Home Office|  West|   Table|      Furniture|       1|    18000|     0.2| -1500|     18000|          Loss|\n",
            "|CA-1005|2023-02-05| Divya|   Consumer| South|   Phone|     Technology|       2|    20000|     0.0|  3000|     40000|          High|\n",
            "+-------+----------+------+-----------+------+--------+---------------+--------+---------+--------+------+----------+--------------+\n",
            "\n"
          ]
        }
      ]
    },
    {
      "cell_type": "markdown",
      "source": [
        "Handle nulls in Discount using fillna(0.10)"
      ],
      "metadata": {
        "id": "etU7LmzUAWiO"
      }
    },
    {
      "cell_type": "code",
      "source": [
        "df = df.fillna({'Discount':0.10})\n",
        "df.show()"
      ],
      "metadata": {
        "colab": {
          "base_uri": "https://localhost:8080/"
        },
        "id": "0FgKGAOfAadI",
        "outputId": "e486f020-0ac8-4790-dd96-8367ae47e7a6"
      },
      "execution_count": 34,
      "outputs": [
        {
          "output_type": "stream",
          "name": "stdout",
          "text": [
            "+-------+----------+------+-----------+------+--------+---------------+--------+---------+--------+------+----------+--------------+\n",
            "|OrderID| OrderDate|Client|    Segment|Region| Product|       Category|Quantity|UnitPrice|Discount|Profit|TotalPrice|ProfitAnlaysis|\n",
            "+-------+----------+------+-----------+------+--------+---------------+--------+---------+--------+------+----------+--------------+\n",
            "|CA-1001|2023-01-15|  Ravi|   Consumer| South|  Laptop|     Technology|       1|    55000|     0.1|  5000|     55000|          High|\n",
            "|CA-1002|2023-02-20| Priya|  Corporate| North| Printer|     Technology|       2|    12000|    0.15|  1800|     24000|        Medium|\n",
            "|CA-1003|2023-01-25|  Amit|   Consumer|  East|Notebook|Office Supplies|       3|      200|    0.05|   150|       600|        Medium|\n",
            "|CA-1004|2023-03-01| Anita|Home Office|  West|   Table|      Furniture|       1|    18000|     0.2| -1500|     18000|          Loss|\n",
            "|CA-1005|2023-02-05| Divya|   Consumer| South|   Phone|     Technology|       2|    20000|     0.0|  3000|     40000|          High|\n",
            "+-------+----------+------+-----------+------+--------+---------------+--------+---------+--------+------+----------+--------------+\n",
            "\n"
          ]
        }
      ]
    },
    {
      "cell_type": "markdown",
      "source": [
        "Convert OrderDate to date type and extract year , month"
      ],
      "metadata": {
        "id": "J_9qEkxDAjql"
      }
    },
    {
      "cell_type": "code",
      "source": [
        "from pyspark.sql.functions import to_date,year,month\n",
        "df = df.withColumn('OrderDate',to_date(df['OrderDate'],'yyyy-MM-dd'))\n",
        "df = df.withColumn('year',year('OrderDate')).withColumn('month',month('OrderDate'))\n",
        "df.select('OrderDate','year','month').show()"
      ],
      "metadata": {
        "colab": {
          "base_uri": "https://localhost:8080/"
        },
        "id": "oEXlF_-yAlen",
        "outputId": "af010066-72c2-4d4f-8e4a-250f30da806b"
      },
      "execution_count": 36,
      "outputs": [
        {
          "output_type": "stream",
          "name": "stdout",
          "text": [
            "+-------+----------+------+-----------+------+--------+---------------+--------+---------+--------+------+----------+--------------+----+-----+\n",
            "|OrderID| OrderDate|Client|    Segment|Region| Product|       Category|Quantity|UnitPrice|Discount|Profit|TotalPrice|ProfitAnlaysis|year|month|\n",
            "+-------+----------+------+-----------+------+--------+---------------+--------+---------+--------+------+----------+--------------+----+-----+\n",
            "|CA-1001|2023-01-15|  Ravi|   Consumer| South|  Laptop|     Technology|       1|    55000|     0.1|  5000|     55000|          High|2023|    1|\n",
            "|CA-1002|2023-02-20| Priya|  Corporate| North| Printer|     Technology|       2|    12000|    0.15|  1800|     24000|        Medium|2023|    2|\n",
            "|CA-1003|2023-01-25|  Amit|   Consumer|  East|Notebook|Office Supplies|       3|      200|    0.05|   150|       600|        Medium|2023|    1|\n",
            "|CA-1004|2023-03-01| Anita|Home Office|  West|   Table|      Furniture|       1|    18000|     0.2| -1500|     18000|          Loss|2023|    3|\n",
            "|CA-1005|2023-02-05| Divya|   Consumer| South|   Phone|     Technology|       2|    20000|     0.0|  3000|     40000|          High|2023|    2|\n",
            "+-------+----------+------+-----------+------+--------+---------------+--------+---------+--------+------+----------+--------------+----+-----+\n",
            "\n",
            "+----------+----+-----+\n",
            "| OrderDate|year|month|\n",
            "+----------+----+-----+\n",
            "|2023-01-15|2023|    1|\n",
            "|2023-02-20|2023|    2|\n",
            "|2023-01-25|2023|    1|\n",
            "|2023-03-01|2023|    3|\n",
            "|2023-02-05|2023|    2|\n",
            "+----------+----+-----+\n",
            "\n"
          ]
        }
      ]
    },
    {
      "cell_type": "markdown",
      "source": [
        "# DASK"
      ],
      "metadata": {
        "id": "q6dFuWMQDVAM"
      }
    },
    {
      "cell_type": "markdown",
      "source": [
        "Load the same superstore.csv"
      ],
      "metadata": {
        "id": "cEHmOvDADXVO"
      }
    },
    {
      "cell_type": "code",
      "source": [
        "import dask.dataframe as dd\n",
        "df = dd.read_csv('superstore.csv')\n",
        "df = df.compute()\n",
        "print(df)"
      ],
      "metadata": {
        "colab": {
          "base_uri": "https://localhost:8080/"
        },
        "id": "tM3zSfN8DaOc",
        "outputId": "e94d9e53-9144-4126-e6ae-fa7345a40c7b"
      },
      "execution_count": 39,
      "outputs": [
        {
          "output_type": "stream",
          "name": "stdout",
          "text": [
            "   OrderID   OrderDate Customer      Segment Region   Product  \\\n",
            "0  CA-1001  2023-01-15     Ravi     Consumer  South    Laptop   \n",
            "1  CA-1002  2023-02-20    Priya    Corporate  North   Printer   \n",
            "2  CA-1003  2023-01-25     Amit     Consumer   East  Notebook   \n",
            "3  CA-1004  2023-03-01    Anita  Home Office   West     Table   \n",
            "4  CA-1005  2023-02-05    Divya     Consumer  South     Phone   \n",
            "\n",
            "          Category  SubCategory  Quantity  UnitPrice  Discount  Profit  \n",
            "0       Technology    Computers         1      55000      0.10    5000  \n",
            "1       Technology  Peripherals         2      12000      0.15    1800  \n",
            "2  Office Supplies        Paper         3        200      0.05     150  \n",
            "3        Furniture       Tables         1      18000      0.20   -1500  \n",
            "4       Technology       Phones         2      20000      0.00    3000  \n"
          ]
        }
      ]
    },
    {
      "cell_type": "markdown",
      "source": [
        "Compute average discount by category."
      ],
      "metadata": {
        "id": "AIXsCa1cD8OL"
      }
    },
    {
      "cell_type": "code",
      "source": [
        "grouped = df.groupby('Category')['Discount'].mean()\n",
        "print(grouped)"
      ],
      "metadata": {
        "colab": {
          "base_uri": "https://localhost:8080/"
        },
        "id": "zAFD1vtqEADr",
        "outputId": "68efe357-0550-491c-aa81-7a143f3396fb"
      },
      "execution_count": 42,
      "outputs": [
        {
          "output_type": "stream",
          "name": "stdout",
          "text": [
            "Category\n",
            "Furniture          0.200000\n",
            "Office Supplies    0.050000\n",
            "Technology         0.083333\n",
            "Name: Discount, dtype: float64\n"
          ]
        }
      ]
    },
    {
      "cell_type": "markdown",
      "source": [
        "Filter orders with more than 1 quantity and high profit."
      ],
      "metadata": {
        "id": "EOHAkjBnESWl"
      }
    },
    {
      "cell_type": "code",
      "source": [
        "filtered = df[(df['Quantity']>1)&(df['Profit']>2000)]\n",
        "print(filtered)"
      ],
      "metadata": {
        "colab": {
          "base_uri": "https://localhost:8080/"
        },
        "id": "HaVJmZclEWDz",
        "outputId": "2771eecd-7ad7-45da-edf2-b8f276eab3c2"
      },
      "execution_count": 43,
      "outputs": [
        {
          "output_type": "stream",
          "name": "stdout",
          "text": [
            "   OrderID   OrderDate Customer   Segment Region Product    Category  \\\n",
            "4  CA-1005  2023-02-05    Divya  Consumer  South   Phone  Technology   \n",
            "\n",
            "  SubCategory  Quantity  UnitPrice  Discount  Profit  \n",
            "4      Phones         2      20000       0.0    3000  \n"
          ]
        }
      ]
    },
    {
      "cell_type": "markdown",
      "source": [
        "Save filtered data to new CSV."
      ],
      "metadata": {
        "id": "_kY7JxTzE-jG"
      }
    },
    {
      "cell_type": "code",
      "source": [
        "filtered.to_csv('filtereddata.csv',index = False)"
      ],
      "metadata": {
        "id": "wLSbKy_nFDw2"
      },
      "execution_count": 44,
      "outputs": []
    },
    {
      "cell_type": "code",
      "source": [
        "!ls"
      ],
      "metadata": {
        "colab": {
          "base_uri": "https://localhost:8080/"
        },
        "id": "hEcl0K0gFRfo",
        "outputId": "b5af5ec8-aa32-4386-ebef-82b1d4d15e2b"
      },
      "execution_count": 45,
      "outputs": [
        {
          "output_type": "stream",
          "name": "stdout",
          "text": [
            "filtereddata.csv  sample_data  superstore.csv\n"
          ]
        }
      ]
    },
    {
      "cell_type": "markdown",
      "source": [
        "# JSON"
      ],
      "metadata": {
        "id": "-JCmQrLyFcd-"
      }
    },
    {
      "cell_type": "code",
      "source": [
        "import json\n",
        "\n",
        "data = [\n",
        "{\n",
        "\"OrderID\": \"CA-1001\",\n",
        "\"Customer\": {\"Name\": \"Ravi\", \"Segment\": \"Consumer\"},\n",
        "\"Details\": {\"Region\": \"South\", \"Profit\": 5000}\n",
        "},\n",
        "{\n",
        "\"OrderID\": \"CA-1002\",\n",
        "\"Customer\": {\"Name\": \"Priya\", \"Segment\": \"Corporate\"},\n",
        "\"Details\": {\"Region\": \"North\", \"Profit\": 1800}\n",
        "}\n",
        "]\n",
        "\n",
        "with open('orders.json','w')as file:\n",
        "  json.dump(data,file,indent= 5)"
      ],
      "metadata": {
        "id": "0PaTtWV9Fd4f"
      },
      "execution_count": 47,
      "outputs": []
    },
    {
      "cell_type": "code",
      "source": [
        "df_json = spark.read.json('orders.json', multiLine=True)\n",
        "df_json.printSchema()\n",
        "df_json.select(\"OrderID\", \"Customer.Name\", \"Details.Profit\").show()"
      ],
      "metadata": {
        "colab": {
          "base_uri": "https://localhost:8080/"
        },
        "id": "g9zpnKcOGCIY",
        "outputId": "fd05791b-d551-425c-c818-ac42f22cc445"
      },
      "execution_count": 48,
      "outputs": [
        {
          "output_type": "stream",
          "name": "stdout",
          "text": [
            "root\n",
            " |-- Customer: struct (nullable = true)\n",
            " |    |-- Name: string (nullable = true)\n",
            " |    |-- Segment: string (nullable = true)\n",
            " |-- Details: struct (nullable = true)\n",
            " |    |-- Profit: long (nullable = true)\n",
            " |    |-- Region: string (nullable = true)\n",
            " |-- OrderID: string (nullable = true)\n",
            "\n",
            "+-------+-----+------+\n",
            "|OrderID| Name|Profit|\n",
            "+-------+-----+------+\n",
            "|CA-1001| Ravi|  5000|\n",
            "|CA-1002|Priya|  1800|\n",
            "+-------+-----+------+\n",
            "\n"
          ]
        }
      ]
    }
  ]
}