{
  "nbformat": 4,
  "nbformat_minor": 0,
  "metadata": {
    "colab": {
      "provenance": []
    },
    "kernelspec": {
      "name": "python3",
      "display_name": "Python 3"
    },
    "language_info": {
      "name": "python"
    }
  },
  "cells": [
    {
      "cell_type": "markdown",
      "source": [
        "#PANDAS"
      ],
      "metadata": {
        "id": "bltHhKJCH4b3"
      }
    },
    {
      "cell_type": "code",
      "execution_count": 120,
      "metadata": {
        "colab": {
          "base_uri": "https://localhost:8080/"
        },
        "id": "T6KDF7BHHmIR",
        "outputId": "aec690d9-02fd-48f3-a37c-b185295a71dd"
      },
      "outputs": [
        {
          "output_type": "stream",
          "name": "stdout",
          "text": [
            "   MovieID              Title    Genre ReleaseDate  Rating       Revenue  \\\n",
            "0        1          Inception   Sci-Fi  2010-07-16     8.8  8.255328e+08   \n",
            "1        2    The Dark Knight   Action  2008-07-18     9.0  1.004558e+09   \n",
            "2        3            Titanic  Romance  1997-12-19     7.8  2.187464e+09   \n",
            "3        4       Interstellar   Sci-Fi  2014-11-07     8.6  6.774713e+08   \n",
            "4        5              Joker    Drama  2019-10-04     8.4  1.074251e+09   \n",
            "5        6       The Notebook  Romance  2004-06-25     7.9           NaN   \n",
            "6        7  Avengers: Endgame   Action  2019-04-26     8.4  2.797801e+09   \n",
            "\n",
            "      Budget  \n",
            "0  160000000  \n",
            "1  185000000  \n",
            "2  200000000  \n",
            "3  165000000  \n",
            "4   55000000  \n",
            "5   29000000  \n",
            "6  356000000  \n"
          ]
        }
      ],
      "source": [
        "import pandas as pd\n",
        "data = \"\"\"\n",
        "MovieID,Title,Genre,ReleaseDate,Rating,Revenue,Budget\n",
        "1,Inception,Sci-Fi,2010-07-16,8.8,825532764,160000000\n",
        "2,The Dark Knight,Action,2008-07-18,9.0,1004558444,185000000\n",
        "3,Titanic,Romance,1997-12-19,7.8,2187463944,200000000\n",
        "4,Interstellar,Sci-Fi,2014-11-07,8.6,677471339,165000000\n",
        "5,Joker,Drama,2019-10-04,8.4,1074251311,55000000\n",
        "6,The Notebook,Romance,2004-06-25,7.9,,29000000\n",
        "7,Avengers: Endgame,Action,2019-04-26,8.4,2797800564,356000000\n",
        "\"\"\"\n",
        "\n",
        "with open('movies.csv','w')as file:\n",
        "  file.write(data)\n",
        "\n",
        "df = pd.read_csv('movies.csv')\n",
        "print(df)"
      ]
    },
    {
      "cell_type": "markdown",
      "source": [
        "Convert ReleaseDate to datetime."
      ],
      "metadata": {
        "id": "4EGLLWDZIXHQ"
      }
    },
    {
      "cell_type": "code",
      "source": [
        "df['ReleaseDate'] = pd.to_datetime(df['ReleaseDate'])\n",
        "print(df.dtypes)"
      ],
      "metadata": {
        "colab": {
          "base_uri": "https://localhost:8080/"
        },
        "id": "nybhefunIbU0",
        "outputId": "aee62f8b-972a-451c-8e9b-547a956ceabe"
      },
      "execution_count": 121,
      "outputs": [
        {
          "output_type": "stream",
          "name": "stdout",
          "text": [
            "MovieID                 int64\n",
            "Title                  object\n",
            "Genre                  object\n",
            "ReleaseDate    datetime64[ns]\n",
            "Rating                float64\n",
            "Revenue               float64\n",
            "Budget                  int64\n",
            "dtype: object\n"
          ]
        }
      ]
    },
    {
      "cell_type": "markdown",
      "source": [
        "Calculate Profit = Revenue - Budget ."
      ],
      "metadata": {
        "id": "iaqHikFYI202"
      }
    },
    {
      "cell_type": "code",
      "source": [
        "df['Profit'] = df['Revenue']- df['Budget']\n",
        "print(df)"
      ],
      "metadata": {
        "colab": {
          "base_uri": "https://localhost:8080/"
        },
        "id": "gbfoCDKdI5hg",
        "outputId": "a2918501-f863-4894-ae4a-a0463515218c"
      },
      "execution_count": 122,
      "outputs": [
        {
          "output_type": "stream",
          "name": "stdout",
          "text": [
            "   MovieID              Title    Genre ReleaseDate  Rating       Revenue  \\\n",
            "0        1          Inception   Sci-Fi  2010-07-16     8.8  8.255328e+08   \n",
            "1        2    The Dark Knight   Action  2008-07-18     9.0  1.004558e+09   \n",
            "2        3            Titanic  Romance  1997-12-19     7.8  2.187464e+09   \n",
            "3        4       Interstellar   Sci-Fi  2014-11-07     8.6  6.774713e+08   \n",
            "4        5              Joker    Drama  2019-10-04     8.4  1.074251e+09   \n",
            "5        6       The Notebook  Romance  2004-06-25     7.9           NaN   \n",
            "6        7  Avengers: Endgame   Action  2019-04-26     8.4  2.797801e+09   \n",
            "\n",
            "      Budget        Profit  \n",
            "0  160000000  6.655328e+08  \n",
            "1  185000000  8.195584e+08  \n",
            "2  200000000  1.987464e+09  \n",
            "3  165000000  5.124713e+08  \n",
            "4   55000000  1.019251e+09  \n",
            "5   29000000           NaN  \n",
            "6  356000000  2.441801e+09  \n"
          ]
        }
      ]
    },
    {
      "cell_type": "markdown",
      "source": [
        "Add a column \"Era\" :\n",
        "Before 2000 → Classic\n",
        "2000-2010 → Mid\n",
        "After 2010 → Modern"
      ],
      "metadata": {
        "id": "rYy_qz-7OfPA"
      }
    },
    {
      "cell_type": "code",
      "source": [
        "def get_era(date):\n",
        "  if date.year <2000:\n",
        "    return \"Classic\"\n",
        "  elif date.year>2010:\n",
        "    return 'Modern'\n",
        "  else:\n",
        "    return 'Mid'\n",
        "\n",
        "df['Era'] = df['ReleaseDate'].apply(get_era)\n",
        "print(df)"
      ],
      "metadata": {
        "colab": {
          "base_uri": "https://localhost:8080/"
        },
        "id": "8i1ejXd5Oorv",
        "outputId": "2336d171-3a9f-45f9-ae79-fab06c96a0b2"
      },
      "execution_count": 123,
      "outputs": [
        {
          "output_type": "stream",
          "name": "stdout",
          "text": [
            "   MovieID              Title    Genre ReleaseDate  Rating       Revenue  \\\n",
            "0        1          Inception   Sci-Fi  2010-07-16     8.8  8.255328e+08   \n",
            "1        2    The Dark Knight   Action  2008-07-18     9.0  1.004558e+09   \n",
            "2        3            Titanic  Romance  1997-12-19     7.8  2.187464e+09   \n",
            "3        4       Interstellar   Sci-Fi  2014-11-07     8.6  6.774713e+08   \n",
            "4        5              Joker    Drama  2019-10-04     8.4  1.074251e+09   \n",
            "5        6       The Notebook  Romance  2004-06-25     7.9           NaN   \n",
            "6        7  Avengers: Endgame   Action  2019-04-26     8.4  2.797801e+09   \n",
            "\n",
            "      Budget        Profit      Era  \n",
            "0  160000000  6.655328e+08      Mid  \n",
            "1  185000000  8.195584e+08      Mid  \n",
            "2  200000000  1.987464e+09  Classic  \n",
            "3  165000000  5.124713e+08   Modern  \n",
            "4   55000000  1.019251e+09   Modern  \n",
            "5   29000000           NaN      Mid  \n",
            "6  356000000  2.441801e+09   Modern  \n"
          ]
        }
      ]
    },
    {
      "cell_type": "markdown",
      "source": [
        "Handle nulls in Revenue by filling with average revenue."
      ],
      "metadata": {
        "id": "wkgjZ-0dPJiy"
      }
    },
    {
      "cell_type": "code",
      "source": [
        "df['Revenue'] = df['Revenue'].fillna(df['Revenue'].mean())\n",
        "print(df['Revenue'])"
      ],
      "metadata": {
        "colab": {
          "base_uri": "https://localhost:8080/"
        },
        "id": "o_SNJcFIPMY-",
        "outputId": "bc2c814e-a8d9-4b4f-9355-35b94ce15baf"
      },
      "execution_count": 124,
      "outputs": [
        {
          "output_type": "stream",
          "name": "stdout",
          "text": [
            "0    8.255328e+08\n",
            "1    1.004558e+09\n",
            "2    2.187464e+09\n",
            "3    6.774713e+08\n",
            "4    1.074251e+09\n",
            "5    1.427846e+09\n",
            "6    2.797801e+09\n",
            "Name: Revenue, dtype: float64\n"
          ]
        }
      ]
    },
    {
      "cell_type": "markdown",
      "source": [
        "Sort by Rating descending."
      ],
      "metadata": {
        "id": "cLRjH8SKPa22"
      }
    },
    {
      "cell_type": "code",
      "source": [
        "sorted = df.sort_values(by='Rating',ascending=False)\n",
        "print(sorted)"
      ],
      "metadata": {
        "colab": {
          "base_uri": "https://localhost:8080/"
        },
        "id": "EZvoubA7Pdap",
        "outputId": "a35493df-fda6-4c10-afe3-2988377d6024"
      },
      "execution_count": 125,
      "outputs": [
        {
          "output_type": "stream",
          "name": "stdout",
          "text": [
            "   MovieID              Title    Genre ReleaseDate  Rating       Revenue  \\\n",
            "1        2    The Dark Knight   Action  2008-07-18     9.0  1.004558e+09   \n",
            "0        1          Inception   Sci-Fi  2010-07-16     8.8  8.255328e+08   \n",
            "3        4       Interstellar   Sci-Fi  2014-11-07     8.6  6.774713e+08   \n",
            "6        7  Avengers: Endgame   Action  2019-04-26     8.4  2.797801e+09   \n",
            "4        5              Joker    Drama  2019-10-04     8.4  1.074251e+09   \n",
            "5        6       The Notebook  Romance  2004-06-25     7.9  1.427846e+09   \n",
            "2        3            Titanic  Romance  1997-12-19     7.8  2.187464e+09   \n",
            "\n",
            "      Budget        Profit      Era  \n",
            "1  185000000  8.195584e+08      Mid  \n",
            "0  160000000  6.655328e+08      Mid  \n",
            "3  165000000  5.124713e+08   Modern  \n",
            "6  356000000  2.441801e+09   Modern  \n",
            "4   55000000  1.019251e+09   Modern  \n",
            "5   29000000           NaN      Mid  \n",
            "2  200000000  1.987464e+09  Classic  \n"
          ]
        }
      ]
    },
    {
      "cell_type": "markdown",
      "source": [
        "Group by Genre → average Rating & total Revenue."
      ],
      "metadata": {
        "id": "wnRfX25kPoKO"
      }
    },
    {
      "cell_type": "code",
      "source": [
        "grouped = df.groupby('Genre').agg({'Rating':'mean','Revenue':'sum'})\n",
        "print(grouped)"
      ],
      "metadata": {
        "colab": {
          "base_uri": "https://localhost:8080/"
        },
        "id": "A3xMH5TTPrE4",
        "outputId": "1186d5eb-7be4-4bba-80c8-b4bfcd5c9e1c"
      },
      "execution_count": 126,
      "outputs": [
        {
          "output_type": "stream",
          "name": "stdout",
          "text": [
            "         Rating       Revenue\n",
            "Genre                        \n",
            "Action     8.70  3.802359e+09\n",
            "Drama      8.40  1.074251e+09\n",
            "Romance    7.85  3.615310e+09\n",
            "Sci-Fi     8.70  1.503004e+09\n"
          ]
        }
      ]
    },
    {
      "cell_type": "markdown",
      "source": [
        "Filter movies with Rating ≥ 8.5 and Profit >\n",
        "500M."
      ],
      "metadata": {
        "id": "MK_O1SSMP9Wb"
      }
    },
    {
      "cell_type": "code",
      "source": [
        "filtered = df[(df['Rating']>=8.5)&(df['Profit']>500000000)]\n",
        "print(filtered)"
      ],
      "metadata": {
        "colab": {
          "base_uri": "https://localhost:8080/"
        },
        "id": "AB8k9ObXP_sS",
        "outputId": "2a0f2903-cd8c-4821-98dd-51195040be54"
      },
      "execution_count": 127,
      "outputs": [
        {
          "output_type": "stream",
          "name": "stdout",
          "text": [
            "   MovieID            Title   Genre ReleaseDate  Rating       Revenue  \\\n",
            "0        1        Inception  Sci-Fi  2010-07-16     8.8  8.255328e+08   \n",
            "1        2  The Dark Knight  Action  2008-07-18     9.0  1.004558e+09   \n",
            "3        4     Interstellar  Sci-Fi  2014-11-07     8.6  6.774713e+08   \n",
            "\n",
            "      Budget       Profit     Era  \n",
            "0  160000000  665532764.0     Mid  \n",
            "1  185000000  819558444.0     Mid  \n",
            "3  165000000  512471339.0  Modern  \n"
          ]
        }
      ]
    },
    {
      "cell_type": "markdown",
      "source": [
        "Plot bar chart of Movie Title vs Profit."
      ],
      "metadata": {
        "id": "ENpraIAPQy9u"
      }
    },
    {
      "cell_type": "code",
      "source": [
        "import matplotlib.pyplot as plt\n",
        "\n",
        "plt.figure(figsize=(5,3))\n",
        "plt.bar(df['Title'],df['Profit'],color = 'red')\n",
        "plt.xlabel('TITLE')\n",
        "plt.ylabel('PROFIT')\n",
        "plt.xticks(rotation = 45)\n",
        "plt.title('PROFIT ANALYSIS')\n",
        "plt.show()"
      ],
      "metadata": {
        "colab": {
          "base_uri": "https://localhost:8080/",
          "height": 428
        },
        "id": "gaodc6N4Q18U",
        "outputId": "e30a5ed8-9930-4810-d50a-923681a0c7fa"
      },
      "execution_count": 128,
      "outputs": [
        {
          "output_type": "display_data",
          "data": {
            "text/plain": [
              "<Figure size 500x300 with 1 Axes>"
            ],
            "image/png": "[encoded data removed]"
          },
          "metadata": {}
        }
      ]
    },
    {
      "cell_type": "markdown",
      "source": [
        "# PYSPARK"
      ],
      "metadata": {
        "id": "7NLvgcx6cyKf"
      }
    },
    {
      "cell_type": "markdown",
      "source": [
        "Read the same CSV using PySpark."
      ],
      "metadata": {
        "id": "U1IArwvUc2kO"
      }
    },
    {
      "cell_type": "code",
      "source": [
        "from pyspark.sql import SparkSession\n",
        "\n",
        "spark = SparkSession.builder.appName('MovieAnalysis').getOrCreate()\n",
        "df = spark.read.csv('movies.csv',header=True,inferSchema=True)\n",
        "df.show()"
      ],
      "metadata": {
        "colab": {
          "base_uri": "https://localhost:8080/"
        },
        "id": "msN8Oavjc4_-",
        "outputId": "a189c846-cb25-44c6-dee3-5f3b1beef052"
      },
      "execution_count": 141,
      "outputs": [
        {
          "output_type": "stream",
          "name": "stdout",
          "text": [
            "+-------+-----------------+-------+-----------+------+----------+---------+\n",
            "|MovieID|            Title|  Genre|ReleaseDate|Rating|   Revenue|   Budget|\n",
            "+-------+-----------------+-------+-----------+------+----------+---------+\n",
            "|      1|        Inception| Sci-Fi| 2010-07-16|   8.8| 825532764|160000000|\n",
            "|      2|  The Dark Knight| Action| 2008-07-18|   9.0|1004558444|185000000|\n",
            "|      3|          Titanic|Romance| 1997-12-19|   7.8|2187463944|200000000|\n",
            "|      4|     Interstellar| Sci-Fi| 2014-11-07|   8.6| 677471339|165000000|\n",
            "|      5|            Joker|  Drama| 2019-10-04|   8.4|1074251311| 55000000|\n",
            "|      6|     The Notebook|Romance| 2004-06-25|   7.9|      NULL| 29000000|\n",
            "|      7|Avengers: Endgame| Action| 2019-04-26|   8.4|2797800564|356000000|\n",
            "+-------+-----------------+-------+-----------+------+----------+---------+\n",
            "\n"
          ]
        }
      ]
    },
    {
      "cell_type": "markdown",
      "source": [
        "Create Profit column ( Revenue - Budget )."
      ],
      "metadata": {
        "id": "Pj8_GETtgxnj"
      }
    },
    {
      "cell_type": "code",
      "source": [
        "df = df.withColumn('Profit',df['Revenue']-df['Budget'])\n",
        "df.show()"
      ],
      "metadata": {
        "colab": {
          "base_uri": "https://localhost:8080/"
        },
        "id": "UhxzEMpCgyd_",
        "outputId": "21114515-4c30-45a6-f8fd-543be168e898"
      },
      "execution_count": 142,
      "outputs": [
        {
          "output_type": "stream",
          "name": "stdout",
          "text": [
            "+-------+-----------------+-------+-----------+------+----------+---------+----------+\n",
            "|MovieID|            Title|  Genre|ReleaseDate|Rating|   Revenue|   Budget|    Profit|\n",
            "+-------+-----------------+-------+-----------+------+----------+---------+----------+\n",
            "|      1|        Inception| Sci-Fi| 2010-07-16|   8.8| 825532764|160000000| 665532764|\n",
            "|      2|  The Dark Knight| Action| 2008-07-18|   9.0|1004558444|185000000| 819558444|\n",
            "|      3|          Titanic|Romance| 1997-12-19|   7.8|2187463944|200000000|1987463944|\n",
            "|      4|     Interstellar| Sci-Fi| 2014-11-07|   8.6| 677471339|165000000| 512471339|\n",
            "|      5|            Joker|  Drama| 2019-10-04|   8.4|1074251311| 55000000|1019251311|\n",
            "|      6|     The Notebook|Romance| 2004-06-25|   7.9|      NULL| 29000000|      NULL|\n",
            "|      7|Avengers: Endgame| Action| 2019-04-26|   8.4|2797800564|356000000|2441800564|\n",
            "+-------+-----------------+-------+-----------+------+----------+---------+----------+\n",
            "\n"
          ]
        }
      ]
    },
    {
      "cell_type": "markdown",
      "source": [
        "Filter where Genre == 'Sci-Fi' and Profit > 500000000 ."
      ],
      "metadata": {
        "id": "OBXpOPCshNMa"
      }
    },
    {
      "cell_type": "code",
      "source": [
        "df.filter((df['Genre']=='Sci-Fi')&(df['Profit']>500000000)).show()"
      ],
      "metadata": {
        "colab": {
          "base_uri": "https://localhost:8080/"
        },
        "id": "vDad1OdZhN2B",
        "outputId": "dac39d94-0a68-4688-b154-dbf43e0ef0e5"
      },
      "execution_count": 131,
      "outputs": [
        {
          "output_type": "stream",
          "name": "stdout",
          "text": [
            "+-------+------------+------+-----------+------+---------+---------+---------+\n",
            "|MovieID|       Title| Genre|ReleaseDate|Rating|  Revenue|   Budget|   Profit|\n",
            "+-------+------------+------+-----------+------+---------+---------+---------+\n",
            "|      1|   Inception|Sci-Fi| 2010-07-16|   8.8|825532764|160000000|665532764|\n",
            "|      4|Interstellar|Sci-Fi| 2014-11-07|   8.6|677471339|165000000|512471339|\n",
            "+-------+------------+------+-----------+------+---------+---------+---------+\n",
            "\n"
          ]
        }
      ]
    },
    {
      "cell_type": "markdown",
      "source": [
        "Group by Genre → avg(Rating) , sum(Profit)"
      ],
      "metadata": {
        "id": "-gFI3FyAhmad"
      }
    },
    {
      "cell_type": "code",
      "source": [
        "from pyspark.sql.functions import avg, sum\n",
        "\n",
        "df.groupBy(\"Genre\").agg(avg(\"Rating\").alias(\"AverageRating\"),sum(\"Profit\").alias(\"TotalProfit\")).show()"
      ],
      "metadata": {
        "colab": {
          "base_uri": "https://localhost:8080/"
        },
        "id": "Agt_PZCGj06i",
        "outputId": "f13afd0f-313a-4cbe-c2c4-eb6ea234a9bd"
      },
      "execution_count": 132,
      "outputs": [
        {
          "output_type": "stream",
          "name": "stdout",
          "text": [
            "+-------+-------------+-----------+\n",
            "|  Genre|AverageRating|TotalProfit|\n",
            "+-------+-------------+-----------+\n",
            "|Romance|         7.85| 1987463944|\n",
            "|  Drama|          8.4| 1019251311|\n",
            "| Action|          8.7| 3261359008|\n",
            "| Sci-Fi|          8.7| 1178004103|\n",
            "+-------+-------------+-----------+\n",
            "\n"
          ]
        }
      ]
    },
    {
      "cell_type": "markdown",
      "source": [
        "Use when().otherwise() to classify Rating as:"
      ],
      "metadata": {
        "id": "F1g-d-O_j97g"
      }
    },
    {
      "cell_type": "code",
      "source": [
        "from pyspark.sql.functions import when\n",
        "df = df.withColumn('RatingAnalysis',when(df['Rating']>=9,'BLOCKBUSTER').when(df['Rating']>=8,'HIT').otherwise('AVERAGE'))\n",
        "df.show()"
      ],
      "metadata": {
        "colab": {
          "base_uri": "https://localhost:8080/"
        },
        "id": "dS97TJBkkBXs",
        "outputId": "b6cde5f7-2958-4a45-957f-8fa7344fe3fb"
      },
      "execution_count": 136,
      "outputs": [
        {
          "output_type": "stream",
          "name": "stdout",
          "text": [
            "+-------+-----------------+-------+-----------+------+----------+----------+--------------+\n",
            "|MovieID|            Title|  Genre|ReleaseDate|Rating|   Revenue|    Profit|RatingAnalysis|\n",
            "+-------+-----------------+-------+-----------+------+----------+----------+--------------+\n",
            "|      1|        Inception| Sci-Fi| 2010-07-16|   8.8| 825532764| 665532764|           HIT|\n",
            "|      2|  The Dark Knight| Action| 2008-07-18|   9.0|1004558444| 819558444|   BLOCKBUSTER|\n",
            "|      3|          Titanic|Romance| 1997-12-19|   7.8|2187463944|1987463944|       AVERAGE|\n",
            "|      4|     Interstellar| Sci-Fi| 2014-11-07|   8.6| 677471339| 512471339|           HIT|\n",
            "|      5|            Joker|  Drama| 2019-10-04|   8.4|1074251311|1019251311|           HIT|\n",
            "|      6|     The Notebook|Romance| 2004-06-25|   7.9|1427846394|      NULL|       AVERAGE|\n",
            "|      7|Avengers: Endgame| Action| 2019-04-26|   8.4|2797800564|2441800564|           HIT|\n",
            "+-------+-----------------+-------+-----------+------+----------+----------+--------------+\n",
            "\n"
          ]
        }
      ]
    },
    {
      "cell_type": "markdown",
      "source": [
        "Drop the Budget column."
      ],
      "metadata": {
        "id": "QlOuTXFxlLZ3"
      }
    },
    {
      "cell_type": "code",
      "source": [
        "df = df.drop('Budget')\n",
        "df.show()"
      ],
      "metadata": {
        "colab": {
          "base_uri": "https://localhost:8080/"
        },
        "id": "bFHmWzDDlOiO",
        "outputId": "e53ffcd9-b9b5-4b86-93f9-4873f6519066"
      },
      "execution_count": 134,
      "outputs": [
        {
          "output_type": "stream",
          "name": "stdout",
          "text": [
            "+-------+-----------------+-------+-----------+------+----------+----------+--------------+\n",
            "|MovieID|            Title|  Genre|ReleaseDate|Rating|   Revenue|    Profit|RatingAnalysis|\n",
            "+-------+-----------------+-------+-----------+------+----------+----------+--------------+\n",
            "|      1|        Inception| Sci-Fi| 2010-07-16|   8.8| 825532764| 665532764|           HIT|\n",
            "|      2|  The Dark Knight| Action| 2008-07-18|   9.0|1004558444| 819558444|   BLOCKBUSTER|\n",
            "|      3|          Titanic|Romance| 1997-12-19|   7.8|2187463944|1987463944|       AVERAGE|\n",
            "|      4|     Interstellar| Sci-Fi| 2014-11-07|   8.6| 677471339| 512471339|           HIT|\n",
            "|      5|            Joker|  Drama| 2019-10-04|   8.4|1074251311|1019251311|           HIT|\n",
            "|      6|     The Notebook|Romance| 2004-06-25|   7.9|      NULL|      NULL|       AVERAGE|\n",
            "|      7|Avengers: Endgame| Action| 2019-04-26|   8.4|2797800564|2441800564|           HIT|\n",
            "+-------+-----------------+-------+-----------+------+----------+----------+--------------+\n",
            "\n"
          ]
        }
      ]
    },
    {
      "cell_type": "markdown",
      "source": [
        "Fill null revenue with average (use na.fill() or na.replace() )."
      ],
      "metadata": {
        "id": "aj541XWilUI9"
      }
    },
    {
      "cell_type": "code",
      "source": [
        "from pyspark.sql.functions import avg\n",
        "avg_revenue = df.select(avg('Revenue')).first()[0]\n",
        "df =  df.fillna({'Revenue':avg_revenue})\n",
        "df.show()"
      ],
      "metadata": {
        "colab": {
          "base_uri": "https://localhost:8080/"
        },
        "id": "5c-KUwQclYOw",
        "outputId": "cab9b8be-4e1d-4220-e8af-ce67b4d4dec7"
      },
      "execution_count": 135,
      "outputs": [
        {
          "output_type": "stream",
          "name": "stdout",
          "text": [
            "+-------+-----------------+-------+-----------+------+----------+----------+--------------+\n",
            "|MovieID|            Title|  Genre|ReleaseDate|Rating|   Revenue|    Profit|RatingAnalysis|\n",
            "+-------+-----------------+-------+-----------+------+----------+----------+--------------+\n",
            "|      1|        Inception| Sci-Fi| 2010-07-16|   8.8| 825532764| 665532764|           HIT|\n",
            "|      2|  The Dark Knight| Action| 2008-07-18|   9.0|1004558444| 819558444|   BLOCKBUSTER|\n",
            "|      3|          Titanic|Romance| 1997-12-19|   7.8|2187463944|1987463944|       AVERAGE|\n",
            "|      4|     Interstellar| Sci-Fi| 2014-11-07|   8.6| 677471339| 512471339|           HIT|\n",
            "|      5|            Joker|  Drama| 2019-10-04|   8.4|1074251311|1019251311|           HIT|\n",
            "|      6|     The Notebook|Romance| 2004-06-25|   7.9|1427846394|      NULL|       AVERAGE|\n",
            "|      7|Avengers: Endgame| Action| 2019-04-26|   8.4|2797800564|2441800564|           HIT|\n",
            "+-------+-----------------+-------+-----------+------+----------+----------+--------------+\n",
            "\n"
          ]
        }
      ]
    },
    {
      "cell_type": "markdown",
      "source": [
        "Convert ReleaseDate to date type, extract year and month ."
      ],
      "metadata": {
        "id": "qP2mdb6A0fqX"
      }
    },
    {
      "cell_type": "code",
      "source": [
        "from pyspark.sql.functions import year,month\n",
        "df = df.withColumn('ReleaseDate',df['ReleaseDate'].cast('date'))\n",
        "df = df.withColumn('Year',year('ReleaseDate'))\n",
        "df = df.withColumn('Month',month('ReleaseDate'))\n",
        "df.show()"
      ],
      "metadata": {
        "colab": {
          "base_uri": "https://localhost:8080/"
        },
        "id": "MwYkDXlH0pfS",
        "outputId": "7467cdd4-46bd-40ff-8f8d-9da503e6b37a"
      },
      "execution_count": 70,
      "outputs": [
        {
          "output_type": "stream",
          "name": "stdout",
          "text": [
            "+-------+-----------------+-------+-----------+------+----------+----------+--------------+----+-----+\n",
            "|MovieID|            Title|  Genre|ReleaseDate|Rating|   Revenue|    Profit|RatingAnalysis|Year|Month|\n",
            "+-------+-----------------+-------+-----------+------+----------+----------+--------------+----+-----+\n",
            "|      1|        Inception| Sci-Fi| 2010-07-16|   8.8| 825532764| 665532764|           HIT|2010|    7|\n",
            "|      2|  The Dark Knight| Action| 2008-07-18|   9.0|1004558444| 819558444|   BLOCKBUSTER|2008|    7|\n",
            "|      3|          Titanic|Romance| 1997-12-19|   7.8|2187463944|1987463944|       AVERAGE|1997|   12|\n",
            "|      4|     Interstellar| Sci-Fi| 2014-11-07|   8.6| 677471339| 512471339|           HIT|2014|   11|\n",
            "|      5|            Joker|  Drama| 2019-10-04|   8.4|1074251311|1019251311|           HIT|2019|   10|\n",
            "|      6|     The Notebook|Romance| 2004-06-25|   7.9|1427846394|      NULL|       AVERAGE|2004|    6|\n",
            "|      7|Avengers: Endgame| Action| 2019-04-26|   8.4|2797800564|2441800564|           HIT|2019|    4|\n",
            "+-------+-----------------+-------+-----------+------+----------+----------+--------------+----+-----+\n",
            "\n"
          ]
        }
      ]
    },
    {
      "cell_type": "markdown",
      "source": [
        "Use a window function to rank movies within each genre by profit."
      ],
      "metadata": {
        "id": "FCaJDGYH1aSx"
      }
    },
    {
      "cell_type": "code",
      "source": [
        "from pyspark.sql.window import Window\n",
        "from pyspark.sql.functions import rank\n",
        "windows = Window.partitionBy('Genre').orderBy(df['Profit'].desc())\n",
        "df = df.withColumn('Rank',rank().over(windows))\n",
        "df.show()"
      ],
      "metadata": {
        "colab": {
          "base_uri": "https://localhost:8080/"
        },
        "id": "C2waX8q21kxa",
        "outputId": "0131da3b-4574-4031-882c-7260422b0f21"
      },
      "execution_count": 71,
      "outputs": [
        {
          "output_type": "stream",
          "name": "stdout",
          "text": [
            "+-------+-----------------+-------+-----------+------+----------+----------+--------------+----+-----+----+\n",
            "|MovieID|            Title|  Genre|ReleaseDate|Rating|   Revenue|    Profit|RatingAnalysis|Year|Month|Rank|\n",
            "+-------+-----------------+-------+-----------+------+----------+----------+--------------+----+-----+----+\n",
            "|      7|Avengers: Endgame| Action| 2019-04-26|   8.4|2797800564|2441800564|           HIT|2019|    4|   1|\n",
            "|      2|  The Dark Knight| Action| 2008-07-18|   9.0|1004558444| 819558444|   BLOCKBUSTER|2008|    7|   2|\n",
            "|      5|            Joker|  Drama| 2019-10-04|   8.4|1074251311|1019251311|           HIT|2019|   10|   1|\n",
            "|      3|          Titanic|Romance| 1997-12-19|   7.8|2187463944|1987463944|       AVERAGE|1997|   12|   1|\n",
            "|      6|     The Notebook|Romance| 2004-06-25|   7.9|1427846394|      NULL|       AVERAGE|2004|    6|   2|\n",
            "|      1|        Inception| Sci-Fi| 2010-07-16|   8.8| 825532764| 665532764|           HIT|2010|    7|   1|\n",
            "|      4|     Interstellar| Sci-Fi| 2014-11-07|   8.6| 677471339| 512471339|           HIT|2014|   11|   2|\n",
            "+-------+-----------------+-------+-----------+------+----------+----------+--------------+----+-----+----+\n",
            "\n"
          ]
        }
      ]
    },
    {
      "cell_type": "markdown",
      "source": [
        "#JSON"
      ],
      "metadata": {
        "id": "LcLBt_c62xNF"
      }
    },
    {
      "cell_type": "markdown",
      "source": [
        "Read this JSON using PySpark."
      ],
      "metadata": {
        "id": "Q7ohMeZz2yyL"
      }
    },
    {
      "cell_type": "markdown",
      "source": [
        "Union it with your original movies DataFrame."
      ],
      "metadata": {
        "id": "MB0o9qXZ4tZb"
      }
    },
    {
      "cell_type": "code",
      "source": [
        "df.show()"
      ],
      "metadata": {
        "colab": {
          "base_uri": "https://localhost:8080/"
        },
        "id": "Tv6mOq5M59Yw",
        "outputId": "75eab40a-ad3f-4a1e-e898-327ce15a398f"
      },
      "execution_count": 72,
      "outputs": [
        {
          "output_type": "stream",
          "name": "stdout",
          "text": [
            "+-------+-----------------+-------+-----------+------+----------+----------+--------------+----+-----+----+\n",
            "|MovieID|            Title|  Genre|ReleaseDate|Rating|   Revenue|    Profit|RatingAnalysis|Year|Month|Rank|\n",
            "+-------+-----------------+-------+-----------+------+----------+----------+--------------+----+-----+----+\n",
            "|      7|Avengers: Endgame| Action| 2019-04-26|   8.4|2797800564|2441800564|           HIT|2019|    4|   1|\n",
            "|      2|  The Dark Knight| Action| 2008-07-18|   9.0|1004558444| 819558444|   BLOCKBUSTER|2008|    7|   2|\n",
            "|      5|            Joker|  Drama| 2019-10-04|   8.4|1074251311|1019251311|           HIT|2019|   10|   1|\n",
            "|      3|          Titanic|Romance| 1997-12-19|   7.8|2187463944|1987463944|       AVERAGE|1997|   12|   1|\n",
            "|      6|     The Notebook|Romance| 2004-06-25|   7.9|1427846394|      NULL|       AVERAGE|2004|    6|   2|\n",
            "|      1|        Inception| Sci-Fi| 2010-07-16|   8.8| 825532764| 665532764|           HIT|2010|    7|   1|\n",
            "|      4|     Interstellar| Sci-Fi| 2014-11-07|   8.6| 677471339| 512471339|           HIT|2014|   11|   2|\n",
            "+-------+-----------------+-------+-----------+------+----------+----------+--------------+----+-----+----+\n",
            "\n"
          ]
        }
      ]
    },
    {
      "cell_type": "code",
      "source": [
        "df = df.drop('Year')\n",
        "df = df.drop('Month')\n",
        "df = df.drop('Rank')\n",
        "df = df.drop('RatingAnalysis')\n",
        "df.show()"
      ],
      "metadata": {
        "colab": {
          "base_uri": "https://localhost:8080/"
        },
        "id": "lRruzpMk7cch",
        "outputId": "bf86ca8e-36a6-4a6c-d408-830875318a83"
      },
      "execution_count": 101,
      "outputs": [
        {
          "output_type": "stream",
          "name": "stdout",
          "text": [
            "+-------+-----------------+-------+-----------+------+----------+----------+\n",
            "|MovieID|            Title|  Genre|ReleaseDate|Rating|   Revenue|    Profit|\n",
            "+-------+-----------------+-------+-----------+------+----------+----------+\n",
            "|      1|        Inception| Sci-Fi| 2010-07-16|   8.8| 825532764| 665532764|\n",
            "|      2|  The Dark Knight| Action| 2008-07-18|   9.0|1004558444| 819558444|\n",
            "|      3|          Titanic|Romance| 1997-12-19|   7.8|2187463944|1987463944|\n",
            "|      4|     Interstellar| Sci-Fi| 2014-11-07|   8.6| 677471339| 512471339|\n",
            "|      5|            Joker|  Drama| 2019-10-04|   8.4|1074251311|1019251311|\n",
            "|      6|     The Notebook|Romance| 2004-06-25|   7.9|1427846394|      NULL|\n",
            "|      7|Avengers: Endgame| Action| 2019-04-26|   8.4|2797800564|2441800564|\n",
            "+-------+-----------------+-------+-----------+------+----------+----------+\n",
            "\n"
          ]
        }
      ]
    },
    {
      "cell_type": "markdown",
      "source": [
        "#JSON"
      ],
      "metadata": {
        "id": "HRN23wkv75dC"
      }
    },
    {
      "cell_type": "code",
      "source": [
        "import json\n",
        "\n",
        "data = [\n",
        "    {\"MovieID\": 8, \"Title\": \"Barbie\", \"Genre\": \"Drama\", \"Rating\": 7.5, \"Revenue\": 1456000000, \"Budget\": 145000000},\n",
        "    {\"MovieID\": 9, \"Title\": \"Oppenheimer\", \"Genre\": \"Drama\", \"Rating\": 8.6, \"Revenue\": 950000000, \"Budget\": 100000000}\n",
        "]\n",
        "\n",
        "with open('movie.json', 'w') as file:\n",
        "    json.dump(data, file, indent=4)\n"
      ],
      "metadata": {
        "id": "VgwFn8GYBhFR"
      },
      "execution_count": 102,
      "outputs": []
    },
    {
      "cell_type": "code",
      "source": [
        "df_json = spark.read.option('multiline',True).json('movie.json')\n",
        "df_json.show()\n"
      ],
      "metadata": {
        "colab": {
          "base_uri": "https://localhost:8080/"
        },
        "id": "0MYud8dsBlTG",
        "outputId": "932ba4c7-b030-4624-8fe2-bc4ccc98eb17"
      },
      "execution_count": 103,
      "outputs": [
        {
          "output_type": "stream",
          "name": "stdout",
          "text": [
            "+---------+-----+-------+------+----------+-----------+\n",
            "|   Budget|Genre|MovieID|Rating|   Revenue|      Title|\n",
            "+---------+-----+-------+------+----------+-----------+\n",
            "|145000000|Drama|      8|   7.5|1456000000|     Barbie|\n",
            "|100000000|Drama|      9|   8.6| 950000000|Oppenheimer|\n",
            "+---------+-----+-------+------+----------+-----------+\n",
            "\n"
          ]
        }
      ]
    },
    {
      "cell_type": "markdown",
      "source": [
        "Union it with your original movies DataFrame."
      ],
      "metadata": {
        "id": "tbary4p_9Sa0"
      }
    },
    {
      "cell_type": "code",
      "source": [
        "from pyspark.sql.functions import col, lit\n",
        "\n",
        "df_json = df_json.withColumn('Profit', col('Revenue') - col('Budget'))\n",
        "df_json = df_json.withColumn('ReleaseDate', lit('2010-01-30'))\n",
        "df_json = df_json.select('MovieID', 'Title', 'Genre', 'ReleaseDate', 'Rating', 'Revenue', 'Profit')\n",
        "df_json.show()\n",
        "df_all = df.unionByName(df_json)\n",
        "df_all.show()\n",
        "\n"
      ],
      "metadata": {
        "colab": {
          "base_uri": "https://localhost:8080/"
        },
        "id": "s59kVw11Buhu",
        "outputId": "4c97ad6c-c3d1-40b0-8d0f-21d557bdb7f3"
      },
      "execution_count": 104,
      "outputs": [
        {
          "output_type": "stream",
          "name": "stdout",
          "text": [
            "+-------+-----------+-----+-----------+------+----------+----------+\n",
            "|MovieID|      Title|Genre|ReleaseDate|Rating|   Revenue|    Profit|\n",
            "+-------+-----------+-----+-----------+------+----------+----------+\n",
            "|      8|     Barbie|Drama| 2010-01-30|   7.5|1456000000|1311000000|\n",
            "|      9|Oppenheimer|Drama| 2010-01-30|   8.6| 950000000| 850000000|\n",
            "+-------+-----------+-----+-----------+------+----------+----------+\n",
            "\n",
            "+-------+-----------------+-------+-----------+------+----------+----------+\n",
            "|MovieID|            Title|  Genre|ReleaseDate|Rating|   Revenue|    Profit|\n",
            "+-------+-----------------+-------+-----------+------+----------+----------+\n",
            "|      1|        Inception| Sci-Fi| 2010-07-16|   8.8| 825532764| 665532764|\n",
            "|      2|  The Dark Knight| Action| 2008-07-18|   9.0|1004558444| 819558444|\n",
            "|      3|          Titanic|Romance| 1997-12-19|   7.8|2187463944|1987463944|\n",
            "|      4|     Interstellar| Sci-Fi| 2014-11-07|   8.6| 677471339| 512471339|\n",
            "|      5|            Joker|  Drama| 2019-10-04|   8.4|1074251311|1019251311|\n",
            "|      6|     The Notebook|Romance| 2004-06-25|   7.9|1427846394|      NULL|\n",
            "|      7|Avengers: Endgame| Action| 2019-04-26|   8.4|2797800564|2441800564|\n",
            "|      8|           Barbie|  Drama| 2010-01-30|   7.5|1456000000|1311000000|\n",
            "|      9|      Oppenheimer|  Drama| 2010-01-30|   8.6| 950000000| 850000000|\n",
            "+-------+-----------------+-------+-----------+------+----------+----------+\n",
            "\n"
          ]
        }
      ]
    },
    {
      "cell_type": "markdown",
      "source": [
        "Show top 5 highest grossing movie."
      ],
      "metadata": {
        "id": "wTfTHvfoDfmR"
      }
    },
    {
      "cell_type": "code",
      "source": [
        "df_all.orderBy(col('Revenue').desc()).show(5)"
      ],
      "metadata": {
        "colab": {
          "base_uri": "https://localhost:8080/"
        },
        "id": "rLhRjxA4Dhtx",
        "outputId": "309f85c9-8d3f-4a30-bafd-7b55826daaea"
      },
      "execution_count": 105,
      "outputs": [
        {
          "output_type": "stream",
          "name": "stdout",
          "text": [
            "+-------+-----------------+-------+-----------+------+----------+----------+\n",
            "|MovieID|            Title|  Genre|ReleaseDate|Rating|   Revenue|    Profit|\n",
            "+-------+-----------------+-------+-----------+------+----------+----------+\n",
            "|      7|Avengers: Endgame| Action| 2019-04-26|   8.4|2797800564|2441800564|\n",
            "|      3|          Titanic|Romance| 1997-12-19|   7.8|2187463944|1987463944|\n",
            "|      8|           Barbie|  Drama| 2010-01-30|   7.5|1456000000|1311000000|\n",
            "|      6|     The Notebook|Romance| 2004-06-25|   7.9|1427846394|      NULL|\n",
            "|      5|            Joker|  Drama| 2019-10-04|   8.4|1074251311|1019251311|\n",
            "+-------+-----------------+-------+-----------+------+----------+----------+\n",
            "only showing top 5 rows\n",
            "\n"
          ]
        }
      ]
    },
    {
      "cell_type": "markdown",
      "source": [
        "Save final merged DataFrame as CSV."
      ],
      "metadata": {
        "id": "D4KXr55hDuVn"
      }
    },
    {
      "cell_type": "code",
      "source": [
        "df_all.write.mode(\"overwrite\").option(\"header\", \"true\").csv(\"final_merged_movies\")"
      ],
      "metadata": {
        "id": "rB7cDsjyD8lj"
      },
      "execution_count": 106,
      "outputs": []
    },
    {
      "cell_type": "code",
      "source": [
        "import shutil\n",
        "import glob\n",
        "\n",
        "output_file = glob.glob(\"final_merged_movies/part-*.csv\")[0]\n",
        "\n",
        "shutil.copy(output_file, \"final_merged_movies.csv\")\n",
        "\n",
        "from google.colab import files\n",
        "files.download(\"final_merged_movies.csv\")"
      ],
      "metadata": {
        "colab": {
          "base_uri": "https://localhost:8080/",
          "height": 17
        },
        "id": "1uVGEKjBEFA8",
        "outputId": "96b2911c-3454-45db-a68b-e92a0c8a6f5f"
      },
      "execution_count": 107,
      "outputs": [
        {
          "output_type": "display_data",
          "data": {
            "text/plain": [
              "<IPython.core.display.Javascript object>"
            ],
            "application/javascript": [
              "\n",
              "    async function download(id, filename, size) {\n",
              "      if (!google.colab.kernel.accessAllowed) {\n",
              "        return;\n",
              "      }\n",
              "      const div = document.createElement('div');\n",
              "      const label = document.createElement('label');\n",
              "      label.textContent = `Downloading \"${filename}\": `;\n",
              "      div.appendChild(label);\n",
              "      const progress = document.createElement('progress');\n",
              "      progress.max = size;\n",
              "      div.appendChild(progress);\n",
              "      document.body.appendChild(div);\n",
              "\n",
              "      const buffers = [];\n",
              "      let downloaded = 0;\n",
              "\n",
              "      const channel = await google.colab.kernel.comms.open(id);\n",
              "      // Send a message to notify the kernel that we're ready.\n",
              "      channel.send({})\n",
              "\n",
              "      for await (const message of channel.messages) {\n",
              "        // Send a message to notify the kernel that we're ready.\n",
              "        channel.send({})\n",
              "        if (message.buffers) {\n",
              "          for (const buffer of message.buffers) {\n",
              "            buffers.push(buffer);\n",
              "            downloaded += buffer.byteLength;\n",
              "            progress.value = downloaded;\n",
              "          }\n",
              "        }\n",
              "      }\n",
              "      const blob = new Blob(buffers, {type: 'application/binary'});\n",
              "      const a = document.createElement('a');\n",
              "      a.href = window.URL.createObjectURL(blob);\n",
              "      a.download = filename;\n",
              "      div.appendChild(a);\n",
              "      a.click();\n",
              "      div.remove();\n",
              "    }\n",
              "  "
            ]
          },
          "metadata": {}
        },
        {
          "output_type": "display_data",
          "data": {
            "text/plain": [
              "<IPython.core.display.Javascript object>"
            ],
            "application/javascript": [
              "download(\"download_5a5a76cb-3d46-49ab-bf19-7cd344dc6ab5\", \"final_merged_movies.csv\", 161)"
            ]
          },
          "metadata": {}
        }
      ]
    },
    {
      "cell_type": "markdown",
      "source": [
        "#BONUS"
      ],
      "metadata": {
        "id": "-MbFbQ5OEVnv"
      }
    },
    {
      "cell_type": "markdown",
      "source": [
        "Create a column ReturnOnInvestment = Profit / Budget"
      ],
      "metadata": {
        "id": "j8UjAMkYEXVL"
      }
    },
    {
      "cell_type": "code",
      "source": [
        "df.show()"
      ],
      "metadata": {
        "colab": {
          "base_uri": "https://localhost:8080/"
        },
        "id": "VlYQrSWBEbKh",
        "outputId": "aa2bf7c5-5b4c-4081-e4ab-3e98bcc75eaa"
      },
      "execution_count": 143,
      "outputs": [
        {
          "output_type": "stream",
          "name": "stdout",
          "text": [
            "+-------+-----------------+-------+-----------+------+----------+---------+----------+\n",
            "|MovieID|            Title|  Genre|ReleaseDate|Rating|   Revenue|   Budget|    Profit|\n",
            "+-------+-----------------+-------+-----------+------+----------+---------+----------+\n",
            "|      1|        Inception| Sci-Fi| 2010-07-16|   8.8| 825532764|160000000| 665532764|\n",
            "|      2|  The Dark Knight| Action| 2008-07-18|   9.0|1004558444|185000000| 819558444|\n",
            "|      3|          Titanic|Romance| 1997-12-19|   7.8|2187463944|200000000|1987463944|\n",
            "|      4|     Interstellar| Sci-Fi| 2014-11-07|   8.6| 677471339|165000000| 512471339|\n",
            "|      5|            Joker|  Drama| 2019-10-04|   8.4|1074251311| 55000000|1019251311|\n",
            "|      6|     The Notebook|Romance| 2004-06-25|   7.9|      NULL| 29000000|      NULL|\n",
            "|      7|Avengers: Endgame| Action| 2019-04-26|   8.4|2797800564|356000000|2441800564|\n",
            "+-------+-----------------+-------+-----------+------+----------+---------+----------+\n",
            "\n"
          ]
        }
      ]
    },
    {
      "cell_type": "code",
      "source": [
        "df = df.withColumn('ReturnOnInvestment',col('Profit')/col('Budget'))\n",
        "df.show()"
      ],
      "metadata": {
        "colab": {
          "base_uri": "https://localhost:8080/"
        },
        "id": "44FgiwWmG6jJ",
        "outputId": "7f0bcb7c-7542-41d0-ca98-a76849c89f8e"
      },
      "execution_count": 144,
      "outputs": [
        {
          "output_type": "stream",
          "name": "stdout",
          "text": [
            "+-------+-----------------+-------+-----------+------+----------+---------+----------+------------------+\n",
            "|MovieID|            Title|  Genre|ReleaseDate|Rating|   Revenue|   Budget|    Profit|ReturnOnInvestment|\n",
            "+-------+-----------------+-------+-----------+------+----------+---------+----------+------------------+\n",
            "|      1|        Inception| Sci-Fi| 2010-07-16|   8.8| 825532764|160000000| 665532764|       4.159579775|\n",
            "|      2|  The Dark Knight| Action| 2008-07-18|   9.0|1004558444|185000000| 819558444| 4.430045643243243|\n",
            "|      3|          Titanic|Romance| 1997-12-19|   7.8|2187463944|200000000|1987463944|        9.93731972|\n",
            "|      4|     Interstellar| Sci-Fi| 2014-11-07|   8.6| 677471339|165000000| 512471339| 3.105886903030303|\n",
            "|      5|            Joker|  Drama| 2019-10-04|   8.4|1074251311| 55000000|1019251311| 18.53184201818182|\n",
            "|      6|     The Notebook|Romance| 2004-06-25|   7.9|      NULL| 29000000|      NULL|              NULL|\n",
            "|      7|Avengers: Endgame| Action| 2019-04-26|   8.4|2797800564|356000000|2441800564| 6.858990348314607|\n",
            "+-------+-----------------+-------+-----------+------+----------+---------+----------+------------------+\n",
            "\n"
          ]
        }
      ]
    },
    {
      "cell_type": "markdown",
      "source": [
        "Show top ROI movies (minimum budget\n",
        "50M)"
      ],
      "metadata": {
        "id": "bdeYPHBCG6Gc"
      }
    },
    {
      "cell_type": "code",
      "source": [
        "top = df.filter(col('Budget')>=50000000).orderBy(col('ReturnOnInvestment').desc())\n",
        "top.show()"
      ],
      "metadata": {
        "colab": {
          "base_uri": "https://localhost:8080/"
        },
        "id": "OyYFzXYJHa0W",
        "outputId": "ac44254a-4a7f-482c-9a0c-265806d31f6d"
      },
      "execution_count": 147,
      "outputs": [
        {
          "output_type": "stream",
          "name": "stdout",
          "text": [
            "+-------+-----------------+-------+-----------+------+----------+---------+----------+------------------+\n",
            "|MovieID|            Title|  Genre|ReleaseDate|Rating|   Revenue|   Budget|    Profit|ReturnOnInvestment|\n",
            "+-------+-----------------+-------+-----------+------+----------+---------+----------+------------------+\n",
            "|      5|            Joker|  Drama| 2019-10-04|   8.4|1074251311| 55000000|1019251311| 18.53184201818182|\n",
            "|      3|          Titanic|Romance| 1997-12-19|   7.8|2187463944|200000000|1987463944|        9.93731972|\n",
            "|      7|Avengers: Endgame| Action| 2019-04-26|   8.4|2797800564|356000000|2441800564| 6.858990348314607|\n",
            "|      2|  The Dark Knight| Action| 2008-07-18|   9.0|1004558444|185000000| 819558444| 4.430045643243243|\n",
            "|      1|        Inception| Sci-Fi| 2010-07-16|   8.8| 825532764|160000000| 665532764|       4.159579775|\n",
            "|      4|     Interstellar| Sci-Fi| 2014-11-07|   8.6| 677471339|165000000| 512471339| 3.105886903030303|\n",
            "+-------+-----------------+-------+-----------+------+----------+---------+----------+------------------+\n",
            "\n"
          ]
        }
      ]
    },
    {
      "cell_type": "markdown",
      "source": [
        "Plot genre-wise ROI as a bar chart using Pandas"
      ],
      "metadata": {
        "id": "oBDNEO5xHz90"
      }
    },
    {
      "cell_type": "code",
      "source": [
        "pdf = df.select('Genre','ReturnOnInvestment').toPandas()\n",
        "genre_roi = pdf.groupby(\"Genre\", as_index=False).mean(numeric_only=True)\n",
        "\n",
        "plt.figure(figsize=(5,3))\n",
        "plt.bar(genre_roi[\"Genre\"], genre_roi[\"ReturnOnInvestment\"], color=\"red\")\n",
        "plt.title(\"Genre-wise Average ROI\")\n",
        "plt.xlabel(\"Genre\")\n",
        "plt.ylabel(\"Return on Investment\")\n",
        "plt.xticks(rotation=45)\n",
        "plt.tight_layout()\n",
        "plt.show()"
      ],
      "metadata": {
        "colab": {
          "base_uri": "https://localhost:8080/",
          "height": 307
        },
        "id": "Ewqf-6XyH2vY",
        "outputId": "ff25f032-9b71-43d3-8c6c-230c6c4b2230"
      },
      "execution_count": 148,
      "outputs": [
        {
          "output_type": "display_data",
          "data": {
            "text/plain": [
              "<Figure size 500x300 with 1 Axes>"
            ],
            "image/png": "[encoded data removed]"
          },
          "metadata": {}
        }
      ]
    }
  ]
}