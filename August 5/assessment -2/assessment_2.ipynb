{
  "nbformat": 4,
  "nbformat_minor": 0,
  "metadata": {
    "colab": {
      "provenance": []
    },
    "kernelspec": {
      "name": "python3",
      "display_name": "Python 3"
    },
    "language_info": {
      "name": "python"
    }
  },
  "cells": [
    {
      "cell_type": "markdown",
      "source": [
        "Initialize Spark with:"
      ],
      "metadata": {
        "id": "uo4emIRyr477"
      }
    },
    {
      "cell_type": "code",
      "execution_count": 2,
      "metadata": {
        "id": "au4K7Riyrkzj"
      },
      "outputs": [],
      "source": [
        "from pyspark.sql import SparkSession\n",
        "spark = SparkSession.builder.appName(\"BotCampus PySpark Practice\").master(\"local[*]\").getOrCreate()"
      ]
    },
    {
      "cell_type": "markdown",
      "source": [
        "Create a DataFrame"
      ],
      "metadata": {
        "id": "lM4l1OltsNTx"
      }
    },
    {
      "cell_type": "code",
      "source": [
        "data = [\n",
        "(\"Anjali\", \"Bangalore\", 24),\n",
        "(\"Ravi\", \"Hyderabad\", 28),\n",
        "(\"Kavya\", \"Delhi\", 22),\n",
        "(\"Meena\", \"Chennai\", 25),\n",
        "(\"Arjun\", \"Mumbai\", 30)\n",
        "]\n",
        "columns = [\"name\", \"city\", \"age\"]\n",
        "df = spark.createDataFrame(data,columns)\n",
        "df.show()"
      ],
      "metadata": {
        "colab": {
          "base_uri": "https://localhost:8080/"
        },
        "id": "Y8pSsDUYsOJK",
        "outputId": "518ef524-ad6b-44b2-e6fe-6353372fbd44"
      },
      "execution_count": 5,
      "outputs": [
        {
          "output_type": "stream",
          "name": "stdout",
          "text": [
            "+------+---------+---+\n",
            "|  name|     city|age|\n",
            "+------+---------+---+\n",
            "|Anjali|Bangalore| 24|\n",
            "|  Ravi|Hyderabad| 28|\n",
            "| Kavya|    Delhi| 22|\n",
            "| Meena|  Chennai| 25|\n",
            "| Arjun|   Mumbai| 30|\n",
            "+------+---------+---+\n",
            "\n"
          ]
        }
      ]
    },
    {
      "cell_type": "markdown",
      "source": [
        "Show schema, explain data types, and convert to RDD."
      ],
      "metadata": {
        "id": "xxm8KseZsSBj"
      }
    },
    {
      "cell_type": "code",
      "source": [
        "df.printSchema()"
      ],
      "metadata": {
        "colab": {
          "base_uri": "https://localhost:8080/"
        },
        "id": "rmmpE8lnsgrg",
        "outputId": "4b068d27-16b3-41d1-91f8-d1ee40e7995e"
      },
      "execution_count": 6,
      "outputs": [
        {
          "output_type": "stream",
          "name": "stdout",
          "text": [
            "root\n",
            " |-- name: string (nullable = true)\n",
            " |-- city: string (nullable = true)\n",
            " |-- age: long (nullable = true)\n",
            "\n"
          ]
        }
      ]
    },
    {
      "cell_type": "code",
      "source": [
        "print(df.dtypes)"
      ],
      "metadata": {
        "colab": {
          "base_uri": "https://localhost:8080/"
        },
        "id": "SJaRNTwis1ZA",
        "outputId": "c989ab18-7b91-41da-8495-9e61543956b0"
      },
      "execution_count": 7,
      "outputs": [
        {
          "output_type": "stream",
          "name": "stdout",
          "text": [
            "[('name', 'string'), ('city', 'string'), ('age', 'bigint')]\n"
          ]
        }
      ]
    },
    {
      "cell_type": "code",
      "source": [
        "rdd = df.rdd\n",
        "rdd.collect()"
      ],
      "metadata": {
        "colab": {
          "base_uri": "https://localhost:8080/"
        },
        "id": "o3KceFD3s46Z",
        "outputId": "d32ab94e-b5e4-4386-8bbf-c9bbcd6c2ce0"
      },
      "execution_count": 8,
      "outputs": [
        {
          "output_type": "execute_result",
          "data": {
            "text/plain": [
              "[Row(name='Anjali', city='Bangalore', age=24),\n",
              " Row(name='Ravi', city='Hyderabad', age=28),\n",
              " Row(name='Kavya', city='Delhi', age=22),\n",
              " Row(name='Meena', city='Chennai', age=25),\n",
              " Row(name='Arjun', city='Mumbai', age=30)]"
            ]
          },
          "metadata": {},
          "execution_count": 8
        }
      ]
    },
    {
      "cell_type": "code",
      "source": [
        "rdd.map(lambda x: (x[0].upper(), x[1], x[2] + 1)).collect()"
      ],
      "metadata": {
        "colab": {
          "base_uri": "https://localhost:8080/"
        },
        "id": "S3w8kMT-tBXD",
        "outputId": "7aae7ef7-5be0-468d-e3d9-d5a440c40843"
      },
      "execution_count": 9,
      "outputs": [
        {
          "output_type": "execute_result",
          "data": {
            "text/plain": [
              "[('ANJALI', 'Bangalore', 25),\n",
              " ('RAVI', 'Hyderabad', 29),\n",
              " ('KAVYA', 'Delhi', 23),\n",
              " ('MEENA', 'Chennai', 26),\n",
              " ('ARJUN', 'Mumbai', 31)]"
            ]
          },
          "metadata": {},
          "execution_count": 9
        }
      ]
    },
    {
      "cell_type": "markdown",
      "source": [
        "RDDs & Transformations"
      ],
      "metadata": {
        "id": "ASsrQAsRtikl"
      }
    },
    {
      "cell_type": "code",
      "source": [
        "feedback = spark.sparkContext.parallelize([\n",
        "\"Ravi from Bangalore loved the delivery\",\n",
        "\"Meena from Hyderabad had a late order\",\n",
        "\"Ajay from Pune liked the service\",\n",
        "\"Anjali from Delhi faced UI issues\",\n",
        "\"Rohit from Mumbai gave positive feedback\"\n",
        "])"
      ],
      "metadata": {
        "id": "yOWk_CgAtkw4"
      },
      "execution_count": 20,
      "outputs": []
    },
    {
      "cell_type": "markdown",
      "source": [
        "Split each line into words ( flatMap )."
      ],
      "metadata": {
        "id": "YprGwT5itnZT"
      }
    },
    {
      "cell_type": "code",
      "source": [
        "words = feedback.flatMap(lambda line: line.split()).collect()\n",
        "print(words)"
      ],
      "metadata": {
        "colab": {
          "base_uri": "https://localhost:8080/"
        },
        "id": "PSnlszgFtpwR",
        "outputId": "99a83161-5215-40fd-bc2a-baf3483c3a3b"
      },
      "execution_count": 21,
      "outputs": [
        {
          "output_type": "stream",
          "name": "stdout",
          "text": [
            "['Ravi', 'from', 'Bangalore', 'loved', 'the', 'delivery', 'Meena', 'from', 'Hyderabad', 'had', 'a', 'late', 'order', 'Ajay', 'from', 'Pune', 'liked', 'the', 'service', 'Anjali', 'from', 'Delhi', 'faced', 'UI', 'issues', 'Rohit', 'from', 'Mumbai', 'gave', 'positive', 'feedback']\n"
          ]
        }
      ]
    },
    {
      "cell_type": "markdown",
      "source": [
        "Remove stop words ( from , the , etc.)."
      ],
      "metadata": {
        "id": "-Jw29yxkt4UJ"
      }
    },
    {
      "cell_type": "code",
      "source": [
        "stop_words = {\"from\", \"the\", \"a\", \"had\", \"gave\", \"and\", \"of\"}\n",
        "\n",
        "words = feedback.flatMap(lambda line: line.split())\n",
        "\n",
        "filtered_words = words.filter(lambda word: word.lower() not in stop_words)\n",
        "\n",
        "filtered_words.collect()\n"
      ],
      "metadata": {
        "colab": {
          "base_uri": "https://localhost:8080/"
        },
        "id": "mSxCTXj6uFh6",
        "outputId": "bb8190fe-e050-4c67-f83e-d7ad13ffe334"
      },
      "execution_count": 24,
      "outputs": [
        {
          "output_type": "execute_result",
          "data": {
            "text/plain": [
              "['Ravi',\n",
              " 'Bangalore',\n",
              " 'loved',\n",
              " 'delivery',\n",
              " 'Meena',\n",
              " 'Hyderabad',\n",
              " 'late',\n",
              " 'order',\n",
              " 'Ajay',\n",
              " 'Pune',\n",
              " 'liked',\n",
              " 'service',\n",
              " 'Anjali',\n",
              " 'Delhi',\n",
              " 'faced',\n",
              " 'UI',\n",
              " 'issues',\n",
              " 'Rohit',\n",
              " 'Mumbai',\n",
              " 'positive',\n",
              " 'feedback']"
            ]
          },
          "metadata": {},
          "execution_count": 24
        }
      ]
    },
    {
      "cell_type": "markdown",
      "source": [
        "Count each word frequency using reduceByKey"
      ],
      "metadata": {
        "id": "65CqTPpNvLyu"
      }
    },
    {
      "cell_type": "code",
      "source": [
        "word_pair = filtered_words.map(lambda word: (word.lower(),1))\n",
        "countt = word_pair.reduceByKey(lambda a,b : a+b)\n",
        "countt.collect()"
      ],
      "metadata": {
        "colab": {
          "base_uri": "https://localhost:8080/"
        },
        "id": "ZeB2bCVBvPXH",
        "outputId": "9936b4c1-6a79-4ba0-cc39-c86d79ee95c6"
      },
      "execution_count": 25,
      "outputs": [
        {
          "output_type": "execute_result",
          "data": {
            "text/plain": [
              "[('loved', 1),\n",
              " ('liked', 1),\n",
              " ('service', 1),\n",
              " ('anjali', 1),\n",
              " ('faced', 1),\n",
              " ('issues', 1),\n",
              " ('rohit', 1),\n",
              " ('mumbai', 1),\n",
              " ('positive', 1),\n",
              " ('feedback', 1),\n",
              " ('ravi', 1),\n",
              " ('bangalore', 1),\n",
              " ('delivery', 1),\n",
              " ('meena', 1),\n",
              " ('hyderabad', 1),\n",
              " ('late', 1),\n",
              " ('order', 1),\n",
              " ('ajay', 1),\n",
              " ('pune', 1),\n",
              " ('delhi', 1),\n",
              " ('ui', 1)]"
            ]
          },
          "metadata": {},
          "execution_count": 25
        }
      ]
    },
    {
      "cell_type": "markdown",
      "source": [
        "Find top 3 most frequent non-stop words."
      ],
      "metadata": {
        "id": "OhIdlT_UxA_c"
      }
    },
    {
      "cell_type": "code",
      "source": [
        "top_3_words = countt.takeOrdered(3, key=lambda x: -x[1])\n",
        "print(top_3_words)\n"
      ],
      "metadata": {
        "colab": {
          "base_uri": "https://localhost:8080/"
        },
        "id": "5OP5l7u0wCDo",
        "outputId": "8a95e355-d7f0-415d-8228-49867460f2a4"
      },
      "execution_count": 26,
      "outputs": [
        {
          "output_type": "stream",
          "name": "stdout",
          "text": [
            "[('loved', 1), ('liked', 1), ('service', 1)]\n"
          ]
        }
      ]
    },
    {
      "cell_type": "markdown",
      "source": [
        "DataFrames & Transformation"
      ],
      "metadata": {
        "id": "hn4xTkujxDpw"
      }
    },
    {
      "cell_type": "code",
      "source": [
        "students = [\n",
        "(\"Amit\", \"10-A\", 89),\n",
        "(\"Kavya\", \"10-B\", 92),\n",
        "(\"Anjali\", \"10-A\", 78),\n",
        "(\"Rohit\", \"10-B\", 85),\n",
        "(\"Sneha\", \"10-C\", 80)\n",
        "]\n",
        "columns = [\"name\", \"section\", \"marks\"]\n",
        "df_students = spark.createDataFrame(students,columns)\n",
        "attendance = [\n",
        "(\"Amit\", 24),\n",
        "(\"Kavya\", 22),\n",
        "(\"Anjali\", 20),\n",
        "(\"Rohit\", 25),\n",
        "(\"Sneha\", 19)\n",
        "]\n",
        "columns2 = [\"name\", \"days_present\"]\n",
        "df_attendence = spark.createDataFrame(attendance,columns2)\n",
        "\n",
        "df_students.show()\n",
        "df_attendence.show()"
      ],
      "metadata": {
        "colab": {
          "base_uri": "https://localhost:8080/"
        },
        "id": "YTdBRyflxK_x",
        "outputId": "4b3f33b6-3156-4478-a250-31b2c9028363"
      },
      "execution_count": 29,
      "outputs": [
        {
          "output_type": "stream",
          "name": "stdout",
          "text": [
            "+------+-------+-----+\n",
            "|  name|section|marks|\n",
            "+------+-------+-----+\n",
            "|  Amit|   10-A|   89|\n",
            "| Kavya|   10-B|   92|\n",
            "|Anjali|   10-A|   78|\n",
            "| Rohit|   10-B|   85|\n",
            "| Sneha|   10-C|   80|\n",
            "+------+-------+-----+\n",
            "\n",
            "+------+------------+\n",
            "|  name|days_present|\n",
            "+------+------------+\n",
            "|  Amit|          24|\n",
            "| Kavya|          22|\n",
            "|Anjali|          20|\n",
            "| Rohit|          25|\n",
            "| Sneha|          19|\n",
            "+------+------------+\n",
            "\n"
          ]
        }
      ]
    },
    {
      "cell_type": "markdown",
      "source": [
        "Join both DataFrames on name"
      ],
      "metadata": {
        "id": "nnBsqVU07q_z"
      }
    },
    {
      "cell_type": "code",
      "source": [
        "joined = df_students.join(df_attendence, on='name')\n",
        "joined.show()\n"
      ],
      "metadata": {
        "colab": {
          "base_uri": "https://localhost:8080/"
        },
        "id": "9NJEVsrP7tXS",
        "outputId": "ffe01cb7-30ba-44ab-fc0d-58dbabf1e2e6"
      },
      "execution_count": 32,
      "outputs": [
        {
          "output_type": "stream",
          "name": "stdout",
          "text": [
            "+------+-------+-----+------------+\n",
            "|  name|section|marks|days_present|\n",
            "+------+-------+-----+------------+\n",
            "|  Amit|   10-A|   89|          24|\n",
            "|Anjali|   10-A|   78|          20|\n",
            "| Kavya|   10-B|   92|          22|\n",
            "| Rohit|   10-B|   85|          25|\n",
            "| Sneha|   10-C|   80|          19|\n",
            "+------+-------+-----+------------+\n",
            "\n"
          ]
        }
      ]
    },
    {
      "cell_type": "markdown",
      "source": [
        "Create a new column: attendance_rate = days_present / 25 ."
      ],
      "metadata": {
        "id": "6jn6TXhk8mqC"
      }
    },
    {
      "cell_type": "code",
      "source": [
        "from pyspark.sql.functions import col\n",
        "joined = joined.withColumn('attendence_rate',(col('days_present')/25) *100)\n",
        "joined.show()"
      ],
      "metadata": {
        "colab": {
          "base_uri": "https://localhost:8080/"
        },
        "id": "61eJzrai8o4y",
        "outputId": "df626617-7cd4-4844-c2c4-e631764d3ae7"
      },
      "execution_count": 35,
      "outputs": [
        {
          "output_type": "stream",
          "name": "stdout",
          "text": [
            "+------+-------+-----+------------+---------------+\n",
            "|  name|section|marks|days_present|attendence_rate|\n",
            "+------+-------+-----+------------+---------------+\n",
            "|  Amit|   10-A|   89|          24|           96.0|\n",
            "|Anjali|   10-A|   78|          20|           80.0|\n",
            "| Kavya|   10-B|   92|          22|           88.0|\n",
            "| Rohit|   10-B|   85|          25|          100.0|\n",
            "| Sneha|   10-C|   80|          19|           76.0|\n",
            "+------+-------+-----+------------+---------------+\n",
            "\n"
          ]
        }
      ]
    },
    {
      "cell_type": "markdown",
      "source": [
        "Grade students using when :\n",
        "A: >90, B: 80–90, C: <80."
      ],
      "metadata": {
        "id": "E_OsOBnY9MXY"
      }
    },
    {
      "cell_type": "code",
      "source": [
        "from pyspark.sql.functions import when\n",
        "joined = joined.withColumn('grade', when(col('marks')>90,'A')\n",
        "                                      .when((col('marks')>=80)&(col('marks')<90),'B')\n",
        "                                      .otherwise('C'))\n",
        "joined.show()"
      ],
      "metadata": {
        "colab": {
          "base_uri": "https://localhost:8080/"
        },
        "id": "488j-QIu9MAF",
        "outputId": "f3143e21-1e22-4a65-b77e-d1c4d8318187"
      },
      "execution_count": 37,
      "outputs": [
        {
          "output_type": "stream",
          "name": "stdout",
          "text": [
            "+------+-------+-----+------------+---------------+-----+\n",
            "|  name|section|marks|days_present|attendence_rate|grade|\n",
            "+------+-------+-----+------------+---------------+-----+\n",
            "|  Amit|   10-A|   89|          24|           96.0|    B|\n",
            "|Anjali|   10-A|   78|          20|           80.0|    C|\n",
            "| Kavya|   10-B|   92|          22|           88.0|    A|\n",
            "| Rohit|   10-B|   85|          25|          100.0|    B|\n",
            "| Sneha|   10-C|   80|          19|           76.0|    B|\n",
            "+------+-------+-----+------------+---------------+-----+\n",
            "\n"
          ]
        }
      ]
    },
    {
      "cell_type": "markdown",
      "source": [
        "Filter students with good grades but poor attendance (<80%)."
      ],
      "metadata": {
        "id": "mwB1BUF59_75"
      }
    },
    {
      "cell_type": "code",
      "source": [
        "filtered = joined.filter((col('grade')!='C')&(col('attendence_rate')<80))\n",
        "filtered.show()"
      ],
      "metadata": {
        "colab": {
          "base_uri": "https://localhost:8080/"
        },
        "id": "Ve2POMmC-DQu",
        "outputId": "250a4ce8-a3d7-46c8-b94e-d2ca1bdcbd27"
      },
      "execution_count": 38,
      "outputs": [
        {
          "output_type": "stream",
          "name": "stdout",
          "text": [
            "+-----+-------+-----+------------+---------------+-----+\n",
            "| name|section|marks|days_present|attendence_rate|grade|\n",
            "+-----+-------+-----+------------+---------------+-----+\n",
            "|Sneha|   10-C|   80|          19|           76.0|    B|\n",
            "+-----+-------+-----+------------+---------------+-----+\n",
            "\n"
          ]
        }
      ]
    },
    {
      "cell_type": "markdown",
      "source": [
        "CSV & JSON"
      ],
      "metadata": {
        "id": "n8H-GPww-VU6"
      }
    },
    {
      "cell_type": "markdown",
      "source": [
        "Read both formats into DataFrames."
      ],
      "metadata": {
        "id": "iHdyJhqtBCS6"
      }
    },
    {
      "cell_type": "code",
      "source": [
        "csv_data = \"\"\"emp_id,name,dept,city,salary\n",
        "101,Anil,IT,Bangalore,80000\n",
        "102,Kiran,HR,Mumbai,65000\n",
        "103,Deepa,Finance,Chennai,72000\"\"\"\n",
        "\n",
        "with open('employees.csv','w')as file:\n",
        "  file.write(csv_data)\n",
        "\n",
        "df_csv = spark.read.option(\"header\", True).option(\"inferSchema\", True).csv(\"employees.csv\")\n",
        "df_csv.show()"
      ],
      "metadata": {
        "colab": {
          "base_uri": "https://localhost:8080/"
        },
        "id": "v817A8e0-ZIP",
        "outputId": "bf5773e4-760e-408d-9a47-fa8300032a75"
      },
      "execution_count": 40,
      "outputs": [
        {
          "output_type": "stream",
          "name": "stdout",
          "text": [
            "+------+-----+-------+---------+------+\n",
            "|emp_id| name|   dept|     city|salary|\n",
            "+------+-----+-------+---------+------+\n",
            "|   101| Anil|     IT|Bangalore| 80000|\n",
            "|   102|Kiran|     HR|   Mumbai| 65000|\n",
            "|   103|Deepa|Finance|  Chennai| 72000|\n",
            "+------+-----+-------+---------+------+\n",
            "\n"
          ]
        }
      ]
    },
    {
      "cell_type": "code",
      "source": [
        "json_data = \"\"\"\n",
        "{\n",
        "  \"id\": 201,\n",
        "  \"name\": \"Nandini\",\n",
        "  \"contact\": {\n",
        "    \"email\": \"nandi@example.com\",\n",
        "    \"city\": \"Hyderabad\"\n",
        "  },\n",
        "  \"skills\": [\"Python\", \"Spark\", \"SQL\"]\n",
        "}\n",
        "\"\"\"\n",
        "\n",
        "with open(\"employee.json\", \"w\") as f:\n",
        "    f.write(json_data)\n",
        "\n",
        "df_json = spark.read.option(\"multiline\", True).json(\"employee.json\")\n",
        "df_json.printSchema()\n",
        "df_json.show(truncate=False)"
      ],
      "metadata": {
        "colab": {
          "base_uri": "https://localhost:8080/"
        },
        "id": "vXDiq1nR_hPg",
        "outputId": "48998652-ae28-492a-c8c3-123ac74ebd3a"
      },
      "execution_count": 41,
      "outputs": [
        {
          "output_type": "stream",
          "name": "stdout",
          "text": [
            "root\n",
            " |-- contact: struct (nullable = true)\n",
            " |    |-- city: string (nullable = true)\n",
            " |    |-- email: string (nullable = true)\n",
            " |-- id: long (nullable = true)\n",
            " |-- name: string (nullable = true)\n",
            " |-- skills: array (nullable = true)\n",
            " |    |-- element: string (containsNull = true)\n",
            "\n",
            "+------------------------------+---+-------+--------------------+\n",
            "|contact                       |id |name   |skills              |\n",
            "+------------------------------+---+-------+--------------------+\n",
            "|{Hyderabad, nandi@example.com}|201|Nandini|[Python, Spark, SQL]|\n",
            "+------------------------------+---+-------+--------------------+\n",
            "\n"
          ]
        }
      ]
    },
    {
      "cell_type": "markdown",
      "source": [
        "Flatten nested JSON using select , col , alias , explode ."
      ],
      "metadata": {
        "id": "RIIRyivfBD1R"
      }
    },
    {
      "cell_type": "code",
      "source": [
        "from pyspark.sql.functions import col,explode\n",
        "\n",
        "flattened = df_json.select(\n",
        "    col('id'),\n",
        "    col('name'),\n",
        "    col('contact.email').alias('email'),\n",
        "    col('contact.city').alias('city'),\n",
        "    explode(col('skills')).alias('skills')\n",
        ")\n",
        "\n",
        "flattened.show()"
      ],
      "metadata": {
        "colab": {
          "base_uri": "https://localhost:8080/"
        },
        "id": "HJsiOSDX_r0F",
        "outputId": "5c6e3426-28ff-478c-a429-58427a872f8f"
      },
      "execution_count": 43,
      "outputs": [
        {
          "output_type": "stream",
          "name": "stdout",
          "text": [
            "+---+-------+-----------------+---------+------+\n",
            "| id|   name|            email|     city|skills|\n",
            "+---+-------+-----------------+---------+------+\n",
            "|201|Nandini|nandi@example.com|Hyderabad|Python|\n",
            "|201|Nandini|nandi@example.com|Hyderabad| Spark|\n",
            "|201|Nandini|nandi@example.com|Hyderabad|   SQL|\n",
            "+---+-------+-----------------+---------+------+\n",
            "\n"
          ]
        }
      ]
    },
    {
      "cell_type": "markdown",
      "source": [
        "Save both as Parquet files partitioned by city."
      ],
      "metadata": {
        "id": "Lzmx6IU4Bw7e"
      }
    },
    {
      "cell_type": "code",
      "source": [
        "df_csv.write.mode(\"overwrite\").partitionBy(\"city\").parquet(\"output/employees_csv\")\n",
        "flattened.write.mode(\"overwrite\").partitionBy(\"city\").parquet(\"output/employees_json\")"
      ],
      "metadata": {
        "id": "zou-Qtk2BzwK"
      },
      "execution_count": 44,
      "outputs": []
    },
    {
      "cell_type": "code",
      "source": [
        "import shutil\n",
        "from google.colab import files\n",
        "\n",
        "shutil.make_archive(\"employees_csv\", 'zip', \"output/employees_csv\")\n",
        "files.download(\"employees_csv.zip\")\n",
        "\n",
        "shutil.make_archive(\"employees_json\", 'zip', \"output/employees_json\")\n",
        "files.download(\"employees_json.zip\")\n"
      ],
      "metadata": {
        "colab": {
          "base_uri": "https://localhost:8080/",
          "height": 17
        },
        "id": "dhL-umvTCAJ5",
        "outputId": "7869823d-101e-4391-b69c-8d42cdce66f5"
      },
      "execution_count": 45,
      "outputs": [
        {
          "output_type": "display_data",
          "data": {
            "text/plain": [
              "<IPython.core.display.Javascript object>"
            ],
            "application/javascript": [
              "\n",
              "    async function download(id, filename, size) {\n",
              "      if (!google.colab.kernel.accessAllowed) {\n",
              "        return;\n",
              "      }\n",
              "      const div = document.createElement('div');\n",
              "      const label = document.createElement('label');\n",
              "      label.textContent = `Downloading \"${filename}\": `;\n",
              "      div.appendChild(label);\n",
              "      const progress = document.createElement('progress');\n",
              "      progress.max = size;\n",
              "      div.appendChild(progress);\n",
              "      document.body.appendChild(div);\n",
              "\n",
              "      const buffers = [];\n",
              "      let downloaded = 0;\n",
              "\n",
              "      const channel = await google.colab.kernel.comms.open(id);\n",
              "      // Send a message to notify the kernel that we're ready.\n",
              "      channel.send({})\n",
              "\n",
              "      for await (const message of channel.messages) {\n",
              "        // Send a message to notify the kernel that we're ready.\n",
              "        channel.send({})\n",
              "        if (message.buffers) {\n",
              "          for (const buffer of message.buffers) {\n",
              "            buffers.push(buffer);\n",
              "            downloaded += buffer.byteLength;\n",
              "            progress.value = downloaded;\n",
              "          }\n",
              "        }\n",
              "      }\n",
              "      const blob = new Blob(buffers, {type: 'application/binary'});\n",
              "      const a = document.createElement('a');\n",
              "      a.href = window.URL.createObjectURL(blob);\n",
              "      a.download = filename;\n",
              "      div.appendChild(a);\n",
              "      a.click();\n",
              "      div.remove();\n",
              "    }\n",
              "  "
            ]
          },
          "metadata": {}
        },
        {
          "output_type": "display_data",
          "data": {
            "text/plain": [
              "<IPython.core.display.Javascript object>"
            ],
            "application/javascript": [
              "download(\"download_e0d88e5f-ece9-44ae-bea3-d8633dcb31c9\", \"employees_csv.zip\", 3864)"
            ]
          },
          "metadata": {}
        },
        {
          "output_type": "display_data",
          "data": {
            "text/plain": [
              "<IPython.core.display.Javascript object>"
            ],
            "application/javascript": [
              "\n",
              "    async function download(id, filename, size) {\n",
              "      if (!google.colab.kernel.accessAllowed) {\n",
              "        return;\n",
              "      }\n",
              "      const div = document.createElement('div');\n",
              "      const label = document.createElement('label');\n",
              "      label.textContent = `Downloading \"${filename}\": `;\n",
              "      div.appendChild(label);\n",
              "      const progress = document.createElement('progress');\n",
              "      progress.max = size;\n",
              "      div.appendChild(progress);\n",
              "      document.body.appendChild(div);\n",
              "\n",
              "      const buffers = [];\n",
              "      let downloaded = 0;\n",
              "\n",
              "      const channel = await google.colab.kernel.comms.open(id);\n",
              "      // Send a message to notify the kernel that we're ready.\n",
              "      channel.send({})\n",
              "\n",
              "      for await (const message of channel.messages) {\n",
              "        // Send a message to notify the kernel that we're ready.\n",
              "        channel.send({})\n",
              "        if (message.buffers) {\n",
              "          for (const buffer of message.buffers) {\n",
              "            buffers.push(buffer);\n",
              "            downloaded += buffer.byteLength;\n",
              "            progress.value = downloaded;\n",
              "          }\n",
              "        }\n",
              "      }\n",
              "      const blob = new Blob(buffers, {type: 'application/binary'});\n",
              "      const a = document.createElement('a');\n",
              "      a.href = window.URL.createObjectURL(blob);\n",
              "      a.download = filename;\n",
              "      div.appendChild(a);\n",
              "      a.click();\n",
              "      div.remove();\n",
              "    }\n",
              "  "
            ]
          },
          "metadata": {}
        },
        {
          "output_type": "display_data",
          "data": {
            "text/plain": [
              "<IPython.core.display.Javascript object>"
            ],
            "application/javascript": [
              "download(\"download_a0456f07-6a31-4c6b-a2e3-0e879fdbae0f\", \"employees_json.zip\", 1532)"
            ]
          },
          "metadata": {}
        }
      ]
    },
    {
      "cell_type": "markdown",
      "source": [
        "Spark SQL"
      ],
      "metadata": {
        "id": "r4if536-DN03"
      }
    },
    {
      "cell_type": "markdown",
      "source": [
        "Register the students DataFrame as students_view"
      ],
      "metadata": {
        "id": "-zuqOHF7DQ7l"
      }
    },
    {
      "cell_type": "code",
      "source": [
        "joined.show()"
      ],
      "metadata": {
        "colab": {
          "base_uri": "https://localhost:8080/"
        },
        "id": "Sf524n_LDTUG",
        "outputId": "a2dc9faa-9651-4221-8050-7ab80a785c67"
      },
      "execution_count": 46,
      "outputs": [
        {
          "output_type": "stream",
          "name": "stdout",
          "text": [
            "+------+-------+-----+------------+---------------+-----+\n",
            "|  name|section|marks|days_present|attendence_rate|grade|\n",
            "+------+-------+-----+------------+---------------+-----+\n",
            "|  Amit|   10-A|   89|          24|           96.0|    B|\n",
            "|Anjali|   10-A|   78|          20|           80.0|    C|\n",
            "| Kavya|   10-B|   92|          22|           88.0|    A|\n",
            "| Rohit|   10-B|   85|          25|          100.0|    B|\n",
            "| Sneha|   10-C|   80|          19|           76.0|    B|\n",
            "+------+-------+-----+------------+---------------+-----+\n",
            "\n"
          ]
        }
      ]
    },
    {
      "cell_type": "code",
      "source": [
        "joined.createOrReplaceTempView('students_view')\n"
      ],
      "metadata": {
        "id": "vQ088jivDgz8"
      },
      "execution_count": 47,
      "outputs": []
    },
    {
      "cell_type": "markdown",
      "source": [
        "Average marks per section"
      ],
      "metadata": {
        "id": "CgKoGMpODpbB"
      }
    },
    {
      "cell_type": "code",
      "source": [
        "spark.sql(\"\"\"\n",
        "select section, avg(marks)\n",
        "from students_view\n",
        "group by section\"\"\").show()"
      ],
      "metadata": {
        "colab": {
          "base_uri": "https://localhost:8080/"
        },
        "id": "ZfULTzW0Dx38",
        "outputId": "51804d7f-90cd-404f-8609-ef2376326bae"
      },
      "execution_count": 48,
      "outputs": [
        {
          "output_type": "stream",
          "name": "stdout",
          "text": [
            "+-------+----------+\n",
            "|section|avg(marks)|\n",
            "+-------+----------+\n",
            "|   10-C|      80.0|\n",
            "|   10-A|      83.5|\n",
            "|   10-B|      88.5|\n",
            "+-------+----------+\n",
            "\n"
          ]
        }
      ]
    },
    {
      "cell_type": "markdown",
      "source": [
        "Top scorer in each section"
      ],
      "metadata": {
        "id": "KAN4z2b7DqeL"
      }
    },
    {
      "cell_type": "code",
      "source": [
        "spark.sql(\"\"\"\n",
        "    SELECT section, name, marks\n",
        "    FROM (\n",
        "        SELECT *, ROW_NUMBER() OVER (PARTITION BY section ORDER BY marks DESC) as rn\n",
        "        FROM students_view\n",
        "    ) WHERE rn = 1\n",
        "\"\"\").show()\n"
      ],
      "metadata": {
        "colab": {
          "base_uri": "https://localhost:8080/"
        },
        "id": "KKmZiizLEBsa",
        "outputId": "0086748e-ebfe-4194-c662-7d535bdb5f29"
      },
      "execution_count": 50,
      "outputs": [
        {
          "output_type": "stream",
          "name": "stdout",
          "text": [
            "+-------+-----+-----+\n",
            "|section| name|marks|\n",
            "+-------+-----+-----+\n",
            "|   10-A| Amit|   89|\n",
            "|   10-B|Kavya|   92|\n",
            "|   10-C|Sneha|   80|\n",
            "+-------+-----+-----+\n",
            "\n"
          ]
        }
      ]
    },
    {
      "cell_type": "markdown",
      "source": [
        "Count of students in each grade category"
      ],
      "metadata": {
        "id": "_nh-FPiGDsL1"
      }
    },
    {
      "cell_type": "code",
      "source": [
        "spark.sql(\"\"\"\n",
        "select grade, count(*)\n",
        "from students_view\n",
        "group by grade\"\"\").show()"
      ],
      "metadata": {
        "colab": {
          "base_uri": "https://localhost:8080/"
        },
        "id": "W4nGhhqGEp1x",
        "outputId": "69656a27-c42a-4766-e565-872fa3ced3aa"
      },
      "execution_count": 51,
      "outputs": [
        {
          "output_type": "stream",
          "name": "stdout",
          "text": [
            "+-----+--------+\n",
            "|grade|count(1)|\n",
            "+-----+--------+\n",
            "|    B|       3|\n",
            "|    C|       1|\n",
            "|    A|       1|\n",
            "+-----+--------+\n",
            "\n"
          ]
        }
      ]
    },
    {
      "cell_type": "markdown",
      "source": [
        "Students with marks above class average"
      ],
      "metadata": {
        "id": "wMS2jnlkDuuC"
      }
    },
    {
      "cell_type": "code",
      "source": [
        "spark.sql(\"\"\"\n",
        "select *\n",
        "from students_view\n",
        "where marks > (select avg(marks) from students_view)\"\"\").show()"
      ],
      "metadata": {
        "colab": {
          "base_uri": "https://localhost:8080/"
        },
        "id": "K2VraqGpE1YB",
        "outputId": "896ef056-305e-49d0-acb3-3701273c2b8d"
      },
      "execution_count": 52,
      "outputs": [
        {
          "output_type": "stream",
          "name": "stdout",
          "text": [
            "+-----+-------+-----+------------+---------------+-----+\n",
            "| name|section|marks|days_present|attendence_rate|grade|\n",
            "+-----+-------+-----+------------+---------------+-----+\n",
            "| Amit|   10-A|   89|          24|           96.0|    B|\n",
            "|Kavya|   10-B|   92|          22|           88.0|    A|\n",
            "|Rohit|   10-B|   85|          25|          100.0|    B|\n",
            "+-----+-------+-----+------------+---------------+-----+\n",
            "\n"
          ]
        }
      ]
    },
    {
      "cell_type": "markdown",
      "source": [
        "Attendance-adjusted performance"
      ],
      "metadata": {
        "id": "mRurpHAJDvOr"
      }
    },
    {
      "cell_type": "code",
      "source": [
        "spark.sql(\"\"\"\n",
        "select * , ((marks * attendence_rate) /100) as adjusted_perf\n",
        "from students_view\n",
        "order by adjusted_perf desc\"\"\").show()"
      ],
      "metadata": {
        "colab": {
          "base_uri": "https://localhost:8080/"
        },
        "id": "pVnhZNDGFGXj",
        "outputId": "1415bbb5-aa11-4246-f71f-0a8bb9b9f850"
      },
      "execution_count": 56,
      "outputs": [
        {
          "output_type": "stream",
          "name": "stdout",
          "text": [
            "+------+-------+-----+------------+---------------+-----+-------------+\n",
            "|  name|section|marks|days_present|attendence_rate|grade|adjusted_perf|\n",
            "+------+-------+-----+------------+---------------+-----+-------------+\n",
            "|  Amit|   10-A|   89|          24|           96.0|    B|        85.44|\n",
            "| Rohit|   10-B|   85|          25|          100.0|    B|         85.0|\n",
            "| Kavya|   10-B|   92|          22|           88.0|    A|        80.96|\n",
            "|Anjali|   10-A|   78|          20|           80.0|    C|         62.4|\n",
            "| Sneha|   10-C|   80|          19|           76.0|    B|         60.8|\n",
            "+------+-------+-----+------------+---------------+-----+-------------+\n",
            "\n"
          ]
        }
      ]
    },
    {
      "cell_type": "markdown",
      "source": [
        "Full Load"
      ],
      "metadata": {
        "id": "0b-zSXg9FjtZ"
      }
    },
    {
      "cell_type": "code",
      "source": [
        "joined.write.mode('overwrite').partitionBy(\"section\").parquet(\"output/students/\")"
      ],
      "metadata": {
        "id": "H-i6kmY9Fw0X"
      },
      "execution_count": 58,
      "outputs": []
    },
    {
      "cell_type": "markdown",
      "source": [
        "Incremental Load"
      ],
      "metadata": {
        "id": "MxFsft59GLmT"
      }
    },
    {
      "cell_type": "code",
      "source": [
        "incremental = [(\"Tejas\", \"10-A\", 91)]\n",
        "df_inc = spark.createDataFrame(incremental, [\"name\", \"section\", \"marks\"])\n",
        "df_inc.write.mode(\"append\").partitionBy(\"section\").parquet(\"output/students/\")"
      ],
      "metadata": {
        "id": "Gf2QhbCuGMNY"
      },
      "execution_count": 59,
      "outputs": []
    },
    {
      "cell_type": "markdown",
      "source": [
        "List files in output/students/ using Python."
      ],
      "metadata": {
        "id": "BAp-NRqfGQIp"
      }
    },
    {
      "cell_type": "code",
      "source": [
        "!ls output/students/"
      ],
      "metadata": {
        "colab": {
          "base_uri": "https://localhost:8080/"
        },
        "id": "4hELw9W4GW__",
        "outputId": "8aa59a6a-6797-42c5-fac1-4e2fda010be2"
      },
      "execution_count": 60,
      "outputs": [
        {
          "output_type": "stream",
          "name": "stdout",
          "text": [
            "'section=10-A'\t'section=10-B'\t'section=10-C'\t _SUCCESS\n"
          ]
        }
      ]
    },
    {
      "cell_type": "code",
      "source": [
        "df_all = spark.read.parquet('output/students/')\n",
        "df_all.show()"
      ],
      "metadata": {
        "colab": {
          "base_uri": "https://localhost:8080/"
        },
        "id": "C_o5dWgMGtOU",
        "outputId": "0c4c9c8c-d41d-480a-dbbd-9d46c9a965c8"
      },
      "execution_count": 61,
      "outputs": [
        {
          "output_type": "stream",
          "name": "stdout",
          "text": [
            "+------+-----+------------+---------------+-----+-------+\n",
            "|  name|marks|days_present|attendence_rate|grade|section|\n",
            "+------+-----+------------+---------------+-----+-------+\n",
            "|  Amit|   89|          24|           96.0|    B|   10-A|\n",
            "|Anjali|   78|          20|           80.0|    C|   10-A|\n",
            "| Kavya|   92|          22|           88.0|    A|   10-B|\n",
            "| Rohit|   85|          25|          100.0|    B|   10-B|\n",
            "| Sneha|   80|          19|           76.0|    B|   10-C|\n",
            "| Tejas|   91|        NULL|           NULL| NULL|   10-A|\n",
            "+------+-----+------------+---------------+-----+-------+\n",
            "\n"
          ]
        }
      ]
    },
    {
      "cell_type": "markdown",
      "source": [
        "Read only partition 10-A and list students."
      ],
      "metadata": {
        "id": "_6Ph7u1pGSPS"
      }
    },
    {
      "cell_type": "code",
      "source": [
        "df_10a = spark.read.parquet('output/students/section=10-A')\n",
        "df_10a.show()"
      ],
      "metadata": {
        "colab": {
          "base_uri": "https://localhost:8080/"
        },
        "id": "p9FI9mLBG5E8",
        "outputId": "b7c26b95-c84a-4b3a-bf55-2f02da45446a"
      },
      "execution_count": 63,
      "outputs": [
        {
          "output_type": "stream",
          "name": "stdout",
          "text": [
            "+------+-----+------------+---------------+-----+\n",
            "|  name|marks|days_present|attendence_rate|grade|\n",
            "+------+-----+------------+---------------+-----+\n",
            "|  Amit|   89|          24|           96.0|    B|\n",
            "|Anjali|   78|          20|           80.0|    C|\n",
            "| Tejas|   91|        NULL|           NULL| NULL|\n",
            "+------+-----+------------+---------------+-----+\n",
            "\n"
          ]
        }
      ]
    },
    {
      "cell_type": "markdown",
      "source": [
        "Compare before/after counts for section 10-A"
      ],
      "metadata": {
        "id": "QR8ONsn-GT9_"
      }
    },
    {
      "cell_type": "code",
      "source": [
        "df_students.filter(df_students.section == '10-A').count()\n",
        "upd = spark.read.parquet('output/students/')\n",
        "upd.filter(upd.section == '10-A').count()"
      ],
      "metadata": {
        "colab": {
          "base_uri": "https://localhost:8080/"
        },
        "id": "-JslgVcsHOgI",
        "outputId": "66616c16-2f2f-482f-c043-ba31976cfe52"
      },
      "execution_count": 65,
      "outputs": [
        {
          "output_type": "execute_result",
          "data": {
            "text/plain": [
              "3"
            ]
          },
          "metadata": {},
          "execution_count": 65
        }
      ]
    },
    {
      "cell_type": "code",
      "source": [
        "import shutil\n",
        "from google.colab import files\n",
        "\n",
        "shutil.make_archive(\"students_parquet\", 'zip', \"output/students/\")\n",
        "\n",
        "files.download(\"students_parquet.zip\")"
      ],
      "metadata": {
        "colab": {
          "base_uri": "https://localhost:8080/",
          "height": 17
        },
        "id": "VzmScM9dHuBv",
        "outputId": "4cc32d0d-980b-4e82-ca47-efd7011761e4"
      },
      "execution_count": 66,
      "outputs": [
        {
          "output_type": "display_data",
          "data": {
            "text/plain": [
              "<IPython.core.display.Javascript object>"
            ],
            "application/javascript": [
              "\n",
              "    async function download(id, filename, size) {\n",
              "      if (!google.colab.kernel.accessAllowed) {\n",
              "        return;\n",
              "      }\n",
              "      const div = document.createElement('div');\n",
              "      const label = document.createElement('label');\n",
              "      label.textContent = `Downloading \"${filename}\": `;\n",
              "      div.appendChild(label);\n",
              "      const progress = document.createElement('progress');\n",
              "      progress.max = size;\n",
              "      div.appendChild(progress);\n",
              "      document.body.appendChild(div);\n",
              "\n",
              "      const buffers = [];\n",
              "      let downloaded = 0;\n",
              "\n",
              "      const channel = await google.colab.kernel.comms.open(id);\n",
              "      // Send a message to notify the kernel that we're ready.\n",
              "      channel.send({})\n",
              "\n",
              "      for await (const message of channel.messages) {\n",
              "        // Send a message to notify the kernel that we're ready.\n",
              "        channel.send({})\n",
              "        if (message.buffers) {\n",
              "          for (const buffer of message.buffers) {\n",
              "            buffers.push(buffer);\n",
              "            downloaded += buffer.byteLength;\n",
              "            progress.value = downloaded;\n",
              "          }\n",
              "        }\n",
              "      }\n",
              "      const blob = new Blob(buffers, {type: 'application/binary'});\n",
              "      const a = document.createElement('a');\n",
              "      a.href = window.URL.createObjectURL(blob);\n",
              "      a.download = filename;\n",
              "      div.appendChild(a);\n",
              "      a.click();\n",
              "      div.remove();\n",
              "    }\n",
              "  "
            ]
          },
          "metadata": {}
        },
        {
          "output_type": "display_data",
          "data": {
            "text/plain": [
              "<IPython.core.display.Javascript object>"
            ],
            "application/javascript": [
              "download(\"download_c420c9d0-4077-46a0-a850-67808e52b1f1\", \"students_parquet.zip\", 5153)"
            ]
          },
          "metadata": {}
        }
      ]
    },
    {
      "cell_type": "markdown",
      "source": [
        "ETL Pipeline"
      ],
      "metadata": {
        "id": "TODaYvD1ICVW"
      }
    },
    {
      "cell_type": "markdown",
      "source": [
        "Load CSV with inferred schema."
      ],
      "metadata": {
        "id": "F0L6B47lIaxt"
      }
    },
    {
      "cell_type": "code",
      "source": [
        "data = \"\"\"\n",
        "emp_id,name,dept,salary,bonus\n",
        "1,Arjun,IT,75000,5000\n",
        "2,Kavya,HR,62000,\n",
        "3,Sneha,Finance,68000,4000\n",
        "4,Ramesh,Sales,58000,\n",
        "\"\"\"\n",
        "\n",
        "with open('etl.csv','w') as file:\n",
        "  file.write(data)"
      ],
      "metadata": {
        "id": "gUs4xTZRIDEh"
      },
      "execution_count": 67,
      "outputs": []
    },
    {
      "cell_type": "code",
      "source": [
        "df_csv = spark.read.option('header','true').option('inferschema','true').csv('etl.csv')\n",
        "df_csv.show()"
      ],
      "metadata": {
        "colab": {
          "base_uri": "https://localhost:8080/"
        },
        "id": "9ciUnOacI_fq",
        "outputId": "48e8bc6d-aa34-4711-cea2-92d4742f32a0"
      },
      "execution_count": 69,
      "outputs": [
        {
          "output_type": "stream",
          "name": "stdout",
          "text": [
            "+------+------+-------+------+-----+\n",
            "|emp_id|  name|   dept|salary|bonus|\n",
            "+------+------+-------+------+-----+\n",
            "|     1| Arjun|     IT| 75000| 5000|\n",
            "|     2| Kavya|     HR| 62000| NULL|\n",
            "|     3| Sneha|Finance| 68000| 4000|\n",
            "|     4|Ramesh|  Sales| 58000| NULL|\n",
            "+------+------+-------+------+-----+\n",
            "\n"
          ]
        }
      ]
    },
    {
      "cell_type": "markdown",
      "source": [
        "Fill null bonuses with 2000 ."
      ],
      "metadata": {
        "id": "fTIiEm_SJTAw"
      }
    },
    {
      "cell_type": "code",
      "source": [
        "df_csv = df_csv.fillna({'bonus':2000})\n",
        "df_csv.show()"
      ],
      "metadata": {
        "colab": {
          "base_uri": "https://localhost:8080/"
        },
        "id": "oHeEEg5GJR4T",
        "outputId": "0b394c13-1a10-4010-aa2c-4bf14322eee1"
      },
      "execution_count": 70,
      "outputs": [
        {
          "output_type": "stream",
          "name": "stdout",
          "text": [
            "+------+------+-------+------+-----+\n",
            "|emp_id|  name|   dept|salary|bonus|\n",
            "+------+------+-------+------+-----+\n",
            "|     1| Arjun|     IT| 75000| 5000|\n",
            "|     2| Kavya|     HR| 62000| 2000|\n",
            "|     3| Sneha|Finance| 68000| 4000|\n",
            "|     4|Ramesh|  Sales| 58000| 2000|\n",
            "+------+------+-------+------+-----+\n",
            "\n"
          ]
        }
      ]
    },
    {
      "cell_type": "markdown",
      "source": [
        "Create total_ctc = salary + bonus ."
      ],
      "metadata": {
        "id": "W2zgBxZYJejP"
      }
    },
    {
      "cell_type": "code",
      "source": [
        "from pyspark.sql.functions import expr\n",
        "df_csv = df_csv.withColumn('total_ctc',expr('salary+bonus'))\n",
        "df_csv.show()"
      ],
      "metadata": {
        "colab": {
          "base_uri": "https://localhost:8080/"
        },
        "id": "TCVZuI13JlJI",
        "outputId": "d492372e-90c3-41c1-aa1a-34ba7095cf48"
      },
      "execution_count": 71,
      "outputs": [
        {
          "output_type": "stream",
          "name": "stdout",
          "text": [
            "+------+------+-------+------+-----+---------+\n",
            "|emp_id|  name|   dept|salary|bonus|total_ctc|\n",
            "+------+------+-------+------+-----+---------+\n",
            "|     1| Arjun|     IT| 75000| 5000|    80000|\n",
            "|     2| Kavya|     HR| 62000| 2000|    64000|\n",
            "|     3| Sneha|Finance| 68000| 4000|    72000|\n",
            "|     4|Ramesh|  Sales| 58000| 2000|    60000|\n",
            "+------+------+-------+------+-----+---------+\n",
            "\n"
          ]
        }
      ]
    },
    {
      "cell_type": "markdown",
      "source": [
        "Filter employees with total_ctc > 65000"
      ],
      "metadata": {
        "id": "TC-DA5tYJhGC"
      }
    },
    {
      "cell_type": "code",
      "source": [
        "filter = df_csv.filter(col('total_ctc')>65000)\n",
        "filter.show()"
      ],
      "metadata": {
        "colab": {
          "base_uri": "https://localhost:8080/"
        },
        "id": "9C8IwQJuJtG0",
        "outputId": "84b41e2c-71f2-44a9-f39c-a8b818ad22b0"
      },
      "execution_count": 73,
      "outputs": [
        {
          "output_type": "stream",
          "name": "stdout",
          "text": [
            "+------+-----+-------+------+-----+---------+\n",
            "|emp_id| name|   dept|salary|bonus|total_ctc|\n",
            "+------+-----+-------+------+-----+---------+\n",
            "|     1|Arjun|     IT| 75000| 5000|    80000|\n",
            "|     3|Sneha|Finance| 68000| 4000|    72000|\n",
            "+------+-----+-------+------+-----+---------+\n",
            "\n"
          ]
        }
      ]
    },
    {
      "cell_type": "markdown",
      "source": [
        "Save result"
      ],
      "metadata": {
        "id": "4IfkGjAXJivw"
      }
    },
    {
      "cell_type": "code",
      "source": [
        "filter.write.mode(\"overwrite\").partitionBy(\"dept\").parquet(\"/tmp/final_employees_parquet/\")\n",
        "filter.write.mode(\"overwrite\").json(\"/tmp/final_employees_json/\")\n",
        "\n",
        "!zip -r /content/final_employees_parquet.zip /tmp/final_employees_parquet/\n",
        "!zip -r /content/final_employees_json.zip /tmp/final_employees_json/\n",
        "\n",
        "from google.colab import files\n",
        "files.download(\"/content/final_employees_parquet.zip\")\n",
        "files.download(\"/content/final_employees_json.zip\")"
      ],
      "metadata": {
        "colab": {
          "base_uri": "https://localhost:8080/",
          "height": 260
        },
        "id": "sStz9zTkJ14j",
        "outputId": "87b0f802-d65b-44a7-f868-b418332e3229"
      },
      "execution_count": 76,
      "outputs": [
        {
          "output_type": "stream",
          "name": "stdout",
          "text": [
            "updating: tmp/final_employees_parquet/ (stored 0%)\n",
            "updating: tmp/final_employees_parquet/._SUCCESS.crc (stored 0%)\n",
            "updating: tmp/final_employees_parquet/_SUCCESS (stored 0%)\n",
            "  adding: tmp/final_employees_parquet/dept=IT/ (stored 0%)\n",
            "  adding: tmp/final_employees_parquet/dept=IT/part-00000-ef3df3f9-8835-4b2d-b61c-4c749c819f60.c000.snappy.parquet (deflated 51%)\n",
            "  adding: tmp/final_employees_parquet/dept=IT/.part-00000-ef3df3f9-8835-4b2d-b61c-4c749c819f60.c000.snappy.parquet.crc (stored 0%)\n",
            "  adding: tmp/final_employees_parquet/dept=Finance/ (stored 0%)\n",
            "  adding: tmp/final_employees_parquet/dept=Finance/part-00000-ef3df3f9-8835-4b2d-b61c-4c749c819f60.c000.snappy.parquet (deflated 51%)\n",
            "  adding: tmp/final_employees_parquet/dept=Finance/.part-00000-ef3df3f9-8835-4b2d-b61c-4c749c819f60.c000.snappy.parquet.crc (stored 0%)\n",
            "updating: tmp/final_employees_json/ (stored 0%)\n",
            "updating: tmp/final_employees_json/._SUCCESS.crc (stored 0%)\n",
            "updating: tmp/final_employees_json/_SUCCESS (stored 0%)\n",
            "  adding: tmp/final_employees_json/part-00000-e7694f40-dca8-4368-be0e-65206c3e65d1-c000.json (deflated 36%)\n",
            "  adding: tmp/final_employees_json/.part-00000-e7694f40-dca8-4368-be0e-65206c3e65d1-c000.json.crc (stored 0%)\n"
          ]
        },
        {
          "output_type": "display_data",
          "data": {
            "text/plain": [
              "<IPython.core.display.Javascript object>"
            ],
            "application/javascript": [
              "\n",
              "    async function download(id, filename, size) {\n",
              "      if (!google.colab.kernel.accessAllowed) {\n",
              "        return;\n",
              "      }\n",
              "      const div = document.createElement('div');\n",
              "      const label = document.createElement('label');\n",
              "      label.textContent = `Downloading \"${filename}\": `;\n",
              "      div.appendChild(label);\n",
              "      const progress = document.createElement('progress');\n",
              "      progress.max = size;\n",
              "      div.appendChild(progress);\n",
              "      document.body.appendChild(div);\n",
              "\n",
              "      const buffers = [];\n",
              "      let downloaded = 0;\n",
              "\n",
              "      const channel = await google.colab.kernel.comms.open(id);\n",
              "      // Send a message to notify the kernel that we're ready.\n",
              "      channel.send({})\n",
              "\n",
              "      for await (const message of channel.messages) {\n",
              "        // Send a message to notify the kernel that we're ready.\n",
              "        channel.send({})\n",
              "        if (message.buffers) {\n",
              "          for (const buffer of message.buffers) {\n",
              "            buffers.push(buffer);\n",
              "            downloaded += buffer.byteLength;\n",
              "            progress.value = downloaded;\n",
              "          }\n",
              "        }\n",
              "      }\n",
              "      const blob = new Blob(buffers, {type: 'application/binary'});\n",
              "      const a = document.createElement('a');\n",
              "      a.href = window.URL.createObjectURL(blob);\n",
              "      a.download = filename;\n",
              "      div.appendChild(a);\n",
              "      a.click();\n",
              "      div.remove();\n",
              "    }\n",
              "  "
            ]
          },
          "metadata": {}
        },
        {
          "output_type": "display_data",
          "data": {
            "text/plain": [
              "<IPython.core.display.Javascript object>"
            ],
            "application/javascript": [
              "download(\"download_817e6cb0-2653-4677-81c8-09da83ab4189\", \"final_employees_parquet.zip\", 5286)"
            ]
          },
          "metadata": {}
        },
        {
          "output_type": "display_data",
          "data": {
            "text/plain": [
              "<IPython.core.display.Javascript object>"
            ],
            "application/javascript": [
              "\n",
              "    async function download(id, filename, size) {\n",
              "      if (!google.colab.kernel.accessAllowed) {\n",
              "        return;\n",
              "      }\n",
              "      const div = document.createElement('div');\n",
              "      const label = document.createElement('label');\n",
              "      label.textContent = `Downloading \"${filename}\": `;\n",
              "      div.appendChild(label);\n",
              "      const progress = document.createElement('progress');\n",
              "      progress.max = size;\n",
              "      div.appendChild(progress);\n",
              "      document.body.appendChild(div);\n",
              "\n",
              "      const buffers = [];\n",
              "      let downloaded = 0;\n",
              "\n",
              "      const channel = await google.colab.kernel.comms.open(id);\n",
              "      // Send a message to notify the kernel that we're ready.\n",
              "      channel.send({})\n",
              "\n",
              "      for await (const message of channel.messages) {\n",
              "        // Send a message to notify the kernel that we're ready.\n",
              "        channel.send({})\n",
              "        if (message.buffers) {\n",
              "          for (const buffer of message.buffers) {\n",
              "            buffers.push(buffer);\n",
              "            downloaded += buffer.byteLength;\n",
              "            progress.value = downloaded;\n",
              "          }\n",
              "        }\n",
              "      }\n",
              "      const blob = new Blob(buffers, {type: 'application/binary'});\n",
              "      const a = document.createElement('a');\n",
              "      a.href = window.URL.createObjectURL(blob);\n",
              "      a.download = filename;\n",
              "      div.appendChild(a);\n",
              "      a.click();\n",
              "      div.remove();\n",
              "    }\n",
              "  "
            ]
          },
          "metadata": {}
        },
        {
          "output_type": "display_data",
          "data": {
            "text/plain": [
              "<IPython.core.display.Javascript object>"
            ],
            "application/javascript": [
              "download(\"download_4f692c8a-1bbe-404b-91a2-50f67ee4ef19\", \"final_employees_json.zip\", 2046)"
            ]
          },
          "metadata": {}
        }
      ]
    }
  ]
}