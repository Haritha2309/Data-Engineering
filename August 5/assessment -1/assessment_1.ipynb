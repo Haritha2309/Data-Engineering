{
  "nbformat": 4,
  "nbformat_minor": 0,
  "metadata": {
    "colab": {
      "provenance": []
    },
    "kernelspec": {
      "name": "python3",
      "display_name": "Python 3"
    },
    "language_info": {
      "name": "python"
    }
  },
  "cells": [
    {
      "cell_type": "markdown",
      "source": [
        "Setup Spark:"
      ],
      "metadata": {
        "id": "XJuJ0o_007XR"
      }
    },
    {
      "cell_type": "code",
      "execution_count": null,
      "metadata": {
        "id": "uJjgwMx9w6xl"
      },
      "outputs": [],
      "source": [
        "from pyspark.sql import SparkSession"
      ]
    },
    {
      "cell_type": "code",
      "source": [
        "spark = SparkSession.builder.appName('BotCampus Intermediate Session').master('local[*]').getOrCreate()"
      ],
      "metadata": {
        "id": "u9nPaIll1CDC"
      },
      "execution_count": null,
      "outputs": []
    },
    {
      "cell_type": "markdown",
      "source": [
        "Load starter data:"
      ],
      "metadata": {
        "id": "Bq9DkbRQ1b0r"
      }
    },
    {
      "cell_type": "code",
      "source": [
        "data = [(\"Ananya\", \"Bangalore\", 24),\n",
        "(\"Ravi\", \"Hyderabad\", 28),\n",
        "(\"Kavya\", \"Delhi\", 22),\n",
        "(\"Meena\", \"Chennai\", 25)]\n",
        "columns = [\"name\", \"city\", \"age\"]"
      ],
      "metadata": {
        "id": "TgbHyDHL1XNP"
      },
      "execution_count": null,
      "outputs": []
    },
    {
      "cell_type": "code",
      "source": [
        "df = spark.createDataFrame(data,columns)\n",
        "df.show()"
      ],
      "metadata": {
        "colab": {
          "base_uri": "https://localhost:8080/"
        },
        "id": "6c_SDp372G1_",
        "outputId": "20785101-a98f-4720-8a33-343926568bf0"
      },
      "execution_count": null,
      "outputs": [
        {
          "output_type": "stream",
          "name": "stdout",
          "text": [
            "+------+---------+---+\n",
            "|  name|     city|age|\n",
            "+------+---------+---+\n",
            "|Ananya|Bangalore| 24|\n",
            "|  Ravi|Hyderabad| 28|\n",
            "| Kavya|    Delhi| 22|\n",
            "| Meena|  Chennai| 25|\n",
            "+------+---------+---+\n",
            "\n"
          ]
        }
      ]
    },
    {
      "cell_type": "code",
      "source": [
        "feedback = spark.sparkContext.parallelize([\n",
        "\"Ravi from Bangalore loved the mobile app\",\n",
        "\"Meena from Delhi reported poor response time\",\n",
        "\"Ajay from Pune liked the delivery speed\",\n",
        "\"Ananya from Hyderabad had an issue with UI\",\n",
        "\"Rohit from Mumbai gave positive feedback\"\n",
        "])"
      ],
      "metadata": {
        "id": "zSaEDsDf2Ws-"
      },
      "execution_count": null,
      "outputs": []
    },
    {
      "cell_type": "markdown",
      "source": [
        "Count total number of words."
      ],
      "metadata": {
        "id": "oAoixrga2cmW"
      }
    },
    {
      "cell_type": "code",
      "source": [
        "words_count = feedback.flatMap(lambda line: line.split()).count()\n",
        "print(\"TOTAL NO.OF WORDS: \",words_count)"
      ],
      "metadata": {
        "colab": {
          "base_uri": "https://localhost:8080/"
        },
        "id": "BTIqxWX82aWI",
        "outputId": "d4603730-0508-46d3-be5f-d1a1c38794d1"
      },
      "execution_count": null,
      "outputs": [
        {
          "output_type": "stream",
          "name": "stdout",
          "text": [
            "TOTAL NO.OF WORDS:  35\n"
          ]
        }
      ]
    },
    {
      "cell_type": "markdown",
      "source": [
        "Find top 3 most common words."
      ],
      "metadata": {
        "id": "CcCjySIs-mhG"
      }
    },
    {
      "cell_type": "code",
      "source": [
        "word_count = feedback.flatMap(lambda line : line.split())\n",
        "words = word_count.map(lambda word: word.lower())\n",
        "word_pairs = words.map(lambda word: (word, 1))\n",
        "count = word_pairs.reduceByKey(lambda a,b : a + b)\n",
        "topp = count.takeOrdered(3, key=lambda x: -x[1])\n",
        "print(topp)"
      ],
      "metadata": {
        "colab": {
          "base_uri": "https://localhost:8080/"
        },
        "id": "pv6bQETI-nMB",
        "outputId": "10d9804f-5b33-4a2e-e819-e3cb0114f0ba"
      },
      "execution_count": null,
      "outputs": [
        {
          "output_type": "stream",
          "name": "stdout",
          "text": [
            "[('from', 5), ('the', 2), ('loved', 1)]\n"
          ]
        }
      ]
    },
    {
      "cell_type": "markdown",
      "source": [
        "Remove stop words ( from , with , the , etc.)."
      ],
      "metadata": {
        "id": "4XUdMgjXA5xl"
      }
    },
    {
      "cell_type": "code",
      "source": [
        "stop_words = {\"from\", \"with\", \"the\", \"an\", \"and\", \"had\", \"gave\"}\n",
        "filtered = feedback.map(lambda line: ' '\n",
        "                        .join([word.lower() for word in line.split()\n",
        "                        if word.lower() not in stop_words]) )\n",
        "filtered.collect()"
      ],
      "metadata": {
        "colab": {
          "base_uri": "https://localhost:8080/"
        },
        "id": "u5URyfGvCNLy",
        "outputId": "197178e4-35ac-48a9-fced-59186095d94d"
      },
      "execution_count": null,
      "outputs": [
        {
          "output_type": "execute_result",
          "data": {
            "text/plain": [
              "['ravi bangalore loved mobile app',\n",
              " 'meena delhi reported poor response time',\n",
              " 'ajay pune liked delivery speed',\n",
              " 'ananya hyderabad issue ui',\n",
              " 'rohit mumbai positive feedback']"
            ]
          },
          "metadata": {},
          "execution_count": 23
        }
      ]
    },
    {
      "cell_type": "markdown",
      "source": [
        "Create a dictionary of word → count."
      ],
      "metadata": {
        "id": "DjLJ02jdDmMr"
      }
    },
    {
      "cell_type": "code",
      "source": [
        "word_count = (feedback\n",
        "              .flatMap(lambda line: line.split())\n",
        "              .map(lambda line: (line.lower(),1))\n",
        "              .reduceByKey(lambda a,b : a+b))\n",
        "dictt = dict(word_count.collect())\n",
        "print(dictt)"
      ],
      "metadata": {
        "id": "vJhOZrnACuGo",
        "colab": {
          "base_uri": "https://localhost:8080/"
        },
        "outputId": "97294a97-caf0-4528-ae08-ec876dcef312"
      },
      "execution_count": 36,
      "outputs": [
        {
          "output_type": "stream",
          "name": "stdout",
          "text": [
            "{'from': 5, 'loved': 1, 'app': 1, 'poor': 1, 'response': 1, 'liked': 1, 'speed': 1, 'ananya': 1, 'an': 1, 'issue': 1, 'with': 1, 'rohit': 1, 'mumbai': 1, 'positive': 1, 'feedback': 1, 'ravi': 1, 'bangalore': 1, 'the': 2, 'mobile': 1, 'meena': 1, 'delhi': 1, 'reported': 1, 'time': 1, 'ajay': 1, 'pune': 1, 'delivery': 1, 'hyderabad': 1, 'had': 1, 'ui': 1, 'gave': 1}\n"
          ]
        }
      ]
    },
    {
      "cell_type": "markdown",
      "source": [
        "DataFrames – Transformations"
      ],
      "metadata": {
        "id": "PGwVSlvFH78X"
      }
    },
    {
      "cell_type": "markdown",
      "source": [
        "Create exam_scores DataFrame:"
      ],
      "metadata": {
        "id": "40Ze1NMUIG8E"
      }
    },
    {
      "cell_type": "code",
      "source": [
        "scores = [\n",
        "(\"Ravi\", \"Math\", 88),\n",
        "(\"Ananya\", \"Science\", 92),\n",
        "(\"Kavya\", \"English\", 79),\n",
        "(\"Ravi\", \"English\", 67),\n",
        "(\"Neha\", \"Math\", 94),\n",
        "(\"Meena\", \"Science\", 85)\n",
        "]\n",
        "columns = [\"name\", \"subject\", \"score\"]\n",
        "df_scores = spark.createDataFrame(scores, columns)\n",
        "df_scores.show()"
      ],
      "metadata": {
        "id": "ln1JfmT7GUmw",
        "outputId": "7f627bde-8628-44af-a9cb-a67d6185f5e1",
        "colab": {
          "base_uri": "https://localhost:8080/"
        }
      },
      "execution_count": 60,
      "outputs": [
        {
          "output_type": "stream",
          "name": "stdout",
          "text": [
            "+------+-------+-----+\n",
            "|  name|subject|score|\n",
            "+------+-------+-----+\n",
            "|  Ravi|   Math|   88|\n",
            "|Ananya|Science|   92|\n",
            "| Kavya|English|   79|\n",
            "|  Ravi|English|   67|\n",
            "|  Neha|   Math|   94|\n",
            "| Meena|Science|   85|\n",
            "+------+-------+-----+\n",
            "\n"
          ]
        }
      ]
    },
    {
      "cell_type": "markdown",
      "source": [
        "Add grade column ( >=90 → A, 80-89 → B, 70-79 → C, else D)."
      ],
      "metadata": {
        "id": "WTnvXLVlIQLo"
      }
    },
    {
      "cell_type": "code",
      "source": [
        "from pyspark.sql.functions import when\n",
        "df_scores = df_scores.withColumn('Grade',\n",
        "                             when (df_scores.score >= 90, 'A')\n",
        "                             .when((df_scores.score>= 80)&(df_scores.score<=89),'B')\n",
        "                              .when((df_scores.score>= 70)&(df_scores.score<=79),'C')\n",
        "                              .otherwise ('D'))\n",
        "\n",
        "df_scores.show()"
      ],
      "metadata": {
        "colab": {
          "base_uri": "https://localhost:8080/"
        },
        "id": "ggyRSoFxISen",
        "outputId": "70277799-72aa-4938-8c3f-2845065c889d"
      },
      "execution_count": 61,
      "outputs": [
        {
          "output_type": "stream",
          "name": "stdout",
          "text": [
            "+------+-------+-----+-----+\n",
            "|  name|subject|score|Grade|\n",
            "+------+-------+-----+-----+\n",
            "|  Ravi|   Math|   88|    B|\n",
            "|Ananya|Science|   92|    A|\n",
            "| Kavya|English|   79|    C|\n",
            "|  Ravi|English|   67|    D|\n",
            "|  Neha|   Math|   94|    A|\n",
            "| Meena|Science|   85|    B|\n",
            "+------+-------+-----+-----+\n",
            "\n"
          ]
        }
      ]
    },
    {
      "cell_type": "markdown",
      "source": [
        "Group by subject, find average score."
      ],
      "metadata": {
        "id": "28sivPD5Kygf"
      }
    },
    {
      "cell_type": "code",
      "source": [
        "graded = df_scores.groupBy('subject').avg('score')\n",
        "graded.show()"
      ],
      "metadata": {
        "colab": {
          "base_uri": "https://localhost:8080/"
        },
        "id": "52BQ_MKpK4_o",
        "outputId": "3fae0e77-6b49-46d9-8e1f-dfbfd1992900"
      },
      "execution_count": 62,
      "outputs": [
        {
          "output_type": "stream",
          "name": "stdout",
          "text": [
            "+-------+----------+\n",
            "|subject|avg(score)|\n",
            "+-------+----------+\n",
            "|Science|      88.5|\n",
            "|   Math|      91.0|\n",
            "|English|      73.0|\n",
            "+-------+----------+\n",
            "\n"
          ]
        }
      ]
    },
    {
      "cell_type": "markdown",
      "source": [
        "Use when and otherwise to classify subject difficulty ( Math/Science =Difficult)."
      ],
      "metadata": {
        "id": "dVUh7TuoQTV9"
      }
    },
    {
      "cell_type": "code",
      "source": [
        "difficult = {'Science','Math'}\n",
        "df_scores = df_scores.withColumn('Difficulty level',when (df_scores.subject .isin (*difficult) , 'Difficult').otherwise('Easy'))\n",
        "df_scores.show()"
      ],
      "metadata": {
        "colab": {
          "base_uri": "https://localhost:8080/"
        },
        "id": "2xkWlq6kQY1o",
        "outputId": "29e0e730-99b2-4383-fbff-e956933cdcb2"
      },
      "execution_count": 63,
      "outputs": [
        {
          "output_type": "stream",
          "name": "stdout",
          "text": [
            "+------+-------+-----+-----+----------------+\n",
            "|  name|subject|score|Grade|Difficulty level|\n",
            "+------+-------+-----+-----+----------------+\n",
            "|  Ravi|   Math|   88|    B|       Difficult|\n",
            "|Ananya|Science|   92|    A|       Difficult|\n",
            "| Kavya|English|   79|    C|            Easy|\n",
            "|  Ravi|English|   67|    D|            Easy|\n",
            "|  Neha|   Math|   94|    A|       Difficult|\n",
            "| Meena|Science|   85|    B|       Difficult|\n",
            "+------+-------+-----+-----+----------------+\n",
            "\n"
          ]
        }
      ]
    },
    {
      "cell_type": "markdown",
      "source": [
        "Rank students per subject using Window function."
      ],
      "metadata": {
        "id": "T7w8C_60RoDT"
      }
    },
    {
      "cell_type": "code",
      "source": [
        "from pyspark.sql.window import Window\n",
        "from pyspark.sql.functions import rank\n",
        "windoww = Window.partitionBy('Subject').orderBy(df_scores.score.desc())\n",
        "rankk = df_scores.withColumn('Rank',rank().over(windoww))\n",
        "rankk.show()"
      ],
      "metadata": {
        "colab": {
          "base_uri": "https://localhost:8080/"
        },
        "id": "KnVxxfHQRtK8",
        "outputId": "acf9b351-d4e8-47ab-f091-e0078089f41f"
      },
      "execution_count": 64,
      "outputs": [
        {
          "output_type": "stream",
          "name": "stdout",
          "text": [
            "+------+-------+-----+-----+----------------+----+\n",
            "|  name|subject|score|Grade|Difficulty level|Rank|\n",
            "+------+-------+-----+-----+----------------+----+\n",
            "| Kavya|English|   79|    C|            Easy|   1|\n",
            "|  Ravi|English|   67|    D|            Easy|   2|\n",
            "|  Neha|   Math|   94|    A|       Difficult|   1|\n",
            "|  Ravi|   Math|   88|    B|       Difficult|   2|\n",
            "|Ananya|Science|   92|    A|       Difficult|   1|\n",
            "| Meena|Science|   85|    B|       Difficult|   2|\n",
            "+------+-------+-----+-----+----------------+----+\n",
            "\n"
          ]
        }
      ]
    },
    {
      "cell_type": "markdown",
      "source": [
        "Apply UDF to format names (e.g., make all uppercase)."
      ],
      "metadata": {
        "id": "wT_fdsUWSyJT"
      }
    },
    {
      "cell_type": "code",
      "source": [
        "from pyspark.sql.functions import udf\n",
        "from pyspark.sql.types import StringType\n",
        "def to_upper(name):\n",
        "  return name.upper()\n",
        "\n",
        "upperr = udf(to_upper,StringType())\n",
        "df_scores = df_scores.withColumn('NAME',upperr(df_scores.name))\n",
        "df_scores.show()"
      ],
      "metadata": {
        "colab": {
          "base_uri": "https://localhost:8080/"
        },
        "id": "U9fyRVaSSxx7",
        "outputId": "b1b88719-4a7f-4450-8fd1-97e8f9dbb9e5"
      },
      "execution_count": 65,
      "outputs": [
        {
          "output_type": "stream",
          "name": "stdout",
          "text": [
            "+------+-------+-----+-----+----------------+\n",
            "|  NAME|subject|score|Grade|Difficulty level|\n",
            "+------+-------+-----+-----+----------------+\n",
            "|  RAVI|   Math|   88|    B|       Difficult|\n",
            "|ANANYA|Science|   92|    A|       Difficult|\n",
            "| KAVYA|English|   79|    C|            Easy|\n",
            "|  RAVI|English|   67|    D|            Easy|\n",
            "|  NEHA|   Math|   94|    A|       Difficult|\n",
            "| MEENA|Science|   85|    B|       Difficult|\n",
            "+------+-------+-----+-----+----------------+\n",
            "\n"
          ]
        }
      ]
    },
    {
      "cell_type": "markdown",
      "source": [
        "CSV & JSON"
      ],
      "metadata": {
        "id": "sV2aA7pHbUnl"
      }
    },
    {
      "cell_type": "markdown",
      "source": [
        "CSV file: students.csv"
      ],
      "metadata": {
        "id": "y001WtxObXeu"
      }
    },
    {
      "cell_type": "code",
      "source": [
        "csv_data = [\n",
        "    (1, \"Amit\", \"IT\", \"Bangalore\", 78000),\n",
        "    (2, \"Kavya\", \"HR\", \"Chennai\", 62000),\n",
        "    (3, \"Arjun\", \"Finance\", \"Hyderabad\", 55000)\n",
        "]\n",
        "\n",
        "csv_columns = [\"id\", \"name\", \"department\", \"city\", \"salary\"]\n",
        "\n",
        "df_csv = spark.createDataFrame(csv_data, csv_columns)\n",
        "\n",
        "df_csv.write.mode(\"overwrite\").option(\"header\", \"true\").csv(\"students.csv\")"
      ],
      "metadata": {
        "id": "w3iML0NGVFHH"
      },
      "execution_count": 66,
      "outputs": []
    },
    {
      "cell_type": "markdown",
      "source": [
        "JSON file employee_nested.json"
      ],
      "metadata": {
        "id": "WCDe_i4-ePOe"
      }
    },
    {
      "cell_type": "code",
      "source": [
        "import json\n",
        "json_data = [\n",
        "    {\n",
        "        \"id\": 101,\n",
        "        \"name\": \"Sneha\",\n",
        "        \"address\": {\"city\": \"Mumbai\", \"pincode\": 400001},\n",
        "        \"skills\": [\"Python\", \"Spark\"]\n",
        "    }\n",
        "]\n",
        "with open(\"employee_nested.json\", \"w\") as f:\n",
        "    json.dump(json_data, f, indent=5)"
      ],
      "metadata": {
        "id": "_2TbQUEzeP3G"
      },
      "execution_count": 67,
      "outputs": []
    },
    {
      "cell_type": "markdown",
      "source": [
        "Load both datasets into PySpark."
      ],
      "metadata": {
        "id": "vC9kNLgZeem3"
      }
    },
    {
      "cell_type": "code",
      "source": [
        "df_csv = spark.read.option('header','true').option('inferSchema','true').csv('students.csv')\n",
        "\n",
        "df_json =spark.read.option('multiline','true').json('employee_nested.json')"
      ],
      "metadata": {
        "id": "bEzBof4OefMK"
      },
      "execution_count": 68,
      "outputs": []
    },
    {
      "cell_type": "markdown",
      "source": [
        "Print schema and infer nested structure."
      ],
      "metadata": {
        "id": "dbyTsnPPfDuu"
      }
    },
    {
      "cell_type": "code",
      "source": [
        "df_csv.printSchema()\n",
        "df_csv.show()"
      ],
      "metadata": {
        "colab": {
          "base_uri": "https://localhost:8080/"
        },
        "id": "A2pgM67XfEfJ",
        "outputId": "31e631b5-c07a-42e8-9414-f928a5bd6087"
      },
      "execution_count": 69,
      "outputs": [
        {
          "output_type": "stream",
          "name": "stdout",
          "text": [
            "root\n",
            " |-- id: integer (nullable = true)\n",
            " |-- name: string (nullable = true)\n",
            " |-- department: string (nullable = true)\n",
            " |-- city: string (nullable = true)\n",
            " |-- salary: integer (nullable = true)\n",
            "\n",
            "+---+-----+----------+---------+------+\n",
            "| id| name|department|     city|salary|\n",
            "+---+-----+----------+---------+------+\n",
            "|  2|Kavya|        HR|  Chennai| 62000|\n",
            "|  3|Arjun|   Finance|Hyderabad| 55000|\n",
            "|  1| Amit|        IT|Bangalore| 78000|\n",
            "+---+-----+----------+---------+------+\n",
            "\n"
          ]
        }
      ]
    },
    {
      "cell_type": "code",
      "source": [
        "df_json.printSchema()\n",
        "df_json.show(truncate= False)"
      ],
      "metadata": {
        "colab": {
          "base_uri": "https://localhost:8080/"
        },
        "id": "cydZfSimfL4a",
        "outputId": "a998debe-a2c6-4e52-fb59-616e8550d9d6"
      },
      "execution_count": 71,
      "outputs": [
        {
          "output_type": "stream",
          "name": "stdout",
          "text": [
            "root\n",
            " |-- address: struct (nullable = true)\n",
            " |    |-- city: string (nullable = true)\n",
            " |    |-- pincode: long (nullable = true)\n",
            " |-- id: long (nullable = true)\n",
            " |-- name: string (nullable = true)\n",
            " |-- skills: array (nullable = true)\n",
            " |    |-- element: string (containsNull = true)\n",
            "\n",
            "+----------------+---+-----+---------------+\n",
            "|address         |id |name |skills         |\n",
            "+----------------+---+-----+---------------+\n",
            "|{Mumbai, 400001}|101|Sneha|[Python, Spark]|\n",
            "+----------------+---+-----+---------------+\n",
            "\n"
          ]
        }
      ]
    },
    {
      "cell_type": "markdown",
      "source": [
        "Flatten the JSON (use explode , select , alias )."
      ],
      "metadata": {
        "id": "5JpRVvugfa4j"
      }
    },
    {
      "cell_type": "code",
      "source": [
        "from pyspark.sql.functions import col,explode\n",
        "\n",
        "flattened = df_json.select(\n",
        "    'id','name',col('address.city').alias('city'), col('address.pincode').alias('PIN') , explode('skills').alias('skill')\n",
        ")\n",
        "flattened.show()"
      ],
      "metadata": {
        "colab": {
          "base_uri": "https://localhost:8080/"
        },
        "id": "g7lB_Qtbfd-t",
        "outputId": "9f0b4e18-5e3a-470b-c72f-8e662314e99d"
      },
      "execution_count": 72,
      "outputs": [
        {
          "output_type": "stream",
          "name": "stdout",
          "text": [
            "+---+-----+------+------+------+\n",
            "| id| name|  city|   PIN| skill|\n",
            "+---+-----+------+------+------+\n",
            "|101|Sneha|Mumbai|400001|Python|\n",
            "|101|Sneha|Mumbai|400001| Spark|\n",
            "+---+-----+------+------+------+\n",
            "\n"
          ]
        }
      ]
    },
    {
      "cell_type": "markdown",
      "source": [
        "Convert both to Parquet and write to /tmp/output"
      ],
      "metadata": {
        "id": "n_8tHAdkgPF7"
      }
    },
    {
      "cell_type": "code",
      "source": [
        "df_csv.write.mode('overwrite').parquet('/tmp/output/students_parquet')\n",
        "df_json.write.mode('overwrite').parquet('/tmp/output/employee_parquet')"
      ],
      "metadata": {
        "id": "YJKy-G6lgVoj"
      },
      "execution_count": 73,
      "outputs": []
    },
    {
      "cell_type": "code",
      "source": [
        "!ls"
      ],
      "metadata": {
        "colab": {
          "base_uri": "https://localhost:8080/"
        },
        "id": "tg1dCTiWgwcS",
        "outputId": "fa446f93-4a15-40da-fc0a-640a266d2753"
      },
      "execution_count": 74,
      "outputs": [
        {
          "output_type": "stream",
          "name": "stdout",
          "text": [
            "employee_nested.json  sample_data  students.csv\n"
          ]
        }
      ]
    },
    {
      "cell_type": "code",
      "source": [
        "from google.colab import files\n",
        "import shutil, glob\n",
        "\n",
        "csv_part = glob.glob(\"students.csv/part-*.csv\")[0]\n",
        "shutil.copy(csv_part, \"students_csv.csv\")\n",
        "\n",
        "files.download(\"students_csv.csv\")\n"
      ],
      "metadata": {
        "colab": {
          "base_uri": "https://localhost:8080/",
          "height": 17
        },
        "id": "lqZDy5gLg706",
        "outputId": "16b01675-9024-4b23-989e-2231860b24e4"
      },
      "execution_count": 78,
      "outputs": [
        {
          "output_type": "display_data",
          "data": {
            "text/plain": [
              "<IPython.core.display.Javascript object>"
            ],
            "application/javascript": [
              "\n",
              "    async function download(id, filename, size) {\n",
              "      if (!google.colab.kernel.accessAllowed) {\n",
              "        return;\n",
              "      }\n",
              "      const div = document.createElement('div');\n",
              "      const label = document.createElement('label');\n",
              "      label.textContent = `Downloading \"${filename}\": `;\n",
              "      div.appendChild(label);\n",
              "      const progress = document.createElement('progress');\n",
              "      progress.max = size;\n",
              "      div.appendChild(progress);\n",
              "      document.body.appendChild(div);\n",
              "\n",
              "      const buffers = [];\n",
              "      let downloaded = 0;\n",
              "\n",
              "      const channel = await google.colab.kernel.comms.open(id);\n",
              "      // Send a message to notify the kernel that we're ready.\n",
              "      channel.send({})\n",
              "\n",
              "      for await (const message of channel.messages) {\n",
              "        // Send a message to notify the kernel that we're ready.\n",
              "        channel.send({})\n",
              "        if (message.buffers) {\n",
              "          for (const buffer of message.buffers) {\n",
              "            buffers.push(buffer);\n",
              "            downloaded += buffer.byteLength;\n",
              "            progress.value = downloaded;\n",
              "          }\n",
              "        }\n",
              "      }\n",
              "      const blob = new Blob(buffers, {type: 'application/binary'});\n",
              "      const a = document.createElement('a');\n",
              "      a.href = window.URL.createObjectURL(blob);\n",
              "      a.download = filename;\n",
              "      div.appendChild(a);\n",
              "      a.click();\n",
              "      div.remove();\n",
              "    }\n",
              "  "
            ]
          },
          "metadata": {}
        },
        {
          "output_type": "display_data",
          "data": {
            "text/plain": [
              "<IPython.core.display.Javascript object>"
            ],
            "application/javascript": [
              "download(\"download_6a9a7c9f-3b02-4480-8878-7895bd5076da\", \"students_csv.csv\", 88)"
            ]
          },
          "metadata": {}
        }
      ]
    },
    {
      "cell_type": "code",
      "source": [
        "import zipfile\n",
        "import os\n",
        "\n",
        "def zip_parquet(source_dir, zip_name):\n",
        "    with zipfile.ZipFile(zip_name, 'w') as zipf:\n",
        "        for foldername, _, filenames in os.walk(source_dir):\n",
        "            for filename in filenames:\n",
        "                file_path = os.path.join(foldername, filename)\n",
        "                zipf.write(file_path, os.path.relpath(file_path, source_dir))\n",
        "\n",
        "zip_parquet(\"/tmp/output/students_parquet\", \"/tmp/students_parquet.zip\")\n",
        "files.download(\"/tmp/students_parquet.zip\")\n",
        "\n",
        "zip_parquet(\"/tmp/output/employee_parquet\", \"/tmp/employee_parquet.zip\")\n",
        "files.download(\"/tmp/employee_parquet.zip\")\n"
      ],
      "metadata": {
        "colab": {
          "base_uri": "https://localhost:8080/",
          "height": 17
        },
        "id": "efKOklSqheMw",
        "outputId": "421c63fe-c623-4504-9514-0301e5492691"
      },
      "execution_count": 77,
      "outputs": [
        {
          "output_type": "display_data",
          "data": {
            "text/plain": [
              "<IPython.core.display.Javascript object>"
            ],
            "application/javascript": [
              "\n",
              "    async function download(id, filename, size) {\n",
              "      if (!google.colab.kernel.accessAllowed) {\n",
              "        return;\n",
              "      }\n",
              "      const div = document.createElement('div');\n",
              "      const label = document.createElement('label');\n",
              "      label.textContent = `Downloading \"${filename}\": `;\n",
              "      div.appendChild(label);\n",
              "      const progress = document.createElement('progress');\n",
              "      progress.max = size;\n",
              "      div.appendChild(progress);\n",
              "      document.body.appendChild(div);\n",
              "\n",
              "      const buffers = [];\n",
              "      let downloaded = 0;\n",
              "\n",
              "      const channel = await google.colab.kernel.comms.open(id);\n",
              "      // Send a message to notify the kernel that we're ready.\n",
              "      channel.send({})\n",
              "\n",
              "      for await (const message of channel.messages) {\n",
              "        // Send a message to notify the kernel that we're ready.\n",
              "        channel.send({})\n",
              "        if (message.buffers) {\n",
              "          for (const buffer of message.buffers) {\n",
              "            buffers.push(buffer);\n",
              "            downloaded += buffer.byteLength;\n",
              "            progress.value = downloaded;\n",
              "          }\n",
              "        }\n",
              "      }\n",
              "      const blob = new Blob(buffers, {type: 'application/binary'});\n",
              "      const a = document.createElement('a');\n",
              "      a.href = window.URL.createObjectURL(blob);\n",
              "      a.download = filename;\n",
              "      div.appendChild(a);\n",
              "      a.click();\n",
              "      div.remove();\n",
              "    }\n",
              "  "
            ]
          },
          "metadata": {}
        },
        {
          "output_type": "display_data",
          "data": {
            "text/plain": [
              "<IPython.core.display.Javascript object>"
            ],
            "application/javascript": [
              "download(\"download_c1f263b6-3c90-46fe-81c3-0c96b07c91c7\", \"students_parquet.zip\", 3973)"
            ]
          },
          "metadata": {}
        },
        {
          "output_type": "display_data",
          "data": {
            "text/plain": [
              "<IPython.core.display.Javascript object>"
            ],
            "application/javascript": [
              "\n",
              "    async function download(id, filename, size) {\n",
              "      if (!google.colab.kernel.accessAllowed) {\n",
              "        return;\n",
              "      }\n",
              "      const div = document.createElement('div');\n",
              "      const label = document.createElement('label');\n",
              "      label.textContent = `Downloading \"${filename}\": `;\n",
              "      div.appendChild(label);\n",
              "      const progress = document.createElement('progress');\n",
              "      progress.max = size;\n",
              "      div.appendChild(progress);\n",
              "      document.body.appendChild(div);\n",
              "\n",
              "      const buffers = [];\n",
              "      let downloaded = 0;\n",
              "\n",
              "      const channel = await google.colab.kernel.comms.open(id);\n",
              "      // Send a message to notify the kernel that we're ready.\n",
              "      channel.send({})\n",
              "\n",
              "      for await (const message of channel.messages) {\n",
              "        // Send a message to notify the kernel that we're ready.\n",
              "        channel.send({})\n",
              "        if (message.buffers) {\n",
              "          for (const buffer of message.buffers) {\n",
              "            buffers.push(buffer);\n",
              "            downloaded += buffer.byteLength;\n",
              "            progress.value = downloaded;\n",
              "          }\n",
              "        }\n",
              "      }\n",
              "      const blob = new Blob(buffers, {type: 'application/binary'});\n",
              "      const a = document.createElement('a');\n",
              "      a.href = window.URL.createObjectURL(blob);\n",
              "      a.download = filename;\n",
              "      div.appendChild(a);\n",
              "      a.click();\n",
              "      div.remove();\n",
              "    }\n",
              "  "
            ]
          },
          "metadata": {}
        },
        {
          "output_type": "display_data",
          "data": {
            "text/plain": [
              "<IPython.core.display.Javascript object>"
            ],
            "application/javascript": [
              "download(\"download_2c063af7-b33a-4666-b61f-ff200e800500\", \"employee_parquet.zip\", 2362)"
            ]
          },
          "metadata": {}
        }
      ]
    },
    {
      "cell_type": "markdown",
      "source": [
        "Spark SQL"
      ],
      "metadata": {
        "id": "D8ir16Pph6Py"
      }
    },
    {
      "cell_type": "markdown",
      "source": [
        "Create view from exam scores"
      ],
      "metadata": {
        "id": "TWv99yMEh8gU"
      }
    },
    {
      "cell_type": "code",
      "source": [
        "df_scores.show()"
      ],
      "metadata": {
        "colab": {
          "base_uri": "https://localhost:8080/"
        },
        "id": "z-Kt1I_Ah_NT",
        "outputId": "e1c5b62b-be06-490d-8a96-357272f12002"
      },
      "execution_count": 79,
      "outputs": [
        {
          "output_type": "stream",
          "name": "stdout",
          "text": [
            "+------+-------+-----+-----+----------------+\n",
            "|  NAME|subject|score|Grade|Difficulty level|\n",
            "+------+-------+-----+-----+----------------+\n",
            "|  RAVI|   Math|   88|    B|       Difficult|\n",
            "|ANANYA|Science|   92|    A|       Difficult|\n",
            "| KAVYA|English|   79|    C|            Easy|\n",
            "|  RAVI|English|   67|    D|            Easy|\n",
            "|  NEHA|   Math|   94|    A|       Difficult|\n",
            "| MEENA|Science|   85|    B|       Difficult|\n",
            "+------+-------+-----+-----+----------------+\n",
            "\n"
          ]
        }
      ]
    },
    {
      "cell_type": "code",
      "source": [
        "df_scores.createOrReplaceTempView('exam_scores')"
      ],
      "metadata": {
        "id": "WOV13oYEiuVA"
      },
      "execution_count": 80,
      "outputs": []
    },
    {
      "cell_type": "markdown",
      "source": [
        "Top scorer per subject"
      ],
      "metadata": {
        "id": "8f3iMeUhi2cO"
      }
    },
    {
      "cell_type": "code",
      "source": [
        "spark.sql(\"\"\"\n",
        "          select subject,name,score\n",
        "          from(select * , row_number() over (partition by subject order by score desc) as rn\n",
        "          from exam_scores)\n",
        "          where rn = 1\"\"\").show()"
      ],
      "metadata": {
        "colab": {
          "base_uri": "https://localhost:8080/"
        },
        "id": "brfTom3Zi3bj",
        "outputId": "ae70c2de-00f3-4f90-c67d-c4443b68318a"
      },
      "execution_count": 83,
      "outputs": [
        {
          "output_type": "stream",
          "name": "stdout",
          "text": [
            "+-------+------+-----+\n",
            "|subject|  name|score|\n",
            "+-------+------+-----+\n",
            "|English| KAVYA|   79|\n",
            "|   Math|  NEHA|   94|\n",
            "|Science|ANANYA|   92|\n",
            "+-------+------+-----+\n",
            "\n"
          ]
        }
      ]
    },
    {
      "cell_type": "markdown",
      "source": [
        "Count of students per grade"
      ],
      "metadata": {
        "id": "E7UoMkk-jkAL"
      }
    },
    {
      "cell_type": "code",
      "source": [
        "spark.sql(\"\"\"\n",
        "select grade, count(*) as count\n",
        "from exam_scores\n",
        "group by grade\n",
        "order by count(*) desc\"\"\").show()"
      ],
      "metadata": {
        "colab": {
          "base_uri": "https://localhost:8080/"
        },
        "id": "kPENv1tzjmn4",
        "outputId": "9b6bd3b4-930c-4728-c3ec-9eba3d64b823"
      },
      "execution_count": 85,
      "outputs": [
        {
          "output_type": "stream",
          "name": "stdout",
          "text": [
            "+-----+-----+\n",
            "|grade|count|\n",
            "+-----+-----+\n",
            "|    B|    2|\n",
            "|    A|    2|\n",
            "|    C|    1|\n",
            "|    D|    1|\n",
            "+-----+-----+\n",
            "\n"
          ]
        }
      ]
    },
    {
      "cell_type": "markdown",
      "source": [
        "Students with multiple subjects"
      ],
      "metadata": {
        "id": "beyDFXx_j7Pa"
      }
    },
    {
      "cell_type": "code",
      "source": [
        "spark.sql(\"\"\"\n",
        "select name, count(distinct subject) as subject\n",
        "from exam_scores\n",
        "group by name\n",
        "having count(distinct subject) >1\"\"\").show()"
      ],
      "metadata": {
        "colab": {
          "base_uri": "https://localhost:8080/"
        },
        "id": "9CZkUFKwj9jd",
        "outputId": "38bcb1db-dc54-4bec-e218-93d31b6c55c5"
      },
      "execution_count": 87,
      "outputs": [
        {
          "output_type": "stream",
          "name": "stdout",
          "text": [
            "+----+-------+\n",
            "|name|subject|\n",
            "+----+-------+\n",
            "|RAVI|      2|\n",
            "+----+-------+\n",
            "\n"
          ]
        }
      ]
    },
    {
      "cell_type": "markdown",
      "source": [
        "Subjects with average score above 85"
      ],
      "metadata": {
        "id": "dhmO_ZQ5kSmJ"
      }
    },
    {
      "cell_type": "code",
      "source": [
        "spark.sql(\"\"\"\n",
        "select subject,avg(score) as avg\n",
        "from exam_scores\n",
        "group by subject\n",
        "having avg(score)>85\n",
        "\"\"\"\n",
        ").show()"
      ],
      "metadata": {
        "colab": {
          "base_uri": "https://localhost:8080/"
        },
        "id": "4nyF6zRjkUnj",
        "outputId": "b365269e-51bb-4769-9522-5a1ced20a418"
      },
      "execution_count": 90,
      "outputs": [
        {
          "output_type": "stream",
          "name": "stdout",
          "text": [
            "+-------+----+\n",
            "|subject| avg|\n",
            "+-------+----+\n",
            "|Science|88.5|\n",
            "|   Math|91.0|\n",
            "+-------+----+\n",
            "\n"
          ]
        }
      ]
    },
    {
      "cell_type": "markdown",
      "source": [
        "another DataFrame attendance(name, days_present)"
      ],
      "metadata": {
        "id": "cD1IWFXblRb4"
      }
    },
    {
      "cell_type": "code",
      "source": [
        "attendance_data = [\n",
        "    (\"RAVI\", 18),\n",
        "    (\"ANANYA\", 22),\n",
        "    (\"KAVYA\", 20),\n",
        "    (\"NEHA\", 25),\n",
        "    (\"MEENA\", 19)\n",
        "]\n",
        "\n",
        "columns = [\"NAME\", \"days_present\"]\n",
        "df_attendance = spark.createDataFrame(attendance_data, columns)\n",
        "df_attendance.show()\n"
      ],
      "metadata": {
        "colab": {
          "base_uri": "https://localhost:8080/"
        },
        "id": "hGcw38DulQ_1",
        "outputId": "6953e496-eba4-409a-b7ea-3161710d6df0"
      },
      "execution_count": 91,
      "outputs": [
        {
          "output_type": "stream",
          "name": "stdout",
          "text": [
            "+------+------------+\n",
            "|  NAME|days_present|\n",
            "+------+------------+\n",
            "|  RAVI|          18|\n",
            "|ANANYA|          22|\n",
            "| KAVYA|          20|\n",
            "|  NEHA|          25|\n",
            "| MEENA|          19|\n",
            "+------+------------+\n",
            "\n"
          ]
        }
      ]
    },
    {
      "cell_type": "markdown",
      "source": [
        "Join with scores"
      ],
      "metadata": {
        "id": "P02bUcy_lyir"
      }
    },
    {
      "cell_type": "code",
      "source": [
        "joined = df_scores.join(df_attendance, on='NAME', how='left')\n",
        "joined.show()"
      ],
      "metadata": {
        "colab": {
          "base_uri": "https://localhost:8080/"
        },
        "id": "IhvLpXCUl10m",
        "outputId": "f4625cc1-619e-49bf-d87e-5ee1c3eab7a0"
      },
      "execution_count": 92,
      "outputs": [
        {
          "output_type": "stream",
          "name": "stdout",
          "text": [
            "+------+-------+-----+-----+----------------+------------+\n",
            "|  NAME|subject|score|Grade|Difficulty level|days_present|\n",
            "+------+-------+-----+-----+----------------+------------+\n",
            "|  RAVI|   Math|   88|    B|       Difficult|          18|\n",
            "|ANANYA|Science|   92|    A|       Difficult|          22|\n",
            "| KAVYA|English|   79|    C|            Easy|          20|\n",
            "|  NEHA|   Math|   94|    A|       Difficult|          25|\n",
            "| MEENA|Science|   85|    B|       Difficult|          19|\n",
            "|  RAVI|English|   67|    D|            Easy|          18|\n",
            "+------+-------+-----+-----+----------------+------------+\n",
            "\n"
          ]
        }
      ]
    },
    {
      "cell_type": "markdown",
      "source": [
        "Calculate attendance-adjusted grade:"
      ],
      "metadata": {
        "id": "UZ-p-UgjmGo8"
      }
    },
    {
      "cell_type": "code",
      "source": [
        "from pyspark.sql.functions import udf\n",
        "from pyspark.sql.types import StringType\n",
        "\n",
        "def downgrade_grade(grade, days):\n",
        "    if days < 20:\n",
        "        downgrade_map = {'A': 'B', 'B': 'C', 'C': 'D', 'D': 'D','D':'E'}\n",
        "        return downgrade_map.get(grade, grade)\n",
        "    else:\n",
        "        return grade\n",
        "\n",
        "adjusted_udf = udf(downgrade_grade, StringType())\n",
        "\n",
        "adjusted = joined.withColumn(\"Adjusted_Grade\", adjusted_udf(\"Grade\", \"days_present\"))\n",
        "adjusted.select(\"NAME\", \"subject\", \"score\", \"Grade\", \"days_present\", \"Adjusted_Grade\").show()\n"
      ],
      "metadata": {
        "colab": {
          "base_uri": "https://localhost:8080/"
        },
        "id": "XV09cGBbmLVL",
        "outputId": "614d830e-0b91-4b00-9bbd-971a32cdac87"
      },
      "execution_count": 94,
      "outputs": [
        {
          "output_type": "stream",
          "name": "stdout",
          "text": [
            "+------+-------+-----+-----+------------+--------------+\n",
            "|  NAME|subject|score|Grade|days_present|Adjusted_Grade|\n",
            "+------+-------+-----+-----+------------+--------------+\n",
            "|  RAVI|   Math|   88|    B|          18|             C|\n",
            "|ANANYA|Science|   92|    A|          22|             A|\n",
            "| KAVYA|English|   79|    C|          20|             C|\n",
            "|  NEHA|   Math|   94|    A|          25|             A|\n",
            "| MEENA|Science|   85|    B|          19|             C|\n",
            "|  RAVI|English|   67|    D|          18|             E|\n",
            "+------+-------+-----+-----+------------+--------------+\n",
            "\n"
          ]
        }
      ]
    },
    {
      "cell_type": "markdown",
      "source": [
        "Partitioned Load (Full + Incremental)"
      ],
      "metadata": {
        "id": "0tsiQLjdmneQ"
      }
    },
    {
      "cell_type": "markdown",
      "source": [
        "Initial Load:"
      ],
      "metadata": {
        "id": "d9DMTguKm12K"
      }
    },
    {
      "cell_type": "code",
      "source": [
        "df_scores.write.partitionBy(\"subject\").parquet(\"/tmp/scores/\")"
      ],
      "metadata": {
        "id": "K_PB39_XmrcD"
      },
      "execution_count": 95,
      "outputs": []
    },
    {
      "cell_type": "markdown",
      "source": [
        "Incremental Load:"
      ],
      "metadata": {
        "id": "1EV1DUaJm6lw"
      }
    },
    {
      "cell_type": "code",
      "source": [
        "incremental = [(\"Meena\", \"Math\", 93)]\n",
        "columns = [\"NAME\", \"subject\", \"score\"]\n",
        "df_inc = spark.createDataFrame(incremental, columns)\n",
        "df_inc.write.mode(\"append\").partitionBy(\"subject\").parquet(\"/tmp/scores/\")"
      ],
      "metadata": {
        "id": "aqM_CtvvnAer"
      },
      "execution_count": 97,
      "outputs": []
    },
    {
      "cell_type": "markdown",
      "source": [
        "List all folders inside /tmp/scores/"
      ],
      "metadata": {
        "id": "Qg1iaqLZnbeM"
      }
    },
    {
      "cell_type": "code",
      "source": [
        "!ls /tmp/scores"
      ],
      "metadata": {
        "colab": {
          "base_uri": "https://localhost:8080/"
        },
        "id": "_n3ROAwMndwv",
        "outputId": "94502b5d-9ef4-4375-b725-7e247f6d24e9"
      },
      "execution_count": 98,
      "outputs": [
        {
          "output_type": "stream",
          "name": "stdout",
          "text": [
            "'subject=English'  'subject=Math'  'subject=Science'   _SUCCESS\n"
          ]
        }
      ]
    },
    {
      "cell_type": "markdown",
      "source": [
        "Read only Math partition and display all entries."
      ],
      "metadata": {
        "id": "b3pMl9JxnkWJ"
      }
    },
    {
      "cell_type": "code",
      "source": [
        "df_math = spark.read.parquet(\"/tmp/scores/subject=Math/\")\n",
        "df_math.show()"
      ],
      "metadata": {
        "colab": {
          "base_uri": "https://localhost:8080/"
        },
        "id": "ZJHSb9GCnlVb",
        "outputId": "4a6a99fc-9e34-4659-9d20-80f0f60f23da"
      },
      "execution_count": 99,
      "outputs": [
        {
          "output_type": "stream",
          "name": "stdout",
          "text": [
            "+-----+-----+-----+----------------+\n",
            "| NAME|score|Grade|Difficulty level|\n",
            "+-----+-----+-----+----------------+\n",
            "| RAVI|   88|    B|       Difficult|\n",
            "| NEHA|   94|    A|       Difficult|\n",
            "|Meena|   93| NULL|            NULL|\n",
            "+-----+-----+-----+----------------+\n",
            "\n"
          ]
        }
      ]
    },
    {
      "cell_type": "code",
      "source": [
        "!zip -r /content/scores_partitioned.zip /tmp/scores/\n",
        "from google.colab import files\n",
        "files.download(\"/content/scores_partitioned.zip\")"
      ],
      "metadata": {
        "colab": {
          "base_uri": "https://localhost:8080/",
          "height": 384
        },
        "id": "djRY2vJDogc3",
        "outputId": "64160dfa-23b1-43cf-f5c7-6a78318a260f"
      },
      "execution_count": 100,
      "outputs": [
        {
          "output_type": "stream",
          "name": "stdout",
          "text": [
            "  adding: tmp/scores/ (stored 0%)\n",
            "  adding: tmp/scores/._SUCCESS.crc (stored 0%)\n",
            "  adding: tmp/scores/subject=Science/ (stored 0%)\n",
            "  adding: tmp/scores/subject=Science/part-00000-ec5f6920-3770-4dbb-8ac3-e3134249f839.c000.snappy.parquet (deflated 48%)\n",
            "  adding: tmp/scores/subject=Science/.part-00000-ec5f6920-3770-4dbb-8ac3-e3134249f839.c000.snappy.parquet.crc (stored 0%)\n",
            "  adding: tmp/scores/subject=Science/part-00001-ec5f6920-3770-4dbb-8ac3-e3134249f839.c000.snappy.parquet (deflated 48%)\n",
            "  adding: tmp/scores/subject=Science/.part-00001-ec5f6920-3770-4dbb-8ac3-e3134249f839.c000.snappy.parquet.crc (stored 0%)\n",
            "  adding: tmp/scores/subject=English/ (stored 0%)\n",
            "  adding: tmp/scores/subject=English/part-00000-ec5f6920-3770-4dbb-8ac3-e3134249f839.c000.snappy.parquet (deflated 47%)\n",
            "  adding: tmp/scores/subject=English/.part-00000-ec5f6920-3770-4dbb-8ac3-e3134249f839.c000.snappy.parquet.crc (stored 0%)\n",
            "  adding: tmp/scores/subject=English/part-00001-ec5f6920-3770-4dbb-8ac3-e3134249f839.c000.snappy.parquet (deflated 47%)\n",
            "  adding: tmp/scores/subject=English/.part-00001-ec5f6920-3770-4dbb-8ac3-e3134249f839.c000.snappy.parquet.crc (stored 0%)\n",
            "  adding: tmp/scores/_SUCCESS (stored 0%)\n",
            "  adding: tmp/scores/subject=Math/ (stored 0%)\n",
            "  adding: tmp/scores/subject=Math/part-00000-ec5f6920-3770-4dbb-8ac3-e3134249f839.c000.snappy.parquet (deflated 49%)\n",
            "  adding: tmp/scores/subject=Math/.part-00000-ec5f6920-3770-4dbb-8ac3-e3134249f839.c000.snappy.parquet.crc (stored 0%)\n",
            "  adding: tmp/scores/subject=Math/part-00001-1a30521c-87f9-44e5-a7c6-d20d14f5af16.c000.snappy.parquet (deflated 37%)\n",
            "  adding: tmp/scores/subject=Math/part-00001-ec5f6920-3770-4dbb-8ac3-e3134249f839.c000.snappy.parquet (deflated 49%)\n",
            "  adding: tmp/scores/subject=Math/.part-00001-ec5f6920-3770-4dbb-8ac3-e3134249f839.c000.snappy.parquet.crc (stored 0%)\n",
            "  adding: tmp/scores/subject=Math/.part-00001-1a30521c-87f9-44e5-a7c6-d20d14f5af16.c000.snappy.parquet.crc (stored 0%)\n"
          ]
        },
        {
          "output_type": "display_data",
          "data": {
            "text/plain": [
              "<IPython.core.display.Javascript object>"
            ],
            "application/javascript": [
              "\n",
              "    async function download(id, filename, size) {\n",
              "      if (!google.colab.kernel.accessAllowed) {\n",
              "        return;\n",
              "      }\n",
              "      const div = document.createElement('div');\n",
              "      const label = document.createElement('label');\n",
              "      label.textContent = `Downloading \"${filename}\": `;\n",
              "      div.appendChild(label);\n",
              "      const progress = document.createElement('progress');\n",
              "      progress.max = size;\n",
              "      div.appendChild(progress);\n",
              "      document.body.appendChild(div);\n",
              "\n",
              "      const buffers = [];\n",
              "      let downloaded = 0;\n",
              "\n",
              "      const channel = await google.colab.kernel.comms.open(id);\n",
              "      // Send a message to notify the kernel that we're ready.\n",
              "      channel.send({})\n",
              "\n",
              "      for await (const message of channel.messages) {\n",
              "        // Send a message to notify the kernel that we're ready.\n",
              "        channel.send({})\n",
              "        if (message.buffers) {\n",
              "          for (const buffer of message.buffers) {\n",
              "            buffers.push(buffer);\n",
              "            downloaded += buffer.byteLength;\n",
              "            progress.value = downloaded;\n",
              "          }\n",
              "        }\n",
              "      }\n",
              "      const blob = new Blob(buffers, {type: 'application/binary'});\n",
              "      const a = document.createElement('a');\n",
              "      a.href = window.URL.createObjectURL(blob);\n",
              "      a.download = filename;\n",
              "      div.appendChild(a);\n",
              "      a.click();\n",
              "      div.remove();\n",
              "    }\n",
              "  "
            ]
          },
          "metadata": {}
        },
        {
          "output_type": "display_data",
          "data": {
            "text/plain": [
              "<IPython.core.display.Javascript object>"
            ],
            "application/javascript": [
              "download(\"download_c15a4677-f1be-4598-82d0-3685553d8bee\", \"scores_partitioned.zip\", 9923)"
            ]
          },
          "metadata": {}
        }
      ]
    },
    {
      "cell_type": "markdown",
      "source": [
        "ETL: Clean, Transform, Load"
      ],
      "metadata": {
        "id": "Zn6a68dUpBma"
      }
    },
    {
      "cell_type": "markdown",
      "source": [
        "Raw CSV:"
      ],
      "metadata": {
        "id": "gJsLF7ycpESN"
      }
    },
    {
      "cell_type": "code",
      "source": [
        "csv_data = \"\"\"emp_id,name,dept,salary,bonus\n",
        "1,Arjun,IT,78000,5000\n",
        "2,Kavya,HR,62000,\n",
        "3,Sneha,Finance,55000,3000\"\"\"\n",
        "\n",
        "with open(\"/content/employeesp6.csv\", \"w\") as f:\n",
        "    f.write(csv_data)"
      ],
      "metadata": {
        "id": "NKiPxR-rpJhp"
      },
      "execution_count": 101,
      "outputs": []
    },
    {
      "cell_type": "markdown",
      "source": [
        "Load data with header."
      ],
      "metadata": {
        "id": "anr3nIi2pVXW"
      }
    },
    {
      "cell_type": "code",
      "source": [
        "df_csvp6 = spark.read.option('header','true').option('inferschema','true').csv('employeesp6.csv')\n",
        "df_csvp6.show()"
      ],
      "metadata": {
        "colab": {
          "base_uri": "https://localhost:8080/"
        },
        "id": "FQVFxaBUpX1J",
        "outputId": "a13d8319-f373-4b9b-b854-68d1d015ec7e"
      },
      "execution_count": 102,
      "outputs": [
        {
          "output_type": "stream",
          "name": "stdout",
          "text": [
            "+------+-----+-------+------+-----+\n",
            "|emp_id| name|   dept|salary|bonus|\n",
            "+------+-----+-------+------+-----+\n",
            "|     1|Arjun|     IT| 78000| 5000|\n",
            "|     2|Kavya|     HR| 62000| NULL|\n",
            "|     3|Sneha|Finance| 55000| 3000|\n",
            "+------+-----+-------+------+-----+\n",
            "\n"
          ]
        }
      ]
    },
    {
      "cell_type": "markdown",
      "source": [
        "Fill missing bonus with 2000."
      ],
      "metadata": {
        "id": "N5BcjNehprhT"
      }
    },
    {
      "cell_type": "code",
      "source": [
        "df_csvp6 = df_csvp6.fillna({'bonus':2000})\n",
        "df_csvp6.show()"
      ],
      "metadata": {
        "colab": {
          "base_uri": "https://localhost:8080/"
        },
        "id": "D29MybYDpuIz",
        "outputId": "4d29d677-01cf-4dea-e970-0349c5d4dabc"
      },
      "execution_count": 103,
      "outputs": [
        {
          "output_type": "stream",
          "name": "stdout",
          "text": [
            "+------+-----+-------+------+-----+\n",
            "|emp_id| name|   dept|salary|bonus|\n",
            "+------+-----+-------+------+-----+\n",
            "|     1|Arjun|     IT| 78000| 5000|\n",
            "|     2|Kavya|     HR| 62000| 2000|\n",
            "|     3|Sneha|Finance| 55000| 3000|\n",
            "+------+-----+-------+------+-----+\n",
            "\n"
          ]
        }
      ]
    },
    {
      "cell_type": "markdown",
      "source": [
        "Calculate total_ctc = salary + bonus"
      ],
      "metadata": {
        "id": "KHI-AFMup33D"
      }
    },
    {
      "cell_type": "code",
      "source": [
        "from pyspark.sql.functions import expr\n",
        "df_csvp6 = df_csvp6.withColumn('total_ctc',expr('salary+bonus'))\n",
        "df_csvp6.show()"
      ],
      "metadata": {
        "colab": {
          "base_uri": "https://localhost:8080/"
        },
        "id": "Z_Knflxjp6MX",
        "outputId": "a0c3c4ec-48b2-499f-c8b9-70e0b9fedd3c"
      },
      "execution_count": 106,
      "outputs": [
        {
          "output_type": "stream",
          "name": "stdout",
          "text": [
            "+------+-----+-------+------+-----+---------+\n",
            "|emp_id| name|   dept|salary|bonus|total_ctc|\n",
            "+------+-----+-------+------+-----+---------+\n",
            "|     1|Arjun|     IT| 78000| 5000|    83000|\n",
            "|     2|Kavya|     HR| 62000| 2000|    64000|\n",
            "|     3|Sneha|Finance| 55000| 3000|    58000|\n",
            "+------+-----+-------+------+-----+---------+\n",
            "\n"
          ]
        }
      ]
    },
    {
      "cell_type": "markdown",
      "source": [
        "Filter where total_ctc > 60,000."
      ],
      "metadata": {
        "id": "9kyHdEnSqYUG"
      }
    },
    {
      "cell_type": "code",
      "source": [
        "filter = df_csvp6.filter(col('total_ctc')>60000)\n",
        "filter.show()"
      ],
      "metadata": {
        "colab": {
          "base_uri": "https://localhost:8080/"
        },
        "id": "jApgdiIhqZKL",
        "outputId": "20899a8b-c167-4f2c-cb7c-626fb881e961"
      },
      "execution_count": 107,
      "outputs": [
        {
          "output_type": "stream",
          "name": "stdout",
          "text": [
            "+------+-----+----+------+-----+---------+\n",
            "|emp_id| name|dept|salary|bonus|total_ctc|\n",
            "+------+-----+----+------+-----+---------+\n",
            "|     1|Arjun|  IT| 78000| 5000|    83000|\n",
            "|     2|Kavya|  HR| 62000| 2000|    64000|\n",
            "+------+-----+----+------+-----+---------+\n",
            "\n"
          ]
        }
      ]
    },
    {
      "cell_type": "markdown",
      "source": [
        "Save final DataFrame to Parquet and JSON."
      ],
      "metadata": {
        "id": "6KvS3Zx6qmH8"
      }
    },
    {
      "cell_type": "code",
      "source": [
        "filter.write.mode(\"overwrite\").parquet(\"/tmp/final_employees_parquet/\")\n",
        "filter.write.mode(\"overwrite\").json(\"/tmp/final_employees_json/\")\n"
      ],
      "metadata": {
        "id": "ozQusMYeqrh1"
      },
      "execution_count": 108,
      "outputs": []
    },
    {
      "cell_type": "code",
      "source": [
        "!zip -r /content/final_employees_parquet.zip /tmp/final_employees_parquet/\n",
        "!zip -r /content/final_employees_json.zip /tmp/final_employees_json/\n",
        "\n",
        "from google.colab import files\n",
        "files.download(\"/content/final_employees_parquet.zip\")\n",
        "files.download(\"/content/final_employees_json.zip\")"
      ],
      "metadata": {
        "colab": {
          "base_uri": "https://localhost:8080/",
          "height": 211
        },
        "id": "qC2hY4NJq94j",
        "outputId": "26e2924f-3542-42ab-cc45-538f31d9d0b9"
      },
      "execution_count": 109,
      "outputs": [
        {
          "output_type": "stream",
          "name": "stdout",
          "text": [
            "  adding: tmp/final_employees_parquet/ (stored 0%)\n",
            "  adding: tmp/final_employees_parquet/._SUCCESS.crc (stored 0%)\n",
            "  adding: tmp/final_employees_parquet/_SUCCESS (stored 0%)\n",
            "  adding: tmp/final_employees_parquet/part-00000-52808c50-fdac-4047-a5f8-3ddda0df661b-c000.snappy.parquet (deflated 51%)\n",
            "  adding: tmp/final_employees_parquet/.part-00000-52808c50-fdac-4047-a5f8-3ddda0df661b-c000.snappy.parquet.crc (stored 0%)\n",
            "  adding: tmp/final_employees_json/ (stored 0%)\n",
            "  adding: tmp/final_employees_json/._SUCCESS.crc (stored 0%)\n",
            "  adding: tmp/final_employees_json/.part-00000-47695477-2d9c-4dc1-8046-29c9cee78be7-c000.json.crc (stored 0%)\n",
            "  adding: tmp/final_employees_json/part-00000-47695477-2d9c-4dc1-8046-29c9cee78be7-c000.json (deflated 36%)\n",
            "  adding: tmp/final_employees_json/_SUCCESS (stored 0%)\n"
          ]
        },
        {
          "output_type": "display_data",
          "data": {
            "text/plain": [
              "<IPython.core.display.Javascript object>"
            ],
            "application/javascript": [
              "\n",
              "    async function download(id, filename, size) {\n",
              "      if (!google.colab.kernel.accessAllowed) {\n",
              "        return;\n",
              "      }\n",
              "      const div = document.createElement('div');\n",
              "      const label = document.createElement('label');\n",
              "      label.textContent = `Downloading \"${filename}\": `;\n",
              "      div.appendChild(label);\n",
              "      const progress = document.createElement('progress');\n",
              "      progress.max = size;\n",
              "      div.appendChild(progress);\n",
              "      document.body.appendChild(div);\n",
              "\n",
              "      const buffers = [];\n",
              "      let downloaded = 0;\n",
              "\n",
              "      const channel = await google.colab.kernel.comms.open(id);\n",
              "      // Send a message to notify the kernel that we're ready.\n",
              "      channel.send({})\n",
              "\n",
              "      for await (const message of channel.messages) {\n",
              "        // Send a message to notify the kernel that we're ready.\n",
              "        channel.send({})\n",
              "        if (message.buffers) {\n",
              "          for (const buffer of message.buffers) {\n",
              "            buffers.push(buffer);\n",
              "            downloaded += buffer.byteLength;\n",
              "            progress.value = downloaded;\n",
              "          }\n",
              "        }\n",
              "      }\n",
              "      const blob = new Blob(buffers, {type: 'application/binary'});\n",
              "      const a = document.createElement('a');\n",
              "      a.href = window.URL.createObjectURL(blob);\n",
              "      a.download = filename;\n",
              "      div.appendChild(a);\n",
              "      a.click();\n",
              "      div.remove();\n",
              "    }\n",
              "  "
            ]
          },
          "metadata": {}
        },
        {
          "output_type": "display_data",
          "data": {
            "text/plain": [
              "<IPython.core.display.Javascript object>"
            ],
            "application/javascript": [
              "download(\"download_3c2fa789-6a60-4d68-9e19-cdf1e5ad9640\", \"final_employees_parquet.zip\", 2085)"
            ]
          },
          "metadata": {}
        },
        {
          "output_type": "display_data",
          "data": {
            "text/plain": [
              "<IPython.core.display.Javascript object>"
            ],
            "application/javascript": [
              "\n",
              "    async function download(id, filename, size) {\n",
              "      if (!google.colab.kernel.accessAllowed) {\n",
              "        return;\n",
              "      }\n",
              "      const div = document.createElement('div');\n",
              "      const label = document.createElement('label');\n",
              "      label.textContent = `Downloading \"${filename}\": `;\n",
              "      div.appendChild(label);\n",
              "      const progress = document.createElement('progress');\n",
              "      progress.max = size;\n",
              "      div.appendChild(progress);\n",
              "      document.body.appendChild(div);\n",
              "\n",
              "      const buffers = [];\n",
              "      let downloaded = 0;\n",
              "\n",
              "      const channel = await google.colab.kernel.comms.open(id);\n",
              "      // Send a message to notify the kernel that we're ready.\n",
              "      channel.send({})\n",
              "\n",
              "      for await (const message of channel.messages) {\n",
              "        // Send a message to notify the kernel that we're ready.\n",
              "        channel.send({})\n",
              "        if (message.buffers) {\n",
              "          for (const buffer of message.buffers) {\n",
              "            buffers.push(buffer);\n",
              "            downloaded += buffer.byteLength;\n",
              "            progress.value = downloaded;\n",
              "          }\n",
              "        }\n",
              "      }\n",
              "      const blob = new Blob(buffers, {type: 'application/binary'});\n",
              "      const a = document.createElement('a');\n",
              "      a.href = window.URL.createObjectURL(blob);\n",
              "      a.download = filename;\n",
              "      div.appendChild(a);\n",
              "      a.click();\n",
              "      div.remove();\n",
              "    }\n",
              "  "
            ]
          },
          "metadata": {}
        },
        {
          "output_type": "display_data",
          "data": {
            "text/plain": [
              "<IPython.core.display.Javascript object>"
            ],
            "application/javascript": [
              "download(\"download_83b8856d-ca27-4464-bc20-9d5e00a2b25a\", \"final_employees_json.zip\", 1322)"
            ]
          },
          "metadata": {}
        }
      ]
    }
  ]
}