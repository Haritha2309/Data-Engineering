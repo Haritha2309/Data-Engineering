{
  "nbformat": 4,
  "nbformat_minor": 0,
  "metadata": {
    "colab": {
      "provenance": []
    },
    "kernelspec": {
      "name": "python3",
      "display_name": "Python 3"
    },
    "language_info": {
      "name": "python"
    }
  },
  "cells": [
    {
      "cell_type": "code",
      "execution_count": 1,
      "metadata": {
        "id": "5-eIrRhaPB5Z"
      },
      "outputs": [],
      "source": [
        "import pandas as pd\n"
      ]
    },
    {
      "cell_type": "code",
      "source": [
        "stock_data = {\n",
        "    \"movement_id\": [\"M001\", \"M002\", \"M003\", \"M004\", \"M005\", \"M006\", \"M007\", \"M008\", \"M009\", \"M010\",\n",
        "                    \"M011\", \"M012\", \"M013\", \"M014\", \"M015\"],\n",
        "    \"product_id\": [\"P001\", \"P001\", \"P002\", \"P002\", \"P003\", \"P001\", \"P003\", \"P003\", \"P004\", \"P005\",\n",
        "                   \"P005\", \"P006\", \"P006\", \"P007\", \"P007\"],\n",
        "    \"warehouse_id\": [\"W01\", \"W01\", \"W01\", \"W01\", \"W01\", \"W02\", \"W02\", \"W02\", \"W02\", \"W03\",\n",
        "                     \"W03\", \"W03\", \"W03\", \"W01\", \"W01\"],\n",
        "    \"supplier_id\": [\"SUP01\", \"SUP01\", \"SUP02\", \"SUP02\", \"SUP03\", \"SUP01\", \"SUP03\", \"SUP03\", \"SUP04\", \"SUP05\",\n",
        "                    \"SUP05\", \"SUP06\", \"SUP06\", \"SUP07\", \"SUP07\"],\n",
        "    \"movement_type\": [\"IN\", \"OUT\", \"IN\", \"OUT\", \"IN\", \"IN\", \"IN\", \"OUT\", \"IN\", \"IN\",\n",
        "                      \"OUT\", \"IN\", \"OUT\", \"IN\", \"OUT\"],\n",
        "    \"quantity\": [50, -10, 120, -30, 5, 40, 100, -20, 8, 200,-50, 7, -2, 15, -5],\n",
        "    \"movement_date\": [\"2025-07-01\", \"2025-07-03\", \"2025-07-02\", \"2025-07-05\", \"2025-07-06\",\n",
        "                      \"2025-07-02\", \"2025-07-01\", \"2025-07-03\", \"2025-07-04\", \"2025-07-01\",\n",
        "                      \"2025-07-05\", \"2025-07-01\", \"2025-07-06\", \"2025-07-01\", \"2025-07-03\"]\n",
        "}\n",
        "\n",
        "pd.DataFrame(stock_data).to_csv('stock_movements.csv',index=False)"
      ],
      "metadata": {
        "id": "A8Rv3BzJSifJ"
      },
      "execution_count": 2,
      "outputs": []
    },
    {
      "cell_type": "markdown",
      "source": [
        "Load large stock movement data using PySpark"
      ],
      "metadata": {
        "id": "Gjc6ub59TiS7"
      }
    },
    {
      "cell_type": "code",
      "source": [
        "from pyspark.sql import SparkSession"
      ],
      "metadata": {
        "id": "BViAUcegSz3r"
      },
      "execution_count": 3,
      "outputs": []
    },
    {
      "cell_type": "code",
      "source": [
        "spark = SparkSession.builder.appName('stock_movements').getOrCreate()"
      ],
      "metadata": {
        "id": "QfEIkrjYS3xm"
      },
      "execution_count": 4,
      "outputs": []
    },
    {
      "cell_type": "code",
      "source": [
        "dff = pd.read_csv('stock_movements.csv')"
      ],
      "metadata": {
        "id": "0EZy3btzTBz3"
      },
      "execution_count": 8,
      "outputs": []
    },
    {
      "cell_type": "code",
      "source": [
        "print(dff)"
      ],
      "metadata": {
        "colab": {
          "base_uri": "https://localhost:8080/"
        },
        "id": "G1RHj6irTKNX",
        "outputId": "ed42f6d1-0e1d-4139-b78b-7ede2bcbb586"
      },
      "execution_count": 9,
      "outputs": [
        {
          "output_type": "stream",
          "name": "stdout",
          "text": [
            "   movement_id product_id warehouse_id supplier_id movement_type  quantity  \\\n",
            "0         M001       P001          W01       SUP01            IN        50   \n",
            "1         M002       P001          W01       SUP01           OUT       -10   \n",
            "2         M003       P002          W01       SUP02            IN       120   \n",
            "3         M004       P002          W01       SUP02           OUT       -30   \n",
            "4         M005       P003          W01       SUP03            IN         5   \n",
            "5         M006       P001          W02       SUP01            IN        40   \n",
            "6         M007       P003          W02       SUP03            IN       100   \n",
            "7         M008       P003          W02       SUP03           OUT       -20   \n",
            "8         M009       P004          W02       SUP04            IN         8   \n",
            "9         M010       P005          W03       SUP05            IN       200   \n",
            "10        M011       P005          W03       SUP05           OUT       -50   \n",
            "11        M012       P006          W03       SUP06            IN         7   \n",
            "12        M013       P006          W03       SUP06           OUT        -2   \n",
            "13        M014       P007          W01       SUP07            IN        15   \n",
            "14        M015       P007          W01       SUP07           OUT        -5   \n",
            "\n",
            "   movement_date  \n",
            "0     2025-07-01  \n",
            "1     2025-07-03  \n",
            "2     2025-07-02  \n",
            "3     2025-07-05  \n",
            "4     2025-07-06  \n",
            "5     2025-07-02  \n",
            "6     2025-07-01  \n",
            "7     2025-07-03  \n",
            "8     2025-07-04  \n",
            "9     2025-07-01  \n",
            "10    2025-07-05  \n",
            "11    2025-07-01  \n",
            "12    2025-07-06  \n",
            "13    2025-07-01  \n",
            "14    2025-07-03  \n"
          ]
        }
      ]
    },
    {
      "cell_type": "code",
      "source": [
        "df = spark.createDataFrame(dff)\n",
        "df.show()"
      ],
      "metadata": {
        "colab": {
          "base_uri": "https://localhost:8080/"
        },
        "id": "ANPS86jeTP9N",
        "outputId": "6cc99966-2020-4d00-b108-1d14d85ce0d7"
      },
      "execution_count": 10,
      "outputs": [
        {
          "output_type": "stream",
          "name": "stdout",
          "text": [
            "+-----------+----------+------------+-----------+-------------+--------+-------------+\n",
            "|movement_id|product_id|warehouse_id|supplier_id|movement_type|quantity|movement_date|\n",
            "+-----------+----------+------------+-----------+-------------+--------+-------------+\n",
            "|       M001|      P001|         W01|      SUP01|           IN|      50|   2025-07-01|\n",
            "|       M002|      P001|         W01|      SUP01|          OUT|     -10|   2025-07-03|\n",
            "|       M003|      P002|         W01|      SUP02|           IN|     120|   2025-07-02|\n",
            "|       M004|      P002|         W01|      SUP02|          OUT|     -30|   2025-07-05|\n",
            "|       M005|      P003|         W01|      SUP03|           IN|       5|   2025-07-06|\n",
            "|       M006|      P001|         W02|      SUP01|           IN|      40|   2025-07-02|\n",
            "|       M007|      P003|         W02|      SUP03|           IN|     100|   2025-07-01|\n",
            "|       M008|      P003|         W02|      SUP03|          OUT|     -20|   2025-07-03|\n",
            "|       M009|      P004|         W02|      SUP04|           IN|       8|   2025-07-04|\n",
            "|       M010|      P005|         W03|      SUP05|           IN|     200|   2025-07-01|\n",
            "|       M011|      P005|         W03|      SUP05|          OUT|     -50|   2025-07-05|\n",
            "|       M012|      P006|         W03|      SUP06|           IN|       7|   2025-07-01|\n",
            "|       M013|      P006|         W03|      SUP06|          OUT|      -2|   2025-07-06|\n",
            "|       M014|      P007|         W01|      SUP07|           IN|      15|   2025-07-01|\n",
            "|       M015|      P007|         W01|      SUP07|          OUT|      -5|   2025-07-03|\n",
            "+-----------+----------+------------+-----------+-------------+--------+-------------+\n",
            "\n"
          ]
        }
      ]
    },
    {
      "cell_type": "markdown",
      "source": [
        "Aggregate total stock per warehouse"
      ],
      "metadata": {
        "id": "HkJH1KtmTkI9"
      }
    },
    {
      "cell_type": "code",
      "source": [
        "from pyspark.sql.functions import sum\n",
        "grouped = df.groupBy('warehouse_id','product_id').agg(sum('quantity').alias('total_quantity'))\n",
        "grouped.show()"
      ],
      "metadata": {
        "colab": {
          "base_uri": "https://localhost:8080/"
        },
        "id": "T5UwnL4hTmk5",
        "outputId": "729e5bd2-7ba5-4f1c-f375-b39c9f30767a"
      },
      "execution_count": 13,
      "outputs": [
        {
          "output_type": "stream",
          "name": "stdout",
          "text": [
            "+------------+----------+--------------+\n",
            "|warehouse_id|product_id|total_quantity|\n",
            "+------------+----------+--------------+\n",
            "|         W01|      P001|            40|\n",
            "|         W02|      P001|            40|\n",
            "|         W02|      P003|            80|\n",
            "|         W01|      P002|            90|\n",
            "|         W01|      P003|             5|\n",
            "|         W01|      P007|            10|\n",
            "|         W02|      P004|             8|\n",
            "|         W03|      P006|             5|\n",
            "|         W03|      P005|           150|\n",
            "+------------+----------+--------------+\n",
            "\n"
          ]
        }
      ]
    },
    {
      "cell_type": "markdown",
      "source": [
        "Identify warehouses with overstocked or understocked items"
      ],
      "metadata": {
        "id": "yP79MokPUzVW"
      }
    },
    {
      "cell_type": "code",
      "source": [
        "from pyspark.sql.functions import when\n",
        "status = grouped.withColumn('status',when(grouped['total_quantity']<10,'UNDERSTOCK')\n",
        "                                      .when(grouped['total_quantity']>100,'OVERSTOCKED')\n",
        "                                      .otherwise('NORMAL'))\n",
        "status.show()"
      ],
      "metadata": {
        "colab": {
          "base_uri": "https://localhost:8080/"
        },
        "id": "h9AuBg9wU0RT",
        "outputId": "5e1f2760-afd9-46f5-9191-6a9deaaeb191"
      },
      "execution_count": 14,
      "outputs": [
        {
          "output_type": "stream",
          "name": "stdout",
          "text": [
            "+------------+----------+--------------+-----------+\n",
            "|warehouse_id|product_id|total_quantity|     status|\n",
            "+------------+----------+--------------+-----------+\n",
            "|         W01|      P001|            40|     NORMAL|\n",
            "|         W02|      P001|            40|     NORMAL|\n",
            "|         W02|      P003|            80|     NORMAL|\n",
            "|         W01|      P002|            90|     NORMAL|\n",
            "|         W01|      P003|             5| UNDERSTOCK|\n",
            "|         W01|      P007|            10|     NORMAL|\n",
            "|         W02|      P004|             8| UNDERSTOCK|\n",
            "|         W03|      P006|             5| UNDERSTOCK|\n",
            "|         W03|      P005|           150|OVERSTOCKED|\n",
            "+------------+----------+--------------+-----------+\n",
            "\n"
          ]
        }
      ]
    },
    {
      "cell_type": "markdown",
      "source": [
        "Output file with warehouse-level stock status"
      ],
      "metadata": {
        "id": "mAAUqWQsVflz"
      }
    },
    {
      "cell_type": "code",
      "source": [
        "status.coalesce(1).write.mode('overwrite').option('header','true').csv('warehouse_stock_status')"
      ],
      "metadata": {
        "id": "d2_SnkDUVgRJ"
      },
      "execution_count": 15,
      "outputs": []
    },
    {
      "cell_type": "code",
      "source": [
        "import glob,shutil\n",
        "\n",
        "file = glob.glob('warehouse_stock_status/part-*.csv')[0]\n",
        "shutil.copy(file,'warehouse_stock_status.csv')"
      ],
      "metadata": {
        "colab": {
          "base_uri": "https://localhost:8080/",
          "height": 36
        },
        "id": "bDmpQ_BKVxrp",
        "outputId": "cc18082e-39c8-4675-b71e-dfcd0bc37982"
      },
      "execution_count": 16,
      "outputs": [
        {
          "output_type": "execute_result",
          "data": {
            "text/plain": [
              "'warehouse_stock_status.csv'"
            ],
            "application/vnd.google.colaboratory.intrinsic+json": {
              "type": "string"
            }
          },
          "metadata": {},
          "execution_count": 16
        }
      ]
    },
    {
      "cell_type": "code",
      "source": [
        "from google.colab import files\n",
        "files.download('warehouse_stock_status.csv')"
      ],
      "metadata": {
        "colab": {
          "base_uri": "https://localhost:8080/",
          "height": 17
        },
        "id": "pFzp5V6rWLvr",
        "outputId": "73e42401-bd70-47b1-8e4c-c40362592a0f"
      },
      "execution_count": 17,
      "outputs": [
        {
          "output_type": "display_data",
          "data": {
            "text/plain": [
              "<IPython.core.display.Javascript object>"
            ],
            "application/javascript": [
              "\n",
              "    async function download(id, filename, size) {\n",
              "      if (!google.colab.kernel.accessAllowed) {\n",
              "        return;\n",
              "      }\n",
              "      const div = document.createElement('div');\n",
              "      const label = document.createElement('label');\n",
              "      label.textContent = `Downloading \"${filename}\": `;\n",
              "      div.appendChild(label);\n",
              "      const progress = document.createElement('progress');\n",
              "      progress.max = size;\n",
              "      div.appendChild(progress);\n",
              "      document.body.appendChild(div);\n",
              "\n",
              "      const buffers = [];\n",
              "      let downloaded = 0;\n",
              "\n",
              "      const channel = await google.colab.kernel.comms.open(id);\n",
              "      // Send a message to notify the kernel that we're ready.\n",
              "      channel.send({})\n",
              "\n",
              "      for await (const message of channel.messages) {\n",
              "        // Send a message to notify the kernel that we're ready.\n",
              "        channel.send({})\n",
              "        if (message.buffers) {\n",
              "          for (const buffer of message.buffers) {\n",
              "            buffers.push(buffer);\n",
              "            downloaded += buffer.byteLength;\n",
              "            progress.value = downloaded;\n",
              "          }\n",
              "        }\n",
              "      }\n",
              "      const blob = new Blob(buffers, {type: 'application/binary'});\n",
              "      const a = document.createElement('a');\n",
              "      a.href = window.URL.createObjectURL(blob);\n",
              "      a.download = filename;\n",
              "      div.appendChild(a);\n",
              "      a.click();\n",
              "      div.remove();\n",
              "    }\n",
              "  "
            ]
          },
          "metadata": {}
        },
        {
          "output_type": "display_data",
          "data": {
            "text/plain": [
              "<IPython.core.display.Javascript object>"
            ],
            "application/javascript": [
              "download(\"download_7414819d-5706-4c03-a4eb-aa98bafd4acf\", \"warehouse_stock_status.csv\", 232)"
            ]
          },
          "metadata": {}
        }
      ]
    },
    {
      "cell_type": "code",
      "source": [
        "files.download('stock_movements.csv')"
      ],
      "metadata": {
        "colab": {
          "base_uri": "https://localhost:8080/",
          "height": 17
        },
        "id": "cw38Sra8WUpX",
        "outputId": "ab0158fd-f241-4f83-a1b4-d4a08f1274c0"
      },
      "execution_count": 18,
      "outputs": [
        {
          "output_type": "display_data",
          "data": {
            "text/plain": [
              "<IPython.core.display.Javascript object>"
            ],
            "application/javascript": [
              "\n",
              "    async function download(id, filename, size) {\n",
              "      if (!google.colab.kernel.accessAllowed) {\n",
              "        return;\n",
              "      }\n",
              "      const div = document.createElement('div');\n",
              "      const label = document.createElement('label');\n",
              "      label.textContent = `Downloading \"${filename}\": `;\n",
              "      div.appendChild(label);\n",
              "      const progress = document.createElement('progress');\n",
              "      progress.max = size;\n",
              "      div.appendChild(progress);\n",
              "      document.body.appendChild(div);\n",
              "\n",
              "      const buffers = [];\n",
              "      let downloaded = 0;\n",
              "\n",
              "      const channel = await google.colab.kernel.comms.open(id);\n",
              "      // Send a message to notify the kernel that we're ready.\n",
              "      channel.send({})\n",
              "\n",
              "      for await (const message of channel.messages) {\n",
              "        // Send a message to notify the kernel that we're ready.\n",
              "        channel.send({})\n",
              "        if (message.buffers) {\n",
              "          for (const buffer of message.buffers) {\n",
              "            buffers.push(buffer);\n",
              "            downloaded += buffer.byteLength;\n",
              "            progress.value = downloaded;\n",
              "          }\n",
              "        }\n",
              "      }\n",
              "      const blob = new Blob(buffers, {type: 'application/binary'});\n",
              "      const a = document.createElement('a');\n",
              "      a.href = window.URL.createObjectURL(blob);\n",
              "      a.download = filename;\n",
              "      div.appendChild(a);\n",
              "      a.click();\n",
              "      div.remove();\n",
              "    }\n",
              "  "
            ]
          },
          "metadata": {}
        },
        {
          "output_type": "display_data",
          "data": {
            "text/plain": [
              "<IPython.core.display.Javascript object>"
            ],
            "application/javascript": [
              "download(\"download_1b6096ab-9cf9-48ab-80cb-4a8f463fa4d8\", \"stock_movements.csv\", 650)"
            ]
          },
          "metadata": {}
        }
      ]
    }
  ]
}