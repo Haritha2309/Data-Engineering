{
  "nbformat": 4,
  "nbformat_minor": 0,
  "metadata": {
    "colab": {
      "provenance": []
    },
    "kernelspec": {
      "name": "python3",
      "display_name": "Python 3"
    },
    "language_info": {
      "name": "python"
    }
  },
  "cells": [
    {
      "cell_type": "code",
      "execution_count": 1,
      "metadata": {
        "colab": {
          "base_uri": "https://localhost:8080/"
        },
        "id": "52kxuywfFCGK",
        "outputId": "d3ac8fa0-3e5d-4ac9-cb1e-3b98f6a68831"
      },
      "outputs": [
        {
          "output_type": "stream",
          "name": "stdout",
          "text": [
            "Spark and Delta Lake are ready!\n"
          ]
        }
      ],
      "source": [
        "!pip install delta-spark==3.2.0 -q\n",
        "import pyspark\n",
        "from delta import *\n",
        "from pyspark.sql.functions import *\n",
        "\n",
        "# Create a SparkSession with Delta Lake extensions\n",
        "# The '.config(...)' lines are crucial for enabling Delta Lake's features\n",
        "builder = pyspark.sql.SparkSession.builder.appName(\"DeltaTutorial\") \\\n",
        "    .config(\"spark.sql.extensions\", \"io.delta.sql.DeltaSparkSessionExtension\") \\\n",
        "    .config(\"spark.sql.catalog.spark_catalog\", \"org.apache.spark.sql.delta.catalog.DeltaCatalog\")\n",
        "\n",
        "# Get or create the SparkSession\n",
        "spark = configure_spark_with_delta_pip(builder).getOrCreate()\n",
        "\n",
        "print(\"Spark and Delta Lake are ready!\")"
      ]
    },
    {
      "cell_type": "code",
      "source": [
        "from google.colab import drive\n",
        "drive.mount('/content/drive')\n",
        "\n",
        "# CLEANED DATA\n",
        "file_path = \"/content/drive/MyDrive/data engineering/Week 4/stock_movements.csv\"\n",
        "\n",
        "df = spark.read.option(\"header\", \"true\").option(\"inferSchema\", \"true\").csv(file_path)\n",
        "\n",
        "df.show()\n",
        "\n",
        "# PRODUCTS DATA\n",
        "file_path_p = \"/content/drive/MyDrive/data engineering/Week 4/products.csv\"\n",
        "\n",
        "df_p = spark.read.option(\"header\", \"true\").option(\"inferSchema\", \"true\").csv(file_path_p)\n",
        "\n",
        "df_p.show()\n",
        "\n",
        "# WAREHOUSE DATA\n",
        "file_path_w = \"/content/drive/MyDrive/data engineering/Week 4/warehouse.csv\"\n",
        "\n",
        "df_w = spark.read.option(\"header\", \"true\").option(\"inferSchema\", \"true\").csv(file_path_w)\n",
        "\n",
        "df_w.show()"
      ],
      "metadata": {
        "colab": {
          "base_uri": "https://localhost:8080/"
        },
        "id": "FnRuSQUlIJrH",
        "outputId": "a6e95688-1df4-4d51-bf35-353154abdf41"
      },
      "execution_count": 9,
      "outputs": [
        {
          "output_type": "stream",
          "name": "stdout",
          "text": [
            "Drive already mounted at /content/drive; to attempt to forcibly remount, call drive.mount(\"/content/drive\", force_remount=True).\n",
            "+-----------+----------+------------+-----------+-------------+--------+-------------+\n",
            "|movement_id|product_id|warehouse_id|supplier_id|movement_type|quantity|movement_date|\n",
            "+-----------+----------+------------+-----------+-------------+--------+-------------+\n",
            "|       M001|      P001|         W01|      SUP01|           IN|      50|   2025-07-01|\n",
            "|       M002|      P001|         W01|      SUP01|          OUT|     -10|   2025-07-03|\n",
            "|       M003|      P002|         W01|      SUP02|           IN|     120|   2025-07-02|\n",
            "|       M004|      P002|         W01|      SUP02|          OUT|     -30|   2025-07-05|\n",
            "|       M005|      P003|         W01|      SUP03|           IN|       5|   2025-07-06|\n",
            "|       M006|      P001|         W02|      SUP01|           IN|      40|   2025-07-02|\n",
            "|       M007|      P003|         W02|      SUP03|           IN|     100|   2025-07-01|\n",
            "|       M008|      P003|         W02|      SUP03|          OUT|     -20|   2025-07-03|\n",
            "|       M009|      P004|         W02|      SUP04|           IN|       8|   2025-07-04|\n",
            "|       M010|      P005|         W03|      SUP05|           IN|     200|   2025-07-01|\n",
            "|       M011|      P005|         W03|      SUP05|          OUT|     -50|   2025-07-05|\n",
            "|       M012|      P006|         W03|      SUP06|           IN|       7|   2025-07-01|\n",
            "|       M013|      P006|         W03|      SUP06|          OUT|      -2|   2025-07-06|\n",
            "|       M014|      P007|         W01|      SUP07|           IN|      15|   2025-07-01|\n",
            "|       M015|      P007|         W01|      SUP07|          OUT|      -5|   2025-07-03|\n",
            "+-----------+----------+------------+-----------+-------------+--------+-------------+\n",
            "\n",
            "+----------+---------+-------------+-------+\n",
            "|product_id|     name|reorder_level|  price|\n",
            "+----------+---------+-------------+-------+\n",
            "|      P001|    Mouse|          100| 299.99|\n",
            "|      P002| Keyboard|            5|  499.5|\n",
            "|      P003|  Monitor|            3| 7999.0|\n",
            "|      P004|USB Cable|           15|  149.0|\n",
            "|      P005|   Laptop|           10|55000.0|\n",
            "|      P006|  Headset|           20| 1999.0|\n",
            "|      P007|   Webcam|            8| 3500.0|\n",
            "+----------+---------+-------------+-------+\n",
            "\n",
            "+------------+--------------+---------+\n",
            "|warehouse_id|          name| location|\n",
            "+------------+--------------+---------+\n",
            "|         W01|Main Warehouse|  Chennai|\n",
            "|         W02|    North Zone|    Delhi|\n",
            "|         W03|    South Zone|Bangalore|\n",
            "+------------+--------------+---------+\n",
            "\n"
          ]
        }
      ]
    },
    {
      "cell_type": "code",
      "source": [
        "# Aggregation\n",
        "stock_summary_df = df.groupBy(\"product_id\", \"warehouse_id\") \\\n",
        "    .agg(sum(\"quantity\").alias(\"current_stock\"))\n",
        "\n",
        "df_p = df_p.withColumnRenamed(\"name\", \"product_name\")\n",
        "df_w = df_w.withColumnRenamed(\"name\", \"warehouse_name\")\n",
        "\n",
        "# Join stock with product info\n",
        "stock_product_df = stock_summary_df.join(df_p, on=\"product_id\", how=\"left\")\n",
        "\n",
        "# Join with warehouse info\n",
        "master_inventory_df = stock_product_df.join(df_w, on=\"warehouse_id\", how=\"left\")\n",
        "master_inventory_df.show()"
      ],
      "metadata": {
        "colab": {
          "base_uri": "https://localhost:8080/"
        },
        "id": "VLIyTXA_Kmg_",
        "outputId": "a507232a-0856-4ca0-f2b3-20a74f864edd"
      },
      "execution_count": 14,
      "outputs": [
        {
          "output_type": "stream",
          "name": "stdout",
          "text": [
            "+------------+----------+-------------+------------+-------------+-------+--------------+---------+\n",
            "|warehouse_id|product_id|current_stock|product_name|reorder_level|  price|warehouse_name| location|\n",
            "+------------+----------+-------------+------------+-------------+-------+--------------+---------+\n",
            "|         W01|      P003|            5|     Monitor|            3| 7999.0|Main Warehouse|  Chennai|\n",
            "|         W03|      P005|          150|      Laptop|           10|55000.0|    South Zone|Bangalore|\n",
            "|         W01|      P007|           10|      Webcam|            8| 3500.0|Main Warehouse|  Chennai|\n",
            "|         W03|      P006|            5|     Headset|           20| 1999.0|    South Zone|Bangalore|\n",
            "|         W01|      P002|           90|    Keyboard|            5|  499.5|Main Warehouse|  Chennai|\n",
            "|         W01|      P001|           40|       Mouse|          100| 299.99|Main Warehouse|  Chennai|\n",
            "|         W02|      P003|           80|     Monitor|            3| 7999.0|    North Zone|    Delhi|\n",
            "|         W02|      P001|           40|       Mouse|          100| 299.99|    North Zone|    Delhi|\n",
            "|         W02|      P004|            8|   USB Cable|           15|  149.0|    North Zone|    Delhi|\n",
            "+------------+----------+-------------+------------+-------------+-------+--------------+---------+\n",
            "\n"
          ]
        }
      ]
    },
    {
      "cell_type": "code",
      "source": [
        "# Reorder flag\n",
        "\n",
        "master_inventory_df = master_inventory_df.withColumn(\n",
        "    \"reorder_flag\",\n",
        "    when(col(\"current_stock\") < col(\"reorder_level\"), \"UNDERSTOCK\")\n",
        "    .when(col(\"current_stock\") > col(\"reorder_level\") * 2, \"OVERSTOCKED\")\n",
        "    .otherwise(\"NORMAL\")\n",
        ")\n",
        "master_inventory_df.show()"
      ],
      "metadata": {
        "colab": {
          "base_uri": "https://localhost:8080/"
        },
        "id": "XIlmCaPLQy4b",
        "outputId": "4b37f579-a1ae-43cc-d550-5afed21c6201"
      },
      "execution_count": 15,
      "outputs": [
        {
          "output_type": "stream",
          "name": "stdout",
          "text": [
            "+------------+----------+-------------+------------+-------------+-------+--------------+---------+------------+\n",
            "|warehouse_id|product_id|current_stock|product_name|reorder_level|  price|warehouse_name| location|reorder_flag|\n",
            "+------------+----------+-------------+------------+-------------+-------+--------------+---------+------------+\n",
            "|         W01|      P003|            5|     Monitor|            3| 7999.0|Main Warehouse|  Chennai|      NORMAL|\n",
            "|         W03|      P005|          150|      Laptop|           10|55000.0|    South Zone|Bangalore| OVERSTOCKED|\n",
            "|         W01|      P007|           10|      Webcam|            8| 3500.0|Main Warehouse|  Chennai|      NORMAL|\n",
            "|         W03|      P006|            5|     Headset|           20| 1999.0|    South Zone|Bangalore|  UNDERSTOCK|\n",
            "|         W01|      P002|           90|    Keyboard|            5|  499.5|Main Warehouse|  Chennai| OVERSTOCKED|\n",
            "|         W01|      P001|           40|       Mouse|          100| 299.99|Main Warehouse|  Chennai|  UNDERSTOCK|\n",
            "|         W02|      P003|           80|     Monitor|            3| 7999.0|    North Zone|    Delhi| OVERSTOCKED|\n",
            "|         W02|      P001|           40|       Mouse|          100| 299.99|    North Zone|    Delhi|  UNDERSTOCK|\n",
            "|         W02|      P004|            8|   USB Cable|           15|  149.0|    North Zone|    Delhi|  UNDERSTOCK|\n",
            "+------------+----------+-------------+------------+-------------+-------+--------------+---------+------------+\n",
            "\n"
          ]
        }
      ]
    },
    {
      "cell_type": "code",
      "source": [
        "# Save in CSV format\n",
        "master_inventory_df.coalesce(1).write.mode(\"overwrite\").option(\"header\", \"true\").csv(\"/content/drive/MyDrive/data engineering/Week 4/final_stock.csv\")\n",
        "\n",
        "# Save in Delta format\n",
        "master_inventory_df.write.mode(\"overwrite\").format(\"delta\").save(\"/content/drive/MyDrive/data engineering/Week 4/final_stock.delta\")\n"
      ],
      "metadata": {
        "id": "QC2nMqEoRTT3"
      },
      "execution_count": 16,
      "outputs": []
    },
    {
      "cell_type": "code",
      "source": [
        "from google.colab import files\n",
        "import glob, shutil\n",
        "\n",
        "# Path where Spark saved the CSV folder\n",
        "drive_csv_path = \"/content/drive/MyDrive/data engineering/Week 4/final_stock.csv\"\n",
        "\n",
        "# Find the actual part file inside\n",
        "csv_files = glob.glob(drive_csv_path + \"/part-*.csv\")\n",
        "\n",
        "# Copy to Colab local storage with a nice name\n",
        "local_csv = \"/content/final_stock.csv\"\n",
        "shutil.copy(csv_files[0], local_csv)\n",
        "\n",
        "# Download to your system\n",
        "files.download(local_csv)"
      ],
      "metadata": {
        "colab": {
          "base_uri": "https://localhost:8080/",
          "height": 17
        },
        "id": "3MkLkji4SaVc",
        "outputId": "64d2d6c6-8915-4453-dd16-55f258dbea69"
      },
      "execution_count": 18,
      "outputs": [
        {
          "output_type": "display_data",
          "data": {
            "text/plain": [
              "<IPython.core.display.Javascript object>"
            ],
            "application/javascript": [
              "\n",
              "    async function download(id, filename, size) {\n",
              "      if (!google.colab.kernel.accessAllowed) {\n",
              "        return;\n",
              "      }\n",
              "      const div = document.createElement('div');\n",
              "      const label = document.createElement('label');\n",
              "      label.textContent = `Downloading \"${filename}\": `;\n",
              "      div.appendChild(label);\n",
              "      const progress = document.createElement('progress');\n",
              "      progress.max = size;\n",
              "      div.appendChild(progress);\n",
              "      document.body.appendChild(div);\n",
              "\n",
              "      const buffers = [];\n",
              "      let downloaded = 0;\n",
              "\n",
              "      const channel = await google.colab.kernel.comms.open(id);\n",
              "      // Send a message to notify the kernel that we're ready.\n",
              "      channel.send({})\n",
              "\n",
              "      for await (const message of channel.messages) {\n",
              "        // Send a message to notify the kernel that we're ready.\n",
              "        channel.send({})\n",
              "        if (message.buffers) {\n",
              "          for (const buffer of message.buffers) {\n",
              "            buffers.push(buffer);\n",
              "            downloaded += buffer.byteLength;\n",
              "            progress.value = downloaded;\n",
              "          }\n",
              "        }\n",
              "      }\n",
              "      const blob = new Blob(buffers, {type: 'application/binary'});\n",
              "      const a = document.createElement('a');\n",
              "      a.href = window.URL.createObjectURL(blob);\n",
              "      a.download = filename;\n",
              "      div.appendChild(a);\n",
              "      a.click();\n",
              "      div.remove();\n",
              "    }\n",
              "  "
            ]
          },
          "metadata": {}
        },
        {
          "output_type": "display_data",
          "data": {
            "text/plain": [
              "<IPython.core.display.Javascript object>"
            ],
            "application/javascript": [
              "download(\"download_4fb732b8-a9a4-4393-b89d-8b4866bf3049\", \"final_stock.csv\", 649)"
            ]
          },
          "metadata": {}
        }
      ]
    }
  ]
}