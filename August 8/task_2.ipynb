{
 "cells": [
  {
   "cell_type": "markdown",
   "metadata": {
    "application/vnd.databricks.v1+cell": {
     "cellMetadata": {},
     "inputWidgets": {},
     "nuid": "29c0d6a0-2b12-456c-897e-616fa17e61ed",
     "showTitle": false,
     "tableResultSettingsMap": {},
     "title": ""
    }
   },
   "source": [
    "# STEP 1\n"
   ]
  },
  {
   "cell_type": "code",
   "execution_count": 0,
   "metadata": {
    "application/vnd.databricks.v1+cell": {
     "cellMetadata": {
      "byteLimit": 2048000,
      "rowLimit": 10000
     },
     "inputWidgets": {},
     "nuid": "884e1ed3-72ab-431c-999d-3a35131954b8",
     "showTitle": false,
     "tableResultSettingsMap": {},
     "title": ""
    }
   },
   "outputs": [
    {
     "output_type": "stream",
     "name": "stdout",
     "output_type": "stream",
     "text": [
      "Wrote 234 bytes.\n"
     ]
    }
   ],
   "source": [
    "csv_data = \"\"\"student_id,name,subject,score,grade\n",
    "1,Ankit,Math,85,A\n",
    "2,Divya,Science,92,A\n",
    "3,Rahul,English,78,B\n",
    "4,Sneha,Math,65,C\n",
    "5,Aryan,Science,55,D\n",
    "6,Isha,English,88,A\n",
    "7,Tanvi,Math,91,A\n",
    "8,Kunal,Science,72,B\n",
    "9,Megha,English,60,C\n",
    "10,Rohan,Math,40,F\n",
    "\"\"\"\n",
    "with open(\"/tmp/student_scores.csv\", \"w\") as f:\n",
    "  dbutils.fs.put(\"dbfs:/tmp/student_scores.csv\", csv_data, overwrite=True)\n"
   ]
  },
  {
   "cell_type": "code",
   "execution_count": 0,
   "metadata": {
    "application/vnd.databricks.v1+cell": {
     "cellMetadata": {
      "byteLimit": 2048000,
      "rowLimit": 10000
     },
     "inputWidgets": {},
     "nuid": "bfb5cb30-76ce-4f1c-b4d8-2e96f2f987eb",
     "showTitle": false,
     "tableResultSettingsMap": {},
     "title": ""
    }
   },
   "outputs": [
    {
     "output_type": "stream",
     "name": "stdout",
     "output_type": "stream",
     "text": [
      "+----------+-----+-------+-----+-----+\n|student_id| name|subject|score|grade|\n+----------+-----+-------+-----+-----+\n|         1|Ankit|   Math|   85|    A|\n|         2|Divya|Science|   92|    A|\n|         3|Rahul|English|   78|    B|\n|         4|Sneha|   Math|   65|    C|\n|         5|Aryan|Science|   55|    D|\n|         6| Isha|English|   88|    A|\n|         7|Tanvi|   Math|   91|    A|\n|         8|Kunal|Science|   72|    B|\n|         9|Megha|English|   60|    C|\n|        10|Rohan|   Math|   40|    F|\n+----------+-----+-------+-----+-----+\n\n"
     ]
    }
   ],
   "source": [
    "df = spark.read.option(\"header\", True).option(\"inferSchema\",\n",
    "True).csv(\"/tmp/student_scores.csv\")\n",
    "df.show()"
   ]
  },
  {
   "cell_type": "markdown",
   "metadata": {
    "application/vnd.databricks.v1+cell": {
     "cellMetadata": {},
     "inputWidgets": {},
     "nuid": "1431ef88-24cb-4382-9736-4e479a6bf151",
     "showTitle": false,
     "tableResultSettingsMap": {},
     "title": ""
    }
   },
   "source": [
    "#STEP 2 "
   ]
  },
  {
   "cell_type": "code",
   "execution_count": 0,
   "metadata": {
    "application/vnd.databricks.v1+cell": {
     "cellMetadata": {
      "byteLimit": 2048000,
      "rowLimit": 10000
     },
     "inputWidgets": {},
     "nuid": "cc77a7eb-16fc-4b0b-a13c-320d2d055e26",
     "showTitle": false,
     "tableResultSettingsMap": {},
     "title": ""
    }
   },
   "outputs": [],
   "source": [
    "df.write.format(\"delta\").mode(\"overwrite\").save(\"/tmp/delta/student_scores\")"
   ]
  },
  {
   "cell_type": "markdown",
   "metadata": {
    "application/vnd.databricks.v1+cell": {
     "cellMetadata": {},
     "inputWidgets": {},
     "nuid": "ded24fc2-d230-4afe-95e0-74978e2a832d",
     "showTitle": false,
     "tableResultSettingsMap": {},
     "title": ""
    }
   },
   "source": [
    "# STEP 3"
   ]
  },
  {
   "cell_type": "code",
   "execution_count": 0,
   "metadata": {
    "application/vnd.databricks.v1+cell": {
     "cellMetadata": {
      "byteLimit": 2048000,
      "rowLimit": 10000
     },
     "inputWidgets": {},
     "nuid": "06aa0b52-1e67-4c51-b5b9-87fb8c21d09f",
     "showTitle": false,
     "tableResultSettingsMap": {},
     "title": ""
    }
   },
   "outputs": [
    {
     "output_type": "execute_result",
     "data": {
      "text/plain": [
       "DataFrame[]"
      ]
     },
     "execution_count": 8,
     "metadata": {},
     "output_type": "execute_result"
    }
   ],
   "source": [
    "from pyspark.sql import SparkSession\n",
    "spark.sql(\"DROP TABLE IF EXISTS student_scores\")\n",
    "spark.sql(\"CREATE TABLE spark_catalog.default.student_scores USING DELTA LOCATION '/tmp/delta/student_scores'\")"
   ]
  },
  {
   "cell_type": "markdown",
   "metadata": {
    "application/vnd.databricks.v1+cell": {
     "cellMetadata": {},
     "inputWidgets": {},
     "nuid": "7be90545-17fe-4e83-bf21-2237badffe0d",
     "showTitle": false,
     "tableResultSettingsMap": {},
     "title": ""
    }
   },
   "source": [
    "# BASIC TASKS"
   ]
  },
  {
   "cell_type": "code",
   "execution_count": 0,
   "metadata": {
    "application/vnd.databricks.v1+cell": {
     "cellMetadata": {
      "byteLimit": 2048000,
      "rowLimit": 10000
     },
     "inputWidgets": {},
     "nuid": "1393cf91-c55b-46f4-be29-63053ac8b4e3",
     "showTitle": false,
     "tableResultSettingsMap": {},
     "title": ""
    }
   },
   "outputs": [
    {
     "output_type": "stream",
     "name": "stdout",
     "output_type": "stream",
     "text": [
      "+----------+-----+-------+-----+-----+\n|student_id| name|subject|score|grade|\n+----------+-----+-------+-----+-----+\n|         1|Ankit|   Math|   85|    A|\n|         2|Divya|Science|   92|    A|\n|         3|Rahul|English|   78|    B|\n|         4|Sneha|   Math|   65|    C|\n|         5|Aryan|Science|   55|    D|\n|         6| Isha|English|   88|    A|\n|         7|Tanvi|   Math|   91|    A|\n|         8|Kunal|Science|   72|    B|\n|         9|Megha|English|   60|    C|\n|        10|Rohan|   Math|   40|    F|\n+----------+-----+-------+-----+-----+\n\n"
     ]
    }
   ],
   "source": [
    "from delta.tables import DeltaTable\n",
    "delta_path = \"/tmp/delta/student_scores\"\n",
    "delta_table = DeltaTable.forPath(spark, delta_path)\n",
    "df = delta_table.toDF()\n",
    "df.show()"
   ]
  },
  {
   "cell_type": "code",
   "execution_count": 0,
   "metadata": {
    "application/vnd.databricks.v1+cell": {
     "cellMetadata": {
      "byteLimit": 2048000,
      "rowLimit": 10000
     },
     "inputWidgets": {},
     "nuid": "c54bc40f-605f-4f40-a0ca-c16408afc68b",
     "showTitle": false,
     "tableResultSettingsMap": {},
     "title": ""
    }
   },
   "outputs": [
    {
     "output_type": "stream",
     "name": "stdout",
     "output_type": "stream",
     "text": [
      "STUDENTS AND SCORES\n+-----+-----+\n| name|score|\n+-----+-----+\n|Ankit|   85|\n|Divya|   92|\n|Rahul|   78|\n|Sneha|   65|\n|Aryan|   55|\n| Isha|   88|\n|Tanvi|   91|\n|Kunal|   72|\n|Megha|   60|\n|Rohan|   40|\n+-----+-----+\n\nNUMBER OF STUDENTS IN EACH SUBJECT\n+-------+-----+\n|subject|count|\n+-------+-----+\n|Science|    3|\n|   Math|    4|\n|English|    3|\n+-------+-----+\n\nAVERAGE SCORE PER SUBJECT\n+-------+-----------------+\n|subject|       avg(score)|\n+-------+-----------------+\n|Science|             73.0|\n|   Math|            70.25|\n|English|75.33333333333333|\n+-------+-----------------+\n\nSTUDENTS WITH SCORE >80\n+----------+-----+-------+-----+-----+\n|student_id| name|subject|score|grade|\n+----------+-----+-------+-----+-----+\n|         1|Ankit|   Math|   85|    A|\n|         2|Divya|Science|   92|    A|\n|         6| Isha|English|   88|    A|\n|         7|Tanvi|   Math|   91|    A|\n+----------+-----+-------+-----+-----+\n\n"
     ]
    }
   ],
   "source": [
    "\n",
    "print(\"STUDENTS AND SCORES\")\n",
    "df.select(\"name\",\"score\").show()\n",
    "\n",
    "print(\"NUMBER OF STUDENTS IN EACH SUBJECT\")\n",
    "df.groupBy(\"subject\").count().show()\n",
    "\n",
    "print(\"AVERAGE SCORE PER SUBJECT\")\n",
    "df.groupBy(\"subject\").avg(\"score\").show()\n",
    "\n",
    "print(\"STUDENTS WITH SCORE >80\")\n",
    "df.filter(df.score > 80).show()\n",
    "\n"
   ]
  },
  {
   "cell_type": "markdown",
   "metadata": {
    "application/vnd.databricks.v1+cell": {
     "cellMetadata": {},
     "inputWidgets": {},
     "nuid": "fb4829e6-5f43-4412-b075-5585e2145f0d",
     "showTitle": false,
     "tableResultSettingsMap": {},
     "title": ""
    }
   },
   "source": [
    "# ADVANCED QUERIES"
   ]
  },
  {
   "cell_type": "code",
   "execution_count": 0,
   "metadata": {
    "application/vnd.databricks.v1+cell": {
     "cellMetadata": {
      "byteLimit": 2048000,
      "rowLimit": 10000
     },
     "inputWidgets": {},
     "nuid": "2d00c968-95e5-4dae-aee9-d35778c5f6e9",
     "showTitle": false,
     "tableResultSettingsMap": {},
     "title": ""
    }
   },
   "outputs": [
    {
     "output_type": "stream",
     "name": "stdout",
     "output_type": "stream",
     "text": [
      "student(s) with the highest score in each subject\n+----------+-----+-------+-----+-----+----+\n|student_id| name|subject|score|grade|rank|\n+----------+-----+-------+-----+-----+----+\n|         6| Isha|English|   88|    A|   1|\n|         7|Tanvi|   Math|   91|    A|   1|\n|         2|Divya|Science|   92|    A|   1|\n+----------+-----+-------+-----+-----+----+\n\ngrades with count of students in each.\n+-----+-----+\n|grade|count|\n+-----+-----+\n|    F|    1|\n|    B|    2|\n|    D|    1|\n|    C|    2|\n|    A|    4|\n+-----+-----+\n\nnames of students failed\n+-----+\n| name|\n+-----+\n|Rohan|\n+-----+\n\nStudents with score between 60 and 90\n+----------+-----+-------+-----+-----+\n|student_id| name|subject|score|grade|\n+----------+-----+-------+-----+-----+\n|         1|Ankit|   Math|   85|    A|\n|         3|Rahul|English|   78|    B|\n|         4|Sneha|   Math|   65|    C|\n|         6| Isha|English|   88|    A|\n|         8|Kunal|Science|   72|    B|\n|         9|Megha|English|   60|    C|\n+----------+-----+-------+-----+-----+\n\nrank students within subject based on scores\n+----------+-----+-------+-----+-----+----+\n|student_id| name|subject|score|grade|rank|\n+----------+-----+-------+-----+-----+----+\n|         6| Isha|English|   88|    A|   1|\n|         3|Rahul|English|   78|    B|   2|\n|         9|Megha|English|   60|    C|   3|\n|         7|Tanvi|   Math|   91|    A|   1|\n|         1|Ankit|   Math|   85|    A|   2|\n|         4|Sneha|   Math|   65|    C|   3|\n|        10|Rohan|   Math|   40|    F|   4|\n|         2|Divya|Science|   92|    A|   1|\n|         8|Kunal|Science|   72|    B|   2|\n|         5|Aryan|Science|   55|    D|   3|\n+----------+-----+-------+-----+-----+----+\n\n"
     ]
    }
   ],
   "source": [
    "from pyspark.sql.window import Window\n",
    "from pyspark.sql.functions import rank, col\n",
    "\n",
    "print(\"student(s) with the highest score in each subject\")\n",
    "windoww = Window.partitionBy(\"subject\").orderBy(df.score.desc())\n",
    "df.withColumn(\"rank\",rank().over(windoww)).filter(\"rank = 1\").show()\n",
    "\n",
    "print(\"grades with count of students in each.\")\n",
    "df.groupBy(\"grade\").count().show()\n",
    "\n",
    "print(\"names of students failed\")\n",
    "df.filter( col(\"grade\")== 'F').select(\"name\").show()\n",
    "\n",
    "print(\"Students with score between 60 and 90\")\n",
    "df.filter((col(\"score\")>=60)&(col(\"score\")<=90)).show()\n",
    "\n",
    "print(\"rank students within subject based on scores\")\n",
    "df.withColumn(\"rank\",rank().over(windoww)).show()"
   ]
  },
  {
   "cell_type": "markdown",
   "metadata": {
    "application/vnd.databricks.v1+cell": {
     "cellMetadata": {},
     "inputWidgets": {},
     "nuid": "5c1a04f6-5e43-4afe-9dd8-b4ccc69d7620",
     "showTitle": false,
     "tableResultSettingsMap": {},
     "title": ""
    }
   },
   "source": [
    "# UPDATE & DELETE TASKS"
   ]
  },
  {
   "cell_type": "code",
   "execution_count": 0,
   "metadata": {
    "application/vnd.databricks.v1+cell": {
     "cellMetadata": {
      "byteLimit": 2048000,
      "rowLimit": 10000
     },
     "inputWidgets": {},
     "nuid": "12f72e96-4a65-4df1-9fcf-ae8fde3263ef",
     "showTitle": false,
     "tableResultSettingsMap": {},
     "title": ""
    }
   },
   "outputs": [
    {
     "output_type": "stream",
     "name": "stdout",
     "output_type": "stream",
     "text": [
      "ADDING +5 TO ENGLISH\n+----------+-----+-------+-----+-----+\n|student_id| name|subject|score|grade|\n+----------+-----+-------+-----+-----+\n|         1|Ankit|   Math|   85|    A|\n|         2|Divya|Science|   92|    A|\n|         4|Sneha|   Math|   65|    C|\n|         5|Aryan|Science|   55|    D|\n|         7|Tanvi|   Math|   91|    A|\n|         8|Kunal|Science|   72|    B|\n|        10|Rohan|   Math|   40|    F|\n|         3|Rahul|English|   83|    B|\n|         6| Isha|English|   93|    A|\n|         9|Megha|English|   65|    C|\n+----------+-----+-------+-----+-----+\n\nAFTER DELETION\n+----------+-----+-------+-----+-----+\n|student_id| name|subject|score|grade|\n+----------+-----+-------+-----+-----+\n|         3|Rahul|English|   83|    B|\n|         6| Isha|English|   93|    A|\n|         9|Megha|English|   65|    C|\n|         1|Ankit|   Math|   85|    A|\n|         2|Divya|Science|   92|    A|\n|         4|Sneha|   Math|   65|    C|\n|         5|Aryan|Science|   55|    D|\n|         7|Tanvi|   Math|   91|    A|\n|         8|Kunal|Science|   72|    B|\n+----------+-----+-------+-----+-----+\n\nPASS STATUS\n+----------+-----+-------+-----+-----+-----------+\n|student_id| name|subject|score|grade|pass_status|\n+----------+-----+-------+-----+-----+-----------+\n|         3|Rahul|English|   83|    B|       PASS|\n|         6| Isha|English|   93|    A|       PASS|\n|         9|Megha|English|   65|    C|       PASS|\n|         1|Ankit|   Math|   85|    A|       PASS|\n|         2|Divya|Science|   92|    A|       PASS|\n|         4|Sneha|   Math|   65|    C|       PASS|\n|         5|Aryan|Science|   55|    D|       PASS|\n|         7|Tanvi|   Math|   91|    A|       PASS|\n|         8|Kunal|Science|   72|    B|       PASS|\n+----------+-----+-------+-----+-----+-----------+\n\n"
     ]
    }
   ],
   "source": [
    "from pyspark.sql.functions import when\n",
    "print(\"ADDING +5 TO ENGLISH\")\n",
    "delta_table.update(\n",
    "    condition= col(\"subject\") == \"English\",\n",
    "    set = {\"score\": col(\"score\")+5}\n",
    ")\n",
    "delta_table.toDF().show()\n",
    "\n",
    "print(\"AFTER DELETION\")\n",
    "delta_table.delete(\n",
    "    condition=col(\"score\")<50\n",
    ")\n",
    "delta_table.toDF().show()\n",
    "\n",
    "print(\"PASS STATUS\")\n",
    "delta_table = delta_table.toDF().withColumn(\"pass_status\",\n",
    "                                            when(col(\"score\")>=50,\"PASS\")\n",
    "                                            .otherwise(\"FAIL\"))\n",
    "delta_table.show()"
   ]
  },
  {
   "cell_type": "markdown",
   "metadata": {
    "application/vnd.databricks.v1+cell": {
     "cellMetadata": {},
     "inputWidgets": {},
     "nuid": "562c34d9-faef-41b3-9bf1-4390eda866a1",
     "showTitle": false,
     "tableResultSettingsMap": {},
     "title": ""
    }
   },
   "source": [
    "# TRANSFORMATION AND VIEWS"
   ]
  },
  {
   "cell_type": "code",
   "execution_count": 0,
   "metadata": {
    "application/vnd.databricks.v1+cell": {
     "cellMetadata": {
      "byteLimit": 2048000,
      "rowLimit": 10000
     },
     "inputWidgets": {},
     "nuid": "5b22caa6-6e0a-448d-a304-cf8c05639ef7",
     "showTitle": false,
     "tableResultSettingsMap": {},
     "title": ""
    }
   },
   "outputs": [
    {
     "output_type": "stream",
     "name": "stdout",
     "output_type": "stream",
     "text": [
      "+----------+-----+-------+-----+-----+\n|student_id| name|subject|score|grade|\n+----------+-----+-------+-----+-----+\n|         3|Rahul|English|   83|    B|\n|         6| Isha|English|   93|    A|\n|         9|Megha|English|   65|    C|\n|         1|Ankit|   Math|   85|    A|\n|         2|Divya|Science|   92|    A|\n|         4|Sneha|   Math|   65|    C|\n|         5|Aryan|Science|   55|    D|\n|         7|Tanvi|   Math|   91|    A|\n|         8|Kunal|Science|   72|    B|\n+----------+-----+-------+-----+-----+\n\n"
     ]
    }
   ],
   "source": [
    "df.show()"
   ]
  },
  {
   "cell_type": "code",
   "execution_count": 0,
   "metadata": {
    "application/vnd.databricks.v1+cell": {
     "cellMetadata": {
      "byteLimit": 2048000,
      "rowLimit": 10000
     },
     "inputWidgets": {},
     "nuid": "65d44148-7e42-4785-811b-9ed64fa82aa8",
     "showTitle": false,
     "tableResultSettingsMap": {},
     "title": ""
    }
   },
   "outputs": [
    {
     "output_type": "stream",
     "name": "stdout",
     "output_type": "stream",
     "text": [
      "VERAGE SCORES\n+-------+-----------------+\n|subject|       avg(score)|\n+-------+-----------------+\n|Science|             73.0|\n|   Math|80.33333333333333|\n|English|80.33333333333333|\n+-------+-----------------+\n\n"
     ]
    }
   ],
   "source": [
    "df.createOrReplaceTempView(\"student_scores_view\")\n",
    "print(\"VERAGE SCORES\")\n",
    "spark.sql(\"\"\"\n",
    "          select subject , avg(score)\n",
    "          from student_scores_view\n",
    "          group by subject \"\"\").show()\n",
    "\n"
   ]
  },
  {
   "cell_type": "code",
   "execution_count": 0,
   "metadata": {
    "application/vnd.databricks.v1+cell": {
     "cellMetadata": {
      "byteLimit": 2048000,
      "rowLimit": 10000
     },
     "inputWidgets": {},
     "nuid": "d4dad535-fd63-4457-9ad5-5e3d7ea71485",
     "showTitle": false,
     "tableResultSettingsMap": {},
     "title": ""
    }
   },
   "outputs": [
    {
     "output_type": "stream",
     "name": "stdout",
     "output_type": "stream",
     "text": [
      "+----------+-----+-------+-----+-----+-----------+\n|student_id| name|subject|score|grade|pass_status|\n+----------+-----+-------+-----+-----+-----------+\n|         3|Rahul|English|   83|    B|       PASS|\n|         6| Isha|English|   93|    A|       PASS|\n|         9|Megha|English|   65|    C|       PASS|\n|         1|Ankit|   Math|   85|    A|       PASS|\n|         2|Divya|Science|   92|    A|       PASS|\n|         4|Sneha|   Math|   65|    C|       PASS|\n|         5|Aryan|Science|   55|    D|       PASS|\n|         7|Tanvi|   Math|   91|    A|       PASS|\n|         8|Kunal|Science|   72|    B|       PASS|\n+----------+-----+-------+-----+-----+-----------+\n\n"
     ]
    }
   ],
   "source": [
    "delta_table.show()"
   ]
  },
  {
   "cell_type": "code",
   "execution_count": 0,
   "metadata": {
    "application/vnd.databricks.v1+cell": {
     "cellMetadata": {
      "byteLimit": 2048000,
      "rowLimit": 10000
     },
     "inputWidgets": {},
     "nuid": "2b13690c-e5cf-47ab-9d87-61097d5a2dd3",
     "showTitle": false,
     "tableResultSettingsMap": {},
     "title": ""
    }
   },
   "outputs": [
    {
     "output_type": "stream",
     "name": "stdout",
     "output_type": "stream",
     "text": [
      "student_scores_v2 Delta table:\n+----------+-----+-------+-----+-----+-----------+\n|student_id| name|subject|score|grade|pass_status|\n+----------+-----+-------+-----+-----+-----------+\n|         3|Rahul|English|   83|    B|       PASS|\n|         6| Isha|English|   93|    A|       PASS|\n|         9|Megha|English|   65|    C|       PASS|\n|         1|Ankit|   Math|   85|    A|       PASS|\n|         2|Divya|Science|   92|    A|       PASS|\n|         4|Sneha|   Math|   65|    C|       PASS|\n|         5|Aryan|Science|   55|    D|       PASS|\n|         7|Tanvi|   Math|   91|    A|       PASS|\n|         8|Kunal|Science|   72|    B|       PASS|\n+----------+-----+-------+-----+-----+-----------+\n\n"
     ]
    }
   ],
   "source": [
    "delta_table.write.format(\"delta\").mode(\"overwrite\").save(\"/tmp/delta/student_scores_v2\")\n",
    "\n",
    "delta_v2 = DeltaTable.forPath(spark, \"/tmp/delta/student_scores_v2\")\n",
    "print(\"student_scores_v2 Delta table:\")\n",
    "delta_v2.toDF().show()"
   ]
  },
  {
   "cell_type": "code",
   "execution_count": 0,
   "metadata": {
    "application/vnd.databricks.v1+cell": {
     "cellMetadata": {
      "byteLimit": 2048000,
      "rowLimit": 10000
     },
     "inputWidgets": {},
     "nuid": "a0616967-12e4-4a76-8a3d-69e2f82cb098",
     "showTitle": false,
     "tableResultSettingsMap": {},
     "title": ""
    }
   },
   "outputs": [
    {
     "output_type": "stream",
     "name": "stdout",
     "output_type": "stream",
     "text": [
      "Data saved in Parquet and JSON formats.\n"
     ]
    }
   ],
   "source": [
    "delta_table.write.mode(\"overwrite\").parquet(\"/tmp/output/student_scores_parquet\")\n",
    "\n",
    "delta_table.write.mode(\"overwrite\").json(\"/tmp/output/student_scores_json\")\n",
    "\n",
    "print(\"Data saved in Parquet and JSON formats.\")\n"
   ]
  }
 ],
 "metadata": {
  "application/vnd.databricks.v1+notebook": {
   "computePreferences": null,
   "dashboards": [],
   "environmentMetadata": {
    "base_environment": "",
    "environment_version": "2"
   },
   "inputWidgetPreferences": null,
   "language": "python",
   "notebookMetadata": {
    "mostRecentlyExecutedCommandWithImplicitDF": {
     "commandId": -1,
     "dataframes": [
      "_sqldf"
     ]
    },
    "pythonIndentUnit": 4
   },
   "notebookName": "task_2",
   "widgets": {}
  },
  "language_info": {
   "name": "python"
  }
 },
 "nbformat": 4,
 "nbformat_minor": 0
}