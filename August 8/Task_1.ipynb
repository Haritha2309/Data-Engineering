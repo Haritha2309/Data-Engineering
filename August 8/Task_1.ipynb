{
 "cells": [
  {
   "cell_type": "markdown",
   "metadata": {
    "application/vnd.databricks.v1+cell": {
     "cellMetadata": {},
     "inputWidgets": {},
     "nuid": "b25b4221-96ef-422d-8f9f-1895abd1aa65",
     "showTitle": false,
     "tableResultSettingsMap": {},
     "title": ""
    }
   },
   "source": [
    "INLINE CSV"
   ]
  },
  {
   "cell_type": "code",
   "execution_count": 0,
   "metadata": {
    "application/vnd.databricks.v1+cell": {
     "cellMetadata": {
      "byteLimit": 2048000,
      "rowLimit": 10000
     },
     "inputWidgets": {},
     "nuid": "dd03a2d8-3af3-427d-a069-4d98012ef8b1",
     "showTitle": false,
     "tableResultSettingsMap": {},
     "title": ""
    }
   },
   "outputs": [
    {
     "output_type": "stream",
     "name": "stdout",
     "output_type": "stream",
     "text": [
      "Wrote 603 bytes.\n"
     ]
    }
   ],
   "source": [
    "csv_data =\"\"\"transaction_id,customer_name,region,product,category,quantity,unit_price,date\n",
    "1,Rajesh,North,Laptop,Electronics,1,55000,2024-01-12\n",
    "2,Sneha,West,Refrigerator,Electronics,1,32000,2024-02-05\n",
    "3,Anil,South,Shampoo,Personal Care,5,150,2024-01-17\n",
    "4,Divya,North,Mobile,Electronics,2,20000,2024-03-22\n",
    "5,Vikram,East,Washing Machine,Electronics,1,28000,2024-02-28\n",
    "6,Preeti,West,Sneakers,Fashion,2,4000,2024-01-31\n",
    "7,Aman,South,TV,Electronics,1,45000,2024-02-15\n",
    "8,Isha,North,Notebook,Stationery,10,60,2024-01-10\n",
    "9,Kunal,East,Pencil,Stationery,20,10,2024-03-05\n",
    "10,Tanvi,West,Face Cream,Personal Care,3,200,2024-03-19\n",
    "\"\"\"\n",
    "with open(\"/tmp/sales_transactions.csv\", \"w\") as f:\n",
    "  dbutils.fs.put(\"dbfs:/tmp/sales_transactions.csv\", csv_data, overwrite=True)\n"
   ]
  },
  {
   "cell_type": "markdown",
   "metadata": {
    "application/vnd.databricks.v1+cell": {
     "cellMetadata": {},
     "inputWidgets": {},
     "nuid": "0b720176-aeb2-4718-8b82-73330eeac0ae",
     "showTitle": false,
     "tableResultSettingsMap": {},
     "title": ""
    }
   },
   "source": [
    "# TASK 1"
   ]
  },
  {
   "cell_type": "markdown",
   "metadata": {
    "application/vnd.databricks.v1+cell": {
     "cellMetadata": {},
     "inputWidgets": {},
     "nuid": "7f6c37d1-6809-48de-93e9-948a2a9b10d0",
     "showTitle": false,
     "tableResultSettingsMap": {},
     "title": ""
    }
   },
   "source": [
    "Load the CSV into a PySpark DataFrame."
   ]
  },
  {
   "cell_type": "code",
   "execution_count": 0,
   "metadata": {
    "application/vnd.databricks.v1+cell": {
     "cellMetadata": {
      "byteLimit": 2048000,
      "rowLimit": 10000
     },
     "inputWidgets": {},
     "nuid": "84243cb1-abd1-4a51-bd24-2e5e310654fe",
     "showTitle": false,
     "tableResultSettingsMap": {},
     "title": ""
    }
   },
   "outputs": [],
   "source": [
    "from pyspark.sql import SparkSession\n",
    "spark = SparkSession.builder.appName(\"transactions\").getOrCreate()"
   ]
  },
  {
   "cell_type": "code",
   "execution_count": 0,
   "metadata": {
    "application/vnd.databricks.v1+cell": {
     "cellMetadata": {
      "byteLimit": 2048000,
      "rowLimit": 10000
     },
     "inputWidgets": {},
     "nuid": "3e5b2e59-ac42-4f84-9d5d-8497f3220ef8",
     "showTitle": false,
     "tableResultSettingsMap": {},
     "title": ""
    }
   },
   "outputs": [
    {
     "output_type": "stream",
     "name": "stdout",
     "output_type": "stream",
     "text": [
      "+--------------+-------------+------+---------------+-------------+--------+----------+----------+\n|transaction_id|customer_name|region|        product|     category|quantity|unit_price|      date|\n+--------------+-------------+------+---------------+-------------+--------+----------+----------+\n|             1|       Rajesh| North|         Laptop|  Electronics|       1|     55000|2024-01-12|\n|             2|        Sneha|  West|   Refrigerator|  Electronics|       1|     32000|2024-02-05|\n|             3|         Anil| South|        Shampoo|Personal Care|       5|       150|2024-01-17|\n|             4|        Divya| North|         Mobile|  Electronics|       2|     20000|2024-03-22|\n|             5|       Vikram|  East|Washing Machine|  Electronics|       1|     28000|2024-02-28|\n|             6|       Preeti|  West|       Sneakers|      Fashion|       2|      4000|2024-01-31|\n|             7|         Aman| South|             TV|  Electronics|       1|     45000|2024-02-15|\n|             8|         Isha| North|       Notebook|   Stationery|      10|        60|2024-01-10|\n|             9|        Kunal|  East|         Pencil|   Stationery|      20|        10|2024-03-05|\n|            10|        Tanvi|  West|     Face Cream|Personal Care|       3|       200|2024-03-19|\n+--------------+-------------+------+---------------+-------------+--------+----------+----------+\n\n"
     ]
    }
   ],
   "source": [
    "df = spark.read.option(\"header\",True).option(\"inferSchema\",True).csv(\"dbfs:/tmp/sales_transactions.csv\")\n",
    "df.show()"
   ]
  },
  {
   "cell_type": "markdown",
   "metadata": {
    "application/vnd.databricks.v1+cell": {
     "cellMetadata": {},
     "inputWidgets": {},
     "nuid": "aca13a9c-a190-40e2-8c2d-2ca849a12cf5",
     "showTitle": false,
     "tableResultSettingsMap": {},
     "title": ""
    }
   },
   "source": [
    "Save it in Parquet and Delta formats (in different folders)."
   ]
  },
  {
   "cell_type": "code",
   "execution_count": 0,
   "metadata": {
    "application/vnd.databricks.v1+cell": {
     "cellMetadata": {
      "byteLimit": 2048000,
      "rowLimit": 10000
     },
     "inputWidgets": {},
     "nuid": "2931d555-9c31-4365-9e94-f7d8d3b9c4a2",
     "showTitle": false,
     "tableResultSettingsMap": {},
     "title": ""
    }
   },
   "outputs": [],
   "source": [
    "df.write.mode(\"overwrite\").parquet(\"dbfs:/tmp/sales_transactions.parquet\")"
   ]
  },
  {
   "cell_type": "code",
   "execution_count": 0,
   "metadata": {
    "application/vnd.databricks.v1+cell": {
     "cellMetadata": {
      "byteLimit": 2048000,
      "rowLimit": 10000
     },
     "inputWidgets": {},
     "nuid": "3139d13e-9b62-4a80-a68e-34ebf38bb6cd",
     "showTitle": false,
     "tableResultSettingsMap": {},
     "title": ""
    }
   },
   "outputs": [],
   "source": [
    "df.write.format(\"delta\").mode(\"overwrite\").save(\"dbfs:/tmp/sales_transactions.delta\")"
   ]
  },
  {
   "cell_type": "markdown",
   "metadata": {
    "application/vnd.databricks.v1+cell": {
     "cellMetadata": {},
     "inputWidgets": {},
     "nuid": "a0658024-59be-4cc8-8b27-6a7e399bc06c",
     "showTitle": false,
     "tableResultSettingsMap": {},
     "title": ""
    }
   },
   "source": [
    "Create and register Delta Table called sales_transactions"
   ]
  },
  {
   "cell_type": "code",
   "execution_count": 0,
   "metadata": {
    "application/vnd.databricks.v1+cell": {
     "cellMetadata": {
      "byteLimit": 2048000,
      "rowLimit": 10000
     },
     "inputWidgets": {},
     "nuid": "adb569ad-d339-401a-91c3-7888308c18f8",
     "showTitle": false,
     "tableResultSettingsMap": {},
     "title": ""
    }
   },
   "outputs": [
    {
     "output_type": "stream",
     "name": "stdout",
     "output_type": "stream",
     "text": [
      "+--------------+-------------+------+---------------+-------------+--------+----------+----------+\n|transaction_id|customer_name|region|        product|     category|quantity|unit_price|      date|\n+--------------+-------------+------+---------------+-------------+--------+----------+----------+\n|             1|       Rajesh| North|         Laptop|  Electronics|       1|     55000|2024-01-12|\n|             2|        Sneha|  West|   Refrigerator|  Electronics|       1|     32000|2024-02-05|\n|             3|         Anil| South|        Shampoo|Personal Care|       5|       150|2024-01-17|\n|             4|        Divya| North|         Mobile|  Electronics|       2|     20000|2024-03-22|\n|             5|       Vikram|  East|Washing Machine|  Electronics|       1|     28000|2024-02-28|\n|             6|       Preeti|  West|       Sneakers|      Fashion|       2|      4000|2024-01-31|\n|             7|         Aman| South|             TV|  Electronics|       1|     45000|2024-02-15|\n|             8|         Isha| North|       Notebook|   Stationery|      10|        60|2024-01-10|\n|             9|        Kunal|  East|         Pencil|   Stationery|      20|        10|2024-03-05|\n|            10|        Tanvi|  West|     Face Cream|Personal Care|       3|       200|2024-03-19|\n+--------------+-------------+------+---------------+-------------+--------+----------+----------+\n\n"
     ]
    }
   ],
   "source": [
    "df_delta = spark.read.format(\"delta\").load(\"dbfs:/tmp/sales_transactions.delta\")\n",
    "df_delta.show()"
   ]
  },
  {
   "cell_type": "markdown",
   "metadata": {
    "application/vnd.databricks.v1+cell": {
     "cellMetadata": {},
     "inputWidgets": {},
     "nuid": "4b3806aa-7221-4220-a06b-109a50a17e43",
     "showTitle": false,
     "tableResultSettingsMap": {},
     "title": ""
    }
   },
   "source": [
    "# TASK 2\n"
   ]
  },
  {
   "cell_type": "markdown",
   "metadata": {
    "application/vnd.databricks.v1+cell": {
     "cellMetadata": {},
     "inputWidgets": {},
     "nuid": "e3a5fbc1-19d0-4feb-a011-de0315e644d5",
     "showTitle": false,
     "tableResultSettingsMap": {},
     "title": ""
    }
   },
   "source": [
    "Add a new column total_amount = quantity × unit_price ."
   ]
  },
  {
   "cell_type": "code",
   "execution_count": 0,
   "metadata": {
    "application/vnd.databricks.v1+cell": {
     "cellMetadata": {
      "byteLimit": 2048000,
      "rowLimit": 10000
     },
     "inputWidgets": {},
     "nuid": "63efae65-6bd3-48d5-ba48-346f2e99b56e",
     "showTitle": false,
     "tableResultSettingsMap": {},
     "title": ""
    }
   },
   "outputs": [
    {
     "output_type": "stream",
     "name": "stdout",
     "output_type": "stream",
     "text": [
      "+--------------+-------------+------+---------------+-------------+--------+----------+----------+\n|transaction_id|customer_name|region|        product|     category|quantity|unit_price|      date|\n+--------------+-------------+------+---------------+-------------+--------+----------+----------+\n|             1|       Rajesh| North|         Laptop|  Electronics|       1|     55000|2024-01-12|\n|             2|        Sneha|  West|   Refrigerator|  Electronics|       1|     32000|2024-02-05|\n|             3|         Anil| South|        Shampoo|Personal Care|       5|       150|2024-01-17|\n|             4|        Divya| North|         Mobile|  Electronics|       2|     20000|2024-03-22|\n|             5|       Vikram|  East|Washing Machine|  Electronics|       1|     28000|2024-02-28|\n|             6|       Preeti|  West|       Sneakers|      Fashion|       2|      4000|2024-01-31|\n|             7|         Aman| South|             TV|  Electronics|       1|     45000|2024-02-15|\n|             8|         Isha| North|       Notebook|   Stationery|      10|        60|2024-01-10|\n|             9|        Kunal|  East|         Pencil|   Stationery|      20|        10|2024-03-05|\n|            10|        Tanvi|  West|     Face Cream|Personal Care|       3|       200|2024-03-19|\n+--------------+-------------+------+---------------+-------------+--------+----------+----------+\n\n"
     ]
    }
   ],
   "source": [
    "from delta.tables import DeltaTable\n",
    "delta_table = DeltaTable.forPath(spark, \"dbfs:/tmp/sales_transactions.delta\")\n",
    "delta_table.toDF().show()"
   ]
  },
  {
   "cell_type": "code",
   "execution_count": 0,
   "metadata": {
    "application/vnd.databricks.v1+cell": {
     "cellMetadata": {
      "byteLimit": 2048000,
      "rowLimit": 10000
     },
     "inputWidgets": {},
     "nuid": "1aef8e09-2768-4169-a24f-9bf8d45bc17f",
     "showTitle": false,
     "tableResultSettingsMap": {},
     "title": ""
    }
   },
   "outputs": [],
   "source": [
    "from pyspark.sql.functions import col,month,date_format\n",
    "delta = delta_table.toDF()\n",
    "delta_path = \"dbfs:/tmp/delta/sales_transactions\"\n",
    "df_transformed = (df\n",
    "                  .withColumn(\"total_amount\", col(\"quantity\")*col(\"unit_price\"))\n",
    "                  .withColumn(\"month\",month(col(\"date\")))\n",
    "                  .withColumn(\"date_formattedd\",date_format(col(\"date\"),\"dd-MM-yyyy\"))\n",
    "                  .withColumn(\"is_high_value\",col(\"total_amount\")>30000))\n",
    "df_transformed.write.format(\"delta\").mode(\"overwrite\").option(\"mergeSchema\", \"true\").save(delta_path)"
   ]
  },
  {
   "cell_type": "code",
   "execution_count": 0,
   "metadata": {
    "application/vnd.databricks.v1+cell": {
     "cellMetadata": {
      "byteLimit": 2048000,
      "rowLimit": 10000
     },
     "inputWidgets": {},
     "nuid": "d454f912-bdb2-4a33-9dde-f9e688ec01fd",
     "showTitle": false,
     "tableResultSettingsMap": {},
     "title": ""
    }
   },
   "outputs": [
    {
     "output_type": "stream",
     "name": "stdout",
     "output_type": "stream",
     "text": [
      "+--------------+-------------+------+---------------+-------------+--------+----------+----------+------------+-----+---------------+-------------+\n|transaction_id|customer_name|region|        product|     category|quantity|unit_price|      date|total_amount|month|date_formattedd|is_high_value|\n+--------------+-------------+------+---------------+-------------+--------+----------+----------+------------+-----+---------------+-------------+\n|             1|       Rajesh| North|         Laptop|  Electronics|       1|     55000|2024-01-12|       55000|    1|     12-01-2024|         true|\n|             2|        Sneha|  West|   Refrigerator|  Electronics|       1|     32000|2024-02-05|       32000|    2|     05-02-2024|         true|\n|             3|         Anil| South|        Shampoo|Personal Care|       5|       150|2024-01-17|         750|    1|     17-01-2024|        false|\n|             4|        Divya| North|         Mobile|  Electronics|       2|     20000|2024-03-22|       40000|    3|     22-03-2024|         true|\n|             5|       Vikram|  East|Washing Machine|  Electronics|       1|     28000|2024-02-28|       28000|    2|     28-02-2024|        false|\n|             6|       Preeti|  West|       Sneakers|      Fashion|       2|      4000|2024-01-31|        8000|    1|     31-01-2024|        false|\n|             7|         Aman| South|             TV|  Electronics|       1|     45000|2024-02-15|       45000|    2|     15-02-2024|         true|\n|             8|         Isha| North|       Notebook|   Stationery|      10|        60|2024-01-10|         600|    1|     10-01-2024|        false|\n|             9|        Kunal|  East|         Pencil|   Stationery|      20|        10|2024-03-05|         200|    3|     05-03-2024|        false|\n|            10|        Tanvi|  West|     Face Cream|Personal Care|       3|       200|2024-03-19|         600|    3|     19-03-2024|        false|\n+--------------+-------------+------+---------------+-------------+--------+----------+----------+------------+-----+---------------+-------------+\n\n"
     ]
    }
   ],
   "source": [
    "delta = DeltaTable.forPath(spark, delta_path)\n",
    "delta.toDF().show()"
   ]
  },
  {
   "cell_type": "markdown",
   "metadata": {
    "application/vnd.databricks.v1+cell": {
     "cellMetadata": {},
     "inputWidgets": {},
     "nuid": "188671dd-eeb8-45aa-bb8a-be08affdc7d9",
     "showTitle": false,
     "tableResultSettingsMap": {},
     "title": ""
    }
   },
   "source": [
    "# TASK 3"
   ]
  },
  {
   "cell_type": "code",
   "execution_count": 0,
   "metadata": {
    "application/vnd.databricks.v1+cell": {
     "cellMetadata": {
      "byteLimit": 2048000,
      "rowLimit": 10000
     },
     "inputWidgets": {},
     "nuid": "8e2ad58f-a6bd-4f31-9a0e-f2bda71c9ade",
     "showTitle": false,
     "tableResultSettingsMap": {},
     "title": ""
    }
   },
   "outputs": [],
   "source": [
    "df = DeltaTable.forPath(spark,delta_path).toDF()\n"
   ]
  },
  {
   "cell_type": "code",
   "execution_count": 0,
   "metadata": {
    "application/vnd.databricks.v1+cell": {
     "cellMetadata": {
      "byteLimit": 2048000,
      "rowLimit": 10000
     },
     "inputWidgets": {},
     "nuid": "5ab167c4-23de-477c-8aa8-f7a74bdf0f79",
     "showTitle": false,
     "tableResultSettingsMap": {},
     "title": ""
    }
   },
   "outputs": [
    {
     "output_type": "stream",
     "name": "stdout",
     "output_type": "stream",
     "text": [
      "TRANSACTIONS COUNT\n+------+------------------+\n|region|transactions_count|\n+------+------------------+\n| South|                 2|\n|  East|                 2|\n|  West|                 3|\n| North|                 3|\n+------+------------------+\n\nTOP 3 CATEGORIES\n+-------------+-----------+\n|     category|total_sales|\n+-------------+-----------+\n|  Electronics|     200000|\n|      Fashion|       8000|\n|Personal Care|       1350|\n+-------------+-----------+\n\nMONTHLY SALES\n+-----+-----------+\n|month|total_sales|\n+-----+-----------+\n|    1|      64350|\n|    2|     105000|\n|    3|      40800|\n+-----+-----------+\n\nHIGHEST SALES\n+--------------+-------------+------+-------+-----------+--------+----------+----------+------------+-----+---------------+-------------+\n|transaction_id|customer_name|region|product|   category|quantity|unit_price|      date|total_amount|month|date_formattedd|is_high_value|\n+--------------+-------------+------+-------+-----------+--------+----------+----------+------------+-----+---------------+-------------+\n|             1|       Rajesh| North| Laptop|Electronics|       1|     55000|2024-01-12|       55000|    1|     12-01-2024|         true|\n+--------------+-------------+------+-------+-----------+--------+----------+----------+------------+-----+---------------+-------------+\n\nQ1 SALES\n+--------------+\n|q1 total_sales|\n+--------------+\n|        210150|\n+--------------+\n\n"
     ]
    }
   ],
   "source": [
    "from pyspark.sql.functions import count, sum, col, desc\n",
    "transactions = df.groupBy(\"region\").agg(count(\"*\").alias(\"transactions_count\"))\n",
    "print(\"TRANSACTIONS COUNT\")\n",
    "transactions.show()\n",
    "\n",
    "top_cate = df.groupBy(\"category\").agg(sum(\"total_amount\").alias(\"total_sales\")).orderBy(col(\"total_sales\").desc()).limit(3)\n",
    "print(\"TOP 3 CATEGORIES\")\n",
    "top_cate.show()\n",
    "\n",
    "month_wise = df.groupBy(\"month\").agg(sum(\"total_amount\").alias(\"total_sales\")).orderBy(col(\"month\"))\n",
    "print(\"MONTHLY SALES\")\n",
    "month_wise.show()\n",
    "\n",
    "highest = df.orderBy(desc(\"total_amount\")).limit(1)\n",
    "print(\"HIGHEST SALES\")\n",
    "highest.show()\n",
    "\n",
    "q1 = df.filter(col(\"month\").isin([1,2,3])).agg(sum(\"total_amount\").alias(\"q1 total_sales\"))\n",
    "print(\"Q1 SALES\")\n",
    "q1.show()"
   ]
  },
  {
   "cell_type": "markdown",
   "metadata": {
    "application/vnd.databricks.v1+cell": {
     "cellMetadata": {},
     "inputWidgets": {},
     "nuid": "e5a324a1-bfa5-4941-8617-7e433f6f95e3",
     "showTitle": false,
     "tableResultSettingsMap": {},
     "title": ""
    }
   },
   "source": [
    "# TASK 4"
   ]
  },
  {
   "cell_type": "code",
   "execution_count": 0,
   "metadata": {
    "application/vnd.databricks.v1+cell": {
     "cellMetadata": {
      "byteLimit": 2048000,
      "rowLimit": 10000
     },
     "inputWidgets": {},
     "nuid": "6f4d13af-7b39-40f8-98bd-9df059161a20",
     "showTitle": false,
     "tableResultSettingsMap": {},
     "title": ""
    }
   },
   "outputs": [
    {
     "output_type": "stream",
     "name": "stdout",
     "output_type": "stream",
     "text": [
      "+--------------+-------------+------+---------------+-------------+--------+----------+----------+------------+-----+---------------+-------------+\n|transaction_id|customer_name|region|        product|     category|quantity|unit_price|      date|total_amount|month|date_formattedd|is_high_value|\n+--------------+-------------+------+---------------+-------------+--------+----------+----------+------------+-----+---------------+-------------+\n|             1|       Rajesh| North|         Laptop|  Electronics|       1|     55000|2024-01-12|       55000|    1|     12-01-2024|         true|\n|             2|        Sneha|  West|   Refrigerator|  Electronics|       1|     32000|2024-02-05|       32000|    2|     05-02-2024|         true|\n|             3|         Anil| South|        Shampoo|Personal Care|       5|       150|2024-01-17|         750|    1|     17-01-2024|        false|\n|             4|        Divya| North|         Mobile|  Electronics|       2|     20000|2024-03-22|       40000|    3|     22-03-2024|         true|\n|             5|       Vikram|  East|Washing Machine|  Electronics|       1|     28000|2024-02-28|       28000|    2|     28-02-2024|        false|\n|             6|       Preeti|  West|       Sneakers|      Fashion|       2|      4000|2024-01-31|        8000|    1|     31-01-2024|        false|\n|             7|         Aman| South|             TV|  Electronics|       1|     45000|2024-02-15|       45000|    2|     15-02-2024|         true|\n|             8|         Isha| North|       Notebook|   Stationery|      10|        60|2024-01-10|         600|    1|     10-01-2024|        false|\n|             9|        Kunal|  East|         Pencil|   Stationery|      20|        10|2024-03-05|         200|    3|     05-03-2024|        false|\n|            10|        Tanvi|  West|     Face Cream|Personal Care|       3|       200|2024-03-19|         600|    3|     19-03-2024|        false|\n+--------------+-------------+------+---------------+-------------+--------+----------+----------+------------+-----+---------------+-------------+\n\n"
     ]
    }
   ],
   "source": [
    "delta_table.toDF().show()"
   ]
  },
  {
   "cell_type": "code",
   "execution_count": 0,
   "metadata": {
    "application/vnd.databricks.v1+cell": {
     "cellMetadata": {
      "byteLimit": 2048000,
      "rowLimit": 10000
     },
     "inputWidgets": {},
     "nuid": "63a72ae5-a11a-491d-ac5f-7e6c23764c72",
     "showTitle": false,
     "tableResultSettingsMap": {},
     "title": ""
    }
   },
   "outputs": [
    {
     "output_type": "stream",
     "name": "stdout",
     "output_type": "stream",
     "text": [
      "UPDATED-10% increase for Stationery\n+--------------+-------------+------+---------------+-------------+--------+----------+----------+------------+-----+---------------+-------------+\n|transaction_id|customer_name|region|        product|     category|quantity|unit_price|      date|total_amount|month|date_formattedd|is_high_value|\n+--------------+-------------+------+---------------+-------------+--------+----------+----------+------------+-----+---------------+-------------+\n|             1|       Rajesh| North|         Laptop|  Electronics|       1|     55000|2024-01-12|       55000|    1|     12-01-2024|         true|\n|             2|        Sneha|  West|   Refrigerator|  Electronics|       1|     32000|2024-02-05|       32000|    2|     05-02-2024|         true|\n|             3|         Anil| South|        Shampoo|Personal Care|       5|       150|2024-01-17|         750|    1|     17-01-2024|        false|\n|             4|        Divya| North|         Mobile|  Electronics|       2|     20000|2024-03-22|       40000|    3|     22-03-2024|         true|\n|             5|       Vikram|  East|Washing Machine|  Electronics|       1|     28000|2024-02-28|       28000|    2|     28-02-2024|        false|\n|             6|       Preeti|  West|       Sneakers|      Fashion|       2|      4000|2024-01-31|        8000|    1|     31-01-2024|        false|\n|             7|         Aman| South|             TV|  Electronics|       1|     45000|2024-02-15|       45000|    2|     15-02-2024|         true|\n|            10|        Tanvi|  West|     Face Cream|Personal Care|       3|       200|2024-03-19|         600|    3|     19-03-2024|        false|\n|             8|         Isha| North|       Notebook|   Stationery|      10|        72|2024-01-10|         600|    1|     10-01-2024|        false|\n|             9|        Kunal|  East|         Pencil|   Stationery|      20|        12|2024-03-05|         200|    3|     05-03-2024|        false|\n+--------------+-------------+------+---------------+-------------+--------+----------+----------+------------+-----+---------------+-------------+\n\nAFTER DELETIONv -  quantity < 3 removed\n+--------------+-------------+------+----------+-------------+--------+----------+----------+------------+-----+---------------+-------------+\n|transaction_id|customer_name|region|   product|     category|quantity|unit_price|      date|total_amount|month|date_formattedd|is_high_value|\n+--------------+-------------+------+----------+-------------+--------+----------+----------+------------+-----+---------------+-------------+\n|             8|         Isha| North|  Notebook|   Stationery|      10|        72|2024-01-10|         600|    1|     10-01-2024|        false|\n|             9|        Kunal|  East|    Pencil|   Stationery|      20|        12|2024-03-05|         200|    3|     05-03-2024|        false|\n|             3|         Anil| South|   Shampoo|Personal Care|       5|       150|2024-01-17|         750|    1|     17-01-2024|        false|\n|            10|        Tanvi|  West|Face Cream|Personal Care|       3|       200|2024-03-19|         600|    3|     19-03-2024|        false|\n+--------------+-------------+------+----------+-------------+--------+----------+----------+------------+-----+---------------+-------------+\n\nAFTER MERGE- new transaction inserted \n+--------------+-------------+------+----------+-------------+--------+----------+----------+------------+-----+---------------+-------------+\n|transaction_id|customer_name|region|   product|     category|quantity|unit_price|      date|total_amount|month|date_formattedd|is_high_value|\n+--------------+-------------+------+----------+-------------+--------+----------+----------+------------+-----+---------------+-------------+\n|             8|         Isha| North|  Notebook|   Stationery|      10|        72|2024-01-10|         600|    1|     10-01-2024|        false|\n|             9|        Kunal|  East|    Pencil|   Stationery|      20|        12|2024-03-05|         200|    3|     05-03-2024|        false|\n|             3|         Anil| South|   Shampoo|Personal Care|       5|       150|2024-01-17|         750|    1|     17-01-2024|        false|\n|            10|        Tanvi|  West|Face Cream|Personal Care|       3|       200|2024-03-19|         600|    3|     19-03-2024|        false|\n|            11|        Meera| North|Smartwatch|  Electronics|       1|      1500|2025-08-08|        1500|    8|     08-08-2025|        false|\n+--------------+-------------+------+----------+-------------+--------+----------+----------+------------+-----+---------------+-------------+\n\n"
     ]
    }
   ],
   "source": [
    "delta_table.update(\n",
    "    condition=col(\"category\") == \"Stationery\",\n",
    "    set={\"unit_price\": col(\"unit_price\") * 1.10}\n",
    ")\n",
    "\n",
    "print(\"UPDATED-10% increase for Stationery\")\n",
    "delta_table.toDF().show()\n",
    "\n",
    "delta_table.delete(\n",
    "    condition=col(\"quantity\") < 3\n",
    ")\n",
    "\n",
    "print(\"AFTER DELETIONv -  quantity < 3 removed\")\n",
    "delta_table.toDF().show()\n",
    "\n",
    "\n",
    "today_data = [\n",
    "    (11, \"Meera\", \"North\", \"Smartwatch\", \"Electronics\", 1, 1500, date.today(), 1500, 8, date.today().strftime(\"%d-%m-%Y\"), False)\n",
    "]\n",
    "\n",
    "columns = [\n",
    "    \"transaction_id\", \"customer_name\", \"region\", \"product\", \"category\",\n",
    "    \"quantity\", \"unit_price\", \"date\", \"total_amount\", \"month\",\n",
    "    \"date_formattedd\", \"is_high_value\"\n",
    "]\n",
    "\n",
    "new_df = spark.createDataFrame(today_data, columns)\n",
    "\n",
    "delta_table.alias(\"target\") \\\n",
    "    .merge(\n",
    "        new_df.alias(\"source\"),\n",
    "        \"target.transaction_id = source.transaction_id\"\n",
    "    ) \\\n",
    "    .whenNotMatchedInsertAll() \\\n",
    "    .execute()\n",
    "\n",
    "print(\"AFTER MERGE- new transaction inserted \")\n",
    "delta_table.toDF().show()"
   ]
  },
  {
   "cell_type": "markdown",
   "metadata": {
    "application/vnd.databricks.v1+cell": {
     "cellMetadata": {},
     "inputWidgets": {},
     "nuid": "37a0da72-092a-4022-b930-de01b425d273",
     "showTitle": false,
     "tableResultSettingsMap": {},
     "title": ""
    }
   },
   "source": [
    "# TASK 5"
   ]
  },
  {
   "cell_type": "code",
   "execution_count": 0,
   "metadata": {
    "application/vnd.databricks.v1+cell": {
     "cellMetadata": {
      "byteLimit": 2048000,
      "rowLimit": 10000
     },
     "inputWidgets": {},
     "nuid": "35af62a4-793f-46e6-bd3e-5b05a81792fd",
     "showTitle": false,
     "tableResultSettingsMap": {},
     "title": ""
    }
   },
   "outputs": [
    {
     "output_type": "stream",
     "name": "stdout",
     "output_type": "stream",
     "text": [
      "Delta table rewritten partitioned by region.\nSecond Delta table created partitioned by month.\nBoth Delta tables optimized with Z-Ordering on 'category'.\n"
     ]
    }
   ],
   "source": [
    "partitioned_by_region_path = \"/tmp/delta/sales_transactions_by_region\"\n",
    "\n",
    "delta_table = DeltaTable.forPath(spark, delta_path)\n",
    "delta_table.toDF() \\\n",
    "    .write \\\n",
    "    .format(\"delta\") \\\n",
    "    .mode(\"overwrite\") \\\n",
    "    .partitionBy(\"region\") \\\n",
    "    .save(partitioned_by_region_path)\n",
    "\n",
    "print(\"Delta table rewritten partitioned by region.\")\n",
    "\n",
    "partitioned_by_month_path = \"/tmp/delta/sales_transactions_by_month\"\n",
    "\n",
    "delta_table.toDF() \\\n",
    "    .write \\\n",
    "    .format(\"delta\") \\\n",
    "    .mode(\"overwrite\") \\\n",
    "    .partitionBy(\"month\") \\\n",
    "    .save(partitioned_by_month_path)\n",
    "\n",
    "print(\"Second Delta table created partitioned by month.\")\n",
    "\n",
    "spark.sql(f\"\"\"\n",
    "OPTIMIZE delta.`{partitioned_by_region_path}`\n",
    "ZORDER BY (category)\n",
    "\"\"\")\n",
    "\n",
    "spark.sql(f\"\"\"\n",
    "OPTIMIZE delta.`{partitioned_by_month_path}`\n",
    "ZORDER BY (category)\n",
    "\"\"\")\n",
    "\n",
    "print(\"Both Delta tables optimized with Z-Ordering on 'category'.\")"
   ]
  }
 ],
 "metadata": {
  "application/vnd.databricks.v1+notebook": {
   "computePreferences": null,
   "dashboards": [],
   "environmentMetadata": {
    "base_environment": "",
    "environment_version": "2"
   },
   "inputWidgetPreferences": null,
   "language": "python",
   "notebookMetadata": {
    "pythonIndentUnit": 4
   },
   "notebookName": "Task_1",
   "widgets": {}
  },
  "language_info": {
   "name": "python"
  }
 },
 "nbformat": 4,
 "nbformat_minor": 0
}